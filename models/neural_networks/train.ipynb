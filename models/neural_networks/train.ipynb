{
 "cells": [
  {
   "cell_type": "code",
   "execution_count": 1,
   "metadata": {},
   "outputs": [],
   "source": [
    "import random\n",
    "import torch\n",
    "import numpy as np\n",
    "import pandas as pd"
   ]
  },
  {
   "cell_type": "code",
   "execution_count": 2,
   "metadata": {
    "pycharm": {
     "name": "#%%\n"
    }
   },
   "outputs": [],
   "source": [
    "from models.neural_networks.utils import prepare_data_for_predict\n",
    "from features.build_features import calculate_expenses\n",
    "from data.utils import load_default_data\n",
    "from features.build_features import aggregate_users_data\n",
    "from models.neural_networks.NeuralNetworkRegressor import NeuralNetworkRegressor\n",
    "from models.neural_networks.SimpleRegressor import SimpleRegressor\n",
    "from models.neural_networks.utils import train"
   ]
  },
  {
   "cell_type": "code",
   "execution_count": 3,
   "metadata": {
    "pycharm": {
     "name": "#%%\n"
    }
   },
   "outputs": [],
   "source": [
    "seed = 213769420\n",
    "torch.cuda.manual_seed_all(seed)\n",
    "torch.manual_seed(seed)\n",
    "np.random.seed(seed)\n",
    "random.seed(seed)"
   ]
  },
  {
   "cell_type": "code",
   "execution_count": 4,
   "metadata": {
    "pycharm": {
     "name": "#%%\n"
    }
   },
   "outputs": [
    {
     "data": {
      "text/plain": "     user_id  expenses\n0        102      0.00\n1        103    554.77\n2        104   2332.01\n3        105      0.00\n4        106      0.00\n..       ...       ...\n195      297    109.00\n196      298   2399.00\n197      299      0.00\n198      300      0.00\n199      301      0.00\n\n[200 rows x 2 columns]",
      "text/html": "<div>\n<style scoped>\n    .dataframe tbody tr th:only-of-type {\n        vertical-align: middle;\n    }\n\n    .dataframe tbody tr th {\n        vertical-align: top;\n    }\n\n    .dataframe thead th {\n        text-align: right;\n    }\n</style>\n<table border=\"1\" class=\"dataframe\">\n  <thead>\n    <tr style=\"text-align: right;\">\n      <th></th>\n      <th>user_id</th>\n      <th>expenses</th>\n    </tr>\n  </thead>\n  <tbody>\n    <tr>\n      <th>0</th>\n      <td>102</td>\n      <td>0.00</td>\n    </tr>\n    <tr>\n      <th>1</th>\n      <td>103</td>\n      <td>554.77</td>\n    </tr>\n    <tr>\n      <th>2</th>\n      <td>104</td>\n      <td>2332.01</td>\n    </tr>\n    <tr>\n      <th>3</th>\n      <td>105</td>\n      <td>0.00</td>\n    </tr>\n    <tr>\n      <th>4</th>\n      <td>106</td>\n      <td>0.00</td>\n    </tr>\n    <tr>\n      <th>...</th>\n      <td>...</td>\n      <td>...</td>\n    </tr>\n    <tr>\n      <th>195</th>\n      <td>297</td>\n      <td>109.00</td>\n    </tr>\n    <tr>\n      <th>196</th>\n      <td>298</td>\n      <td>2399.00</td>\n    </tr>\n    <tr>\n      <th>197</th>\n      <td>299</td>\n      <td>0.00</td>\n    </tr>\n    <tr>\n      <th>198</th>\n      <td>300</td>\n      <td>0.00</td>\n    </tr>\n    <tr>\n      <th>199</th>\n      <td>301</td>\n      <td>0.00</td>\n    </tr>\n  </tbody>\n</table>\n<p>200 rows × 2 columns</p>\n</div>"
     },
     "execution_count": 4,
     "metadata": {},
     "output_type": "execute_result"
    }
   ],
   "source": [
    "train_sessions, test, products, users, deliveries = load_default_data(prefix=\"../../data/\")\n",
    "targets = calculate_expenses(test, products, users)\n",
    "targets"
   ]
  },
  {
   "cell_type": "code",
   "execution_count": 5,
   "metadata": {
    "pycharm": {
     "name": "#%%\n"
    }
   },
   "outputs": [
    {
     "data": {
      "text/plain": "656.25255"
     },
     "execution_count": 5,
     "metadata": {},
     "output_type": "execute_result"
    }
   ],
   "source": [
    "targets['expenses'].mean()"
   ]
  },
  {
   "cell_type": "code",
   "execution_count": 6,
   "metadata": {
    "pycharm": {
     "name": "#%%\n"
    }
   },
   "outputs": [],
   "source": [
    "# targets['expenses'] = targets['expenses'].apply(lambda b: 1 if b > 5000 else 0) binarization\n",
    "targets['expenses'] = targets['expenses'].apply(lambda x: x/100)"
   ]
  },
  {
   "cell_type": "code",
   "execution_count": 7,
   "metadata": {
    "pycharm": {
     "name": "#%%\n"
    }
   },
   "outputs": [],
   "source": [
    "some_net = SimpleRegressor()\n",
    "users_data = aggregate_users_data(train_sessions, users, products)"
   ]
  },
  {
   "cell_type": "code",
   "execution_count": 8,
   "metadata": {
    "pycharm": {
     "name": "#%%\n"
    }
   },
   "outputs": [
    {
     "name": "stdout",
     "output_type": "stream",
     "text": [
      "Epoch 0 loss nan\n",
      "Epoch 1 loss nan\n",
      "Epoch 2 loss nan\n",
      "Epoch 3 loss nan\n",
      "Epoch 4 loss nan\n",
      "Epoch 5 loss nan\n",
      "Epoch 6 loss nan\n",
      "Epoch 7 loss nan\n",
      "Epoch 8 loss nan\n",
      "Epoch 9 loss nan\n",
      "Epoch 10 loss nan\n",
      "Epoch 11 loss nan\n",
      "Epoch 12 loss nan\n",
      "Epoch 13 loss nan\n",
      "Epoch 14 loss nan\n",
      "Epoch 15 loss nan\n",
      "Epoch 16 loss nan\n",
      "Epoch 17 loss nan\n",
      "Epoch 18 loss nan\n",
      "Epoch 19 loss nan\n",
      "Epoch 20 loss nan\n",
      "Epoch 21 loss nan\n",
      "Epoch 22 loss nan\n",
      "Epoch 23 loss nan\n",
      "Epoch 24 loss nan\n",
      "Epoch 25 loss nan\n",
      "Epoch 26 loss nan\n",
      "Epoch 27 loss nan\n",
      "Epoch 28 loss nan\n",
      "Epoch 29 loss nan\n",
      "Epoch 30 loss nan\n",
      "Epoch 31 loss nan\n",
      "Epoch 32 loss nan\n",
      "Epoch 33 loss nan\n",
      "Epoch 34 loss nan\n",
      "Epoch 35 loss nan\n",
      "Epoch 36 loss nan\n",
      "Epoch 37 loss nan\n",
      "Epoch 38 loss nan\n",
      "Epoch 39 loss nan\n",
      "Epoch 40 loss nan\n",
      "Epoch 41 loss nan\n",
      "Epoch 42 loss nan\n",
      "Epoch 43 loss nan\n",
      "Epoch 44 loss nan\n",
      "Epoch 45 loss nan\n",
      "Epoch 46 loss nan\n",
      "Epoch 47 loss nan\n",
      "Epoch 48 loss nan\n",
      "Epoch 49 loss nan\n",
      "Epoch 50 loss nan\n",
      "Epoch 51 loss nan\n",
      "Epoch 52 loss nan\n",
      "Epoch 53 loss nan\n",
      "Epoch 54 loss nan\n",
      "Epoch 55 loss nan\n",
      "Epoch 56 loss nan\n",
      "Epoch 57 loss nan\n",
      "Epoch 58 loss nan\n",
      "Epoch 59 loss nan\n",
      "Epoch 60 loss nan\n",
      "Epoch 61 loss nan\n",
      "Epoch 62 loss nan\n",
      "Epoch 63 loss nan\n",
      "Epoch 64 loss nan\n",
      "Epoch 65 loss nan\n",
      "Epoch 66 loss nan\n",
      "Epoch 67 loss nan\n",
      "Epoch 68 loss nan\n",
      "Epoch 69 loss nan\n",
      "Epoch 70 loss nan\n",
      "Epoch 71 loss nan\n",
      "Epoch 72 loss nan\n",
      "Epoch 73 loss nan\n",
      "Epoch 74 loss nan\n",
      "Epoch 75 loss nan\n",
      "Epoch 76 loss nan\n",
      "Epoch 77 loss nan\n",
      "Epoch 78 loss nan\n",
      "Epoch 79 loss nan\n",
      "Epoch 80 loss nan\n",
      "Epoch 81 loss nan\n",
      "Epoch 82 loss nan\n",
      "Epoch 83 loss nan\n",
      "Epoch 84 loss nan\n",
      "Epoch 85 loss nan\n",
      "Epoch 86 loss nan\n",
      "Epoch 87 loss nan\n",
      "Epoch 88 loss nan\n",
      "Epoch 89 loss nan\n",
      "Epoch 90 loss nan\n",
      "Epoch 91 loss nan\n",
      "Epoch 92 loss nan\n",
      "Epoch 93 loss nan\n",
      "Epoch 94 loss nan\n",
      "Epoch 95 loss nan\n",
      "Epoch 96 loss nan\n",
      "Epoch 97 loss nan\n",
      "Epoch 98 loss nan\n",
      "Epoch 99 loss nan\n"
     ]
    }
   ],
   "source": [
    "train(some_net, users_data, targets)"
   ]
  },
  {
   "cell_type": "code",
   "execution_count": 9,
   "metadata": {
    "pycharm": {
     "name": "#%%\n"
    }
   },
   "outputs": [],
   "source": [
    "extracted_users_data = aggregate_users_data(train_sessions, users, products)\n",
    "x, cat_x = prepare_data_for_predict(extracted_users_data)\n",
    "x = torch.from_numpy(x.values).float()\n",
    "cat_x = torch.from_numpy(cat_x.values).float()\n",
    "some_net.eval()\n",
    "out = some_net(x, cat_x).squeeze()\n",
    "out = out.detach().numpy()"
   ]
  },
  {
   "cell_type": "code",
   "execution_count": 10,
   "metadata": {
    "pycharm": {
     "name": "#%%\n"
    }
   },
   "outputs": [],
   "source": [
    "# out_array = {int(user_id): out[i] > 0.3 for i, user_id in enumerate(extracted_users_data[\"user_id\"].to_list())} binarization\n",
    "out_array = {int(user_id): out[i] for i, user_id in enumerate(extracted_users_data[\"user_id\"].to_list())}"
   ]
  },
  {
   "cell_type": "code",
   "execution_count": 11,
   "metadata": {
    "pycharm": {
     "name": "#%%\n"
    }
   },
   "outputs": [],
   "source": [
    "evaluation_array = {int(user_id): targets['expenses'].mean() for i, user_id in enumerate(extracted_users_data[\"user_id\"].to_list())}"
   ]
  },
  {
   "cell_type": "code",
   "execution_count": 12,
   "metadata": {
    "pycharm": {
     "name": "#%%\n"
    }
   },
   "outputs": [],
   "source": [
    "def loss(targets, out_array):\n",
    "    sum = 0\n",
    "    for row in targets.values[:]:\n",
    "        sum+= (row[1] - out_array[row[0]])**2\n",
    "\n",
    "    return sum"
   ]
  },
  {
   "cell_type": "code",
   "execution_count": 13,
   "metadata": {
    "pycharm": {
     "name": "#%%\n"
    }
   },
   "outputs": [
    {
     "data": {
      "text/plain": "nan"
     },
     "execution_count": 13,
     "metadata": {},
     "output_type": "execute_result"
    }
   ],
   "source": [
    "loss(targets, out_array)"
   ]
  },
  {
   "cell_type": "code",
   "execution_count": 14,
   "metadata": {
    "pycharm": {
     "name": "#%%\n"
    }
   },
   "outputs": [
    {
     "data": {
      "text/plain": "35484.379756659895"
     },
     "execution_count": 14,
     "metadata": {},
     "output_type": "execute_result"
    }
   ],
   "source": [
    "loss(targets, evaluation_array)"
   ]
  },
  {
   "cell_type": "code",
   "execution_count": 15,
   "metadata": {
    "pycharm": {
     "name": "#%%\n"
    }
   },
   "outputs": [],
   "source": [
    "torch.save(some_net.state_dict(), \"../parameters/simple_v1\")"
   ]
  },
  {
   "cell_type": "code",
   "execution_count": 15,
   "outputs": [],
   "source": [],
   "metadata": {
    "collapsed": false,
    "pycharm": {
     "name": "#%%\n"
    }
   }
  }
 ],
 "metadata": {
  "kernelspec": {
   "display_name": "Python 3",
   "language": "python",
   "name": "python3"
  },
  "language_info": {
   "codemirror_mode": {
    "name": "ipython",
    "version": 3
   },
   "file_extension": ".py",
   "mimetype": "text/x-python",
   "name": "python",
   "nbconvert_exporter": "python",
   "pygments_lexer": "ipython3",
   "version": "3.9.5"
  }
 },
 "nbformat": 4,
 "nbformat_minor": 1
}