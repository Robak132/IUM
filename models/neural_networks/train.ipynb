{
 "cells": [
  {
   "cell_type": "code",
   "execution_count": 1,
   "metadata": {},
   "outputs": [],
   "source": [
    "import random\n",
    "import torch\n",
    "import numpy as np\n",
    "import pandas as pd"
   ]
  },
  {
   "cell_type": "code",
   "execution_count": 36,
   "metadata": {
    "pycharm": {
     "name": "#%%\n"
    }
   },
   "outputs": [],
   "source": [
    "from models.neural_networks.utils import prepare_data_for_predict\n",
    "from features.build_features import calculate_expenses\n",
    "from data.utils import load_default_data\n",
    "from features.build_features import aggregate_users_data\n",
    "from models.neural_networks.NeuralNetworkRegressor import NeuralNetworkRegressor\n",
    "from models.neural_networks.SimpleRegressor import SimpleRegressor\n",
    "from models.neural_networks.utils import train"
   ]
  },
  {
   "cell_type": "code",
   "execution_count": 37,
   "metadata": {
    "pycharm": {
     "name": "#%%\n"
    }
   },
   "outputs": [],
   "source": [
    "seed = 213769420\n",
    "torch.cuda.manual_seed_all(seed)\n",
    "torch.manual_seed(seed)\n",
    "np.random.seed(seed)\n",
    "random.seed(seed)"
   ]
  },
  {
   "cell_type": "code",
   "execution_count": 38,
   "metadata": {
    "pycharm": {
     "name": "#%%\n"
    }
   },
   "outputs": [
    {
     "data": {
      "text/plain": "     user_id  expenses\n0        102      0.00\n1        103    554.77\n2        104   2332.01\n3        105      0.00\n4        106      0.00\n..       ...       ...\n195      297    109.00\n196      298   2399.00\n197      299      0.00\n198      300      0.00\n199      301      0.00\n\n[200 rows x 2 columns]",
      "text/html": "<div>\n<style scoped>\n    .dataframe tbody tr th:only-of-type {\n        vertical-align: middle;\n    }\n\n    .dataframe tbody tr th {\n        vertical-align: top;\n    }\n\n    .dataframe thead th {\n        text-align: right;\n    }\n</style>\n<table border=\"1\" class=\"dataframe\">\n  <thead>\n    <tr style=\"text-align: right;\">\n      <th></th>\n      <th>user_id</th>\n      <th>expenses</th>\n    </tr>\n  </thead>\n  <tbody>\n    <tr>\n      <th>0</th>\n      <td>102</td>\n      <td>0.00</td>\n    </tr>\n    <tr>\n      <th>1</th>\n      <td>103</td>\n      <td>554.77</td>\n    </tr>\n    <tr>\n      <th>2</th>\n      <td>104</td>\n      <td>2332.01</td>\n    </tr>\n    <tr>\n      <th>3</th>\n      <td>105</td>\n      <td>0.00</td>\n    </tr>\n    <tr>\n      <th>4</th>\n      <td>106</td>\n      <td>0.00</td>\n    </tr>\n    <tr>\n      <th>...</th>\n      <td>...</td>\n      <td>...</td>\n    </tr>\n    <tr>\n      <th>195</th>\n      <td>297</td>\n      <td>109.00</td>\n    </tr>\n    <tr>\n      <th>196</th>\n      <td>298</td>\n      <td>2399.00</td>\n    </tr>\n    <tr>\n      <th>197</th>\n      <td>299</td>\n      <td>0.00</td>\n    </tr>\n    <tr>\n      <th>198</th>\n      <td>300</td>\n      <td>0.00</td>\n    </tr>\n    <tr>\n      <th>199</th>\n      <td>301</td>\n      <td>0.00</td>\n    </tr>\n  </tbody>\n</table>\n<p>200 rows × 2 columns</p>\n</div>"
     },
     "execution_count": 38,
     "metadata": {},
     "output_type": "execute_result"
    }
   ],
   "source": [
    "train_sessions, test, products, users, deliveries = load_default_data(prefix=\"../../data/\")\n",
    "targets = calculate_expenses(test, products, users)\n",
    "targets"
   ]
  },
  {
   "cell_type": "code",
   "execution_count": 39,
   "metadata": {
    "pycharm": {
     "name": "#%%\n"
    }
   },
   "outputs": [
    {
     "data": {
      "text/plain": "656.25255"
     },
     "execution_count": 39,
     "metadata": {},
     "output_type": "execute_result"
    }
   ],
   "source": [
    "targets['expenses'].mean()"
   ]
  },
  {
   "cell_type": "code",
   "execution_count": 40,
   "metadata": {
    "pycharm": {
     "name": "#%%\n"
    }
   },
   "outputs": [],
   "source": [
    "# targets['expenses'] = targets['expenses'].apply(lambda b: 1 if b > 5000 else 0) binarization\n",
    "targets['expenses'] = targets['expenses'].apply(lambda x: x)"
   ]
  },
  {
   "cell_type": "code",
   "execution_count": 41,
   "metadata": {
    "pycharm": {
     "name": "#%%\n"
    }
   },
   "outputs": [],
   "source": [
    "some_net = SimpleRegressor()\n",
    "users_data = aggregate_users_data(train_sessions, users, products)"
   ]
  },
  {
   "cell_type": "code",
   "execution_count": 42,
   "metadata": {
    "pycharm": {
     "name": "#%%\n"
    }
   },
   "outputs": [
    {
     "name": "stdout",
     "output_type": "stream",
     "text": [
      "Epoch 0 loss 2.74e+06\n",
      "Epoch 1 loss 2.83e+06\n",
      "Epoch 2 loss 3.39e+06\n",
      "Epoch 3 loss 2.35e+06\n",
      "Epoch 4 loss 1.93e+06\n",
      "Epoch 5 loss 2.33e+06\n",
      "Epoch 6 loss 2.23e+06\n",
      "Epoch 7 loss 2.11e+06\n",
      "Epoch 8 loss 2.66e+06\n",
      "Epoch 9 loss 1.78e+06\n",
      "Epoch 10 loss 1.74e+06\n",
      "Epoch 11 loss 2.11e+06\n",
      "Epoch 12 loss 1.67e+06\n",
      "Epoch 13 loss 1.75e+06\n",
      "Epoch 14 loss 1.62e+06\n",
      "Epoch 15 loss 1.46e+06\n",
      "Epoch 16 loss 2.18e+06\n",
      "Epoch 17 loss 2.34e+06\n",
      "Epoch 18 loss 2.02e+06\n",
      "Epoch 19 loss 1.55e+06\n",
      "Epoch 20 loss 2.31e+06\n",
      "Epoch 21 loss 1.49e+06\n",
      "Epoch 22 loss 2.11e+06\n",
      "Epoch 23 loss 1.44e+06\n",
      "Epoch 24 loss 1.85e+06\n",
      "Epoch 25 loss 1.54e+06\n",
      "Epoch 26 loss 1.51e+06\n",
      "Epoch 27 loss 1.62e+06\n",
      "Epoch 28 loss 1.49e+06\n",
      "Epoch 29 loss 1.84e+06\n",
      "Epoch 30 loss 1.65e+06\n",
      "Epoch 31 loss 1.9e+06\n",
      "Epoch 32 loss 1.57e+06\n",
      "Epoch 33 loss 1.82e+06\n",
      "Epoch 34 loss 2.03e+06\n",
      "Epoch 35 loss 1.57e+06\n",
      "Epoch 36 loss 1.62e+06\n",
      "Epoch 37 loss 2.47e+06\n",
      "Epoch 38 loss 2.29e+06\n",
      "Epoch 39 loss 1.51e+06\n",
      "Epoch 40 loss 1.44e+06\n",
      "Epoch 41 loss 1.63e+06\n",
      "Epoch 42 loss 2.02e+06\n",
      "Epoch 43 loss 1.56e+06\n",
      "Epoch 44 loss 2.04e+06\n",
      "Epoch 45 loss 2.22e+06\n",
      "Epoch 46 loss 2.27e+06\n",
      "Epoch 47 loss 1.6e+06\n",
      "Epoch 48 loss 1.46e+06\n",
      "Epoch 49 loss 1.58e+06\n",
      "Epoch 50 loss 1.51e+06\n",
      "Epoch 51 loss 1.56e+06\n",
      "Epoch 52 loss 1.54e+06\n",
      "Epoch 53 loss 2.19e+06\n",
      "Epoch 54 loss 1.8e+06\n",
      "Epoch 55 loss 1.74e+06\n",
      "Epoch 56 loss 1.53e+06\n",
      "Epoch 57 loss 1.82e+06\n",
      "Epoch 58 loss 2.56e+06\n",
      "Epoch 59 loss 1.52e+06\n",
      "Epoch 60 loss 1.57e+06\n",
      "Epoch 61 loss 1.83e+06\n",
      "Epoch 62 loss 1.7e+06\n",
      "Epoch 63 loss 2.12e+06\n",
      "Epoch 64 loss 1.45e+06\n",
      "Epoch 65 loss 2.41e+06\n",
      "Epoch 66 loss 2.15e+06\n",
      "Epoch 67 loss 1.56e+06\n",
      "Epoch 68 loss 1.49e+06\n",
      "Epoch 69 loss 2.25e+06\n",
      "Epoch 70 loss 1.43e+06\n",
      "Epoch 71 loss 1.49e+06\n",
      "Epoch 72 loss 1.45e+06\n",
      "Epoch 73 loss 1.73e+06\n",
      "Epoch 74 loss 2.4e+06\n",
      "Epoch 75 loss 1.44e+06\n",
      "Epoch 76 loss 1.41e+06\n",
      "Epoch 77 loss 2.03e+06\n",
      "Epoch 78 loss 1.53e+06\n",
      "Epoch 79 loss 1.66e+06\n",
      "Epoch 80 loss 1.53e+06\n",
      "Epoch 81 loss 1.67e+06\n",
      "Epoch 82 loss 1.64e+06\n",
      "Epoch 83 loss 2.03e+06\n",
      "Epoch 84 loss 1.4e+06\n",
      "Epoch 85 loss 2.01e+06\n",
      "Epoch 86 loss 1.56e+06\n",
      "Epoch 87 loss 1.69e+06\n",
      "Epoch 88 loss 1.77e+06\n",
      "Epoch 89 loss 1.98e+06\n",
      "Epoch 90 loss 2.54e+06\n",
      "Epoch 91 loss 1.77e+06\n",
      "Epoch 92 loss 1.5e+06\n",
      "Epoch 93 loss 1.84e+06\n",
      "Epoch 94 loss 2.03e+06\n",
      "Epoch 95 loss 2.54e+06\n",
      "Epoch 96 loss 1.43e+06\n",
      "Epoch 97 loss 2.33e+06\n",
      "Epoch 98 loss 1.5e+06\n",
      "Epoch 99 loss 1.49e+06\n"
     ]
    }
   ],
   "source": [
    "train(some_net, users_data, targets)"
   ]
  },
  {
   "cell_type": "code",
   "execution_count": 43,
   "metadata": {
    "pycharm": {
     "name": "#%%\n"
    }
   },
   "outputs": [],
   "source": [
    "extracted_users_data = aggregate_users_data(train_sessions, users, products)\n",
    "x, cat_x = prepare_data_for_predict(extracted_users_data)\n",
    "x = torch.from_numpy(x.values).float()\n",
    "cat_x = torch.from_numpy(cat_x.values).float()\n",
    "some_net.eval()\n",
    "out = some_net(x, cat_x).squeeze()\n",
    "out = out.detach().numpy()"
   ]
  },
  {
   "cell_type": "code",
   "execution_count": 44,
   "metadata": {
    "pycharm": {
     "name": "#%%\n"
    }
   },
   "outputs": [],
   "source": [
    "# out_array = {int(user_id): out[i] > 0.3 for i, user_id in enumerate(extracted_users_data[\"user_id\"].to_list())} binarization\n",
    "out_array = {int(user_id): out[i] for i, user_id in enumerate(extracted_users_data[\"user_id\"].to_list())}"
   ]
  },
  {
   "cell_type": "code",
   "execution_count": 45,
   "metadata": {
    "pycharm": {
     "name": "#%%\n"
    }
   },
   "outputs": [],
   "source": [
    "evaluation_array = {int(user_id): targets['expenses'].mean() for i, user_id in enumerate(extracted_users_data[\"user_id\"].to_list())}"
   ]
  },
  {
   "cell_type": "code",
   "execution_count": 46,
   "metadata": {
    "pycharm": {
     "name": "#%%\n"
    }
   },
   "outputs": [],
   "source": [
    "def loss(targets, out_array):\n",
    "    sum = 0\n",
    "    for row in targets.values[:]:\n",
    "        sum+= (row[1] - out_array[row[0]])**2\n",
    "\n",
    "    return sum"
   ]
  },
  {
   "cell_type": "code",
   "execution_count": 47,
   "metadata": {
    "pycharm": {
     "name": "#%%\n"
    }
   },
   "outputs": [
    {
     "data": {
      "text/plain": "348234629.8035757"
     },
     "execution_count": 47,
     "metadata": {},
     "output_type": "execute_result"
    }
   ],
   "source": [
    "loss(targets, out_array)"
   ]
  },
  {
   "cell_type": "code",
   "execution_count": 48,
   "metadata": {
    "pycharm": {
     "name": "#%%\n"
    }
   },
   "outputs": [
    {
     "data": {
      "text/plain": "354843797.56659997"
     },
     "execution_count": 48,
     "metadata": {},
     "output_type": "execute_result"
    }
   ],
   "source": [
    "loss(targets, evaluation_array)"
   ]
  },
  {
   "cell_type": "code",
   "execution_count": 49,
   "metadata": {
    "pycharm": {
     "name": "#%%\n"
    }
   },
   "outputs": [],
   "source": [
    "torch.save(some_net.state_dict(), \"../parameters/simple_v1\")"
   ]
  },
  {
   "cell_type": "code",
   "execution_count": 15,
   "outputs": [],
   "source": [],
   "metadata": {
    "collapsed": false,
    "pycharm": {
     "name": "#%%\n"
    }
   }
  }
 ],
 "metadata": {
  "kernelspec": {
   "display_name": "Python 3",
   "language": "python",
   "name": "python3"
  },
  "language_info": {
   "codemirror_mode": {
    "name": "ipython",
    "version": 3
   },
   "file_extension": ".py",
   "mimetype": "text/x-python",
   "name": "python",
   "nbconvert_exporter": "python",
   "pygments_lexer": "ipython3",
   "version": "3.9.5"
  }
 },
 "nbformat": 4,
 "nbformat_minor": 1
}