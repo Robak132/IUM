{
 "cells": [
  {
   "cell_type": "code",
   "execution_count": 18,
   "metadata": {
    "collapsed": true
   },
   "outputs": [],
   "source": [
    "import pandas as pd\n",
    "import json"
   ]
  },
  {
   "cell_type": "code",
   "execution_count": 19,
   "outputs": [],
   "source": [
    "iteration_path = \"iteration_3/\"\n",
    "deliveries_path = \"../data/\" + iteration_path + \"raw/deliveries.jsonl\"\n",
    "products_path = \"../data/\" + iteration_path + \"raw/products.jsonl\"\n",
    "sessions_path = \"../data/\" + iteration_path + \"raw/sessions.jsonl\"\n",
    "users_path = \"../data/\" + iteration_path + \"raw/users.jsonl\"\n",
    "\n",
    "deliveries_data = pd.read_json(deliveries_path, lines=True)\n",
    "products_data = pd.read_json(products_path, lines=True)\n",
    "sessions_data = pd.read_json(sessions_path, lines=True)\n",
    "users_data = pd.read_json(users_path, lines=True)"
   ],
   "metadata": {
    "collapsed": false,
    "pycharm": {
     "name": "#%%\n"
    }
   }
  },
  {
   "cell_type": "code",
   "execution_count": 20,
   "outputs": [],
   "source": [
    "def merge_to_json(users: pd.DataFrame, sessions: pd.DataFrame, products: pd.DataFrame, deliveries: pd.DataFrame):\n",
    "    users = json.loads(users.to_json(orient='records'))\n",
    "    sessions = json.loads(sessions.to_json(orient='records', date_unit='ms'))\n",
    "    products = json.loads(products.to_json(orient='records'))\n",
    "    deliveries = json.loads(deliveries.to_json(orient='records'))\n",
    "    json_object = {\"users\": users, \"sessions\": sessions, \"products\": products, \"deliveries\": deliveries}\n",
    "    save_to_file(\"ab_test/ab_test_data.json\", json_object)\n",
    "\n",
    "def save_to_file(output, json_object):\n",
    "    with open(output, \"w+\", encoding=\"utf-8\") as file:\n",
    "        file.write(json.dumps(json_object, indent=4, sort_keys=True))"
   ],
   "metadata": {
    "collapsed": false,
    "pycharm": {
     "name": "#%%\n"
    }
   }
  },
  {
   "cell_type": "code",
   "execution_count": 21,
   "outputs": [],
   "source": [
    "train_sessions_data = sessions_data[sessions_data['timestamp'].dt.month <= 11]\n",
    "merge_to_json(users_data, train_sessions_data, products_data, deliveries_data)"
   ],
   "metadata": {
    "collapsed": false,
    "pycharm": {
     "name": "#%%\n"
    }
   }
  },
  {
   "cell_type": "code",
   "execution_count": 22,
   "outputs": [],
   "source": [
    "from features.build_features import aggregate_users_data\n",
    "\n",
    "test_sessions_data = sessions_data\n",
    "extracted_users_data = aggregate_users_data(test_sessions_data, users_data, products_data)\n",
    "extracted_users_data[\"expenses\"] = extracted_users_data[\"expenses\"].map(lambda x: round(x, 2))\n",
    "extracted_users_dict = extracted_users_data[[\"user_id\", \"expenses\"]].to_dict('split')\n",
    "json_object = {int(user_id): expenses for user_id, expenses in extracted_users_dict[\"data\"]}\n",
    "save_to_file(\"ab_test/ab_test_good_data.json\", json_object)"
   ],
   "metadata": {
    "collapsed": false,
    "pycharm": {
     "name": "#%%\n"
    }
   }
  }
 ],
 "metadata": {
  "kernelspec": {
   "display_name": "Python 3",
   "language": "python",
   "name": "python3"
  },
  "language_info": {
   "codemirror_mode": {
    "name": "ipython",
    "version": 2
   },
   "file_extension": ".py",
   "mimetype": "text/x-python",
   "name": "python",
   "nbconvert_exporter": "python",
   "pygments_lexer": "ipython2",
   "version": "2.7.6"
  }
 },
 "nbformat": 4,
 "nbformat_minor": 0
}