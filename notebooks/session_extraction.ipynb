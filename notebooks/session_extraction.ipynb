{
 "cells": [
  {
   "cell_type": "markdown",
   "source": [
    "### Polecenie od klienta:\n",
    "*\"Mamy co prawda dodatkowe benefity dla naszych najlepszych klientów, ale może dałoby\n",
    "się ustalić kto potencjalnie jest skłonny wydawać u nas więcej?”*"
   ],
   "metadata": {
    "collapsed": false,
    "pycharm": {
     "name": "#%% md\n"
    }
   }
  },
  {
   "cell_type": "markdown",
   "source": [
    "### Zadanie biznesowe\n",
    "Sugerowanie klientów, którzy mogą wrócić do serwisu."
   ],
   "metadata": {
    "collapsed": false,
    "pycharm": {
     "name": "#%% md\n"
    }
   }
  },
  {
   "cell_type": "markdown",
   "source": [
    "### Zadanie modelowania\n",
    "Model regresyjny, szacujący prawdopodobieństwo powrotu klienta do serwisu."
   ],
   "metadata": {
    "collapsed": false,
    "pycharm": {
     "name": "#%% md\n"
    }
   }
  },
  {
   "cell_type": "code",
   "execution_count": 1,
   "outputs": [],
   "source": [
    "import pandas as pd\n",
    "import matplotlib.pyplot as plt"
   ],
   "metadata": {
    "collapsed": false,
    "pycharm": {
     "name": "#%%\n"
    }
   }
  },
  {
   "cell_type": "code",
   "execution_count": 2,
   "outputs": [],
   "source": [
    "iteration_path = \"iteration_3/\"\n",
    "deliveries_path = \"../data/\" + iteration_path + \"raw/deliveries.jsonl\"\n",
    "products_path = \"../data/\" + iteration_path + \"raw/products.jsonl\"\n",
    "sessions_path = \"../data/\" + iteration_path + \"raw/sessions.jsonl\"\n",
    "users_path = \"../data/\" + iteration_path + \"raw/users.jsonl\""
   ],
   "metadata": {
    "collapsed": false,
    "pycharm": {
     "name": "#%%\n"
    }
   }
  },
  {
   "cell_type": "code",
   "execution_count": 3,
   "outputs": [],
   "source": [
    "deliveries_data = pd.read_json(deliveries_path, lines=True)\n",
    "products_data = pd.read_json(products_path, lines=True)\n",
    "sessions_data = pd.read_json(sessions_path, lines=True)\n",
    "users_data = pd.read_json(users_path, lines=True)"
   ],
   "metadata": {
    "collapsed": false,
    "pycharm": {
     "name": "#%%\n"
    }
   }
  },
  {
   "cell_type": "code",
   "execution_count": 4,
   "outputs": [
    {
     "data": {
      "text/plain": "     user_id                   name      city                street\n0        102        Arkadiusz Hejna   Wrocław           ul. Jana 32\n1        103       Oskar Skotarczak  Warszawa      pl. Wrzosowa 595\n2        104        Maksymilian Fik    Gdynia        al. Podwale 62\n3        105  Fryderyk Hajdukiewicz    Gdynia   al. Narcyzowa 81/19\n4        106       Marcelina Kinder   Wrocław       pl. Irysowa 472\n..       ...                    ...       ...                   ...\n195      297            Olga Myrcha    Kraków  plac Listopada 83/33\n196      298         Nikodem Świgoń  Warszawa       ul. Złota 61/12\n197      299       Gaja Wojtarowicz    Gdynia   ul. Baczynskiego 97\n198      300         Inga Przewoźny     Radom       ulica Wysoka 33\n199      301          Dagmara Filek   Wrocław    ulica Łanowa 88/93\n\n[200 rows x 4 columns]",
      "text/html": "<div>\n<style scoped>\n    .dataframe tbody tr th:only-of-type {\n        vertical-align: middle;\n    }\n\n    .dataframe tbody tr th {\n        vertical-align: top;\n    }\n\n    .dataframe thead th {\n        text-align: right;\n    }\n</style>\n<table border=\"1\" class=\"dataframe\">\n  <thead>\n    <tr style=\"text-align: right;\">\n      <th></th>\n      <th>user_id</th>\n      <th>name</th>\n      <th>city</th>\n      <th>street</th>\n    </tr>\n  </thead>\n  <tbody>\n    <tr>\n      <th>0</th>\n      <td>102</td>\n      <td>Arkadiusz Hejna</td>\n      <td>Wrocław</td>\n      <td>ul. Jana 32</td>\n    </tr>\n    <tr>\n      <th>1</th>\n      <td>103</td>\n      <td>Oskar Skotarczak</td>\n      <td>Warszawa</td>\n      <td>pl. Wrzosowa 595</td>\n    </tr>\n    <tr>\n      <th>2</th>\n      <td>104</td>\n      <td>Maksymilian Fik</td>\n      <td>Gdynia</td>\n      <td>al. Podwale 62</td>\n    </tr>\n    <tr>\n      <th>3</th>\n      <td>105</td>\n      <td>Fryderyk Hajdukiewicz</td>\n      <td>Gdynia</td>\n      <td>al. Narcyzowa 81/19</td>\n    </tr>\n    <tr>\n      <th>4</th>\n      <td>106</td>\n      <td>Marcelina Kinder</td>\n      <td>Wrocław</td>\n      <td>pl. Irysowa 472</td>\n    </tr>\n    <tr>\n      <th>...</th>\n      <td>...</td>\n      <td>...</td>\n      <td>...</td>\n      <td>...</td>\n    </tr>\n    <tr>\n      <th>195</th>\n      <td>297</td>\n      <td>Olga Myrcha</td>\n      <td>Kraków</td>\n      <td>plac Listopada 83/33</td>\n    </tr>\n    <tr>\n      <th>196</th>\n      <td>298</td>\n      <td>Nikodem Świgoń</td>\n      <td>Warszawa</td>\n      <td>ul. Złota 61/12</td>\n    </tr>\n    <tr>\n      <th>197</th>\n      <td>299</td>\n      <td>Gaja Wojtarowicz</td>\n      <td>Gdynia</td>\n      <td>ul. Baczynskiego 97</td>\n    </tr>\n    <tr>\n      <th>198</th>\n      <td>300</td>\n      <td>Inga Przewoźny</td>\n      <td>Radom</td>\n      <td>ulica Wysoka 33</td>\n    </tr>\n    <tr>\n      <th>199</th>\n      <td>301</td>\n      <td>Dagmara Filek</td>\n      <td>Wrocław</td>\n      <td>ulica Łanowa 88/93</td>\n    </tr>\n  </tbody>\n</table>\n<p>200 rows × 4 columns</p>\n</div>"
     },
     "execution_count": 4,
     "metadata": {},
     "output_type": "execute_result"
    }
   ],
   "source": [
    "users_data"
   ],
   "metadata": {
    "collapsed": false,
    "pycharm": {
     "name": "#%%\n"
    }
   }
  },
  {
   "cell_type": "code",
   "execution_count": 5,
   "outputs": [
    {
     "data": {
      "text/plain": "       session_id           timestamp  user_id  product_id    event_type  \\\n0             124 2021-05-19 06:57:15      102        1277  VIEW_PRODUCT   \n1             124 2021-05-19 06:59:15      102        1276  VIEW_PRODUCT   \n2             124 2021-05-19 07:02:36      102        1276   BUY_PRODUCT   \n3             125 2021-04-23 13:46:03      102        1284  VIEW_PRODUCT   \n4             125 2021-04-23 13:50:10      102        1292  VIEW_PRODUCT   \n...           ...                 ...      ...         ...           ...   \n24569        6881 2021-11-03 05:28:10      301        1073  VIEW_PRODUCT   \n24570        6881 2021-11-03 05:33:08      301        1201  VIEW_PRODUCT   \n24571        6881 2021-11-03 05:36:58      301        1072  VIEW_PRODUCT   \n24572        6881 2021-11-03 05:37:32      301        1222  VIEW_PRODUCT   \n24573        6881 2021-11-03 05:38:49      301        1074  VIEW_PRODUCT   \n\n       offered_discount  purchase_id  \n0                     5          NaN  \n1                     5          NaN  \n2                     5      20001.0  \n3                    20          NaN  \n4                    20          NaN  \n...                 ...          ...  \n24569                 5          NaN  \n24570                 5          NaN  \n24571                 5          NaN  \n24572                 5          NaN  \n24573                 5          NaN  \n\n[24574 rows x 7 columns]",
      "text/html": "<div>\n<style scoped>\n    .dataframe tbody tr th:only-of-type {\n        vertical-align: middle;\n    }\n\n    .dataframe tbody tr th {\n        vertical-align: top;\n    }\n\n    .dataframe thead th {\n        text-align: right;\n    }\n</style>\n<table border=\"1\" class=\"dataframe\">\n  <thead>\n    <tr style=\"text-align: right;\">\n      <th></th>\n      <th>session_id</th>\n      <th>timestamp</th>\n      <th>user_id</th>\n      <th>product_id</th>\n      <th>event_type</th>\n      <th>offered_discount</th>\n      <th>purchase_id</th>\n    </tr>\n  </thead>\n  <tbody>\n    <tr>\n      <th>0</th>\n      <td>124</td>\n      <td>2021-05-19 06:57:15</td>\n      <td>102</td>\n      <td>1277</td>\n      <td>VIEW_PRODUCT</td>\n      <td>5</td>\n      <td>NaN</td>\n    </tr>\n    <tr>\n      <th>1</th>\n      <td>124</td>\n      <td>2021-05-19 06:59:15</td>\n      <td>102</td>\n      <td>1276</td>\n      <td>VIEW_PRODUCT</td>\n      <td>5</td>\n      <td>NaN</td>\n    </tr>\n    <tr>\n      <th>2</th>\n      <td>124</td>\n      <td>2021-05-19 07:02:36</td>\n      <td>102</td>\n      <td>1276</td>\n      <td>BUY_PRODUCT</td>\n      <td>5</td>\n      <td>20001.0</td>\n    </tr>\n    <tr>\n      <th>3</th>\n      <td>125</td>\n      <td>2021-04-23 13:46:03</td>\n      <td>102</td>\n      <td>1284</td>\n      <td>VIEW_PRODUCT</td>\n      <td>20</td>\n      <td>NaN</td>\n    </tr>\n    <tr>\n      <th>4</th>\n      <td>125</td>\n      <td>2021-04-23 13:50:10</td>\n      <td>102</td>\n      <td>1292</td>\n      <td>VIEW_PRODUCT</td>\n      <td>20</td>\n      <td>NaN</td>\n    </tr>\n    <tr>\n      <th>...</th>\n      <td>...</td>\n      <td>...</td>\n      <td>...</td>\n      <td>...</td>\n      <td>...</td>\n      <td>...</td>\n      <td>...</td>\n    </tr>\n    <tr>\n      <th>24569</th>\n      <td>6881</td>\n      <td>2021-11-03 05:28:10</td>\n      <td>301</td>\n      <td>1073</td>\n      <td>VIEW_PRODUCT</td>\n      <td>5</td>\n      <td>NaN</td>\n    </tr>\n    <tr>\n      <th>24570</th>\n      <td>6881</td>\n      <td>2021-11-03 05:33:08</td>\n      <td>301</td>\n      <td>1201</td>\n      <td>VIEW_PRODUCT</td>\n      <td>5</td>\n      <td>NaN</td>\n    </tr>\n    <tr>\n      <th>24571</th>\n      <td>6881</td>\n      <td>2021-11-03 05:36:58</td>\n      <td>301</td>\n      <td>1072</td>\n      <td>VIEW_PRODUCT</td>\n      <td>5</td>\n      <td>NaN</td>\n    </tr>\n    <tr>\n      <th>24572</th>\n      <td>6881</td>\n      <td>2021-11-03 05:37:32</td>\n      <td>301</td>\n      <td>1222</td>\n      <td>VIEW_PRODUCT</td>\n      <td>5</td>\n      <td>NaN</td>\n    </tr>\n    <tr>\n      <th>24573</th>\n      <td>6881</td>\n      <td>2021-11-03 05:38:49</td>\n      <td>301</td>\n      <td>1074</td>\n      <td>VIEW_PRODUCT</td>\n      <td>5</td>\n      <td>NaN</td>\n    </tr>\n  </tbody>\n</table>\n<p>24574 rows × 7 columns</p>\n</div>"
     },
     "execution_count": 5,
     "metadata": {},
     "output_type": "execute_result"
    }
   ],
   "source": [
    "sessions_data"
   ],
   "metadata": {
    "collapsed": false,
    "pycharm": {
     "name": "#%%\n"
    }
   }
  },
  {
   "cell_type": "code",
   "source": [
    "sessions_data = sessions_data.sort_values(by=['timestamp'])\n",
    "sessions_data['timestamp_date'] = sessions_data['timestamp'].apply(lambda x: x.date())\n",
    "sessions_data['timestamp_week'] = sessions_data['timestamp'].apply(lambda x: x.week)\n",
    "sessions_data['timestamp_month'] = sessions_data['timestamp'].apply(lambda x: x.month)\n",
    "sessions_data['timestamp_quarter'] = sessions_data['timestamp'].apply(lambda x: x.quarter)"
   ],
   "metadata": {
    "collapsed": false,
    "pycharm": {
     "name": "#%%\n"
    }
   },
   "execution_count": 6,
   "outputs": []
  },
  {
   "cell_type": "markdown",
   "source": [
    "Podział na zbiór testowy i treningowy"
   ],
   "metadata": {
    "collapsed": false,
    "pycharm": {
     "name": "#%% md\n"
    }
   }
  },
  {
   "cell_type": "code",
   "source": [
    "sample_month_data = sessions_data[sessions_data.timestamp_month == 9]\n",
    "train_data = sessions_data[sessions_data.timestamp_quarter < 4]\n",
    "test_data = sessions_data[sessions_data.timestamp_quarter == 4]"
   ],
   "metadata": {
    "collapsed": false,
    "pycharm": {
     "name": "#%%\n"
    }
   },
   "execution_count": 7,
   "outputs": []
  },
  {
   "cell_type": "markdown",
   "source": [
    "Przykład join-a"
   ],
   "metadata": {
    "collapsed": false,
    "pycharm": {
     "name": "#%% md\n"
    }
   }
  },
  {
   "cell_type": "code",
   "execution_count": 32,
   "outputs": [
    {
     "data": {
      "text/plain": "      session_id           timestamp  user_id  product_id    event_type  \\\n0           2246 2021-09-01 02:00:24      158        1233  VIEW_PRODUCT   \n1           2246 2021-09-01 02:04:10      158        1233   BUY_PRODUCT   \n76           198 2021-09-01 02:25:19      103        1072  VIEW_PRODUCT   \n117          198 2021-09-01 02:28:27      103        1201  VIEW_PRODUCT   \n118          198 2021-09-01 02:33:16      103        1201   BUY_PRODUCT   \n...          ...                 ...      ...         ...           ...   \n2107         336 2021-09-30 23:03:20      106        1030  VIEW_PRODUCT   \n2108         336 2021-09-30 23:05:46      106        1030   BUY_PRODUCT   \n2911        6769 2021-09-30 23:42:01      298        1276  VIEW_PRODUCT   \n2861        6769 2021-09-30 23:45:23      298        1277  VIEW_PRODUCT   \n2862        6769 2021-09-30 23:47:01      298        1277   BUY_PRODUCT   \n\n      offered_discount  purchase_id  timestamp_week  timestamp_month  \\\n0                    0          NaN              35                9   \n1                    0      21170.0              35                9   \n76                  15          NaN              35                9   \n117                 15          NaN              35                9   \n118                 15      20039.0              35                9   \n...                ...          ...             ...              ...   \n2107                 0          NaN              39                9   \n2108                 0      20116.0              39                9   \n2911                 0          NaN              39                9   \n2861                 0          NaN              39                9   \n2862                 0      23567.0              39                9   \n\n      timestamp_quarter timestamp_date             product_name  \\\n0                     3     2021-09-01             Manta DVD064   \n1                     3     2021-09-01             Manta DVD064   \n76                    3     2021-09-01            Jabra Freeway   \n117                   3     2021-09-01          Jabra Speak 410   \n118                   3     2021-09-01          Jabra Speak 410   \n...                 ...            ...                      ...   \n2107                  3     2021-09-30      LCD Iiyama B2280WSD   \n2108                  3     2021-09-30      LCD Iiyama B2280WSD   \n2911                  3     2021-09-30     Apple iPad mini 64GB   \n2861                  3     2021-09-30  Apple iPad mini 64GB 4G   \n2862                  3     2021-09-30  Apple iPad mini 64GB 4G   \n\n                                          category_path    price  \n0                      Sprzęt RTV;Video;Odtwarzacze DVD   109.00  \n1                      Sprzęt RTV;Video;Odtwarzacze DVD   109.00  \n76    Telefony i akcesoria;Akcesoria telefoniczne;Ze...   299.00  \n117   Telefony i akcesoria;Akcesoria telefoniczne;Ze...   327.47  \n118   Telefony i akcesoria;Akcesoria telefoniczne;Ze...   327.47  \n...                                                 ...      ...  \n2107                    Komputery;Monitory;Monitory LCD   739.00  \n2108                    Komputery;Monitory;Monitory LCD   739.00  \n2911              Komputery;Tablety i akcesoria;Tablety  1816.97  \n2861              Komputery;Tablety i akcesoria;Tablety  2317.02  \n2862              Komputery;Tablety i akcesoria;Tablety  2317.02  \n\n[3341 rows x 14 columns]",
      "text/html": "<div>\n<style scoped>\n    .dataframe tbody tr th:only-of-type {\n        vertical-align: middle;\n    }\n\n    .dataframe tbody tr th {\n        vertical-align: top;\n    }\n\n    .dataframe thead th {\n        text-align: right;\n    }\n</style>\n<table border=\"1\" class=\"dataframe\">\n  <thead>\n    <tr style=\"text-align: right;\">\n      <th></th>\n      <th>session_id</th>\n      <th>timestamp</th>\n      <th>user_id</th>\n      <th>product_id</th>\n      <th>event_type</th>\n      <th>offered_discount</th>\n      <th>purchase_id</th>\n      <th>timestamp_week</th>\n      <th>timestamp_month</th>\n      <th>timestamp_quarter</th>\n      <th>timestamp_date</th>\n      <th>product_name</th>\n      <th>category_path</th>\n      <th>price</th>\n    </tr>\n  </thead>\n  <tbody>\n    <tr>\n      <th>0</th>\n      <td>2246</td>\n      <td>2021-09-01 02:00:24</td>\n      <td>158</td>\n      <td>1233</td>\n      <td>VIEW_PRODUCT</td>\n      <td>0</td>\n      <td>NaN</td>\n      <td>35</td>\n      <td>9</td>\n      <td>3</td>\n      <td>2021-09-01</td>\n      <td>Manta DVD064</td>\n      <td>Sprzęt RTV;Video;Odtwarzacze DVD</td>\n      <td>109.00</td>\n    </tr>\n    <tr>\n      <th>1</th>\n      <td>2246</td>\n      <td>2021-09-01 02:04:10</td>\n      <td>158</td>\n      <td>1233</td>\n      <td>BUY_PRODUCT</td>\n      <td>0</td>\n      <td>21170.0</td>\n      <td>35</td>\n      <td>9</td>\n      <td>3</td>\n      <td>2021-09-01</td>\n      <td>Manta DVD064</td>\n      <td>Sprzęt RTV;Video;Odtwarzacze DVD</td>\n      <td>109.00</td>\n    </tr>\n    <tr>\n      <th>76</th>\n      <td>198</td>\n      <td>2021-09-01 02:25:19</td>\n      <td>103</td>\n      <td>1072</td>\n      <td>VIEW_PRODUCT</td>\n      <td>15</td>\n      <td>NaN</td>\n      <td>35</td>\n      <td>9</td>\n      <td>3</td>\n      <td>2021-09-01</td>\n      <td>Jabra Freeway</td>\n      <td>Telefony i akcesoria;Akcesoria telefoniczne;Ze...</td>\n      <td>299.00</td>\n    </tr>\n    <tr>\n      <th>117</th>\n      <td>198</td>\n      <td>2021-09-01 02:28:27</td>\n      <td>103</td>\n      <td>1201</td>\n      <td>VIEW_PRODUCT</td>\n      <td>15</td>\n      <td>NaN</td>\n      <td>35</td>\n      <td>9</td>\n      <td>3</td>\n      <td>2021-09-01</td>\n      <td>Jabra Speak 410</td>\n      <td>Telefony i akcesoria;Akcesoria telefoniczne;Ze...</td>\n      <td>327.47</td>\n    </tr>\n    <tr>\n      <th>118</th>\n      <td>198</td>\n      <td>2021-09-01 02:33:16</td>\n      <td>103</td>\n      <td>1201</td>\n      <td>BUY_PRODUCT</td>\n      <td>15</td>\n      <td>20039.0</td>\n      <td>35</td>\n      <td>9</td>\n      <td>3</td>\n      <td>2021-09-01</td>\n      <td>Jabra Speak 410</td>\n      <td>Telefony i akcesoria;Akcesoria telefoniczne;Ze...</td>\n      <td>327.47</td>\n    </tr>\n    <tr>\n      <th>...</th>\n      <td>...</td>\n      <td>...</td>\n      <td>...</td>\n      <td>...</td>\n      <td>...</td>\n      <td>...</td>\n      <td>...</td>\n      <td>...</td>\n      <td>...</td>\n      <td>...</td>\n      <td>...</td>\n      <td>...</td>\n      <td>...</td>\n      <td>...</td>\n    </tr>\n    <tr>\n      <th>2107</th>\n      <td>336</td>\n      <td>2021-09-30 23:03:20</td>\n      <td>106</td>\n      <td>1030</td>\n      <td>VIEW_PRODUCT</td>\n      <td>0</td>\n      <td>NaN</td>\n      <td>39</td>\n      <td>9</td>\n      <td>3</td>\n      <td>2021-09-30</td>\n      <td>LCD Iiyama B2280WSD</td>\n      <td>Komputery;Monitory;Monitory LCD</td>\n      <td>739.00</td>\n    </tr>\n    <tr>\n      <th>2108</th>\n      <td>336</td>\n      <td>2021-09-30 23:05:46</td>\n      <td>106</td>\n      <td>1030</td>\n      <td>BUY_PRODUCT</td>\n      <td>0</td>\n      <td>20116.0</td>\n      <td>39</td>\n      <td>9</td>\n      <td>3</td>\n      <td>2021-09-30</td>\n      <td>LCD Iiyama B2280WSD</td>\n      <td>Komputery;Monitory;Monitory LCD</td>\n      <td>739.00</td>\n    </tr>\n    <tr>\n      <th>2911</th>\n      <td>6769</td>\n      <td>2021-09-30 23:42:01</td>\n      <td>298</td>\n      <td>1276</td>\n      <td>VIEW_PRODUCT</td>\n      <td>0</td>\n      <td>NaN</td>\n      <td>39</td>\n      <td>9</td>\n      <td>3</td>\n      <td>2021-09-30</td>\n      <td>Apple iPad mini 64GB</td>\n      <td>Komputery;Tablety i akcesoria;Tablety</td>\n      <td>1816.97</td>\n    </tr>\n    <tr>\n      <th>2861</th>\n      <td>6769</td>\n      <td>2021-09-30 23:45:23</td>\n      <td>298</td>\n      <td>1277</td>\n      <td>VIEW_PRODUCT</td>\n      <td>0</td>\n      <td>NaN</td>\n      <td>39</td>\n      <td>9</td>\n      <td>3</td>\n      <td>2021-09-30</td>\n      <td>Apple iPad mini 64GB 4G</td>\n      <td>Komputery;Tablety i akcesoria;Tablety</td>\n      <td>2317.02</td>\n    </tr>\n    <tr>\n      <th>2862</th>\n      <td>6769</td>\n      <td>2021-09-30 23:47:01</td>\n      <td>298</td>\n      <td>1277</td>\n      <td>BUY_PRODUCT</td>\n      <td>0</td>\n      <td>23567.0</td>\n      <td>39</td>\n      <td>9</td>\n      <td>3</td>\n      <td>2021-09-30</td>\n      <td>Apple iPad mini 64GB 4G</td>\n      <td>Komputery;Tablety i akcesoria;Tablety</td>\n      <td>2317.02</td>\n    </tr>\n  </tbody>\n</table>\n<p>3341 rows × 14 columns</p>\n</div>"
     },
     "execution_count": 32,
     "metadata": {},
     "output_type": "execute_result"
    }
   ],
   "source": [
    "pd.merge(sample_month_data, products_data, on=\"product_id\").sort_values(by=['timestamp'])"
   ],
   "metadata": {
    "collapsed": false,
    "pycharm": {
     "name": "#%%\n"
    }
   }
  },
  {
   "cell_type": "code",
   "execution_count": 9,
   "outputs": [],
   "source": [
    "def get_user_id_from_session(session):\n",
    "    sample_user_id = session['user_id'].iloc[0]\n",
    "    for user_id in session['user_id']:\n",
    "        if sample_user_id != user_id:\n",
    "            raise Exception(\"How it is even possible\")\n",
    "    return sample_user_id\n"
   ],
   "metadata": {
    "collapsed": false,
    "pycharm": {
     "name": "#%%\n"
    }
   }
  },
  {
   "cell_type": "code",
   "execution_count": 10,
   "outputs": [],
   "source": [
    "def check_if_user_bought_something(session):\n",
    "    for event_type in session['event_type']:\n",
    "        if event_type == 'BUY_PRODUCT':\n",
    "            return True\n",
    "    return False"
   ],
   "metadata": {
    "collapsed": false,
    "pycharm": {
     "name": "#%%\n"
    }
   }
  },
  {
   "cell_type": "code",
   "execution_count": 11,
   "outputs": [],
   "source": [
    "def extract_session(session_id):\n",
    "    session = sessions_data[sessions_data['session_id'] == session_id]\n",
    "    d = {\n",
    "        'session_id': session_id,\n",
    "        'beginning': [min(session['timestamp'])],\n",
    "        'end': [max(session['timestamp'])],\n",
    "        'user_id' : get_user_id_from_session(session),\n",
    "        'bought_product': check_if_user_bought_something(session)\n",
    "    }\n",
    "    df = pd.DataFrame(data=d)\n",
    "    return df.set_index('session_id')"
   ],
   "metadata": {
    "collapsed": false,
    "pycharm": {
     "name": "#%%\n"
    }
   }
  },
  {
   "cell_type": "code",
   "execution_count": 12,
   "outputs": [],
   "source": [
    "def extract_session_data(sessions_data):\n",
    "    sessions = []\n",
    "    for session_id in sessions_data['session_id'].unique():\n",
    "        sessions.append(extract_session(session_id))\n",
    "    extracted_session_data = pd.concat(sessions)\n",
    "    return extracted_session_data"
   ],
   "metadata": {
    "collapsed": false,
    "pycharm": {
     "name": "#%%\n"
    }
   }
  },
  {
   "cell_type": "code",
   "execution_count": 13,
   "outputs": [],
   "source": [
    "extracted_session_data = extract_session_data(sample_month_data)"
   ],
   "metadata": {
    "collapsed": false,
    "pycharm": {
     "name": "#%%\n"
    }
   }
  },
  {
   "cell_type": "code",
   "execution_count": 46,
   "outputs": [
    {
     "data": {
      "text/plain": "                     beginning                 end  user_id  bought_product\nsession_id                                                                 \n1615       2021-01-08 17:29:37 2021-01-08 17:35:32      139            True\n1635       2021-01-10 05:56:20 2021-01-10 06:23:24      139            True\n369        2021-01-11 00:25:44 2021-01-11 00:28:09      108            True\n1791       2021-01-12 08:48:51 2021-01-12 08:51:03      143            True\n1692       2021-01-13 05:33:33 2021-01-13 05:40:02      140            True\n...                        ...                 ...      ...             ...\n6641       2021-12-10 05:51:38 2021-12-10 05:53:39      295            True\n3744       2021-12-10 07:03:25 2021-12-10 07:09:48      204            True\n1244       2021-12-10 09:15:24 2021-12-10 09:19:52      128            True\n6370       2021-12-10 09:21:54 2021-12-10 09:55:10      287            True\n3603       2021-12-10 11:09:04 2021-12-10 11:26:46      200            True\n\n[3613 rows x 4 columns]",
      "text/html": "<div>\n<style scoped>\n    .dataframe tbody tr th:only-of-type {\n        vertical-align: middle;\n    }\n\n    .dataframe tbody tr th {\n        vertical-align: top;\n    }\n\n    .dataframe thead th {\n        text-align: right;\n    }\n</style>\n<table border=\"1\" class=\"dataframe\">\n  <thead>\n    <tr style=\"text-align: right;\">\n      <th></th>\n      <th>beginning</th>\n      <th>end</th>\n      <th>user_id</th>\n      <th>bought_product</th>\n    </tr>\n    <tr>\n      <th>session_id</th>\n      <th></th>\n      <th></th>\n      <th></th>\n      <th></th>\n    </tr>\n  </thead>\n  <tbody>\n    <tr>\n      <th>1615</th>\n      <td>2021-01-08 17:29:37</td>\n      <td>2021-01-08 17:35:32</td>\n      <td>139</td>\n      <td>True</td>\n    </tr>\n    <tr>\n      <th>1635</th>\n      <td>2021-01-10 05:56:20</td>\n      <td>2021-01-10 06:23:24</td>\n      <td>139</td>\n      <td>True</td>\n    </tr>\n    <tr>\n      <th>369</th>\n      <td>2021-01-11 00:25:44</td>\n      <td>2021-01-11 00:28:09</td>\n      <td>108</td>\n      <td>True</td>\n    </tr>\n    <tr>\n      <th>1791</th>\n      <td>2021-01-12 08:48:51</td>\n      <td>2021-01-12 08:51:03</td>\n      <td>143</td>\n      <td>True</td>\n    </tr>\n    <tr>\n      <th>1692</th>\n      <td>2021-01-13 05:33:33</td>\n      <td>2021-01-13 05:40:02</td>\n      <td>140</td>\n      <td>True</td>\n    </tr>\n    <tr>\n      <th>...</th>\n      <td>...</td>\n      <td>...</td>\n      <td>...</td>\n      <td>...</td>\n    </tr>\n    <tr>\n      <th>6641</th>\n      <td>2021-12-10 05:51:38</td>\n      <td>2021-12-10 05:53:39</td>\n      <td>295</td>\n      <td>True</td>\n    </tr>\n    <tr>\n      <th>3744</th>\n      <td>2021-12-10 07:03:25</td>\n      <td>2021-12-10 07:09:48</td>\n      <td>204</td>\n      <td>True</td>\n    </tr>\n    <tr>\n      <th>1244</th>\n      <td>2021-12-10 09:15:24</td>\n      <td>2021-12-10 09:19:52</td>\n      <td>128</td>\n      <td>True</td>\n    </tr>\n    <tr>\n      <th>6370</th>\n      <td>2021-12-10 09:21:54</td>\n      <td>2021-12-10 09:55:10</td>\n      <td>287</td>\n      <td>True</td>\n    </tr>\n    <tr>\n      <th>3603</th>\n      <td>2021-12-10 11:09:04</td>\n      <td>2021-12-10 11:26:46</td>\n      <td>200</td>\n      <td>True</td>\n    </tr>\n  </tbody>\n</table>\n<p>3613 rows × 4 columns</p>\n</div>"
     },
     "execution_count": 46,
     "metadata": {},
     "output_type": "execute_result"
    }
   ],
   "source": [
    "extracted_session_data[extracted_session_data.bought_product == True]"
   ],
   "metadata": {
    "collapsed": false,
    "pycharm": {
     "name": "#%%\n"
    }
   }
  },
  {
   "cell_type": "code",
   "execution_count": 14,
   "outputs": [],
   "source": [
    "extracted_session_data = extract_session_data(sessions_data)"
   ],
   "metadata": {
    "collapsed": false,
    "pycharm": {
     "name": "#%%\n"
    }
   }
  },
  {
   "cell_type": "code",
   "execution_count": 15,
   "outputs": [],
   "source": [
    "def find_returned_users(extracted_sessions_data):\n",
    "    user_counts = extracted_sessions_data['user_id'].value_counts()\n",
    "    return user_counts[user_counts>=2].index"
   ],
   "metadata": {
    "collapsed": false,
    "pycharm": {
     "name": "#%%\n"
    }
   }
  },
  {
   "cell_type": "code",
   "execution_count": 16,
   "outputs": [],
   "source": [
    "def find_never_returned_users(extracted_sessions_data):\n",
    "    user_counts = extracted_sessions_data['user_id'].value_counts()\n",
    "    return user_counts[user_counts<2].index"
   ],
   "metadata": {
    "collapsed": false,
    "pycharm": {
     "name": "#%%\n"
    }
   }
  },
  {
   "cell_type": "code",
   "execution_count": 17,
   "outputs": [
    {
     "data": {
      "text/plain": "                     beginning                 end  user_id  bought_product\nsession_id                                                                 \n1615       2021-01-08 17:29:37 2021-01-08 17:35:32      139            True\n1635       2021-01-10 05:56:20 2021-01-10 06:23:24      139            True\n4885       2021-01-10 12:44:13 2021-01-10 13:06:59      242           False\n369        2021-01-11 00:25:44 2021-01-11 00:28:09      108            True\n1791       2021-01-12 08:48:51 2021-01-12 08:51:03      143            True\n...                        ...                 ...      ...             ...\n1244       2021-12-10 09:15:24 2021-12-10 09:19:52      128            True\n6370       2021-12-10 09:21:54 2021-12-10 09:55:10      287            True\n6833       2021-12-10 09:39:24 2021-12-10 09:39:24      300           False\n3603       2021-12-10 11:09:04 2021-12-10 11:26:46      200            True\n5327       2021-12-10 11:37:57 2021-12-10 11:37:57      255           False\n\n[6758 rows x 4 columns]",
      "text/html": "<div>\n<style scoped>\n    .dataframe tbody tr th:only-of-type {\n        vertical-align: middle;\n    }\n\n    .dataframe tbody tr th {\n        vertical-align: top;\n    }\n\n    .dataframe thead th {\n        text-align: right;\n    }\n</style>\n<table border=\"1\" class=\"dataframe\">\n  <thead>\n    <tr style=\"text-align: right;\">\n      <th></th>\n      <th>beginning</th>\n      <th>end</th>\n      <th>user_id</th>\n      <th>bought_product</th>\n    </tr>\n    <tr>\n      <th>session_id</th>\n      <th></th>\n      <th></th>\n      <th></th>\n      <th></th>\n    </tr>\n  </thead>\n  <tbody>\n    <tr>\n      <th>1615</th>\n      <td>2021-01-08 17:29:37</td>\n      <td>2021-01-08 17:35:32</td>\n      <td>139</td>\n      <td>True</td>\n    </tr>\n    <tr>\n      <th>1635</th>\n      <td>2021-01-10 05:56:20</td>\n      <td>2021-01-10 06:23:24</td>\n      <td>139</td>\n      <td>True</td>\n    </tr>\n    <tr>\n      <th>4885</th>\n      <td>2021-01-10 12:44:13</td>\n      <td>2021-01-10 13:06:59</td>\n      <td>242</td>\n      <td>False</td>\n    </tr>\n    <tr>\n      <th>369</th>\n      <td>2021-01-11 00:25:44</td>\n      <td>2021-01-11 00:28:09</td>\n      <td>108</td>\n      <td>True</td>\n    </tr>\n    <tr>\n      <th>1791</th>\n      <td>2021-01-12 08:48:51</td>\n      <td>2021-01-12 08:51:03</td>\n      <td>143</td>\n      <td>True</td>\n    </tr>\n    <tr>\n      <th>...</th>\n      <td>...</td>\n      <td>...</td>\n      <td>...</td>\n      <td>...</td>\n    </tr>\n    <tr>\n      <th>1244</th>\n      <td>2021-12-10 09:15:24</td>\n      <td>2021-12-10 09:19:52</td>\n      <td>128</td>\n      <td>True</td>\n    </tr>\n    <tr>\n      <th>6370</th>\n      <td>2021-12-10 09:21:54</td>\n      <td>2021-12-10 09:55:10</td>\n      <td>287</td>\n      <td>True</td>\n    </tr>\n    <tr>\n      <th>6833</th>\n      <td>2021-12-10 09:39:24</td>\n      <td>2021-12-10 09:39:24</td>\n      <td>300</td>\n      <td>False</td>\n    </tr>\n    <tr>\n      <th>3603</th>\n      <td>2021-12-10 11:09:04</td>\n      <td>2021-12-10 11:26:46</td>\n      <td>200</td>\n      <td>True</td>\n    </tr>\n    <tr>\n      <th>5327</th>\n      <td>2021-12-10 11:37:57</td>\n      <td>2021-12-10 11:37:57</td>\n      <td>255</td>\n      <td>False</td>\n    </tr>\n  </tbody>\n</table>\n<p>6758 rows × 4 columns</p>\n</div>"
     },
     "execution_count": 17,
     "metadata": {},
     "output_type": "execute_result"
    }
   ],
   "source": [
    "extracted_session_data"
   ],
   "metadata": {
    "collapsed": false,
    "pycharm": {
     "name": "#%%\n"
    }
   }
  },
  {
   "cell_type": "code",
   "execution_count": 58,
   "outputs": [
    {
     "data": {
      "text/plain": "181"
     },
     "execution_count": 58,
     "metadata": {},
     "output_type": "execute_result"
    }
   ],
   "source": [
    "len(find_never_returned_users(extracted_session_data)) + len(find_returned_users(extracted_session_data))"
   ],
   "metadata": {
    "collapsed": false,
    "pycharm": {
     "name": "#%%\n"
    }
   }
  },
  {
   "cell_type": "markdown",
   "source": [
    "# Ekstrakcja userów"
   ],
   "metadata": {
    "collapsed": false,
    "pycharm": {
     "name": "#%% md\n"
    }
   }
  },
  {
   "cell_type": "code",
   "execution_count": 81,
   "outputs": [],
   "source": [
    "def enrich_users_data(sessions_data, users_data, products_data):\n",
    "    enriched_sessions_data = pd.merge(sessions_data, products_data, on=\"product_id\").sort_values(by=['timestamp'])\n",
    "    users = []\n",
    "    for user_id in enriched_sessions_data['user_id'].unique():\n",
    "        users.append(get_user_information(enriched_sessions_data[enriched_sessions_data['user_id'] == user_id]))\n",
    "    enriched_users_data = pd.concat(users)\n",
    "    return pd.merge(enriched_users_data, users_data, on=\"user_id\").drop(columns=['name', 'street'])\n",
    "    # print(len(sessions_data.user_id.unique()))"
   ],
   "metadata": {
    "collapsed": false,
    "pycharm": {
     "name": "#%%\n"
    }
   }
  },
  {
   "cell_type": "code",
   "execution_count": 82,
   "outputs": [
    {
     "data": {
      "text/plain": "     user_id  expenses  products_bought  events_number      city\n0        139  23400.85               49            256    Kraków\n1        242  44677.14               60            331     Radom\n2        108  16312.03               23            130     Radom\n3        143   7273.05               16             86    Kraków\n4        140  33412.55               44            318    Poznań\n..       ...       ...              ...            ...       ...\n195      289      0.00                0              7  Warszawa\n196      225    109.00                1              5  Warszawa\n197      152      0.00                0              5    Poznań\n198      162     78.96                2              6  Szczecin\n199      229    245.00                1              5     Radom\n\n[200 rows x 5 columns]",
      "text/html": "<div>\n<style scoped>\n    .dataframe tbody tr th:only-of-type {\n        vertical-align: middle;\n    }\n\n    .dataframe tbody tr th {\n        vertical-align: top;\n    }\n\n    .dataframe thead th {\n        text-align: right;\n    }\n</style>\n<table border=\"1\" class=\"dataframe\">\n  <thead>\n    <tr style=\"text-align: right;\">\n      <th></th>\n      <th>user_id</th>\n      <th>expenses</th>\n      <th>products_bought</th>\n      <th>events_number</th>\n      <th>city</th>\n    </tr>\n  </thead>\n  <tbody>\n    <tr>\n      <th>0</th>\n      <td>139</td>\n      <td>23400.85</td>\n      <td>49</td>\n      <td>256</td>\n      <td>Kraków</td>\n    </tr>\n    <tr>\n      <th>1</th>\n      <td>242</td>\n      <td>44677.14</td>\n      <td>60</td>\n      <td>331</td>\n      <td>Radom</td>\n    </tr>\n    <tr>\n      <th>2</th>\n      <td>108</td>\n      <td>16312.03</td>\n      <td>23</td>\n      <td>130</td>\n      <td>Radom</td>\n    </tr>\n    <tr>\n      <th>3</th>\n      <td>143</td>\n      <td>7273.05</td>\n      <td>16</td>\n      <td>86</td>\n      <td>Kraków</td>\n    </tr>\n    <tr>\n      <th>4</th>\n      <td>140</td>\n      <td>33412.55</td>\n      <td>44</td>\n      <td>318</td>\n      <td>Poznań</td>\n    </tr>\n    <tr>\n      <th>...</th>\n      <td>...</td>\n      <td>...</td>\n      <td>...</td>\n      <td>...</td>\n      <td>...</td>\n    </tr>\n    <tr>\n      <th>195</th>\n      <td>289</td>\n      <td>0.00</td>\n      <td>0</td>\n      <td>7</td>\n      <td>Warszawa</td>\n    </tr>\n    <tr>\n      <th>196</th>\n      <td>225</td>\n      <td>109.00</td>\n      <td>1</td>\n      <td>5</td>\n      <td>Warszawa</td>\n    </tr>\n    <tr>\n      <th>197</th>\n      <td>152</td>\n      <td>0.00</td>\n      <td>0</td>\n      <td>5</td>\n      <td>Poznań</td>\n    </tr>\n    <tr>\n      <th>198</th>\n      <td>162</td>\n      <td>78.96</td>\n      <td>2</td>\n      <td>6</td>\n      <td>Szczecin</td>\n    </tr>\n    <tr>\n      <th>199</th>\n      <td>229</td>\n      <td>245.00</td>\n      <td>1</td>\n      <td>5</td>\n      <td>Radom</td>\n    </tr>\n  </tbody>\n</table>\n<p>200 rows × 5 columns</p>\n</div>"
     },
     "execution_count": 82,
     "metadata": {},
     "output_type": "execute_result"
    }
   ],
   "source": [
    "enrich_users_data(sessions_data, users_data, products_data)"
   ],
   "metadata": {
    "collapsed": false,
    "pycharm": {
     "name": "#%%\n"
    }
   }
  },
  {
   "cell_type": "code",
   "execution_count": 74,
   "outputs": [],
   "source": [
    "def get_user_information(user_session_data):\n",
    "    d = {\n",
    "        'user_id': [get_user_id_from_session(user_session_data)],\n",
    "        'expenses': [user_session_data[user_session_data['event_type'] == \"BUY_PRODUCT\"]['price'].sum()],\n",
    "        'products_bought': [len(user_session_data[user_session_data['event_type'] == \"BUY_PRODUCT\"])],\n",
    "        'events_number': [len(user_session_data)]\n",
    "    }\n",
    "    df = pd.DataFrame(data=d)\n",
    "    return df.set_index('user_id')"
   ],
   "metadata": {
    "collapsed": false,
    "pycharm": {
     "name": "#%%\n"
    }
   }
  },
  {
   "cell_type": "code",
   "execution_count": 69,
   "outputs": [
    {
     "name": "stdout",
     "output_type": "stream",
     "text": [
      "{'user_id': [137], 'expenses': [23662.84], 'products_bought': [35], 'events_number': [179]}\n"
     ]
    },
    {
     "data": {
      "text/plain": "         expenses  products_bought  events_number\nuser_id                                          \n137      23662.84               35            179",
      "text/html": "<div>\n<style scoped>\n    .dataframe tbody tr th:only-of-type {\n        vertical-align: middle;\n    }\n\n    .dataframe tbody tr th {\n        vertical-align: top;\n    }\n\n    .dataframe thead th {\n        text-align: right;\n    }\n</style>\n<table border=\"1\" class=\"dataframe\">\n  <thead>\n    <tr style=\"text-align: right;\">\n      <th></th>\n      <th>expenses</th>\n      <th>products_bought</th>\n      <th>events_number</th>\n    </tr>\n    <tr>\n      <th>user_id</th>\n      <th></th>\n      <th></th>\n      <th></th>\n    </tr>\n  </thead>\n  <tbody>\n    <tr>\n      <th>137</th>\n      <td>23662.84</td>\n      <td>35</td>\n      <td>179</td>\n    </tr>\n  </tbody>\n</table>\n</div>"
     },
     "execution_count": 69,
     "metadata": {},
     "output_type": "execute_result"
    }
   ],
   "source": [
    "get_user_information(user_session_data)"
   ],
   "metadata": {
    "collapsed": false,
    "pycharm": {
     "name": "#%%\n"
    }
   }
  },
  {
   "cell_type": "code",
   "execution_count": 33,
   "outputs": [
    {
     "data": {
      "text/plain": "       session_id           timestamp  user_id  product_id    event_type  \\\n16718        1535 2021-06-24 20:30:32      137        1048  VIEW_PRODUCT   \n3600         1535 2021-06-24 20:32:27      137        1050  VIEW_PRODUCT   \n5232         1535 2021-06-24 20:37:12      137        1054  VIEW_PRODUCT   \n16991        1535 2021-06-24 20:41:01      137        1056  VIEW_PRODUCT   \n4429         1535 2021-06-24 20:41:12      137        1053  VIEW_PRODUCT   \n...           ...                 ...      ...         ...           ...   \n4891         1547 2021-12-07 04:38:35      137        1051  VIEW_PRODUCT   \n4061         1547 2021-12-07 04:43:20      137        1052  VIEW_PRODUCT   \n4062         1547 2021-12-07 04:46:16      137        1052   BUY_PRODUCT   \n19441        1521 2021-12-07 09:16:56      137        1283  VIEW_PRODUCT   \n19442        1521 2021-12-07 09:19:41      137        1283   BUY_PRODUCT   \n\n       offered_discount  purchase_id  timestamp_week  timestamp_month  \\\n16718                15          NaN              25                6   \n3600                 15          NaN              25                6   \n5232                 15          NaN              25                6   \n16991                15          NaN              25                6   \n4429                 15          NaN              25                6   \n...                 ...          ...             ...              ...   \n4891                  0          NaN              49               12   \n4061                  0          NaN              49               12   \n4062                  0      20785.0              49               12   \n19441                20          NaN              49               12   \n19442                20      20765.0              49               12   \n\n       timestamp_quarter timestamp_date                  product_name  \\\n16718                  2     2021-06-24               Gra o tron (PC)   \n3600                   2     2021-06-24               Bioshock 2 (PC)   \n5232                   2     2021-06-24           Call of Duty 2 (PC)   \n16991                  2     2021-06-24   Call of Duty Black Ops (PC)   \n4429                   2     2021-06-24                Anno 2070 (PC)   \n...                  ...            ...                           ...   \n4891                   4     2021-12-07        Spec Ops The Line (PC)   \n4061                   4     2021-12-07       Duke Nukem Forever (PC)   \n4062                   4     2021-12-07       Duke Nukem Forever (PC)   \n19441                  4     2021-12-07  Okulary 3D PHILIPS PTA436/00   \n19442                  4     2021-12-07  Okulary 3D PHILIPS PTA436/00   \n\n                                           category_path  price  \n16718                      Gry i konsole;Gry komputerowe  63.49  \n3600                       Gry i konsole;Gry komputerowe  37.90  \n5232                       Gry i konsole;Gry komputerowe  32.99  \n16991                      Gry i konsole;Gry komputerowe  29.99  \n4429                       Gry i konsole;Gry komputerowe  42.90  \n...                                                  ...    ...  \n4891                       Gry i konsole;Gry komputerowe  76.90  \n4061                       Gry i konsole;Gry komputerowe  78.90  \n4062                       Gry i konsole;Gry komputerowe  78.90  \n19441  Sprzęt RTV;Video;Telewizory i akcesoria;Okular...  99.99  \n19442  Sprzęt RTV;Video;Telewizory i akcesoria;Okular...  99.99  \n\n[179 rows x 14 columns]",
      "text/html": "<div>\n<style scoped>\n    .dataframe tbody tr th:only-of-type {\n        vertical-align: middle;\n    }\n\n    .dataframe tbody tr th {\n        vertical-align: top;\n    }\n\n    .dataframe thead th {\n        text-align: right;\n    }\n</style>\n<table border=\"1\" class=\"dataframe\">\n  <thead>\n    <tr style=\"text-align: right;\">\n      <th></th>\n      <th>session_id</th>\n      <th>timestamp</th>\n      <th>user_id</th>\n      <th>product_id</th>\n      <th>event_type</th>\n      <th>offered_discount</th>\n      <th>purchase_id</th>\n      <th>timestamp_week</th>\n      <th>timestamp_month</th>\n      <th>timestamp_quarter</th>\n      <th>timestamp_date</th>\n      <th>product_name</th>\n      <th>category_path</th>\n      <th>price</th>\n    </tr>\n  </thead>\n  <tbody>\n    <tr>\n      <th>16718</th>\n      <td>1535</td>\n      <td>2021-06-24 20:30:32</td>\n      <td>137</td>\n      <td>1048</td>\n      <td>VIEW_PRODUCT</td>\n      <td>15</td>\n      <td>NaN</td>\n      <td>25</td>\n      <td>6</td>\n      <td>2</td>\n      <td>2021-06-24</td>\n      <td>Gra o tron (PC)</td>\n      <td>Gry i konsole;Gry komputerowe</td>\n      <td>63.49</td>\n    </tr>\n    <tr>\n      <th>3600</th>\n      <td>1535</td>\n      <td>2021-06-24 20:32:27</td>\n      <td>137</td>\n      <td>1050</td>\n      <td>VIEW_PRODUCT</td>\n      <td>15</td>\n      <td>NaN</td>\n      <td>25</td>\n      <td>6</td>\n      <td>2</td>\n      <td>2021-06-24</td>\n      <td>Bioshock 2 (PC)</td>\n      <td>Gry i konsole;Gry komputerowe</td>\n      <td>37.90</td>\n    </tr>\n    <tr>\n      <th>5232</th>\n      <td>1535</td>\n      <td>2021-06-24 20:37:12</td>\n      <td>137</td>\n      <td>1054</td>\n      <td>VIEW_PRODUCT</td>\n      <td>15</td>\n      <td>NaN</td>\n      <td>25</td>\n      <td>6</td>\n      <td>2</td>\n      <td>2021-06-24</td>\n      <td>Call of Duty 2 (PC)</td>\n      <td>Gry i konsole;Gry komputerowe</td>\n      <td>32.99</td>\n    </tr>\n    <tr>\n      <th>16991</th>\n      <td>1535</td>\n      <td>2021-06-24 20:41:01</td>\n      <td>137</td>\n      <td>1056</td>\n      <td>VIEW_PRODUCT</td>\n      <td>15</td>\n      <td>NaN</td>\n      <td>25</td>\n      <td>6</td>\n      <td>2</td>\n      <td>2021-06-24</td>\n      <td>Call of Duty Black Ops (PC)</td>\n      <td>Gry i konsole;Gry komputerowe</td>\n      <td>29.99</td>\n    </tr>\n    <tr>\n      <th>4429</th>\n      <td>1535</td>\n      <td>2021-06-24 20:41:12</td>\n      <td>137</td>\n      <td>1053</td>\n      <td>VIEW_PRODUCT</td>\n      <td>15</td>\n      <td>NaN</td>\n      <td>25</td>\n      <td>6</td>\n      <td>2</td>\n      <td>2021-06-24</td>\n      <td>Anno 2070 (PC)</td>\n      <td>Gry i konsole;Gry komputerowe</td>\n      <td>42.90</td>\n    </tr>\n    <tr>\n      <th>...</th>\n      <td>...</td>\n      <td>...</td>\n      <td>...</td>\n      <td>...</td>\n      <td>...</td>\n      <td>...</td>\n      <td>...</td>\n      <td>...</td>\n      <td>...</td>\n      <td>...</td>\n      <td>...</td>\n      <td>...</td>\n      <td>...</td>\n      <td>...</td>\n    </tr>\n    <tr>\n      <th>4891</th>\n      <td>1547</td>\n      <td>2021-12-07 04:38:35</td>\n      <td>137</td>\n      <td>1051</td>\n      <td>VIEW_PRODUCT</td>\n      <td>0</td>\n      <td>NaN</td>\n      <td>49</td>\n      <td>12</td>\n      <td>4</td>\n      <td>2021-12-07</td>\n      <td>Spec Ops The Line (PC)</td>\n      <td>Gry i konsole;Gry komputerowe</td>\n      <td>76.90</td>\n    </tr>\n    <tr>\n      <th>4061</th>\n      <td>1547</td>\n      <td>2021-12-07 04:43:20</td>\n      <td>137</td>\n      <td>1052</td>\n      <td>VIEW_PRODUCT</td>\n      <td>0</td>\n      <td>NaN</td>\n      <td>49</td>\n      <td>12</td>\n      <td>4</td>\n      <td>2021-12-07</td>\n      <td>Duke Nukem Forever (PC)</td>\n      <td>Gry i konsole;Gry komputerowe</td>\n      <td>78.90</td>\n    </tr>\n    <tr>\n      <th>4062</th>\n      <td>1547</td>\n      <td>2021-12-07 04:46:16</td>\n      <td>137</td>\n      <td>1052</td>\n      <td>BUY_PRODUCT</td>\n      <td>0</td>\n      <td>20785.0</td>\n      <td>49</td>\n      <td>12</td>\n      <td>4</td>\n      <td>2021-12-07</td>\n      <td>Duke Nukem Forever (PC)</td>\n      <td>Gry i konsole;Gry komputerowe</td>\n      <td>78.90</td>\n    </tr>\n    <tr>\n      <th>19441</th>\n      <td>1521</td>\n      <td>2021-12-07 09:16:56</td>\n      <td>137</td>\n      <td>1283</td>\n      <td>VIEW_PRODUCT</td>\n      <td>20</td>\n      <td>NaN</td>\n      <td>49</td>\n      <td>12</td>\n      <td>4</td>\n      <td>2021-12-07</td>\n      <td>Okulary 3D PHILIPS PTA436/00</td>\n      <td>Sprzęt RTV;Video;Telewizory i akcesoria;Okular...</td>\n      <td>99.99</td>\n    </tr>\n    <tr>\n      <th>19442</th>\n      <td>1521</td>\n      <td>2021-12-07 09:19:41</td>\n      <td>137</td>\n      <td>1283</td>\n      <td>BUY_PRODUCT</td>\n      <td>20</td>\n      <td>20765.0</td>\n      <td>49</td>\n      <td>12</td>\n      <td>4</td>\n      <td>2021-12-07</td>\n      <td>Okulary 3D PHILIPS PTA436/00</td>\n      <td>Sprzęt RTV;Video;Telewizory i akcesoria;Okular...</td>\n      <td>99.99</td>\n    </tr>\n  </tbody>\n</table>\n<p>179 rows × 14 columns</p>\n</div>"
     },
     "execution_count": 33,
     "metadata": {},
     "output_type": "execute_result"
    }
   ],
   "source": [
    "enriched_sessions_data = pd.merge(sessions_data, products_data, on=\"product_id\").sort_values(by=['timestamp'])\n",
    "user_session_data = enriched_sessions_data[enriched_sessions_data['user_id'] == 137]\n",
    "user_session_data"
   ],
   "metadata": {
    "collapsed": false,
    "pycharm": {
     "name": "#%%\n"
    }
   }
  },
  {
   "cell_type": "code",
   "execution_count": 23,
   "outputs": [
    {
     "name": "stdout",
     "output_type": "stream",
     "text": [
      "200\n"
     ]
    }
   ],
   "source": [
    "calculate_expenses(sessions_data, users_data, products_data)"
   ],
   "metadata": {
    "collapsed": false,
    "pycharm": {
     "name": "#%%\n"
    }
   }
  },
  {
   "cell_type": "code",
   "execution_count": 18,
   "outputs": [
    {
     "data": {
      "text/plain": "       session_id           timestamp  user_id  product_id    event_type  \\\n5462         1615 2021-01-08 17:29:37      139        1032  VIEW_PRODUCT   \n5463         1615 2021-01-08 17:32:51      139        1033  VIEW_PRODUCT   \n5464         1615 2021-01-08 17:35:32      139        1033   BUY_PRODUCT   \n5544         1635 2021-01-10 05:56:20      139        1292  VIEW_PRODUCT   \n5545         1635 2021-01-10 05:57:54      139        1291  VIEW_PRODUCT   \n...           ...                 ...      ...         ...           ...   \n12596        3603 2021-12-10 11:21:21      200        1041  VIEW_PRODUCT   \n12597        3603 2021-12-10 11:23:13      200        1047  VIEW_PRODUCT   \n12598        3603 2021-12-10 11:26:10      200        1040  VIEW_PRODUCT   \n12599        3603 2021-12-10 11:26:46      200        1040   BUY_PRODUCT   \n19013        5327 2021-12-10 11:37:57      255        1318  VIEW_PRODUCT   \n\n       offered_discount  purchase_id  timestamp_week  timestamp_month  \\\n5462                 10          NaN               1                1   \n5463                 10          NaN               1                1   \n5464                 10      20833.0               1                1   \n5544                 20          NaN               1                1   \n5545                 20          NaN               1                1   \n...                 ...          ...             ...              ...   \n12596                20          NaN              49               12   \n12597                20          NaN              49               12   \n12598                20          NaN              49               12   \n12599                20      21867.0              49               12   \n19013                10          NaN              49               12   \n\n       timestamp_quarter timestamp_date  \n5462                   1     2021-01-08  \n5463                   1     2021-01-08  \n5464                   1     2021-01-08  \n5544                   1     2021-01-10  \n5545                   1     2021-01-10  \n...                  ...            ...  \n12596                  4     2021-12-10  \n12597                  4     2021-12-10  \n12598                  4     2021-12-10  \n12599                  4     2021-12-10  \n19013                  4     2021-12-10  \n\n[24574 rows x 11 columns]",
      "text/html": "<div>\n<style scoped>\n    .dataframe tbody tr th:only-of-type {\n        vertical-align: middle;\n    }\n\n    .dataframe tbody tr th {\n        vertical-align: top;\n    }\n\n    .dataframe thead th {\n        text-align: right;\n    }\n</style>\n<table border=\"1\" class=\"dataframe\">\n  <thead>\n    <tr style=\"text-align: right;\">\n      <th></th>\n      <th>session_id</th>\n      <th>timestamp</th>\n      <th>user_id</th>\n      <th>product_id</th>\n      <th>event_type</th>\n      <th>offered_discount</th>\n      <th>purchase_id</th>\n      <th>timestamp_week</th>\n      <th>timestamp_month</th>\n      <th>timestamp_quarter</th>\n      <th>timestamp_date</th>\n    </tr>\n  </thead>\n  <tbody>\n    <tr>\n      <th>5462</th>\n      <td>1615</td>\n      <td>2021-01-08 17:29:37</td>\n      <td>139</td>\n      <td>1032</td>\n      <td>VIEW_PRODUCT</td>\n      <td>10</td>\n      <td>NaN</td>\n      <td>1</td>\n      <td>1</td>\n      <td>1</td>\n      <td>2021-01-08</td>\n    </tr>\n    <tr>\n      <th>5463</th>\n      <td>1615</td>\n      <td>2021-01-08 17:32:51</td>\n      <td>139</td>\n      <td>1033</td>\n      <td>VIEW_PRODUCT</td>\n      <td>10</td>\n      <td>NaN</td>\n      <td>1</td>\n      <td>1</td>\n      <td>1</td>\n      <td>2021-01-08</td>\n    </tr>\n    <tr>\n      <th>5464</th>\n      <td>1615</td>\n      <td>2021-01-08 17:35:32</td>\n      <td>139</td>\n      <td>1033</td>\n      <td>BUY_PRODUCT</td>\n      <td>10</td>\n      <td>20833.0</td>\n      <td>1</td>\n      <td>1</td>\n      <td>1</td>\n      <td>2021-01-08</td>\n    </tr>\n    <tr>\n      <th>5544</th>\n      <td>1635</td>\n      <td>2021-01-10 05:56:20</td>\n      <td>139</td>\n      <td>1292</td>\n      <td>VIEW_PRODUCT</td>\n      <td>20</td>\n      <td>NaN</td>\n      <td>1</td>\n      <td>1</td>\n      <td>1</td>\n      <td>2021-01-10</td>\n    </tr>\n    <tr>\n      <th>5545</th>\n      <td>1635</td>\n      <td>2021-01-10 05:57:54</td>\n      <td>139</td>\n      <td>1291</td>\n      <td>VIEW_PRODUCT</td>\n      <td>20</td>\n      <td>NaN</td>\n      <td>1</td>\n      <td>1</td>\n      <td>1</td>\n      <td>2021-01-10</td>\n    </tr>\n    <tr>\n      <th>...</th>\n      <td>...</td>\n      <td>...</td>\n      <td>...</td>\n      <td>...</td>\n      <td>...</td>\n      <td>...</td>\n      <td>...</td>\n      <td>...</td>\n      <td>...</td>\n      <td>...</td>\n      <td>...</td>\n    </tr>\n    <tr>\n      <th>12596</th>\n      <td>3603</td>\n      <td>2021-12-10 11:21:21</td>\n      <td>200</td>\n      <td>1041</td>\n      <td>VIEW_PRODUCT</td>\n      <td>20</td>\n      <td>NaN</td>\n      <td>49</td>\n      <td>12</td>\n      <td>4</td>\n      <td>2021-12-10</td>\n    </tr>\n    <tr>\n      <th>12597</th>\n      <td>3603</td>\n      <td>2021-12-10 11:23:13</td>\n      <td>200</td>\n      <td>1047</td>\n      <td>VIEW_PRODUCT</td>\n      <td>20</td>\n      <td>NaN</td>\n      <td>49</td>\n      <td>12</td>\n      <td>4</td>\n      <td>2021-12-10</td>\n    </tr>\n    <tr>\n      <th>12598</th>\n      <td>3603</td>\n      <td>2021-12-10 11:26:10</td>\n      <td>200</td>\n      <td>1040</td>\n      <td>VIEW_PRODUCT</td>\n      <td>20</td>\n      <td>NaN</td>\n      <td>49</td>\n      <td>12</td>\n      <td>4</td>\n      <td>2021-12-10</td>\n    </tr>\n    <tr>\n      <th>12599</th>\n      <td>3603</td>\n      <td>2021-12-10 11:26:46</td>\n      <td>200</td>\n      <td>1040</td>\n      <td>BUY_PRODUCT</td>\n      <td>20</td>\n      <td>21867.0</td>\n      <td>49</td>\n      <td>12</td>\n      <td>4</td>\n      <td>2021-12-10</td>\n    </tr>\n    <tr>\n      <th>19013</th>\n      <td>5327</td>\n      <td>2021-12-10 11:37:57</td>\n      <td>255</td>\n      <td>1318</td>\n      <td>VIEW_PRODUCT</td>\n      <td>10</td>\n      <td>NaN</td>\n      <td>49</td>\n      <td>12</td>\n      <td>4</td>\n      <td>2021-12-10</td>\n    </tr>\n  </tbody>\n</table>\n<p>24574 rows × 11 columns</p>\n</div>"
     },
     "execution_count": 18,
     "metadata": {},
     "output_type": "execute_result"
    }
   ],
   "source": [
    "sessions_data\n"
   ],
   "metadata": {
    "collapsed": false,
    "pycharm": {
     "name": "#%%\n"
    }
   }
  },
  {
   "cell_type": "markdown",
   "source": [
    "# Do poprawy\n",
    " - ustalone kryteria sukcesu -> pole pod krzywą ROC, zamiast wartość krzywej\n",
    " - brak sprawdzenia typów atrybutów/zakresy wartości -> histogramy + mądre zakresy\n",
    " - brak weryfikacji, czy dane wydają się nadawać do modelowania (czy zmienne wejściowe coś mówią o zmiennej wyjściowej) -> dobre pytanie, właśnie to badam"
   ],
   "metadata": {
    "collapsed": false,
    "pycharm": {
     "name": "#%% md\n"
    }
   }
  },
  {
   "cell_type": "code",
   "execution_count": null,
   "outputs": [],
   "source": [],
   "metadata": {
    "collapsed": false,
    "pycharm": {
     "name": "#%%\n"
    }
   }
  }
 ],
 "metadata": {
  "kernelspec": {
   "display_name": "Python 3",
   "language": "python",
   "name": "python3"
  },
  "language_info": {
   "codemirror_mode": {
    "name": "ipython",
    "version": 2
   },
   "file_extension": ".py",
   "mimetype": "text/x-python",
   "name": "python",
   "nbconvert_exporter": "python",
   "pygments_lexer": "ipython2",
   "version": "2.7.6"
  }
 },
 "nbformat": 4,
 "nbformat_minor": 0
}