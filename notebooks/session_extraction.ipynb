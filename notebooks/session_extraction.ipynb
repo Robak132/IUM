{
 "cells": [
  {
   "cell_type": "markdown",
   "source": [
    "### Polecenie od klienta:\n",
    "*\"Mamy co prawda dodatkowe benefity dla naszych najlepszych klientów, ale może dałoby\n",
    "się ustalić kto potencjalnie jest skłonny wydawać u nas więcej?”*"
   ],
   "metadata": {
    "collapsed": false,
    "pycharm": {
     "name": "#%% md\n"
    }
   }
  },
  {
   "cell_type": "markdown",
   "source": [
    "### Zadanie biznesowe\n",
    "Sugerowanie klientów, którzy mogą wrócić do serwisu."
   ],
   "metadata": {
    "collapsed": false,
    "pycharm": {
     "name": "#%% md\n"
    }
   }
  },
  {
   "cell_type": "markdown",
   "source": [
    "### Zadanie modelowania\n",
    "Model regresyjny, szacujący prawdopodobieństwo powrotu klienta do serwisu."
   ],
   "metadata": {
    "collapsed": false,
    "pycharm": {
     "name": "#%% md\n"
    }
   }
  },
  {
   "cell_type": "code",
   "execution_count": 1,
   "outputs": [],
   "source": [
    "import pandas as pd\n",
    "import matplotlib.pyplot as plt"
   ],
   "metadata": {
    "collapsed": false,
    "pycharm": {
     "name": "#%%\n"
    }
   }
  },
  {
   "cell_type": "code",
   "execution_count": 2,
   "outputs": [],
   "source": [
    "iteration_path = \"iteration_3/\"\n",
    "deliveries_path = \"../data/\" + iteration_path + \"raw/deliveries.jsonl\"\n",
    "products_path = \"../data/\" + iteration_path + \"raw/products.jsonl\"\n",
    "sessions_path = \"../data/\" + iteration_path + \"raw/sessions.jsonl\"\n",
    "users_path = \"../data/\" + iteration_path + \"raw/users.jsonl\""
   ],
   "metadata": {
    "collapsed": false,
    "pycharm": {
     "name": "#%%\n"
    }
   }
  },
  {
   "cell_type": "code",
   "execution_count": 3,
   "outputs": [],
   "source": [
    "deliveries_data = pd.read_json(deliveries_path, lines=True)\n",
    "products_data = pd.read_json(products_path, lines=True)\n",
    "sessions_data = pd.read_json(sessions_path, lines=True)\n",
    "users_data = pd.read_json(users_path, lines=True)"
   ],
   "metadata": {
    "collapsed": false,
    "pycharm": {
     "name": "#%%\n"
    }
   }
  },
  {
   "cell_type": "code",
   "execution_count": 30,
   "outputs": [
    {
     "data": {
      "text/plain": "     user_id                   name      city                street\n0        102        Arkadiusz Hejna   Wrocław           ul. Jana 32\n1        103       Oskar Skotarczak  Warszawa      pl. Wrzosowa 595\n2        104        Maksymilian Fik    Gdynia        al. Podwale 62\n3        105  Fryderyk Hajdukiewicz    Gdynia   al. Narcyzowa 81/19\n4        106       Marcelina Kinder   Wrocław       pl. Irysowa 472\n..       ...                    ...       ...                   ...\n195      297            Olga Myrcha    Kraków  plac Listopada 83/33\n196      298         Nikodem Świgoń  Warszawa       ul. Złota 61/12\n197      299       Gaja Wojtarowicz    Gdynia   ul. Baczynskiego 97\n198      300         Inga Przewoźny     Radom       ulica Wysoka 33\n199      301          Dagmara Filek   Wrocław    ulica Łanowa 88/93\n\n[200 rows x 4 columns]",
      "text/html": "<div>\n<style scoped>\n    .dataframe tbody tr th:only-of-type {\n        vertical-align: middle;\n    }\n\n    .dataframe tbody tr th {\n        vertical-align: top;\n    }\n\n    .dataframe thead th {\n        text-align: right;\n    }\n</style>\n<table border=\"1\" class=\"dataframe\">\n  <thead>\n    <tr style=\"text-align: right;\">\n      <th></th>\n      <th>user_id</th>\n      <th>name</th>\n      <th>city</th>\n      <th>street</th>\n    </tr>\n  </thead>\n  <tbody>\n    <tr>\n      <th>0</th>\n      <td>102</td>\n      <td>Arkadiusz Hejna</td>\n      <td>Wrocław</td>\n      <td>ul. Jana 32</td>\n    </tr>\n    <tr>\n      <th>1</th>\n      <td>103</td>\n      <td>Oskar Skotarczak</td>\n      <td>Warszawa</td>\n      <td>pl. Wrzosowa 595</td>\n    </tr>\n    <tr>\n      <th>2</th>\n      <td>104</td>\n      <td>Maksymilian Fik</td>\n      <td>Gdynia</td>\n      <td>al. Podwale 62</td>\n    </tr>\n    <tr>\n      <th>3</th>\n      <td>105</td>\n      <td>Fryderyk Hajdukiewicz</td>\n      <td>Gdynia</td>\n      <td>al. Narcyzowa 81/19</td>\n    </tr>\n    <tr>\n      <th>4</th>\n      <td>106</td>\n      <td>Marcelina Kinder</td>\n      <td>Wrocław</td>\n      <td>pl. Irysowa 472</td>\n    </tr>\n    <tr>\n      <th>...</th>\n      <td>...</td>\n      <td>...</td>\n      <td>...</td>\n      <td>...</td>\n    </tr>\n    <tr>\n      <th>195</th>\n      <td>297</td>\n      <td>Olga Myrcha</td>\n      <td>Kraków</td>\n      <td>plac Listopada 83/33</td>\n    </tr>\n    <tr>\n      <th>196</th>\n      <td>298</td>\n      <td>Nikodem Świgoń</td>\n      <td>Warszawa</td>\n      <td>ul. Złota 61/12</td>\n    </tr>\n    <tr>\n      <th>197</th>\n      <td>299</td>\n      <td>Gaja Wojtarowicz</td>\n      <td>Gdynia</td>\n      <td>ul. Baczynskiego 97</td>\n    </tr>\n    <tr>\n      <th>198</th>\n      <td>300</td>\n      <td>Inga Przewoźny</td>\n      <td>Radom</td>\n      <td>ulica Wysoka 33</td>\n    </tr>\n    <tr>\n      <th>199</th>\n      <td>301</td>\n      <td>Dagmara Filek</td>\n      <td>Wrocław</td>\n      <td>ulica Łanowa 88/93</td>\n    </tr>\n  </tbody>\n</table>\n<p>200 rows × 4 columns</p>\n</div>"
     },
     "execution_count": 30,
     "metadata": {},
     "output_type": "execute_result"
    }
   ],
   "source": [
    "users_data"
   ],
   "metadata": {
    "collapsed": false,
    "pycharm": {
     "name": "#%%\n"
    }
   }
  },
  {
   "cell_type": "code",
   "execution_count": 48,
   "outputs": [
    {
     "data": {
      "text/plain": "       session_id           timestamp  user_id  product_id    event_type  \\\n5462         1615 2021-01-08 17:29:37      139        1032  VIEW_PRODUCT   \n5463         1615 2021-01-08 17:32:51      139        1033  VIEW_PRODUCT   \n5464         1615 2021-01-08 17:35:32      139        1033   BUY_PRODUCT   \n5544         1635 2021-01-10 05:56:20      139        1292  VIEW_PRODUCT   \n5545         1635 2021-01-10 05:57:54      139        1291  VIEW_PRODUCT   \n...           ...                 ...      ...         ...           ...   \n12596        3603 2021-12-10 11:21:21      200        1041  VIEW_PRODUCT   \n12597        3603 2021-12-10 11:23:13      200        1047  VIEW_PRODUCT   \n12598        3603 2021-12-10 11:26:10      200        1040  VIEW_PRODUCT   \n12599        3603 2021-12-10 11:26:46      200        1040   BUY_PRODUCT   \n19013        5327 2021-12-10 11:37:57      255        1318  VIEW_PRODUCT   \n\n       offered_discount  purchase_id  timestamp_week  timestamp_quarter  \\\n5462                 10          NaN               1                  1   \n5463                 10          NaN               1                  1   \n5464                 10      20833.0               1                  1   \n5544                 20          NaN               1                  1   \n5545                 20          NaN               1                  1   \n...                 ...          ...             ...                ...   \n12596                20          NaN              49                  4   \n12597                20          NaN              49                  4   \n12598                20          NaN              49                  4   \n12599                20      21867.0              49                  4   \n19013                10          NaN              49                  4   \n\n      timestamp_date  timestamp_month  \n5462      2021-01-08                1  \n5463      2021-01-08                1  \n5464      2021-01-08                1  \n5544      2021-01-10                1  \n5545      2021-01-10                1  \n...              ...              ...  \n12596     2021-12-10               12  \n12597     2021-12-10               12  \n12598     2021-12-10               12  \n12599     2021-12-10               12  \n19013     2021-12-10               12  \n\n[24574 rows x 11 columns]",
      "text/html": "<div>\n<style scoped>\n    .dataframe tbody tr th:only-of-type {\n        vertical-align: middle;\n    }\n\n    .dataframe tbody tr th {\n        vertical-align: top;\n    }\n\n    .dataframe thead th {\n        text-align: right;\n    }\n</style>\n<table border=\"1\" class=\"dataframe\">\n  <thead>\n    <tr style=\"text-align: right;\">\n      <th></th>\n      <th>session_id</th>\n      <th>timestamp</th>\n      <th>user_id</th>\n      <th>product_id</th>\n      <th>event_type</th>\n      <th>offered_discount</th>\n      <th>purchase_id</th>\n      <th>timestamp_week</th>\n      <th>timestamp_quarter</th>\n      <th>timestamp_date</th>\n      <th>timestamp_month</th>\n    </tr>\n  </thead>\n  <tbody>\n    <tr>\n      <th>5462</th>\n      <td>1615</td>\n      <td>2021-01-08 17:29:37</td>\n      <td>139</td>\n      <td>1032</td>\n      <td>VIEW_PRODUCT</td>\n      <td>10</td>\n      <td>NaN</td>\n      <td>1</td>\n      <td>1</td>\n      <td>2021-01-08</td>\n      <td>1</td>\n    </tr>\n    <tr>\n      <th>5463</th>\n      <td>1615</td>\n      <td>2021-01-08 17:32:51</td>\n      <td>139</td>\n      <td>1033</td>\n      <td>VIEW_PRODUCT</td>\n      <td>10</td>\n      <td>NaN</td>\n      <td>1</td>\n      <td>1</td>\n      <td>2021-01-08</td>\n      <td>1</td>\n    </tr>\n    <tr>\n      <th>5464</th>\n      <td>1615</td>\n      <td>2021-01-08 17:35:32</td>\n      <td>139</td>\n      <td>1033</td>\n      <td>BUY_PRODUCT</td>\n      <td>10</td>\n      <td>20833.0</td>\n      <td>1</td>\n      <td>1</td>\n      <td>2021-01-08</td>\n      <td>1</td>\n    </tr>\n    <tr>\n      <th>5544</th>\n      <td>1635</td>\n      <td>2021-01-10 05:56:20</td>\n      <td>139</td>\n      <td>1292</td>\n      <td>VIEW_PRODUCT</td>\n      <td>20</td>\n      <td>NaN</td>\n      <td>1</td>\n      <td>1</td>\n      <td>2021-01-10</td>\n      <td>1</td>\n    </tr>\n    <tr>\n      <th>5545</th>\n      <td>1635</td>\n      <td>2021-01-10 05:57:54</td>\n      <td>139</td>\n      <td>1291</td>\n      <td>VIEW_PRODUCT</td>\n      <td>20</td>\n      <td>NaN</td>\n      <td>1</td>\n      <td>1</td>\n      <td>2021-01-10</td>\n      <td>1</td>\n    </tr>\n    <tr>\n      <th>...</th>\n      <td>...</td>\n      <td>...</td>\n      <td>...</td>\n      <td>...</td>\n      <td>...</td>\n      <td>...</td>\n      <td>...</td>\n      <td>...</td>\n      <td>...</td>\n      <td>...</td>\n      <td>...</td>\n    </tr>\n    <tr>\n      <th>12596</th>\n      <td>3603</td>\n      <td>2021-12-10 11:21:21</td>\n      <td>200</td>\n      <td>1041</td>\n      <td>VIEW_PRODUCT</td>\n      <td>20</td>\n      <td>NaN</td>\n      <td>49</td>\n      <td>4</td>\n      <td>2021-12-10</td>\n      <td>12</td>\n    </tr>\n    <tr>\n      <th>12597</th>\n      <td>3603</td>\n      <td>2021-12-10 11:23:13</td>\n      <td>200</td>\n      <td>1047</td>\n      <td>VIEW_PRODUCT</td>\n      <td>20</td>\n      <td>NaN</td>\n      <td>49</td>\n      <td>4</td>\n      <td>2021-12-10</td>\n      <td>12</td>\n    </tr>\n    <tr>\n      <th>12598</th>\n      <td>3603</td>\n      <td>2021-12-10 11:26:10</td>\n      <td>200</td>\n      <td>1040</td>\n      <td>VIEW_PRODUCT</td>\n      <td>20</td>\n      <td>NaN</td>\n      <td>49</td>\n      <td>4</td>\n      <td>2021-12-10</td>\n      <td>12</td>\n    </tr>\n    <tr>\n      <th>12599</th>\n      <td>3603</td>\n      <td>2021-12-10 11:26:46</td>\n      <td>200</td>\n      <td>1040</td>\n      <td>BUY_PRODUCT</td>\n      <td>20</td>\n      <td>21867.0</td>\n      <td>49</td>\n      <td>4</td>\n      <td>2021-12-10</td>\n      <td>12</td>\n    </tr>\n    <tr>\n      <th>19013</th>\n      <td>5327</td>\n      <td>2021-12-10 11:37:57</td>\n      <td>255</td>\n      <td>1318</td>\n      <td>VIEW_PRODUCT</td>\n      <td>10</td>\n      <td>NaN</td>\n      <td>49</td>\n      <td>4</td>\n      <td>2021-12-10</td>\n      <td>12</td>\n    </tr>\n  </tbody>\n</table>\n<p>24574 rows × 11 columns</p>\n</div>"
     },
     "execution_count": 48,
     "metadata": {},
     "output_type": "execute_result"
    }
   ],
   "source": [
    "sessions_data"
   ],
   "metadata": {
    "collapsed": false,
    "pycharm": {
     "name": "#%%\n"
    }
   }
  },
  {
   "cell_type": "code",
   "source": [
    "sessions_data = sessions_data.sort_values(by=['timestamp'])\n",
    "sessions_data['timestamp_week'] = sessions_data['timestamp'].apply(lambda x: x.week)\n",
    "sessions_data['timestamp_month'] = sessions_data['timestamp'].apply(lambda x: x.month)\n",
    "sessions_data['timestamp_quarter'] = sessions_data['timestamp'].apply(lambda x: x.quarter)\n",
    "sessions_data['timestamp_date'] = sessions_data['timestamp'].apply(lambda x: x.date())"
   ],
   "metadata": {
    "collapsed": false,
    "pycharm": {
     "name": "#%%\n"
    }
   },
   "execution_count": 31,
   "outputs": []
  },
  {
   "cell_type": "markdown",
   "source": [
    "Podział na zbiór testowy i treningowy"
   ],
   "metadata": {
    "collapsed": false,
    "pycharm": {
     "name": "#%% md\n"
    }
   }
  },
  {
   "cell_type": "code",
   "source": [
    "sample_month_data = sessions_data[sessions_data.timestamp_month == 9]\n",
    "train_data = sessions_data[sessions_data.timestamp_quarter < 4]\n",
    "test_data = sessions_data[sessions_data.timestamp_quarter == 4]"
   ],
   "metadata": {
    "collapsed": false,
    "pycharm": {
     "name": "#%%\n"
    }
   },
   "execution_count": 32,
   "outputs": []
  },
  {
   "cell_type": "markdown",
   "source": [
    "Przykład join-a"
   ],
   "metadata": {
    "collapsed": false,
    "pycharm": {
     "name": "#%% md\n"
    }
   }
  },
  {
   "cell_type": "code",
   "execution_count": 33,
   "outputs": [
    {
     "data": {
      "text/plain": "       session_id           timestamp  user_id  product_id    event_type  \\\n0            1615 2021-01-08 17:29:37      139        1032  VIEW_PRODUCT   \n197          1615 2021-01-08 17:32:51      139        1033  VIEW_PRODUCT   \n198          1615 2021-01-08 17:35:32      139        1033   BUY_PRODUCT   \n383          1635 2021-01-10 05:56:20      139        1292  VIEW_PRODUCT   \n574          1635 2021-01-10 05:57:54      139        1291  VIEW_PRODUCT   \n...           ...                 ...      ...         ...           ...   \n8942          336 2021-09-30 23:03:20      106        1030  VIEW_PRODUCT   \n8943          336 2021-09-30 23:05:46      106        1030   BUY_PRODUCT   \n11546        6769 2021-09-30 23:42:01      298        1276  VIEW_PRODUCT   \n13730        6769 2021-09-30 23:45:23      298        1277  VIEW_PRODUCT   \n13731        6769 2021-09-30 23:47:01      298        1277   BUY_PRODUCT   \n\n       offered_discount  purchase_id  timestamp_week  timestamp_quarter  \\\n0                    10          NaN               1                  1   \n197                  10          NaN               1                  1   \n198                  10      20833.0               1                  1   \n383                  20          NaN               1                  1   \n574                  20          NaN               1                  1   \n...                 ...          ...             ...                ...   \n8942                  0          NaN              39                  3   \n8943                  0      20116.0              39                  3   \n11546                 0          NaN              39                  3   \n13730                 0          NaN              39                  3   \n13731                 0      23567.0              39                  3   \n\n      timestamp_date  timestamp_month             product_name  \\\n0         2021-01-08                1      LCD Iiyama E2280WSD   \n197       2021-01-08                1      LCD Iiyama T1932MSC   \n198       2021-01-08                1      LCD Iiyama T1932MSC   \n383       2021-01-10                1          Philips SDV8622   \n574       2021-01-10                1          Philips SDV6224   \n...              ...              ...                      ...   \n8942      2021-09-30                9      LCD Iiyama B2280WSD   \n8943      2021-09-30                9      LCD Iiyama B2280WSD   \n11546     2021-09-30                9     Apple iPad mini 64GB   \n13730     2021-09-30                9  Apple iPad mini 64GB 4G   \n13731     2021-09-30                9  Apple iPad mini 64GB 4G   \n\n                                           category_path    price  \n0                        Komputery;Monitory;Monitory LCD   688.78  \n197                      Komputery;Monitory;Monitory LCD  3029.00  \n198                      Komputery;Monitory;Monitory LCD  3029.00  \n383    Sprzęt RTV;Video;Telewizory i akcesoria;Anteny...   189.00  \n574    Sprzęt RTV;Video;Telewizory i akcesoria;Anteny...   168.79  \n...                                                  ...      ...  \n8942                     Komputery;Monitory;Monitory LCD   739.00  \n8943                     Komputery;Monitory;Monitory LCD   739.00  \n11546              Komputery;Tablety i akcesoria;Tablety  1816.97  \n13730              Komputery;Tablety i akcesoria;Tablety  2317.02  \n13731              Komputery;Tablety i akcesoria;Tablety  2317.02  \n\n[16924 rows x 14 columns]",
      "text/html": "<div>\n<style scoped>\n    .dataframe tbody tr th:only-of-type {\n        vertical-align: middle;\n    }\n\n    .dataframe tbody tr th {\n        vertical-align: top;\n    }\n\n    .dataframe thead th {\n        text-align: right;\n    }\n</style>\n<table border=\"1\" class=\"dataframe\">\n  <thead>\n    <tr style=\"text-align: right;\">\n      <th></th>\n      <th>session_id</th>\n      <th>timestamp</th>\n      <th>user_id</th>\n      <th>product_id</th>\n      <th>event_type</th>\n      <th>offered_discount</th>\n      <th>purchase_id</th>\n      <th>timestamp_week</th>\n      <th>timestamp_quarter</th>\n      <th>timestamp_date</th>\n      <th>timestamp_month</th>\n      <th>product_name</th>\n      <th>category_path</th>\n      <th>price</th>\n    </tr>\n  </thead>\n  <tbody>\n    <tr>\n      <th>0</th>\n      <td>1615</td>\n      <td>2021-01-08 17:29:37</td>\n      <td>139</td>\n      <td>1032</td>\n      <td>VIEW_PRODUCT</td>\n      <td>10</td>\n      <td>NaN</td>\n      <td>1</td>\n      <td>1</td>\n      <td>2021-01-08</td>\n      <td>1</td>\n      <td>LCD Iiyama E2280WSD</td>\n      <td>Komputery;Monitory;Monitory LCD</td>\n      <td>688.78</td>\n    </tr>\n    <tr>\n      <th>197</th>\n      <td>1615</td>\n      <td>2021-01-08 17:32:51</td>\n      <td>139</td>\n      <td>1033</td>\n      <td>VIEW_PRODUCT</td>\n      <td>10</td>\n      <td>NaN</td>\n      <td>1</td>\n      <td>1</td>\n      <td>2021-01-08</td>\n      <td>1</td>\n      <td>LCD Iiyama T1932MSC</td>\n      <td>Komputery;Monitory;Monitory LCD</td>\n      <td>3029.00</td>\n    </tr>\n    <tr>\n      <th>198</th>\n      <td>1615</td>\n      <td>2021-01-08 17:35:32</td>\n      <td>139</td>\n      <td>1033</td>\n      <td>BUY_PRODUCT</td>\n      <td>10</td>\n      <td>20833.0</td>\n      <td>1</td>\n      <td>1</td>\n      <td>2021-01-08</td>\n      <td>1</td>\n      <td>LCD Iiyama T1932MSC</td>\n      <td>Komputery;Monitory;Monitory LCD</td>\n      <td>3029.00</td>\n    </tr>\n    <tr>\n      <th>383</th>\n      <td>1635</td>\n      <td>2021-01-10 05:56:20</td>\n      <td>139</td>\n      <td>1292</td>\n      <td>VIEW_PRODUCT</td>\n      <td>20</td>\n      <td>NaN</td>\n      <td>1</td>\n      <td>1</td>\n      <td>2021-01-10</td>\n      <td>1</td>\n      <td>Philips SDV8622</td>\n      <td>Sprzęt RTV;Video;Telewizory i akcesoria;Anteny...</td>\n      <td>189.00</td>\n    </tr>\n    <tr>\n      <th>574</th>\n      <td>1635</td>\n      <td>2021-01-10 05:57:54</td>\n      <td>139</td>\n      <td>1291</td>\n      <td>VIEW_PRODUCT</td>\n      <td>20</td>\n      <td>NaN</td>\n      <td>1</td>\n      <td>1</td>\n      <td>2021-01-10</td>\n      <td>1</td>\n      <td>Philips SDV6224</td>\n      <td>Sprzęt RTV;Video;Telewizory i akcesoria;Anteny...</td>\n      <td>168.79</td>\n    </tr>\n    <tr>\n      <th>...</th>\n      <td>...</td>\n      <td>...</td>\n      <td>...</td>\n      <td>...</td>\n      <td>...</td>\n      <td>...</td>\n      <td>...</td>\n      <td>...</td>\n      <td>...</td>\n      <td>...</td>\n      <td>...</td>\n      <td>...</td>\n      <td>...</td>\n      <td>...</td>\n    </tr>\n    <tr>\n      <th>8942</th>\n      <td>336</td>\n      <td>2021-09-30 23:03:20</td>\n      <td>106</td>\n      <td>1030</td>\n      <td>VIEW_PRODUCT</td>\n      <td>0</td>\n      <td>NaN</td>\n      <td>39</td>\n      <td>3</td>\n      <td>2021-09-30</td>\n      <td>9</td>\n      <td>LCD Iiyama B2280WSD</td>\n      <td>Komputery;Monitory;Monitory LCD</td>\n      <td>739.00</td>\n    </tr>\n    <tr>\n      <th>8943</th>\n      <td>336</td>\n      <td>2021-09-30 23:05:46</td>\n      <td>106</td>\n      <td>1030</td>\n      <td>BUY_PRODUCT</td>\n      <td>0</td>\n      <td>20116.0</td>\n      <td>39</td>\n      <td>3</td>\n      <td>2021-09-30</td>\n      <td>9</td>\n      <td>LCD Iiyama B2280WSD</td>\n      <td>Komputery;Monitory;Monitory LCD</td>\n      <td>739.00</td>\n    </tr>\n    <tr>\n      <th>11546</th>\n      <td>6769</td>\n      <td>2021-09-30 23:42:01</td>\n      <td>298</td>\n      <td>1276</td>\n      <td>VIEW_PRODUCT</td>\n      <td>0</td>\n      <td>NaN</td>\n      <td>39</td>\n      <td>3</td>\n      <td>2021-09-30</td>\n      <td>9</td>\n      <td>Apple iPad mini 64GB</td>\n      <td>Komputery;Tablety i akcesoria;Tablety</td>\n      <td>1816.97</td>\n    </tr>\n    <tr>\n      <th>13730</th>\n      <td>6769</td>\n      <td>2021-09-30 23:45:23</td>\n      <td>298</td>\n      <td>1277</td>\n      <td>VIEW_PRODUCT</td>\n      <td>0</td>\n      <td>NaN</td>\n      <td>39</td>\n      <td>3</td>\n      <td>2021-09-30</td>\n      <td>9</td>\n      <td>Apple iPad mini 64GB 4G</td>\n      <td>Komputery;Tablety i akcesoria;Tablety</td>\n      <td>2317.02</td>\n    </tr>\n    <tr>\n      <th>13731</th>\n      <td>6769</td>\n      <td>2021-09-30 23:47:01</td>\n      <td>298</td>\n      <td>1277</td>\n      <td>BUY_PRODUCT</td>\n      <td>0</td>\n      <td>23567.0</td>\n      <td>39</td>\n      <td>3</td>\n      <td>2021-09-30</td>\n      <td>9</td>\n      <td>Apple iPad mini 64GB 4G</td>\n      <td>Komputery;Tablety i akcesoria;Tablety</td>\n      <td>2317.02</td>\n    </tr>\n  </tbody>\n</table>\n<p>16924 rows × 14 columns</p>\n</div>"
     },
     "execution_count": 33,
     "metadata": {},
     "output_type": "execute_result"
    }
   ],
   "source": [
    "pd.merge(train_data, products_data, on=\"product_id\").sort_values(by=['timestamp'])"
   ],
   "metadata": {
    "collapsed": false,
    "pycharm": {
     "name": "#%%\n"
    }
   }
  },
  {
   "cell_type": "code",
   "execution_count": 34,
   "outputs": [],
   "source": [
    "def get_user_id_from_session(session):\n",
    "    sample_user_id = session['user_id'].iloc[0]\n",
    "    for user_id in session['user_id']:\n",
    "        if sample_user_id != user_id:\n",
    "            raise Exception(\"How it is even possible\")\n",
    "    return sample_user_id\n"
   ],
   "metadata": {
    "collapsed": false,
    "pycharm": {
     "name": "#%%\n"
    }
   }
  },
  {
   "cell_type": "code",
   "execution_count": 35,
   "outputs": [],
   "source": [
    "def check_if_user_bought_something(session):\n",
    "    for event_type in session['event_type']:\n",
    "        if event_type == 'BUY_PRODUCT':\n",
    "            return True\n",
    "    return False"
   ],
   "metadata": {
    "collapsed": false,
    "pycharm": {
     "name": "#%%\n"
    }
   }
  },
  {
   "cell_type": "code",
   "execution_count": 36,
   "outputs": [],
   "source": [
    "def extract_session(session_id):\n",
    "    session = sessions_data[sessions_data['session_id'] == session_id]\n",
    "    d = {'session_id': session_id, 'beginning': [min(session['timestamp'])], 'end': [max(session['timestamp'])], 'user_id' : get_user_id_from_session(session),\n",
    "         'bought_product': check_if_user_bought_something(session)}\n",
    "    df = pd.DataFrame(data=d)\n",
    "    return df.set_index('session_id')"
   ],
   "metadata": {
    "collapsed": false,
    "pycharm": {
     "name": "#%%\n"
    }
   }
  },
  {
   "cell_type": "code",
   "execution_count": 37,
   "outputs": [],
   "source": [
    "def extract_session_data(sessions_data):\n",
    "    sessions = []\n",
    "    for session_id in sessions_data['session_id'].unique():\n",
    "        sessions.append(extract_session(session_id))\n",
    "    extracted_session_data = pd.concat(sessions)\n",
    "    return extracted_session_data"
   ],
   "metadata": {
    "collapsed": false,
    "pycharm": {
     "name": "#%%\n"
    }
   }
  },
  {
   "cell_type": "code",
   "execution_count": 55,
   "outputs": [],
   "source": [
    "extracted_session_data = extract_session_data(sample_month_data)"
   ],
   "metadata": {
    "collapsed": false,
    "pycharm": {
     "name": "#%%\n"
    }
   }
  },
  {
   "cell_type": "code",
   "execution_count": 46,
   "outputs": [
    {
     "data": {
      "text/plain": "                     beginning                 end  user_id  bought_product\nsession_id                                                                 \n1615       2021-01-08 17:29:37 2021-01-08 17:35:32      139            True\n1635       2021-01-10 05:56:20 2021-01-10 06:23:24      139            True\n369        2021-01-11 00:25:44 2021-01-11 00:28:09      108            True\n1791       2021-01-12 08:48:51 2021-01-12 08:51:03      143            True\n1692       2021-01-13 05:33:33 2021-01-13 05:40:02      140            True\n...                        ...                 ...      ...             ...\n6641       2021-12-10 05:51:38 2021-12-10 05:53:39      295            True\n3744       2021-12-10 07:03:25 2021-12-10 07:09:48      204            True\n1244       2021-12-10 09:15:24 2021-12-10 09:19:52      128            True\n6370       2021-12-10 09:21:54 2021-12-10 09:55:10      287            True\n3603       2021-12-10 11:09:04 2021-12-10 11:26:46      200            True\n\n[3613 rows x 4 columns]",
      "text/html": "<div>\n<style scoped>\n    .dataframe tbody tr th:only-of-type {\n        vertical-align: middle;\n    }\n\n    .dataframe tbody tr th {\n        vertical-align: top;\n    }\n\n    .dataframe thead th {\n        text-align: right;\n    }\n</style>\n<table border=\"1\" class=\"dataframe\">\n  <thead>\n    <tr style=\"text-align: right;\">\n      <th></th>\n      <th>beginning</th>\n      <th>end</th>\n      <th>user_id</th>\n      <th>bought_product</th>\n    </tr>\n    <tr>\n      <th>session_id</th>\n      <th></th>\n      <th></th>\n      <th></th>\n      <th></th>\n    </tr>\n  </thead>\n  <tbody>\n    <tr>\n      <th>1615</th>\n      <td>2021-01-08 17:29:37</td>\n      <td>2021-01-08 17:35:32</td>\n      <td>139</td>\n      <td>True</td>\n    </tr>\n    <tr>\n      <th>1635</th>\n      <td>2021-01-10 05:56:20</td>\n      <td>2021-01-10 06:23:24</td>\n      <td>139</td>\n      <td>True</td>\n    </tr>\n    <tr>\n      <th>369</th>\n      <td>2021-01-11 00:25:44</td>\n      <td>2021-01-11 00:28:09</td>\n      <td>108</td>\n      <td>True</td>\n    </tr>\n    <tr>\n      <th>1791</th>\n      <td>2021-01-12 08:48:51</td>\n      <td>2021-01-12 08:51:03</td>\n      <td>143</td>\n      <td>True</td>\n    </tr>\n    <tr>\n      <th>1692</th>\n      <td>2021-01-13 05:33:33</td>\n      <td>2021-01-13 05:40:02</td>\n      <td>140</td>\n      <td>True</td>\n    </tr>\n    <tr>\n      <th>...</th>\n      <td>...</td>\n      <td>...</td>\n      <td>...</td>\n      <td>...</td>\n    </tr>\n    <tr>\n      <th>6641</th>\n      <td>2021-12-10 05:51:38</td>\n      <td>2021-12-10 05:53:39</td>\n      <td>295</td>\n      <td>True</td>\n    </tr>\n    <tr>\n      <th>3744</th>\n      <td>2021-12-10 07:03:25</td>\n      <td>2021-12-10 07:09:48</td>\n      <td>204</td>\n      <td>True</td>\n    </tr>\n    <tr>\n      <th>1244</th>\n      <td>2021-12-10 09:15:24</td>\n      <td>2021-12-10 09:19:52</td>\n      <td>128</td>\n      <td>True</td>\n    </tr>\n    <tr>\n      <th>6370</th>\n      <td>2021-12-10 09:21:54</td>\n      <td>2021-12-10 09:55:10</td>\n      <td>287</td>\n      <td>True</td>\n    </tr>\n    <tr>\n      <th>3603</th>\n      <td>2021-12-10 11:09:04</td>\n      <td>2021-12-10 11:26:46</td>\n      <td>200</td>\n      <td>True</td>\n    </tr>\n  </tbody>\n</table>\n<p>3613 rows × 4 columns</p>\n</div>"
     },
     "execution_count": 46,
     "metadata": {},
     "output_type": "execute_result"
    }
   ],
   "source": [
    "extracted_session_data[extracted_session_data.bought_product == True]"
   ],
   "metadata": {
    "collapsed": false,
    "pycharm": {
     "name": "#%%\n"
    }
   }
  },
  {
   "cell_type": "code",
   "execution_count": 50,
   "outputs": [],
   "source": [
    "extracted_session_data = extract_session_data(sessions_data)"
   ],
   "metadata": {
    "collapsed": false,
    "pycharm": {
     "name": "#%%\n"
    }
   }
  },
  {
   "cell_type": "code",
   "execution_count": 39,
   "outputs": [],
   "source": [
    "def find_returned_users(extracted_sessions_data):\n",
    "    user_counts = extracted_sessions_data['user_id'].value_counts()\n",
    "    return user_counts[user_counts>=2].index"
   ],
   "metadata": {
    "collapsed": false,
    "pycharm": {
     "name": "#%%\n"
    }
   }
  },
  {
   "cell_type": "code",
   "execution_count": 53,
   "outputs": [],
   "source": [
    "def find_never_returned_users(extracted_sessions_data):\n",
    "    user_counts = extracted_sessions_data['user_id'].value_counts()\n",
    "    return user_counts[user_counts<2].index"
   ],
   "metadata": {
    "collapsed": false,
    "pycharm": {
     "name": "#%%\n"
    }
   }
  },
  {
   "cell_type": "code",
   "execution_count": 59,
   "outputs": [
    {
     "data": {
      "text/plain": "                     beginning                 end  user_id  bought_product\nsession_id                                                                 \n2246       2021-09-01 02:00:24 2021-09-01 02:04:10      158            True\n198        2021-09-01 02:25:19 2021-09-01 02:33:16      103            True\n267        2021-09-01 02:52:11 2021-09-01 02:52:11      104           False\n171        2021-09-01 03:16:43 2021-09-01 03:19:30      103            True\n1743       2021-09-01 03:33:57 2021-09-01 03:35:08      140            True\n...                        ...                 ...      ...             ...\n572        2021-09-30 20:40:48 2021-09-30 21:01:49      113            True\n2502       2021-09-30 21:28:55 2021-09-30 21:28:55      165           False\n2595       2021-09-30 21:45:54 2021-09-30 21:58:43      168           False\n336        2021-09-30 22:41:39 2021-09-30 23:05:46      106            True\n6769       2021-09-30 23:42:01 2021-09-30 23:47:01      298            True\n\n[896 rows x 4 columns]",
      "text/html": "<div>\n<style scoped>\n    .dataframe tbody tr th:only-of-type {\n        vertical-align: middle;\n    }\n\n    .dataframe tbody tr th {\n        vertical-align: top;\n    }\n\n    .dataframe thead th {\n        text-align: right;\n    }\n</style>\n<table border=\"1\" class=\"dataframe\">\n  <thead>\n    <tr style=\"text-align: right;\">\n      <th></th>\n      <th>beginning</th>\n      <th>end</th>\n      <th>user_id</th>\n      <th>bought_product</th>\n    </tr>\n    <tr>\n      <th>session_id</th>\n      <th></th>\n      <th></th>\n      <th></th>\n      <th></th>\n    </tr>\n  </thead>\n  <tbody>\n    <tr>\n      <th>2246</th>\n      <td>2021-09-01 02:00:24</td>\n      <td>2021-09-01 02:04:10</td>\n      <td>158</td>\n      <td>True</td>\n    </tr>\n    <tr>\n      <th>198</th>\n      <td>2021-09-01 02:25:19</td>\n      <td>2021-09-01 02:33:16</td>\n      <td>103</td>\n      <td>True</td>\n    </tr>\n    <tr>\n      <th>267</th>\n      <td>2021-09-01 02:52:11</td>\n      <td>2021-09-01 02:52:11</td>\n      <td>104</td>\n      <td>False</td>\n    </tr>\n    <tr>\n      <th>171</th>\n      <td>2021-09-01 03:16:43</td>\n      <td>2021-09-01 03:19:30</td>\n      <td>103</td>\n      <td>True</td>\n    </tr>\n    <tr>\n      <th>1743</th>\n      <td>2021-09-01 03:33:57</td>\n      <td>2021-09-01 03:35:08</td>\n      <td>140</td>\n      <td>True</td>\n    </tr>\n    <tr>\n      <th>...</th>\n      <td>...</td>\n      <td>...</td>\n      <td>...</td>\n      <td>...</td>\n    </tr>\n    <tr>\n      <th>572</th>\n      <td>2021-09-30 20:40:48</td>\n      <td>2021-09-30 21:01:49</td>\n      <td>113</td>\n      <td>True</td>\n    </tr>\n    <tr>\n      <th>2502</th>\n      <td>2021-09-30 21:28:55</td>\n      <td>2021-09-30 21:28:55</td>\n      <td>165</td>\n      <td>False</td>\n    </tr>\n    <tr>\n      <th>2595</th>\n      <td>2021-09-30 21:45:54</td>\n      <td>2021-09-30 21:58:43</td>\n      <td>168</td>\n      <td>False</td>\n    </tr>\n    <tr>\n      <th>336</th>\n      <td>2021-09-30 22:41:39</td>\n      <td>2021-09-30 23:05:46</td>\n      <td>106</td>\n      <td>True</td>\n    </tr>\n    <tr>\n      <th>6769</th>\n      <td>2021-09-30 23:42:01</td>\n      <td>2021-09-30 23:47:01</td>\n      <td>298</td>\n      <td>True</td>\n    </tr>\n  </tbody>\n</table>\n<p>896 rows × 4 columns</p>\n</div>"
     },
     "execution_count": 59,
     "metadata": {},
     "output_type": "execute_result"
    }
   ],
   "source": [
    "extracted_session_data"
   ],
   "metadata": {
    "collapsed": false,
    "pycharm": {
     "name": "#%%\n"
    }
   }
  },
  {
   "cell_type": "code",
   "execution_count": 58,
   "outputs": [
    {
     "data": {
      "text/plain": "181"
     },
     "execution_count": 58,
     "metadata": {},
     "output_type": "execute_result"
    }
   ],
   "source": [
    "len(find_never_returned_users(extracted_session_data)) + len(find_returned_users(extracted_session_data))"
   ],
   "metadata": {
    "collapsed": false,
    "pycharm": {
     "name": "#%%\n"
    }
   }
  },
  {
   "cell_type": "markdown",
   "source": [
    "# Do poprawy\n",
    " - ustalone kryteria sukcesu -> pole pod krzywą ROC, zamiast wartość krzywej\n",
    " - brak sprawdzenia typów atrybutów/zakresy wartości -> histogramy + mądre zakresy\n",
    " - brak weryfikacji, czy dane wydają się nadawać do modelowania (czy zmienne wejściowe coś mówią o zmiennej wyjściowej) -> dobre pytanie, właśnie to badam"
   ],
   "metadata": {
    "collapsed": false,
    "pycharm": {
     "name": "#%% md\n"
    }
   }
  },
  {
   "cell_type": "code",
   "execution_count": null,
   "outputs": [],
   "source": [],
   "metadata": {
    "collapsed": false,
    "pycharm": {
     "name": "#%%\n"
    }
   }
  }
 ],
 "metadata": {
  "kernelspec": {
   "display_name": "Python 3",
   "language": "python",
   "name": "python3"
  },
  "language_info": {
   "codemirror_mode": {
    "name": "ipython",
    "version": 2
   },
   "file_extension": ".py",
   "mimetype": "text/x-python",
   "name": "python",
   "nbconvert_exporter": "python",
   "pygments_lexer": "ipython2",
   "version": "2.7.6"
  }
 },
 "nbformat": 4,
 "nbformat_minor": 0
}