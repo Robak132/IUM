{
 "cells": [
  {
   "cell_type": "markdown",
   "source": [
    "### Polecenie od klienta:\n",
    "*\"Mamy co prawda dodatkowe benefity dla naszych najlepszych klientów, ale może dałoby\n",
    "się ustalić kto potencjalnie jest skłonny wydawać u nas więcej?”*"
   ],
   "metadata": {
    "collapsed": false,
    "pycharm": {
     "name": "#%% md\n"
    }
   }
  },
  {
   "cell_type": "markdown",
   "source": [
    "### Zadanie biznesowe\n",
    "Sugerowanie klientów, którzy mogą wrócić do serwisu."
   ],
   "metadata": {
    "collapsed": false,
    "pycharm": {
     "name": "#%% md\n"
    }
   }
  },
  {
   "cell_type": "markdown",
   "source": [
    "### Zadanie modelowania\n",
    "Model regresyjny, szacujący prawdopodobieństwo powrotu klienta do serwisu."
   ],
   "metadata": {
    "collapsed": false,
    "pycharm": {
     "name": "#%% md\n"
    }
   }
  },
  {
   "cell_type": "code",
   "execution_count": 1,
   "outputs": [],
   "source": [
    "import pandas as pd\n",
    "import matplotlib.pyplot as plt"
   ],
   "metadata": {
    "collapsed": false,
    "pycharm": {
     "name": "#%%\n"
    }
   }
  },
  {
   "cell_type": "code",
   "execution_count": 121,
   "outputs": [],
   "source": [
    "iteration_path = \"iteration_3/\"\n",
    "deliveries_path = \"../data/\" + iteration_path + \"raw/deliveries.jsonl\"\n",
    "products_path = \"../data/\" + iteration_path + \"raw/products.jsonl\"\n",
    "sessions_path = \"../data/\" + iteration_path + \"raw/sessions.jsonl\"\n",
    "users_path = \"../data/\" + iteration_path + \"raw/users.jsonl\""
   ],
   "metadata": {
    "collapsed": false,
    "pycharm": {
     "name": "#%%\n"
    }
   }
  },
  {
   "cell_type": "code",
   "execution_count": 122,
   "outputs": [],
   "source": [
    "deliveries_data = pd.read_json(deliveries_path, lines=True)\n",
    "products_data = pd.read_json(products_path, lines=True)\n",
    "sessions_data = pd.read_json(sessions_path, lines=True)\n",
    "users_data = pd.read_json(users_path, lines=True)"
   ],
   "metadata": {
    "collapsed": false,
    "pycharm": {
     "name": "#%%\n"
    }
   }
  },
  {
   "cell_type": "code",
   "execution_count": 123,
   "outputs": [
    {
     "data": {
      "text/plain": "      purchase_id   purchase_timestamp   delivery_timestamp  delivery_company\n0           20001  2021-05-19T07:02:36  2021-05-21T07:04:43               360\n1           20002  2021-02-27T20:13:02  2021-03-02T20:15:54               516\n2           20003  2021-04-25T13:44:28  2021-04-29T13:45:25               620\n3           20004  2021-09-12T10:03:56  2021-09-14T10:07:12               516\n4           20005  2021-07-10T16:12:54  2021-07-15T16:16:25               516\n...           ...                  ...                  ...               ...\n3608        23609  2021-11-05T01:26:21  2021-11-07T01:31:12               620\n3609        23610  2021-07-05T18:23:31  2021-07-07T18:27:35               516\n3610        23611  2021-07-20T17:15:10  2021-07-23T17:17:26               516\n3611        23612  2021-11-06T05:53:32  2021-11-10T05:54:08               620\n3612        23613  2021-11-21T11:27:26  2021-11-23T11:30:46               360\n\n[3613 rows x 4 columns]",
      "text/html": "<div>\n<style scoped>\n    .dataframe tbody tr th:only-of-type {\n        vertical-align: middle;\n    }\n\n    .dataframe tbody tr th {\n        vertical-align: top;\n    }\n\n    .dataframe thead th {\n        text-align: right;\n    }\n</style>\n<table border=\"1\" class=\"dataframe\">\n  <thead>\n    <tr style=\"text-align: right;\">\n      <th></th>\n      <th>purchase_id</th>\n      <th>purchase_timestamp</th>\n      <th>delivery_timestamp</th>\n      <th>delivery_company</th>\n    </tr>\n  </thead>\n  <tbody>\n    <tr>\n      <th>0</th>\n      <td>20001</td>\n      <td>2021-05-19T07:02:36</td>\n      <td>2021-05-21T07:04:43</td>\n      <td>360</td>\n    </tr>\n    <tr>\n      <th>1</th>\n      <td>20002</td>\n      <td>2021-02-27T20:13:02</td>\n      <td>2021-03-02T20:15:54</td>\n      <td>516</td>\n    </tr>\n    <tr>\n      <th>2</th>\n      <td>20003</td>\n      <td>2021-04-25T13:44:28</td>\n      <td>2021-04-29T13:45:25</td>\n      <td>620</td>\n    </tr>\n    <tr>\n      <th>3</th>\n      <td>20004</td>\n      <td>2021-09-12T10:03:56</td>\n      <td>2021-09-14T10:07:12</td>\n      <td>516</td>\n    </tr>\n    <tr>\n      <th>4</th>\n      <td>20005</td>\n      <td>2021-07-10T16:12:54</td>\n      <td>2021-07-15T16:16:25</td>\n      <td>516</td>\n    </tr>\n    <tr>\n      <th>...</th>\n      <td>...</td>\n      <td>...</td>\n      <td>...</td>\n      <td>...</td>\n    </tr>\n    <tr>\n      <th>3608</th>\n      <td>23609</td>\n      <td>2021-11-05T01:26:21</td>\n      <td>2021-11-07T01:31:12</td>\n      <td>620</td>\n    </tr>\n    <tr>\n      <th>3609</th>\n      <td>23610</td>\n      <td>2021-07-05T18:23:31</td>\n      <td>2021-07-07T18:27:35</td>\n      <td>516</td>\n    </tr>\n    <tr>\n      <th>3610</th>\n      <td>23611</td>\n      <td>2021-07-20T17:15:10</td>\n      <td>2021-07-23T17:17:26</td>\n      <td>516</td>\n    </tr>\n    <tr>\n      <th>3611</th>\n      <td>23612</td>\n      <td>2021-11-06T05:53:32</td>\n      <td>2021-11-10T05:54:08</td>\n      <td>620</td>\n    </tr>\n    <tr>\n      <th>3612</th>\n      <td>23613</td>\n      <td>2021-11-21T11:27:26</td>\n      <td>2021-11-23T11:30:46</td>\n      <td>360</td>\n    </tr>\n  </tbody>\n</table>\n<p>3613 rows × 4 columns</p>\n</div>"
     },
     "execution_count": 123,
     "metadata": {},
     "output_type": "execute_result"
    }
   ],
   "source": [
    "deliveries_data"
   ],
   "metadata": {
    "collapsed": false,
    "pycharm": {
     "name": "#%%\n"
    }
   }
  },
  {
   "cell_type": "code",
   "execution_count": 124,
   "outputs": [
    {
     "data": {
      "text/plain": "     product_id                                    product_name  \\\n0          1001                   Telefon Siemens Gigaset DA310   \n1          1002                              Kyocera FS-1135MFP   \n2          1003                              Kyocera FS-3640MFP   \n3          1004                            Fallout 3 (Xbox 360)   \n4          1005  Szalone Króliki Na żywo i w kolorze (Xbox 360)   \n..          ...                                             ...   \n314        1315                                      Jabra Talk   \n315        1316                      Plantronics Voyager Legend   \n316        1317                           Plantronics Savi W740   \n317        1318                           Plantronics Savi W710   \n318        1319                                     HTC HS-S200   \n\n                                         category_path    price  \n0            Telefony i akcesoria;Telefony stacjonarne    58.97  \n1    Komputery;Drukarki i skanery;Biurowe urządzeni...  2048.50  \n2    Komputery;Drukarki i skanery;Biurowe urządzeni...  7639.00  \n3            Gry i konsole;Gry na konsole;Gry Xbox 360    49.99  \n4            Gry i konsole;Gry na konsole;Gry Xbox 360    49.99  \n..                                                 ...      ...  \n314  Telefony i akcesoria;Akcesoria telefoniczne;Ze...    54.99  \n315  Telefony i akcesoria;Akcesoria telefoniczne;Ze...   249.00  \n316  Telefony i akcesoria;Akcesoria telefoniczne;Ze...  1303.96  \n317                         Sprzęt RTV;Audio;Słuchawki   553.00  \n318  Telefony i akcesoria;Akcesoria telefoniczne;Ze...    14.99  \n\n[319 rows x 4 columns]",
      "text/html": "<div>\n<style scoped>\n    .dataframe tbody tr th:only-of-type {\n        vertical-align: middle;\n    }\n\n    .dataframe tbody tr th {\n        vertical-align: top;\n    }\n\n    .dataframe thead th {\n        text-align: right;\n    }\n</style>\n<table border=\"1\" class=\"dataframe\">\n  <thead>\n    <tr style=\"text-align: right;\">\n      <th></th>\n      <th>product_id</th>\n      <th>product_name</th>\n      <th>category_path</th>\n      <th>price</th>\n    </tr>\n  </thead>\n  <tbody>\n    <tr>\n      <th>0</th>\n      <td>1001</td>\n      <td>Telefon Siemens Gigaset DA310</td>\n      <td>Telefony i akcesoria;Telefony stacjonarne</td>\n      <td>58.97</td>\n    </tr>\n    <tr>\n      <th>1</th>\n      <td>1002</td>\n      <td>Kyocera FS-1135MFP</td>\n      <td>Komputery;Drukarki i skanery;Biurowe urządzeni...</td>\n      <td>2048.50</td>\n    </tr>\n    <tr>\n      <th>2</th>\n      <td>1003</td>\n      <td>Kyocera FS-3640MFP</td>\n      <td>Komputery;Drukarki i skanery;Biurowe urządzeni...</td>\n      <td>7639.00</td>\n    </tr>\n    <tr>\n      <th>3</th>\n      <td>1004</td>\n      <td>Fallout 3 (Xbox 360)</td>\n      <td>Gry i konsole;Gry na konsole;Gry Xbox 360</td>\n      <td>49.99</td>\n    </tr>\n    <tr>\n      <th>4</th>\n      <td>1005</td>\n      <td>Szalone Króliki Na żywo i w kolorze (Xbox 360)</td>\n      <td>Gry i konsole;Gry na konsole;Gry Xbox 360</td>\n      <td>49.99</td>\n    </tr>\n    <tr>\n      <th>...</th>\n      <td>...</td>\n      <td>...</td>\n      <td>...</td>\n      <td>...</td>\n    </tr>\n    <tr>\n      <th>314</th>\n      <td>1315</td>\n      <td>Jabra Talk</td>\n      <td>Telefony i akcesoria;Akcesoria telefoniczne;Ze...</td>\n      <td>54.99</td>\n    </tr>\n    <tr>\n      <th>315</th>\n      <td>1316</td>\n      <td>Plantronics Voyager Legend</td>\n      <td>Telefony i akcesoria;Akcesoria telefoniczne;Ze...</td>\n      <td>249.00</td>\n    </tr>\n    <tr>\n      <th>316</th>\n      <td>1317</td>\n      <td>Plantronics Savi W740</td>\n      <td>Telefony i akcesoria;Akcesoria telefoniczne;Ze...</td>\n      <td>1303.96</td>\n    </tr>\n    <tr>\n      <th>317</th>\n      <td>1318</td>\n      <td>Plantronics Savi W710</td>\n      <td>Sprzęt RTV;Audio;Słuchawki</td>\n      <td>553.00</td>\n    </tr>\n    <tr>\n      <th>318</th>\n      <td>1319</td>\n      <td>HTC HS-S200</td>\n      <td>Telefony i akcesoria;Akcesoria telefoniczne;Ze...</td>\n      <td>14.99</td>\n    </tr>\n  </tbody>\n</table>\n<p>319 rows × 4 columns</p>\n</div>"
     },
     "execution_count": 124,
     "metadata": {},
     "output_type": "execute_result"
    }
   ],
   "source": [
    "products_data"
   ],
   "metadata": {
    "collapsed": false,
    "pycharm": {
     "name": "#%%\n"
    }
   }
  },
  {
   "cell_type": "code",
   "execution_count": 125,
   "outputs": [
    {
     "data": {
      "text/plain": "       session_id           timestamp  user_id  product_id    event_type  \\\n0             124 2021-05-19 06:57:15      102        1277  VIEW_PRODUCT   \n1             124 2021-05-19 06:59:15      102        1276  VIEW_PRODUCT   \n2             124 2021-05-19 07:02:36      102        1276   BUY_PRODUCT   \n3             125 2021-04-23 13:46:03      102        1284  VIEW_PRODUCT   \n4             125 2021-04-23 13:50:10      102        1292  VIEW_PRODUCT   \n...           ...                 ...      ...         ...           ...   \n24569        6881 2021-11-03 05:28:10      301        1073  VIEW_PRODUCT   \n24570        6881 2021-11-03 05:33:08      301        1201  VIEW_PRODUCT   \n24571        6881 2021-11-03 05:36:58      301        1072  VIEW_PRODUCT   \n24572        6881 2021-11-03 05:37:32      301        1222  VIEW_PRODUCT   \n24573        6881 2021-11-03 05:38:49      301        1074  VIEW_PRODUCT   \n\n       offered_discount  purchase_id  \n0                     5          NaN  \n1                     5          NaN  \n2                     5      20001.0  \n3                    20          NaN  \n4                    20          NaN  \n...                 ...          ...  \n24569                 5          NaN  \n24570                 5          NaN  \n24571                 5          NaN  \n24572                 5          NaN  \n24573                 5          NaN  \n\n[24574 rows x 7 columns]",
      "text/html": "<div>\n<style scoped>\n    .dataframe tbody tr th:only-of-type {\n        vertical-align: middle;\n    }\n\n    .dataframe tbody tr th {\n        vertical-align: top;\n    }\n\n    .dataframe thead th {\n        text-align: right;\n    }\n</style>\n<table border=\"1\" class=\"dataframe\">\n  <thead>\n    <tr style=\"text-align: right;\">\n      <th></th>\n      <th>session_id</th>\n      <th>timestamp</th>\n      <th>user_id</th>\n      <th>product_id</th>\n      <th>event_type</th>\n      <th>offered_discount</th>\n      <th>purchase_id</th>\n    </tr>\n  </thead>\n  <tbody>\n    <tr>\n      <th>0</th>\n      <td>124</td>\n      <td>2021-05-19 06:57:15</td>\n      <td>102</td>\n      <td>1277</td>\n      <td>VIEW_PRODUCT</td>\n      <td>5</td>\n      <td>NaN</td>\n    </tr>\n    <tr>\n      <th>1</th>\n      <td>124</td>\n      <td>2021-05-19 06:59:15</td>\n      <td>102</td>\n      <td>1276</td>\n      <td>VIEW_PRODUCT</td>\n      <td>5</td>\n      <td>NaN</td>\n    </tr>\n    <tr>\n      <th>2</th>\n      <td>124</td>\n      <td>2021-05-19 07:02:36</td>\n      <td>102</td>\n      <td>1276</td>\n      <td>BUY_PRODUCT</td>\n      <td>5</td>\n      <td>20001.0</td>\n    </tr>\n    <tr>\n      <th>3</th>\n      <td>125</td>\n      <td>2021-04-23 13:46:03</td>\n      <td>102</td>\n      <td>1284</td>\n      <td>VIEW_PRODUCT</td>\n      <td>20</td>\n      <td>NaN</td>\n    </tr>\n    <tr>\n      <th>4</th>\n      <td>125</td>\n      <td>2021-04-23 13:50:10</td>\n      <td>102</td>\n      <td>1292</td>\n      <td>VIEW_PRODUCT</td>\n      <td>20</td>\n      <td>NaN</td>\n    </tr>\n    <tr>\n      <th>...</th>\n      <td>...</td>\n      <td>...</td>\n      <td>...</td>\n      <td>...</td>\n      <td>...</td>\n      <td>...</td>\n      <td>...</td>\n    </tr>\n    <tr>\n      <th>24569</th>\n      <td>6881</td>\n      <td>2021-11-03 05:28:10</td>\n      <td>301</td>\n      <td>1073</td>\n      <td>VIEW_PRODUCT</td>\n      <td>5</td>\n      <td>NaN</td>\n    </tr>\n    <tr>\n      <th>24570</th>\n      <td>6881</td>\n      <td>2021-11-03 05:33:08</td>\n      <td>301</td>\n      <td>1201</td>\n      <td>VIEW_PRODUCT</td>\n      <td>5</td>\n      <td>NaN</td>\n    </tr>\n    <tr>\n      <th>24571</th>\n      <td>6881</td>\n      <td>2021-11-03 05:36:58</td>\n      <td>301</td>\n      <td>1072</td>\n      <td>VIEW_PRODUCT</td>\n      <td>5</td>\n      <td>NaN</td>\n    </tr>\n    <tr>\n      <th>24572</th>\n      <td>6881</td>\n      <td>2021-11-03 05:37:32</td>\n      <td>301</td>\n      <td>1222</td>\n      <td>VIEW_PRODUCT</td>\n      <td>5</td>\n      <td>NaN</td>\n    </tr>\n    <tr>\n      <th>24573</th>\n      <td>6881</td>\n      <td>2021-11-03 05:38:49</td>\n      <td>301</td>\n      <td>1074</td>\n      <td>VIEW_PRODUCT</td>\n      <td>5</td>\n      <td>NaN</td>\n    </tr>\n  </tbody>\n</table>\n<p>24574 rows × 7 columns</p>\n</div>"
     },
     "execution_count": 125,
     "metadata": {},
     "output_type": "execute_result"
    }
   ],
   "source": [
    "sessions_data"
   ],
   "metadata": {
    "collapsed": false,
    "pycharm": {
     "name": "#%%\n"
    }
   }
  },
  {
   "cell_type": "code",
   "execution_count": 126,
   "outputs": [
    {
     "data": {
      "text/plain": "     user_id                   name      city                street\n0        102        Arkadiusz Hejna   Wrocław           ul. Jana 32\n1        103       Oskar Skotarczak  Warszawa      pl. Wrzosowa 595\n2        104        Maksymilian Fik    Gdynia        al. Podwale 62\n3        105  Fryderyk Hajdukiewicz    Gdynia   al. Narcyzowa 81/19\n4        106       Marcelina Kinder   Wrocław       pl. Irysowa 472\n..       ...                    ...       ...                   ...\n195      297            Olga Myrcha    Kraków  plac Listopada 83/33\n196      298         Nikodem Świgoń  Warszawa       ul. Złota 61/12\n197      299       Gaja Wojtarowicz    Gdynia   ul. Baczynskiego 97\n198      300         Inga Przewoźny     Radom       ulica Wysoka 33\n199      301          Dagmara Filek   Wrocław    ulica Łanowa 88/93\n\n[200 rows x 4 columns]",
      "text/html": "<div>\n<style scoped>\n    .dataframe tbody tr th:only-of-type {\n        vertical-align: middle;\n    }\n\n    .dataframe tbody tr th {\n        vertical-align: top;\n    }\n\n    .dataframe thead th {\n        text-align: right;\n    }\n</style>\n<table border=\"1\" class=\"dataframe\">\n  <thead>\n    <tr style=\"text-align: right;\">\n      <th></th>\n      <th>user_id</th>\n      <th>name</th>\n      <th>city</th>\n      <th>street</th>\n    </tr>\n  </thead>\n  <tbody>\n    <tr>\n      <th>0</th>\n      <td>102</td>\n      <td>Arkadiusz Hejna</td>\n      <td>Wrocław</td>\n      <td>ul. Jana 32</td>\n    </tr>\n    <tr>\n      <th>1</th>\n      <td>103</td>\n      <td>Oskar Skotarczak</td>\n      <td>Warszawa</td>\n      <td>pl. Wrzosowa 595</td>\n    </tr>\n    <tr>\n      <th>2</th>\n      <td>104</td>\n      <td>Maksymilian Fik</td>\n      <td>Gdynia</td>\n      <td>al. Podwale 62</td>\n    </tr>\n    <tr>\n      <th>3</th>\n      <td>105</td>\n      <td>Fryderyk Hajdukiewicz</td>\n      <td>Gdynia</td>\n      <td>al. Narcyzowa 81/19</td>\n    </tr>\n    <tr>\n      <th>4</th>\n      <td>106</td>\n      <td>Marcelina Kinder</td>\n      <td>Wrocław</td>\n      <td>pl. Irysowa 472</td>\n    </tr>\n    <tr>\n      <th>...</th>\n      <td>...</td>\n      <td>...</td>\n      <td>...</td>\n      <td>...</td>\n    </tr>\n    <tr>\n      <th>195</th>\n      <td>297</td>\n      <td>Olga Myrcha</td>\n      <td>Kraków</td>\n      <td>plac Listopada 83/33</td>\n    </tr>\n    <tr>\n      <th>196</th>\n      <td>298</td>\n      <td>Nikodem Świgoń</td>\n      <td>Warszawa</td>\n      <td>ul. Złota 61/12</td>\n    </tr>\n    <tr>\n      <th>197</th>\n      <td>299</td>\n      <td>Gaja Wojtarowicz</td>\n      <td>Gdynia</td>\n      <td>ul. Baczynskiego 97</td>\n    </tr>\n    <tr>\n      <th>198</th>\n      <td>300</td>\n      <td>Inga Przewoźny</td>\n      <td>Radom</td>\n      <td>ulica Wysoka 33</td>\n    </tr>\n    <tr>\n      <th>199</th>\n      <td>301</td>\n      <td>Dagmara Filek</td>\n      <td>Wrocław</td>\n      <td>ulica Łanowa 88/93</td>\n    </tr>\n  </tbody>\n</table>\n<p>200 rows × 4 columns</p>\n</div>"
     },
     "execution_count": 126,
     "metadata": {},
     "output_type": "execute_result"
    }
   ],
   "source": [
    "users_data"
   ],
   "metadata": {
    "collapsed": false,
    "pycharm": {
     "name": "#%%\n"
    }
   }
  },
  {
   "cell_type": "code",
   "source": [
    "sessions_data = sessions_data.sort_values(by=['timestamp'])\n",
    "# sessions_data['timestamp_date'] = sessions_data['timestamp'].apply(lambda x: x.date())\n",
    "# sessions_data['timestamp_week'] = sessions_data['timestamp'].apply(lambda x: x.week)\n",
    "sessions_data['timestamp_month'] = sessions_data['timestamp'].apply(lambda x: x.month)\n",
    "# sessions_data['timestamp_quarter'] = sessions_data['timestamp'].apply(lambda x: x.quarter)"
   ],
   "metadata": {
    "collapsed": false,
    "pycharm": {
     "name": "#%%\n"
    }
   },
   "execution_count": 127,
   "outputs": []
  },
  {
   "cell_type": "markdown",
   "source": [
    "Podział na zbiór testowy i treningowy"
   ],
   "metadata": {
    "collapsed": false,
    "pycharm": {
     "name": "#%% md\n"
    }
   }
  },
  {
   "cell_type": "code",
   "source": [
    "train_data = sessions_data[sessions_data.timestamp_month < 10]\n",
    "test_data = sessions_data[sessions_data.timestamp_month >= 10]"
   ],
   "metadata": {
    "collapsed": false,
    "pycharm": {
     "name": "#%%\n"
    }
   },
   "execution_count": 129,
   "outputs": []
  },
  {
   "cell_type": "markdown",
   "source": [
    "Przykład join-a"
   ],
   "metadata": {
    "collapsed": false,
    "pycharm": {
     "name": "#%% md\n"
    }
   }
  },
  {
   "cell_type": "code",
   "execution_count": 130,
   "outputs": [
    {
     "data": {
      "text/plain": "       session_id           timestamp  user_id  product_id    event_type  \\\n0            1615 2021-01-08 17:29:37      139        1032  VIEW_PRODUCT   \n197          1615 2021-01-08 17:32:51      139        1033  VIEW_PRODUCT   \n198          1615 2021-01-08 17:35:32      139        1033   BUY_PRODUCT   \n383          1635 2021-01-10 05:56:20      139        1292  VIEW_PRODUCT   \n574          1635 2021-01-10 05:57:54      139        1291  VIEW_PRODUCT   \n...           ...                 ...      ...         ...           ...   \n8942          336 2021-09-30 23:03:20      106        1030  VIEW_PRODUCT   \n8943          336 2021-09-30 23:05:46      106        1030   BUY_PRODUCT   \n11546        6769 2021-09-30 23:42:01      298        1276  VIEW_PRODUCT   \n13730        6769 2021-09-30 23:45:23      298        1277  VIEW_PRODUCT   \n13731        6769 2021-09-30 23:47:01      298        1277   BUY_PRODUCT   \n\n       offered_discount  purchase_id  timestamp_month  \\\n0                    10          NaN                1   \n197                  10          NaN                1   \n198                  10      20833.0                1   \n383                  20          NaN                1   \n574                  20          NaN                1   \n...                 ...          ...              ...   \n8942                  0          NaN                9   \n8943                  0      20116.0                9   \n11546                 0          NaN                9   \n13730                 0          NaN                9   \n13731                 0      23567.0                9   \n\n                  product_name  \\\n0          LCD Iiyama E2280WSD   \n197        LCD Iiyama T1932MSC   \n198        LCD Iiyama T1932MSC   \n383            Philips SDV8622   \n574            Philips SDV6224   \n...                        ...   \n8942       LCD Iiyama B2280WSD   \n8943       LCD Iiyama B2280WSD   \n11546     Apple iPad mini 64GB   \n13730  Apple iPad mini 64GB 4G   \n13731  Apple iPad mini 64GB 4G   \n\n                                           category_path    price  \n0                        Komputery;Monitory;Monitory LCD   688.78  \n197                      Komputery;Monitory;Monitory LCD  3029.00  \n198                      Komputery;Monitory;Monitory LCD  3029.00  \n383    Sprzęt RTV;Video;Telewizory i akcesoria;Anteny...   189.00  \n574    Sprzęt RTV;Video;Telewizory i akcesoria;Anteny...   168.79  \n...                                                  ...      ...  \n8942                     Komputery;Monitory;Monitory LCD   739.00  \n8943                     Komputery;Monitory;Monitory LCD   739.00  \n11546              Komputery;Tablety i akcesoria;Tablety  1816.97  \n13730              Komputery;Tablety i akcesoria;Tablety  2317.02  \n13731              Komputery;Tablety i akcesoria;Tablety  2317.02  \n\n[16924 rows x 11 columns]",
      "text/html": "<div>\n<style scoped>\n    .dataframe tbody tr th:only-of-type {\n        vertical-align: middle;\n    }\n\n    .dataframe tbody tr th {\n        vertical-align: top;\n    }\n\n    .dataframe thead th {\n        text-align: right;\n    }\n</style>\n<table border=\"1\" class=\"dataframe\">\n  <thead>\n    <tr style=\"text-align: right;\">\n      <th></th>\n      <th>session_id</th>\n      <th>timestamp</th>\n      <th>user_id</th>\n      <th>product_id</th>\n      <th>event_type</th>\n      <th>offered_discount</th>\n      <th>purchase_id</th>\n      <th>timestamp_month</th>\n      <th>product_name</th>\n      <th>category_path</th>\n      <th>price</th>\n    </tr>\n  </thead>\n  <tbody>\n    <tr>\n      <th>0</th>\n      <td>1615</td>\n      <td>2021-01-08 17:29:37</td>\n      <td>139</td>\n      <td>1032</td>\n      <td>VIEW_PRODUCT</td>\n      <td>10</td>\n      <td>NaN</td>\n      <td>1</td>\n      <td>LCD Iiyama E2280WSD</td>\n      <td>Komputery;Monitory;Monitory LCD</td>\n      <td>688.78</td>\n    </tr>\n    <tr>\n      <th>197</th>\n      <td>1615</td>\n      <td>2021-01-08 17:32:51</td>\n      <td>139</td>\n      <td>1033</td>\n      <td>VIEW_PRODUCT</td>\n      <td>10</td>\n      <td>NaN</td>\n      <td>1</td>\n      <td>LCD Iiyama T1932MSC</td>\n      <td>Komputery;Monitory;Monitory LCD</td>\n      <td>3029.00</td>\n    </tr>\n    <tr>\n      <th>198</th>\n      <td>1615</td>\n      <td>2021-01-08 17:35:32</td>\n      <td>139</td>\n      <td>1033</td>\n      <td>BUY_PRODUCT</td>\n      <td>10</td>\n      <td>20833.0</td>\n      <td>1</td>\n      <td>LCD Iiyama T1932MSC</td>\n      <td>Komputery;Monitory;Monitory LCD</td>\n      <td>3029.00</td>\n    </tr>\n    <tr>\n      <th>383</th>\n      <td>1635</td>\n      <td>2021-01-10 05:56:20</td>\n      <td>139</td>\n      <td>1292</td>\n      <td>VIEW_PRODUCT</td>\n      <td>20</td>\n      <td>NaN</td>\n      <td>1</td>\n      <td>Philips SDV8622</td>\n      <td>Sprzęt RTV;Video;Telewizory i akcesoria;Anteny...</td>\n      <td>189.00</td>\n    </tr>\n    <tr>\n      <th>574</th>\n      <td>1635</td>\n      <td>2021-01-10 05:57:54</td>\n      <td>139</td>\n      <td>1291</td>\n      <td>VIEW_PRODUCT</td>\n      <td>20</td>\n      <td>NaN</td>\n      <td>1</td>\n      <td>Philips SDV6224</td>\n      <td>Sprzęt RTV;Video;Telewizory i akcesoria;Anteny...</td>\n      <td>168.79</td>\n    </tr>\n    <tr>\n      <th>...</th>\n      <td>...</td>\n      <td>...</td>\n      <td>...</td>\n      <td>...</td>\n      <td>...</td>\n      <td>...</td>\n      <td>...</td>\n      <td>...</td>\n      <td>...</td>\n      <td>...</td>\n      <td>...</td>\n    </tr>\n    <tr>\n      <th>8942</th>\n      <td>336</td>\n      <td>2021-09-30 23:03:20</td>\n      <td>106</td>\n      <td>1030</td>\n      <td>VIEW_PRODUCT</td>\n      <td>0</td>\n      <td>NaN</td>\n      <td>9</td>\n      <td>LCD Iiyama B2280WSD</td>\n      <td>Komputery;Monitory;Monitory LCD</td>\n      <td>739.00</td>\n    </tr>\n    <tr>\n      <th>8943</th>\n      <td>336</td>\n      <td>2021-09-30 23:05:46</td>\n      <td>106</td>\n      <td>1030</td>\n      <td>BUY_PRODUCT</td>\n      <td>0</td>\n      <td>20116.0</td>\n      <td>9</td>\n      <td>LCD Iiyama B2280WSD</td>\n      <td>Komputery;Monitory;Monitory LCD</td>\n      <td>739.00</td>\n    </tr>\n    <tr>\n      <th>11546</th>\n      <td>6769</td>\n      <td>2021-09-30 23:42:01</td>\n      <td>298</td>\n      <td>1276</td>\n      <td>VIEW_PRODUCT</td>\n      <td>0</td>\n      <td>NaN</td>\n      <td>9</td>\n      <td>Apple iPad mini 64GB</td>\n      <td>Komputery;Tablety i akcesoria;Tablety</td>\n      <td>1816.97</td>\n    </tr>\n    <tr>\n      <th>13730</th>\n      <td>6769</td>\n      <td>2021-09-30 23:45:23</td>\n      <td>298</td>\n      <td>1277</td>\n      <td>VIEW_PRODUCT</td>\n      <td>0</td>\n      <td>NaN</td>\n      <td>9</td>\n      <td>Apple iPad mini 64GB 4G</td>\n      <td>Komputery;Tablety i akcesoria;Tablety</td>\n      <td>2317.02</td>\n    </tr>\n    <tr>\n      <th>13731</th>\n      <td>6769</td>\n      <td>2021-09-30 23:47:01</td>\n      <td>298</td>\n      <td>1277</td>\n      <td>BUY_PRODUCT</td>\n      <td>0</td>\n      <td>23567.0</td>\n      <td>9</td>\n      <td>Apple iPad mini 64GB 4G</td>\n      <td>Komputery;Tablety i akcesoria;Tablety</td>\n      <td>2317.02</td>\n    </tr>\n  </tbody>\n</table>\n<p>16924 rows × 11 columns</p>\n</div>"
     },
     "execution_count": 130,
     "metadata": {},
     "output_type": "execute_result"
    }
   ],
   "source": [
    "pd.merge(train_data, products_data, on=\"product_id\").sort_values(by=['timestamp'])"
   ],
   "metadata": {
    "collapsed": false,
    "pycharm": {
     "name": "#%%\n"
    }
   }
  },
  {
   "cell_type": "code",
   "execution_count": 142,
   "outputs": [],
   "source": [
    "def get_user_id_from_session(session):\n",
    "    sample_user_id = session['user_id'].iloc[0]\n",
    "    for user_id in session['user_id']:\n",
    "        if sample_user_id != user_id:\n",
    "            raise Exception(\"How it is even possible\")\n",
    "    return sample_user_id\n",
    "\n",
    "def get_session_id_from_session(session):\n",
    "    sample_session_id = session['session_id'].iloc[0]\n",
    "    for session_id in session['session_id']:\n",
    "        if sample_session_id != session_id:\n",
    "            raise Exception(\"How it is even possible\")\n",
    "    return sample_session_id\n"
   ],
   "metadata": {
    "collapsed": false,
    "pycharm": {
     "name": "#%%\n"
    }
   }
  },
  {
   "cell_type": "code",
   "execution_count": 143,
   "outputs": [],
   "source": [
    "def check_if_user_bought_something(session):\n",
    "    for event_type in session['event_type']:\n",
    "        if event_type == 'BUY_PRODUCT':\n",
    "            return True\n",
    "    return False"
   ],
   "metadata": {
    "collapsed": false,
    "pycharm": {
     "name": "#%%\n"
    }
   }
  },
  {
   "cell_type": "code",
   "execution_count": 144,
   "outputs": [],
   "source": [
    "def get_session_information(session):\n",
    "    d = {\n",
    "        'session_id': get_session_id_from_session(session),\n",
    "        'beginning': [min(session['timestamp'])],\n",
    "        'end': [max(session['timestamp'])],\n",
    "        'user_id' : get_user_id_from_session(session),\n",
    "        'bought_product': check_if_user_bought_something(session)\n",
    "    }\n",
    "    df = pd.DataFrame(data=d)\n",
    "    return df.set_index('session_id')"
   ],
   "metadata": {
    "collapsed": false,
    "pycharm": {
     "name": "#%%\n"
    }
   }
  },
  {
   "cell_type": "code",
   "execution_count": 145,
   "outputs": [],
   "source": [
    "def extract_session_batch(sessions_data):\n",
    "    sessions = []\n",
    "    for session_id in sessions_data['session_id'].unique():\n",
    "        sessions.append(get_session_information(sessions_data[sessions_data['session_id'] == session_id]))\n",
    "    extracted_session_batch = pd.concat(sessions)\n",
    "    return extracted_session_batch"
   ],
   "metadata": {
    "collapsed": false,
    "pycharm": {
     "name": "#%%\n"
    }
   }
  },
  {
   "cell_type": "code",
   "execution_count": 146,
   "outputs": [],
   "source": [
    "# extracted_session_batch_one_month = extract_session_batch(sample_month_data)"
   ],
   "metadata": {
    "collapsed": false,
    "pycharm": {
     "name": "#%%\n"
    }
   }
  },
  {
   "cell_type": "code",
   "execution_count": 147,
   "outputs": [],
   "source": [
    "# extracted_session_batch[extracted_session_batch.bought_product == True]"
   ],
   "metadata": {
    "collapsed": false,
    "pycharm": {
     "name": "#%%\n"
    }
   }
  },
  {
   "cell_type": "code",
   "execution_count": 148,
   "outputs": [],
   "source": [
    "extracted_session_batch_train = extract_session_batch(train_data)"
   ],
   "metadata": {
    "collapsed": false,
    "pycharm": {
     "name": "#%%\n"
    }
   }
  },
  {
   "cell_type": "code",
   "execution_count": 149,
   "outputs": [],
   "source": [
    "# extracted_session_batch_one_year = extract_session_batch(sessions_data)"
   ],
   "metadata": {
    "collapsed": false,
    "pycharm": {
     "name": "#%%\n"
    }
   }
  },
  {
   "cell_type": "code",
   "execution_count": 150,
   "outputs": [
    {
     "data": {
      "text/plain": "                     beginning                 end  user_id  bought_product\nsession_id                                                                 \n1615       2021-01-08 17:29:37 2021-01-08 17:35:32      139            True\n1635       2021-01-10 05:56:20 2021-01-10 06:23:24      139            True\n4885       2021-01-10 12:44:13 2021-01-10 13:06:59      242           False\n369        2021-01-11 00:25:44 2021-01-11 00:28:09      108            True\n1791       2021-01-12 08:48:51 2021-01-12 08:51:03      143            True\n...                        ...                 ...      ...             ...\n572        2021-09-30 20:40:48 2021-09-30 21:01:49      113            True\n2502       2021-09-30 21:28:55 2021-09-30 21:28:55      165           False\n2595       2021-09-30 21:45:54 2021-09-30 21:58:43      168           False\n336        2021-09-30 22:41:39 2021-09-30 23:05:46      106            True\n6769       2021-09-30 23:42:01 2021-09-30 23:47:01      298            True\n\n[4651 rows x 4 columns]",
      "text/html": "<div>\n<style scoped>\n    .dataframe tbody tr th:only-of-type {\n        vertical-align: middle;\n    }\n\n    .dataframe tbody tr th {\n        vertical-align: top;\n    }\n\n    .dataframe thead th {\n        text-align: right;\n    }\n</style>\n<table border=\"1\" class=\"dataframe\">\n  <thead>\n    <tr style=\"text-align: right;\">\n      <th></th>\n      <th>beginning</th>\n      <th>end</th>\n      <th>user_id</th>\n      <th>bought_product</th>\n    </tr>\n    <tr>\n      <th>session_id</th>\n      <th></th>\n      <th></th>\n      <th></th>\n      <th></th>\n    </tr>\n  </thead>\n  <tbody>\n    <tr>\n      <th>1615</th>\n      <td>2021-01-08 17:29:37</td>\n      <td>2021-01-08 17:35:32</td>\n      <td>139</td>\n      <td>True</td>\n    </tr>\n    <tr>\n      <th>1635</th>\n      <td>2021-01-10 05:56:20</td>\n      <td>2021-01-10 06:23:24</td>\n      <td>139</td>\n      <td>True</td>\n    </tr>\n    <tr>\n      <th>4885</th>\n      <td>2021-01-10 12:44:13</td>\n      <td>2021-01-10 13:06:59</td>\n      <td>242</td>\n      <td>False</td>\n    </tr>\n    <tr>\n      <th>369</th>\n      <td>2021-01-11 00:25:44</td>\n      <td>2021-01-11 00:28:09</td>\n      <td>108</td>\n      <td>True</td>\n    </tr>\n    <tr>\n      <th>1791</th>\n      <td>2021-01-12 08:48:51</td>\n      <td>2021-01-12 08:51:03</td>\n      <td>143</td>\n      <td>True</td>\n    </tr>\n    <tr>\n      <th>...</th>\n      <td>...</td>\n      <td>...</td>\n      <td>...</td>\n      <td>...</td>\n    </tr>\n    <tr>\n      <th>572</th>\n      <td>2021-09-30 20:40:48</td>\n      <td>2021-09-30 21:01:49</td>\n      <td>113</td>\n      <td>True</td>\n    </tr>\n    <tr>\n      <th>2502</th>\n      <td>2021-09-30 21:28:55</td>\n      <td>2021-09-30 21:28:55</td>\n      <td>165</td>\n      <td>False</td>\n    </tr>\n    <tr>\n      <th>2595</th>\n      <td>2021-09-30 21:45:54</td>\n      <td>2021-09-30 21:58:43</td>\n      <td>168</td>\n      <td>False</td>\n    </tr>\n    <tr>\n      <th>336</th>\n      <td>2021-09-30 22:41:39</td>\n      <td>2021-09-30 23:05:46</td>\n      <td>106</td>\n      <td>True</td>\n    </tr>\n    <tr>\n      <th>6769</th>\n      <td>2021-09-30 23:42:01</td>\n      <td>2021-09-30 23:47:01</td>\n      <td>298</td>\n      <td>True</td>\n    </tr>\n  </tbody>\n</table>\n<p>4651 rows × 4 columns</p>\n</div>"
     },
     "execution_count": 150,
     "metadata": {},
     "output_type": "execute_result"
    }
   ],
   "source": [
    "extracted_session_batch_train"
   ],
   "metadata": {
    "collapsed": false,
    "pycharm": {
     "name": "#%%\n"
    }
   }
  },
  {
   "cell_type": "markdown",
   "source": [
    "# Ekstrakcja userów"
   ],
   "metadata": {
    "collapsed": false,
    "pycharm": {
     "name": "#%% md\n"
    }
   }
  },
  {
   "cell_type": "code",
   "execution_count": 151,
   "outputs": [],
   "source": [
    "def get_user_information(user_session_data):\n",
    "    d = {\n",
    "        'user_id': [get_user_id_from_session(user_session_data)],\n",
    "        'expenses': [user_session_data[user_session_data['event_type'] == \"BUY_PRODUCT\"]['price'].sum()],\n",
    "        'products_bought': [len(user_session_data[user_session_data['event_type'] == \"BUY_PRODUCT\"])],\n",
    "        'events_number': [len(user_session_data)]\n",
    "    }\n",
    "    df = pd.DataFrame(data=d)\n",
    "    return df.set_index('user_id')"
   ],
   "metadata": {
    "collapsed": false,
    "pycharm": {
     "name": "#%%\n"
    }
   }
  },
  {
   "cell_type": "code",
   "execution_count": 152,
   "outputs": [],
   "source": [
    "def extract_users_data(sessions_data, users_data, products_data):\n",
    "    enriched_sessions_data = pd.merge(sessions_data, products_data, on=\"product_id\").sort_values(by=['timestamp'])\n",
    "    extracted_users = []\n",
    "    for user_id in enriched_sessions_data['user_id'].unique():\n",
    "        extracted_users.append(get_user_information(enriched_sessions_data[enriched_sessions_data['user_id'] == user_id]))\n",
    "    enriched_users_data = pd.concat(extracted_users)\n",
    "    return pd.merge(enriched_users_data, users_data, on=\"user_id\").drop(columns=['name', 'street'])\n",
    "    # print(len(sessions_data.user_id.unique()))"
   ],
   "metadata": {
    "collapsed": false,
    "pycharm": {
     "name": "#%%\n"
    }
   }
  },
  {
   "cell_type": "code",
   "execution_count": 198,
   "outputs": [],
   "source": [
    "extracted_train = extract_users_data(train_data, users_data, products_data).sort_values(['user_id'])"
   ],
   "metadata": {
    "collapsed": false,
    "pycharm": {
     "name": "#%%\n"
    }
   }
  },
  {
   "cell_type": "code",
   "execution_count": 199,
   "outputs": [
    {
     "data": {
      "text/plain": "     user_id  expenses  products_bought  events_number      city\n37       102   5459.63               11             75   Wrocław\n138      103  11687.52               18             98  Warszawa\n43       104  16008.62               26            139    Gdynia\n31       105  12793.27               17             93    Gdynia\n163      106   1530.64                8             81   Wrocław\n..       ...       ...              ...            ...       ...\n161      297   7085.01               10             72    Kraków\n175      298   5626.49               11             85  Warszawa\n123      299   7527.25               11            102    Gdynia\n82       300  10103.68                5             34     Radom\n153      301  10220.88                6             50   Wrocław\n\n[194 rows x 5 columns]",
      "text/html": "<div>\n<style scoped>\n    .dataframe tbody tr th:only-of-type {\n        vertical-align: middle;\n    }\n\n    .dataframe tbody tr th {\n        vertical-align: top;\n    }\n\n    .dataframe thead th {\n        text-align: right;\n    }\n</style>\n<table border=\"1\" class=\"dataframe\">\n  <thead>\n    <tr style=\"text-align: right;\">\n      <th></th>\n      <th>user_id</th>\n      <th>expenses</th>\n      <th>products_bought</th>\n      <th>events_number</th>\n      <th>city</th>\n    </tr>\n  </thead>\n  <tbody>\n    <tr>\n      <th>37</th>\n      <td>102</td>\n      <td>5459.63</td>\n      <td>11</td>\n      <td>75</td>\n      <td>Wrocław</td>\n    </tr>\n    <tr>\n      <th>138</th>\n      <td>103</td>\n      <td>11687.52</td>\n      <td>18</td>\n      <td>98</td>\n      <td>Warszawa</td>\n    </tr>\n    <tr>\n      <th>43</th>\n      <td>104</td>\n      <td>16008.62</td>\n      <td>26</td>\n      <td>139</td>\n      <td>Gdynia</td>\n    </tr>\n    <tr>\n      <th>31</th>\n      <td>105</td>\n      <td>12793.27</td>\n      <td>17</td>\n      <td>93</td>\n      <td>Gdynia</td>\n    </tr>\n    <tr>\n      <th>163</th>\n      <td>106</td>\n      <td>1530.64</td>\n      <td>8</td>\n      <td>81</td>\n      <td>Wrocław</td>\n    </tr>\n    <tr>\n      <th>...</th>\n      <td>...</td>\n      <td>...</td>\n      <td>...</td>\n      <td>...</td>\n      <td>...</td>\n    </tr>\n    <tr>\n      <th>161</th>\n      <td>297</td>\n      <td>7085.01</td>\n      <td>10</td>\n      <td>72</td>\n      <td>Kraków</td>\n    </tr>\n    <tr>\n      <th>175</th>\n      <td>298</td>\n      <td>5626.49</td>\n      <td>11</td>\n      <td>85</td>\n      <td>Warszawa</td>\n    </tr>\n    <tr>\n      <th>123</th>\n      <td>299</td>\n      <td>7527.25</td>\n      <td>11</td>\n      <td>102</td>\n      <td>Gdynia</td>\n    </tr>\n    <tr>\n      <th>82</th>\n      <td>300</td>\n      <td>10103.68</td>\n      <td>5</td>\n      <td>34</td>\n      <td>Radom</td>\n    </tr>\n    <tr>\n      <th>153</th>\n      <td>301</td>\n      <td>10220.88</td>\n      <td>6</td>\n      <td>50</td>\n      <td>Wrocław</td>\n    </tr>\n  </tbody>\n</table>\n<p>194 rows × 5 columns</p>\n</div>"
     },
     "execution_count": 199,
     "metadata": {},
     "output_type": "execute_result"
    }
   ],
   "source": [
    "extracted_train"
   ],
   "metadata": {
    "collapsed": false,
    "pycharm": {
     "name": "#%%\n"
    }
   }
  },
  {
   "cell_type": "code",
   "execution_count": 200,
   "outputs": [],
   "source": [
    "extracted_test = extract_users_data(test_data, users_data, products_data).sort_values(['user_id'])"
   ],
   "metadata": {
    "collapsed": false,
    "pycharm": {
     "name": "#%%\n"
    }
   }
  },
  {
   "cell_type": "code",
   "execution_count": 201,
   "outputs": [
    {
     "data": {
      "text/plain": "     user_id  expenses  products_bought  events_number      city\n179      102    283.99                2             30   Wrocław\n109      103   7876.63               13             85  Warszawa\n10       104  11583.09               12             73    Gdynia\n146      105     49.99                1             22    Gdynia\n71       106  10812.20                8             53   Wrocław\n..       ...       ...              ...            ...       ...\n58       297   2613.29                8             28    Kraków\n93       298   8486.84               10             58  Warszawa\n101      299   3971.49                8             59    Gdynia\n85       300   3741.12                6             43     Radom\n125      301   3142.29                4             38   Wrocław\n\n[194 rows x 5 columns]",
      "text/html": "<div>\n<style scoped>\n    .dataframe tbody tr th:only-of-type {\n        vertical-align: middle;\n    }\n\n    .dataframe tbody tr th {\n        vertical-align: top;\n    }\n\n    .dataframe thead th {\n        text-align: right;\n    }\n</style>\n<table border=\"1\" class=\"dataframe\">\n  <thead>\n    <tr style=\"text-align: right;\">\n      <th></th>\n      <th>user_id</th>\n      <th>expenses</th>\n      <th>products_bought</th>\n      <th>events_number</th>\n      <th>city</th>\n    </tr>\n  </thead>\n  <tbody>\n    <tr>\n      <th>179</th>\n      <td>102</td>\n      <td>283.99</td>\n      <td>2</td>\n      <td>30</td>\n      <td>Wrocław</td>\n    </tr>\n    <tr>\n      <th>109</th>\n      <td>103</td>\n      <td>7876.63</td>\n      <td>13</td>\n      <td>85</td>\n      <td>Warszawa</td>\n    </tr>\n    <tr>\n      <th>10</th>\n      <td>104</td>\n      <td>11583.09</td>\n      <td>12</td>\n      <td>73</td>\n      <td>Gdynia</td>\n    </tr>\n    <tr>\n      <th>146</th>\n      <td>105</td>\n      <td>49.99</td>\n      <td>1</td>\n      <td>22</td>\n      <td>Gdynia</td>\n    </tr>\n    <tr>\n      <th>71</th>\n      <td>106</td>\n      <td>10812.20</td>\n      <td>8</td>\n      <td>53</td>\n      <td>Wrocław</td>\n    </tr>\n    <tr>\n      <th>...</th>\n      <td>...</td>\n      <td>...</td>\n      <td>...</td>\n      <td>...</td>\n      <td>...</td>\n    </tr>\n    <tr>\n      <th>58</th>\n      <td>297</td>\n      <td>2613.29</td>\n      <td>8</td>\n      <td>28</td>\n      <td>Kraków</td>\n    </tr>\n    <tr>\n      <th>93</th>\n      <td>298</td>\n      <td>8486.84</td>\n      <td>10</td>\n      <td>58</td>\n      <td>Warszawa</td>\n    </tr>\n    <tr>\n      <th>101</th>\n      <td>299</td>\n      <td>3971.49</td>\n      <td>8</td>\n      <td>59</td>\n      <td>Gdynia</td>\n    </tr>\n    <tr>\n      <th>85</th>\n      <td>300</td>\n      <td>3741.12</td>\n      <td>6</td>\n      <td>43</td>\n      <td>Radom</td>\n    </tr>\n    <tr>\n      <th>125</th>\n      <td>301</td>\n      <td>3142.29</td>\n      <td>4</td>\n      <td>38</td>\n      <td>Wrocław</td>\n    </tr>\n  </tbody>\n</table>\n<p>194 rows × 5 columns</p>\n</div>"
     },
     "execution_count": 201,
     "metadata": {},
     "output_type": "execute_result"
    }
   ],
   "source": [
    "extracted_test"
   ],
   "metadata": {
    "collapsed": false,
    "pycharm": {
     "name": "#%%\n"
    }
   }
  },
  {
   "cell_type": "code",
   "execution_count": 202,
   "outputs": [],
   "source": [
    "desired_output = extracted_test[['user_id', 'expenses']].set_index('user_id')\n",
    "desired_output = desired_output.rename(columns = {'expenses':'future_expenses'})"
   ],
   "metadata": {
    "collapsed": false,
    "pycharm": {
     "name": "#%%\n"
    }
   }
  },
  {
   "cell_type": "code",
   "execution_count": 203,
   "outputs": [
    {
     "data": {
      "text/plain": "     user_id  expenses  products_bought  events_number      city  \\\n0        102   5459.63               11             75   Wrocław   \n1        103  11687.52               18             98  Warszawa   \n2        104  16008.62               26            139    Gdynia   \n3        105  12793.27               17             93    Gdynia   \n4        106   1530.64                8             81   Wrocław   \n..       ...       ...              ...            ...       ...   \n183      297   7085.01               10             72    Kraków   \n184      298   5626.49               11             85  Warszawa   \n185      299   7527.25               11            102    Gdynia   \n186      300  10103.68                5             34     Radom   \n187      301  10220.88                6             50   Wrocław   \n\n     future_expenses  \n0             283.99  \n1            7876.63  \n2           11583.09  \n3              49.99  \n4           10812.20  \n..               ...  \n183          2613.29  \n184          8486.84  \n185          3971.49  \n186          3741.12  \n187          3142.29  \n\n[188 rows x 6 columns]",
      "text/html": "<div>\n<style scoped>\n    .dataframe tbody tr th:only-of-type {\n        vertical-align: middle;\n    }\n\n    .dataframe tbody tr th {\n        vertical-align: top;\n    }\n\n    .dataframe thead th {\n        text-align: right;\n    }\n</style>\n<table border=\"1\" class=\"dataframe\">\n  <thead>\n    <tr style=\"text-align: right;\">\n      <th></th>\n      <th>user_id</th>\n      <th>expenses</th>\n      <th>products_bought</th>\n      <th>events_number</th>\n      <th>city</th>\n      <th>future_expenses</th>\n    </tr>\n  </thead>\n  <tbody>\n    <tr>\n      <th>0</th>\n      <td>102</td>\n      <td>5459.63</td>\n      <td>11</td>\n      <td>75</td>\n      <td>Wrocław</td>\n      <td>283.99</td>\n    </tr>\n    <tr>\n      <th>1</th>\n      <td>103</td>\n      <td>11687.52</td>\n      <td>18</td>\n      <td>98</td>\n      <td>Warszawa</td>\n      <td>7876.63</td>\n    </tr>\n    <tr>\n      <th>2</th>\n      <td>104</td>\n      <td>16008.62</td>\n      <td>26</td>\n      <td>139</td>\n      <td>Gdynia</td>\n      <td>11583.09</td>\n    </tr>\n    <tr>\n      <th>3</th>\n      <td>105</td>\n      <td>12793.27</td>\n      <td>17</td>\n      <td>93</td>\n      <td>Gdynia</td>\n      <td>49.99</td>\n    </tr>\n    <tr>\n      <th>4</th>\n      <td>106</td>\n      <td>1530.64</td>\n      <td>8</td>\n      <td>81</td>\n      <td>Wrocław</td>\n      <td>10812.20</td>\n    </tr>\n    <tr>\n      <th>...</th>\n      <td>...</td>\n      <td>...</td>\n      <td>...</td>\n      <td>...</td>\n      <td>...</td>\n      <td>...</td>\n    </tr>\n    <tr>\n      <th>183</th>\n      <td>297</td>\n      <td>7085.01</td>\n      <td>10</td>\n      <td>72</td>\n      <td>Kraków</td>\n      <td>2613.29</td>\n    </tr>\n    <tr>\n      <th>184</th>\n      <td>298</td>\n      <td>5626.49</td>\n      <td>11</td>\n      <td>85</td>\n      <td>Warszawa</td>\n      <td>8486.84</td>\n    </tr>\n    <tr>\n      <th>185</th>\n      <td>299</td>\n      <td>7527.25</td>\n      <td>11</td>\n      <td>102</td>\n      <td>Gdynia</td>\n      <td>3971.49</td>\n    </tr>\n    <tr>\n      <th>186</th>\n      <td>300</td>\n      <td>10103.68</td>\n      <td>5</td>\n      <td>34</td>\n      <td>Radom</td>\n      <td>3741.12</td>\n    </tr>\n    <tr>\n      <th>187</th>\n      <td>301</td>\n      <td>10220.88</td>\n      <td>6</td>\n      <td>50</td>\n      <td>Wrocław</td>\n      <td>3142.29</td>\n    </tr>\n  </tbody>\n</table>\n<p>188 rows × 6 columns</p>\n</div>"
     },
     "execution_count": 203,
     "metadata": {},
     "output_type": "execute_result"
    }
   ],
   "source": [
    "wichtige_tabelle = pd.merge(extracted_train, desired_output, on=\"user_id\").sort_values(by=['user_id'])\n",
    "wichtige_tabelle"
   ],
   "metadata": {
    "collapsed": false,
    "pycharm": {
     "name": "#%%\n"
    }
   }
  },
  {
   "cell_type": "code",
   "execution_count": 204,
   "outputs": [
    {
     "data": {
      "text/plain": "                  user_id  expenses  products_bought  events_number  \\\nuser_id          1.000000 -0.099681        -0.093624      -0.053508   \nexpenses        -0.099681  1.000000         0.831927       0.806947   \nproducts_bought -0.093624  0.831927         1.000000       0.934341   \nevents_number   -0.053508  0.806947         0.934341       1.000000   \nfuture_expenses  0.009647  0.237832         0.326851       0.324501   \n\n                 future_expenses  \nuser_id                 0.009647  \nexpenses                0.237832  \nproducts_bought         0.326851  \nevents_number           0.324501  \nfuture_expenses         1.000000  ",
      "text/html": "<div>\n<style scoped>\n    .dataframe tbody tr th:only-of-type {\n        vertical-align: middle;\n    }\n\n    .dataframe tbody tr th {\n        vertical-align: top;\n    }\n\n    .dataframe thead th {\n        text-align: right;\n    }\n</style>\n<table border=\"1\" class=\"dataframe\">\n  <thead>\n    <tr style=\"text-align: right;\">\n      <th></th>\n      <th>user_id</th>\n      <th>expenses</th>\n      <th>products_bought</th>\n      <th>events_number</th>\n      <th>future_expenses</th>\n    </tr>\n  </thead>\n  <tbody>\n    <tr>\n      <th>user_id</th>\n      <td>1.000000</td>\n      <td>-0.099681</td>\n      <td>-0.093624</td>\n      <td>-0.053508</td>\n      <td>0.009647</td>\n    </tr>\n    <tr>\n      <th>expenses</th>\n      <td>-0.099681</td>\n      <td>1.000000</td>\n      <td>0.831927</td>\n      <td>0.806947</td>\n      <td>0.237832</td>\n    </tr>\n    <tr>\n      <th>products_bought</th>\n      <td>-0.093624</td>\n      <td>0.831927</td>\n      <td>1.000000</td>\n      <td>0.934341</td>\n      <td>0.326851</td>\n    </tr>\n    <tr>\n      <th>events_number</th>\n      <td>-0.053508</td>\n      <td>0.806947</td>\n      <td>0.934341</td>\n      <td>1.000000</td>\n      <td>0.324501</td>\n    </tr>\n    <tr>\n      <th>future_expenses</th>\n      <td>0.009647</td>\n      <td>0.237832</td>\n      <td>0.326851</td>\n      <td>0.324501</td>\n      <td>1.000000</td>\n    </tr>\n  </tbody>\n</table>\n</div>"
     },
     "execution_count": 204,
     "metadata": {},
     "output_type": "execute_result"
    }
   ],
   "source": [
    "wichtige_tabelle.corr()"
   ],
   "metadata": {
    "collapsed": false,
    "pycharm": {
     "name": "#%%\n"
    }
   }
  },
  {
   "cell_type": "code",
   "execution_count": 172,
   "outputs": [
    {
     "data": {
      "text/plain": "     user_id  expenses  products_bought  events_number      city    future\n37       102   5459.63               11             75   Wrocław  16066.68\n138      103  11687.52               18             98  Warszawa   1386.95\n43       104  16008.62               26            139    Gdynia   7783.87\n31       105  12793.27               17             93    Gdynia   2554.79\n163      106   1530.64                8             81   Wrocław   4549.95\n..       ...       ...              ...            ...       ...       ...\n161      297   7085.01               10             72    Kraków      0.00\n175      298   5626.49               11             85  Warszawa    168.79\n123      299   7527.25               11            102    Gdynia   5340.74\n82       300  10103.68                5             34     Radom   3821.96\n153      301  10220.88                6             50   Wrocław   5305.89\n\n[194 rows x 6 columns]",
      "text/html": "<div>\n<style scoped>\n    .dataframe tbody tr th:only-of-type {\n        vertical-align: middle;\n    }\n\n    .dataframe tbody tr th {\n        vertical-align: top;\n    }\n\n    .dataframe thead th {\n        text-align: right;\n    }\n</style>\n<table border=\"1\" class=\"dataframe\">\n  <thead>\n    <tr style=\"text-align: right;\">\n      <th></th>\n      <th>user_id</th>\n      <th>expenses</th>\n      <th>products_bought</th>\n      <th>events_number</th>\n      <th>city</th>\n      <th>future</th>\n    </tr>\n  </thead>\n  <tbody>\n    <tr>\n      <th>37</th>\n      <td>102</td>\n      <td>5459.63</td>\n      <td>11</td>\n      <td>75</td>\n      <td>Wrocław</td>\n      <td>16066.68</td>\n    </tr>\n    <tr>\n      <th>138</th>\n      <td>103</td>\n      <td>11687.52</td>\n      <td>18</td>\n      <td>98</td>\n      <td>Warszawa</td>\n      <td>1386.95</td>\n    </tr>\n    <tr>\n      <th>43</th>\n      <td>104</td>\n      <td>16008.62</td>\n      <td>26</td>\n      <td>139</td>\n      <td>Gdynia</td>\n      <td>7783.87</td>\n    </tr>\n    <tr>\n      <th>31</th>\n      <td>105</td>\n      <td>12793.27</td>\n      <td>17</td>\n      <td>93</td>\n      <td>Gdynia</td>\n      <td>2554.79</td>\n    </tr>\n    <tr>\n      <th>163</th>\n      <td>106</td>\n      <td>1530.64</td>\n      <td>8</td>\n      <td>81</td>\n      <td>Wrocław</td>\n      <td>4549.95</td>\n    </tr>\n    <tr>\n      <th>...</th>\n      <td>...</td>\n      <td>...</td>\n      <td>...</td>\n      <td>...</td>\n      <td>...</td>\n      <td>...</td>\n    </tr>\n    <tr>\n      <th>161</th>\n      <td>297</td>\n      <td>7085.01</td>\n      <td>10</td>\n      <td>72</td>\n      <td>Kraków</td>\n      <td>0.00</td>\n    </tr>\n    <tr>\n      <th>175</th>\n      <td>298</td>\n      <td>5626.49</td>\n      <td>11</td>\n      <td>85</td>\n      <td>Warszawa</td>\n      <td>168.79</td>\n    </tr>\n    <tr>\n      <th>123</th>\n      <td>299</td>\n      <td>7527.25</td>\n      <td>11</td>\n      <td>102</td>\n      <td>Gdynia</td>\n      <td>5340.74</td>\n    </tr>\n    <tr>\n      <th>82</th>\n      <td>300</td>\n      <td>10103.68</td>\n      <td>5</td>\n      <td>34</td>\n      <td>Radom</td>\n      <td>3821.96</td>\n    </tr>\n    <tr>\n      <th>153</th>\n      <td>301</td>\n      <td>10220.88</td>\n      <td>6</td>\n      <td>50</td>\n      <td>Wrocław</td>\n      <td>5305.89</td>\n    </tr>\n  </tbody>\n</table>\n<p>194 rows × 6 columns</p>\n</div>"
     },
     "execution_count": 172,
     "metadata": {},
     "output_type": "execute_result"
    }
   ],
   "source": [
    "extracted_train"
   ],
   "metadata": {
    "collapsed": false,
    "pycharm": {
     "name": "#%%\n"
    }
   }
  },
  {
   "cell_type": "markdown",
   "source": [
    "Przykłady użycia i resztki z developmentu"
   ],
   "metadata": {
    "collapsed": false,
    "pycharm": {
     "name": "#%% md\n"
    }
   }
  },
  {
   "cell_type": "code",
   "execution_count": 33,
   "outputs": [
    {
     "data": {
      "text/plain": "       session_id           timestamp  user_id  product_id    event_type  \\\n16718        1535 2021-06-24 20:30:32      137        1048  VIEW_PRODUCT   \n3600         1535 2021-06-24 20:32:27      137        1050  VIEW_PRODUCT   \n5232         1535 2021-06-24 20:37:12      137        1054  VIEW_PRODUCT   \n16991        1535 2021-06-24 20:41:01      137        1056  VIEW_PRODUCT   \n4429         1535 2021-06-24 20:41:12      137        1053  VIEW_PRODUCT   \n...           ...                 ...      ...         ...           ...   \n4891         1547 2021-12-07 04:38:35      137        1051  VIEW_PRODUCT   \n4061         1547 2021-12-07 04:43:20      137        1052  VIEW_PRODUCT   \n4062         1547 2021-12-07 04:46:16      137        1052   BUY_PRODUCT   \n19441        1521 2021-12-07 09:16:56      137        1283  VIEW_PRODUCT   \n19442        1521 2021-12-07 09:19:41      137        1283   BUY_PRODUCT   \n\n       offered_discount  purchase_id  timestamp_week  timestamp_month  \\\n16718                15          NaN              25                6   \n3600                 15          NaN              25                6   \n5232                 15          NaN              25                6   \n16991                15          NaN              25                6   \n4429                 15          NaN              25                6   \n...                 ...          ...             ...              ...   \n4891                  0          NaN              49               12   \n4061                  0          NaN              49               12   \n4062                  0      20785.0              49               12   \n19441                20          NaN              49               12   \n19442                20      20765.0              49               12   \n\n       timestamp_quarter timestamp_date                  product_name  \\\n16718                  2     2021-06-24               Gra o tron (PC)   \n3600                   2     2021-06-24               Bioshock 2 (PC)   \n5232                   2     2021-06-24           Call of Duty 2 (PC)   \n16991                  2     2021-06-24   Call of Duty Black Ops (PC)   \n4429                   2     2021-06-24                Anno 2070 (PC)   \n...                  ...            ...                           ...   \n4891                   4     2021-12-07        Spec Ops The Line (PC)   \n4061                   4     2021-12-07       Duke Nukem Forever (PC)   \n4062                   4     2021-12-07       Duke Nukem Forever (PC)   \n19441                  4     2021-12-07  Okulary 3D PHILIPS PTA436/00   \n19442                  4     2021-12-07  Okulary 3D PHILIPS PTA436/00   \n\n                                           category_path  price  \n16718                      Gry i konsole;Gry komputerowe  63.49  \n3600                       Gry i konsole;Gry komputerowe  37.90  \n5232                       Gry i konsole;Gry komputerowe  32.99  \n16991                      Gry i konsole;Gry komputerowe  29.99  \n4429                       Gry i konsole;Gry komputerowe  42.90  \n...                                                  ...    ...  \n4891                       Gry i konsole;Gry komputerowe  76.90  \n4061                       Gry i konsole;Gry komputerowe  78.90  \n4062                       Gry i konsole;Gry komputerowe  78.90  \n19441  Sprzęt RTV;Video;Telewizory i akcesoria;Okular...  99.99  \n19442  Sprzęt RTV;Video;Telewizory i akcesoria;Okular...  99.99  \n\n[179 rows x 14 columns]",
      "text/html": "<div>\n<style scoped>\n    .dataframe tbody tr th:only-of-type {\n        vertical-align: middle;\n    }\n\n    .dataframe tbody tr th {\n        vertical-align: top;\n    }\n\n    .dataframe thead th {\n        text-align: right;\n    }\n</style>\n<table border=\"1\" class=\"dataframe\">\n  <thead>\n    <tr style=\"text-align: right;\">\n      <th></th>\n      <th>session_id</th>\n      <th>timestamp</th>\n      <th>user_id</th>\n      <th>product_id</th>\n      <th>event_type</th>\n      <th>offered_discount</th>\n      <th>purchase_id</th>\n      <th>timestamp_week</th>\n      <th>timestamp_month</th>\n      <th>timestamp_quarter</th>\n      <th>timestamp_date</th>\n      <th>product_name</th>\n      <th>category_path</th>\n      <th>price</th>\n    </tr>\n  </thead>\n  <tbody>\n    <tr>\n      <th>16718</th>\n      <td>1535</td>\n      <td>2021-06-24 20:30:32</td>\n      <td>137</td>\n      <td>1048</td>\n      <td>VIEW_PRODUCT</td>\n      <td>15</td>\n      <td>NaN</td>\n      <td>25</td>\n      <td>6</td>\n      <td>2</td>\n      <td>2021-06-24</td>\n      <td>Gra o tron (PC)</td>\n      <td>Gry i konsole;Gry komputerowe</td>\n      <td>63.49</td>\n    </tr>\n    <tr>\n      <th>3600</th>\n      <td>1535</td>\n      <td>2021-06-24 20:32:27</td>\n      <td>137</td>\n      <td>1050</td>\n      <td>VIEW_PRODUCT</td>\n      <td>15</td>\n      <td>NaN</td>\n      <td>25</td>\n      <td>6</td>\n      <td>2</td>\n      <td>2021-06-24</td>\n      <td>Bioshock 2 (PC)</td>\n      <td>Gry i konsole;Gry komputerowe</td>\n      <td>37.90</td>\n    </tr>\n    <tr>\n      <th>5232</th>\n      <td>1535</td>\n      <td>2021-06-24 20:37:12</td>\n      <td>137</td>\n      <td>1054</td>\n      <td>VIEW_PRODUCT</td>\n      <td>15</td>\n      <td>NaN</td>\n      <td>25</td>\n      <td>6</td>\n      <td>2</td>\n      <td>2021-06-24</td>\n      <td>Call of Duty 2 (PC)</td>\n      <td>Gry i konsole;Gry komputerowe</td>\n      <td>32.99</td>\n    </tr>\n    <tr>\n      <th>16991</th>\n      <td>1535</td>\n      <td>2021-06-24 20:41:01</td>\n      <td>137</td>\n      <td>1056</td>\n      <td>VIEW_PRODUCT</td>\n      <td>15</td>\n      <td>NaN</td>\n      <td>25</td>\n      <td>6</td>\n      <td>2</td>\n      <td>2021-06-24</td>\n      <td>Call of Duty Black Ops (PC)</td>\n      <td>Gry i konsole;Gry komputerowe</td>\n      <td>29.99</td>\n    </tr>\n    <tr>\n      <th>4429</th>\n      <td>1535</td>\n      <td>2021-06-24 20:41:12</td>\n      <td>137</td>\n      <td>1053</td>\n      <td>VIEW_PRODUCT</td>\n      <td>15</td>\n      <td>NaN</td>\n      <td>25</td>\n      <td>6</td>\n      <td>2</td>\n      <td>2021-06-24</td>\n      <td>Anno 2070 (PC)</td>\n      <td>Gry i konsole;Gry komputerowe</td>\n      <td>42.90</td>\n    </tr>\n    <tr>\n      <th>...</th>\n      <td>...</td>\n      <td>...</td>\n      <td>...</td>\n      <td>...</td>\n      <td>...</td>\n      <td>...</td>\n      <td>...</td>\n      <td>...</td>\n      <td>...</td>\n      <td>...</td>\n      <td>...</td>\n      <td>...</td>\n      <td>...</td>\n      <td>...</td>\n    </tr>\n    <tr>\n      <th>4891</th>\n      <td>1547</td>\n      <td>2021-12-07 04:38:35</td>\n      <td>137</td>\n      <td>1051</td>\n      <td>VIEW_PRODUCT</td>\n      <td>0</td>\n      <td>NaN</td>\n      <td>49</td>\n      <td>12</td>\n      <td>4</td>\n      <td>2021-12-07</td>\n      <td>Spec Ops The Line (PC)</td>\n      <td>Gry i konsole;Gry komputerowe</td>\n      <td>76.90</td>\n    </tr>\n    <tr>\n      <th>4061</th>\n      <td>1547</td>\n      <td>2021-12-07 04:43:20</td>\n      <td>137</td>\n      <td>1052</td>\n      <td>VIEW_PRODUCT</td>\n      <td>0</td>\n      <td>NaN</td>\n      <td>49</td>\n      <td>12</td>\n      <td>4</td>\n      <td>2021-12-07</td>\n      <td>Duke Nukem Forever (PC)</td>\n      <td>Gry i konsole;Gry komputerowe</td>\n      <td>78.90</td>\n    </tr>\n    <tr>\n      <th>4062</th>\n      <td>1547</td>\n      <td>2021-12-07 04:46:16</td>\n      <td>137</td>\n      <td>1052</td>\n      <td>BUY_PRODUCT</td>\n      <td>0</td>\n      <td>20785.0</td>\n      <td>49</td>\n      <td>12</td>\n      <td>4</td>\n      <td>2021-12-07</td>\n      <td>Duke Nukem Forever (PC)</td>\n      <td>Gry i konsole;Gry komputerowe</td>\n      <td>78.90</td>\n    </tr>\n    <tr>\n      <th>19441</th>\n      <td>1521</td>\n      <td>2021-12-07 09:16:56</td>\n      <td>137</td>\n      <td>1283</td>\n      <td>VIEW_PRODUCT</td>\n      <td>20</td>\n      <td>NaN</td>\n      <td>49</td>\n      <td>12</td>\n      <td>4</td>\n      <td>2021-12-07</td>\n      <td>Okulary 3D PHILIPS PTA436/00</td>\n      <td>Sprzęt RTV;Video;Telewizory i akcesoria;Okular...</td>\n      <td>99.99</td>\n    </tr>\n    <tr>\n      <th>19442</th>\n      <td>1521</td>\n      <td>2021-12-07 09:19:41</td>\n      <td>137</td>\n      <td>1283</td>\n      <td>BUY_PRODUCT</td>\n      <td>20</td>\n      <td>20765.0</td>\n      <td>49</td>\n      <td>12</td>\n      <td>4</td>\n      <td>2021-12-07</td>\n      <td>Okulary 3D PHILIPS PTA436/00</td>\n      <td>Sprzęt RTV;Video;Telewizory i akcesoria;Okular...</td>\n      <td>99.99</td>\n    </tr>\n  </tbody>\n</table>\n<p>179 rows × 14 columns</p>\n</div>"
     },
     "execution_count": 33,
     "metadata": {},
     "output_type": "execute_result"
    }
   ],
   "source": [
    "enriched_sessions_data = pd.merge(sessions_data, products_data, on=\"product_id\").sort_values(by=['timestamp'])\n",
    "user_session_data = enriched_sessions_data[enriched_sessions_data['user_id'] == 137]\n",
    "user_session_data"
   ],
   "metadata": {
    "collapsed": false,
    "pycharm": {
     "name": "#%%\n"
    }
   }
  },
  {
   "cell_type": "code",
   "execution_count": 119,
   "outputs": [
    {
     "data": {
      "text/plain": "         expenses  products_bought  events_number\nuser_id                                          \n137      23662.84               35            179",
      "text/html": "<div>\n<style scoped>\n    .dataframe tbody tr th:only-of-type {\n        vertical-align: middle;\n    }\n\n    .dataframe tbody tr th {\n        vertical-align: top;\n    }\n\n    .dataframe thead th {\n        text-align: right;\n    }\n</style>\n<table border=\"1\" class=\"dataframe\">\n  <thead>\n    <tr style=\"text-align: right;\">\n      <th></th>\n      <th>expenses</th>\n      <th>products_bought</th>\n      <th>events_number</th>\n    </tr>\n    <tr>\n      <th>user_id</th>\n      <th></th>\n      <th></th>\n      <th></th>\n    </tr>\n  </thead>\n  <tbody>\n    <tr>\n      <th>137</th>\n      <td>23662.84</td>\n      <td>35</td>\n      <td>179</td>\n    </tr>\n  </tbody>\n</table>\n</div>"
     },
     "execution_count": 119,
     "metadata": {},
     "output_type": "execute_result"
    }
   ],
   "source": [
    "get_user_information(user_session_data)"
   ],
   "metadata": {
    "collapsed": false,
    "pycharm": {
     "name": "#%%\n"
    }
   }
  },
  {
   "cell_type": "code",
   "execution_count": 120,
   "outputs": [
    {
     "data": {
      "text/plain": "     user_id  expenses  products_bought  events_number      city\n0        139  23400.85               49            256    Kraków\n1        242  44677.14               60            331     Radom\n2        108  16312.03               23            130     Radom\n3        143   7273.05               16             86    Kraków\n4        140  33412.55               44            318    Poznań\n..       ...       ...              ...            ...       ...\n195      289      0.00                0              7  Warszawa\n196      225    109.00                1              5  Warszawa\n197      152      0.00                0              5    Poznań\n198      162     78.96                2              6  Szczecin\n199      229    245.00                1              5     Radom\n\n[200 rows x 5 columns]",
      "text/html": "<div>\n<style scoped>\n    .dataframe tbody tr th:only-of-type {\n        vertical-align: middle;\n    }\n\n    .dataframe tbody tr th {\n        vertical-align: top;\n    }\n\n    .dataframe thead th {\n        text-align: right;\n    }\n</style>\n<table border=\"1\" class=\"dataframe\">\n  <thead>\n    <tr style=\"text-align: right;\">\n      <th></th>\n      <th>user_id</th>\n      <th>expenses</th>\n      <th>products_bought</th>\n      <th>events_number</th>\n      <th>city</th>\n    </tr>\n  </thead>\n  <tbody>\n    <tr>\n      <th>0</th>\n      <td>139</td>\n      <td>23400.85</td>\n      <td>49</td>\n      <td>256</td>\n      <td>Kraków</td>\n    </tr>\n    <tr>\n      <th>1</th>\n      <td>242</td>\n      <td>44677.14</td>\n      <td>60</td>\n      <td>331</td>\n      <td>Radom</td>\n    </tr>\n    <tr>\n      <th>2</th>\n      <td>108</td>\n      <td>16312.03</td>\n      <td>23</td>\n      <td>130</td>\n      <td>Radom</td>\n    </tr>\n    <tr>\n      <th>3</th>\n      <td>143</td>\n      <td>7273.05</td>\n      <td>16</td>\n      <td>86</td>\n      <td>Kraków</td>\n    </tr>\n    <tr>\n      <th>4</th>\n      <td>140</td>\n      <td>33412.55</td>\n      <td>44</td>\n      <td>318</td>\n      <td>Poznań</td>\n    </tr>\n    <tr>\n      <th>...</th>\n      <td>...</td>\n      <td>...</td>\n      <td>...</td>\n      <td>...</td>\n      <td>...</td>\n    </tr>\n    <tr>\n      <th>195</th>\n      <td>289</td>\n      <td>0.00</td>\n      <td>0</td>\n      <td>7</td>\n      <td>Warszawa</td>\n    </tr>\n    <tr>\n      <th>196</th>\n      <td>225</td>\n      <td>109.00</td>\n      <td>1</td>\n      <td>5</td>\n      <td>Warszawa</td>\n    </tr>\n    <tr>\n      <th>197</th>\n      <td>152</td>\n      <td>0.00</td>\n      <td>0</td>\n      <td>5</td>\n      <td>Poznań</td>\n    </tr>\n    <tr>\n      <th>198</th>\n      <td>162</td>\n      <td>78.96</td>\n      <td>2</td>\n      <td>6</td>\n      <td>Szczecin</td>\n    </tr>\n    <tr>\n      <th>199</th>\n      <td>229</td>\n      <td>245.00</td>\n      <td>1</td>\n      <td>5</td>\n      <td>Radom</td>\n    </tr>\n  </tbody>\n</table>\n<p>200 rows × 5 columns</p>\n</div>"
     },
     "execution_count": 120,
     "metadata": {},
     "output_type": "execute_result"
    }
   ],
   "source": [
    "extract_users_data(sessions_data, users_data, products_data)"
   ],
   "metadata": {
    "collapsed": false,
    "pycharm": {
     "name": "#%%\n"
    }
   }
  },
  {
   "cell_type": "markdown",
   "source": [
    "# Archiwum\n",
    "Funkcje niegdyś przydatne, teraz już niepotrzebne, ale szkoda wyrzucać"
   ],
   "metadata": {
    "collapsed": false,
    "pycharm": {
     "name": "#%% md\n"
    }
   }
  },
  {
   "cell_type": "code",
   "execution_count": null,
   "outputs": [],
   "source": [],
   "metadata": {
    "collapsed": false,
    "pycharm": {
     "name": "#%%\n"
    }
   }
  },
  {
   "cell_type": "code",
   "execution_count": 106,
   "outputs": [],
   "source": [
    "def find_returned_users(extracted_sessions_data):\n",
    "    user_counts = extracted_sessions_data['user_id'].value_counts()\n",
    "    return user_counts[user_counts>=2].index"
   ],
   "metadata": {
    "collapsed": false,
    "pycharm": {
     "name": "#%%\n"
    }
   }
  },
  {
   "cell_type": "code",
   "execution_count": 107,
   "outputs": [],
   "source": [
    "def find_never_returned_users(extracted_sessions_data):\n",
    "    user_counts = extracted_sessions_data['user_id'].value_counts()\n",
    "    return user_counts[user_counts<2].index"
   ],
   "metadata": {
    "collapsed": false,
    "pycharm": {
     "name": "#%%\n"
    }
   }
  }
 ],
 "metadata": {
  "kernelspec": {
   "display_name": "Python 3",
   "language": "python",
   "name": "python3"
  },
  "language_info": {
   "codemirror_mode": {
    "name": "ipython",
    "version": 2
   },
   "file_extension": ".py",
   "mimetype": "text/x-python",
   "name": "python",
   "nbconvert_exporter": "python",
   "pygments_lexer": "ipython2",
   "version": "2.7.6"
  }
 },
 "nbformat": 4,
 "nbformat_minor": 0
}