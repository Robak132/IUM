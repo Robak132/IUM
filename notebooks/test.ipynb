{
 "cells": [
  {
   "cell_type": "code",
   "execution_count": 3,
   "outputs": [],
   "source": [
    "import pandas as pd\n",
    "import matplotlib.pyplot as plt\n",
    "from client_analiser.models import ModelInterface, ModelA, ModelB"
   ],
   "metadata": {
    "collapsed": false,
    "pycharm": {
     "name": "#%%\n"
    }
   }
  },
  {
   "cell_type": "code",
   "execution_count": 4,
   "outputs": [],
   "source": [
    "iteration_path = \"iteration_3/\"\n",
    "deliveries_path = \"../data/\" + iteration_path + \"raw/deliveries.jsonl\"\n",
    "products_path = \"../data/\" + iteration_path + \"raw/products.jsonl\"\n",
    "sessions_path = \"../data/\" + iteration_path + \"raw/sessions.jsonl\"\n",
    "users_path = \"../data/\" + iteration_path + \"raw/users.jsonl\""
   ],
   "metadata": {
    "collapsed": false,
    "pycharm": {
     "name": "#%%\n"
    }
   }
  },
  {
   "cell_type": "code",
   "execution_count": 5,
   "outputs": [],
   "source": [
    "deliveries_data = pd.read_json(deliveries_path, lines=True)\n",
    "products_data = pd.read_json(products_path, lines=True)\n",
    "sessions_data = pd.read_json(sessions_path, lines=True)\n",
    "users_data = pd.read_json(users_path, lines=True)"
   ],
   "metadata": {
    "collapsed": false,
    "pycharm": {
     "name": "#%%\n"
    }
   }
  },
  {
   "cell_type": "code",
   "execution_count": 6,
   "outputs": [],
   "source": [
    "sessions_data = sessions_data.sort_values(by=['timestamp'])\n",
    "# sessions_data['timestamp_date'] = sessions_data['timestamp'].apply(lambda x: x.date())\n",
    "sessions_data['timestamp_week'] = sessions_data['timestamp'].apply(lambda x: x.week)\n",
    "sessions_data['timestamp_month'] = sessions_data['timestamp'].apply(lambda x: x.month)\n",
    "sessions_data['timestamp_quarter'] = sessions_data['timestamp'].apply(lambda x: x.quarter)"
   ],
   "metadata": {
    "collapsed": false,
    "pycharm": {
     "name": "#%%\n"
    }
   }
  },
  {
   "cell_type": "code",
   "execution_count": 7,
   "outputs": [],
   "source": [
    "train_data = sessions_data[sessions_data.timestamp_month < 12]\n",
    "test_data = sessions_data[sessions_data.timestamp_month >= 12]"
   ],
   "metadata": {
    "collapsed": false,
    "pycharm": {
     "name": "#%%\n"
    }
   }
  },
  {
   "cell_type": "code",
   "execution_count": 8,
   "outputs": [],
   "source": [
    "def get_user_id_from_session(session):\n",
    "    sample_user_id = session['user_id'].iloc[0]\n",
    "    for user_id in session['user_id']:\n",
    "        if sample_user_id != user_id:\n",
    "            raise Exception(\"How it is even possible\")\n",
    "    return sample_user_id\n",
    "\n",
    "def get_user_expenses(user_session_data):\n",
    "    d = {\n",
    "        'user_id': get_user_id_from_session(user_session_data),\n",
    "        'expenses': user_session_data[user_session_data['event_type'] == \"BUY_PRODUCT\"]['price'].sum()\n",
    "    }\n",
    "    # df = pd.DataFrame(data=d)\n",
    "    return d\n",
    "\n",
    "\n",
    "def calculate_expenses(sessions_data, products_data, users_data):\n",
    "    enriched_sessions_data = pd.merge(sessions_data, products_data, on=\"product_id\").sort_values(by=['timestamp'])\n",
    "    user_expenses = []\n",
    "    for user_id in range(users_data['user_id'].min(), users_data['user_id'].max() + 1):\n",
    "        # for user_id in enriched_sessions_data['user_id'].unique():\n",
    "        user_session_data = enriched_sessions_data[enriched_sessions_data['user_id'] == user_id]\n",
    "        user_expenses.append(\n",
    "            {\n",
    "                'user_id': user_id,\n",
    "                'expenses': user_session_data[user_session_data['event_type'] == \"BUY_PRODUCT\"]['price'].sum()\n",
    "            }\n",
    "        )\n",
    "        # user_expenses.append(get_user_expenses(enriched_sessions_data[enriched_sessions_data['user_id'] == user_id]))\n",
    "    return pd.DataFrame(data=user_expenses).set_index('user_id')\n",
    "\n",
    "\n",
    "def loss(predictions, observations):\n",
    "    unified_data = pd.merge(predictions, observations, on=\"user_id\").sort_values(by=['user_id'])\n",
    "    unified_data['difference'] = unified_data['user_expenses'] - unified_data['expenses']\n",
    "    unified_data['difference_square'] = unified_data['difference'].apply(lambda x: x ** 2)\n",
    "    return unified_data"
   ],
   "metadata": {
    "collapsed": false,
    "pycharm": {
     "name": "#%%\n"
    }
   }
  },
  {
   "cell_type": "code",
   "execution_count": 10,
   "outputs": [
    {
     "data": {
      "text/plain": "         expenses\nuser_id          \n102          0.00\n103        554.77\n104       2332.01\n105          0.00\n106          0.00\n...           ...\n297        109.00\n298       2399.00\n299          0.00\n300          0.00\n301          0.00\n\n[200 rows x 1 columns]",
      "text/html": "<div>\n<style scoped>\n    .dataframe tbody tr th:only-of-type {\n        vertical-align: middle;\n    }\n\n    .dataframe tbody tr th {\n        vertical-align: top;\n    }\n\n    .dataframe thead th {\n        text-align: right;\n    }\n</style>\n<table border=\"1\" class=\"dataframe\">\n  <thead>\n    <tr style=\"text-align: right;\">\n      <th></th>\n      <th>expenses</th>\n    </tr>\n    <tr>\n      <th>user_id</th>\n      <th></th>\n    </tr>\n  </thead>\n  <tbody>\n    <tr>\n      <th>102</th>\n      <td>0.00</td>\n    </tr>\n    <tr>\n      <th>103</th>\n      <td>554.77</td>\n    </tr>\n    <tr>\n      <th>104</th>\n      <td>2332.01</td>\n    </tr>\n    <tr>\n      <th>105</th>\n      <td>0.00</td>\n    </tr>\n    <tr>\n      <th>106</th>\n      <td>0.00</td>\n    </tr>\n    <tr>\n      <th>...</th>\n      <td>...</td>\n    </tr>\n    <tr>\n      <th>297</th>\n      <td>109.00</td>\n    </tr>\n    <tr>\n      <th>298</th>\n      <td>2399.00</td>\n    </tr>\n    <tr>\n      <th>299</th>\n      <td>0.00</td>\n    </tr>\n    <tr>\n      <th>300</th>\n      <td>0.00</td>\n    </tr>\n    <tr>\n      <th>301</th>\n      <td>0.00</td>\n    </tr>\n  </tbody>\n</table>\n<p>200 rows × 1 columns</p>\n</div>"
     },
     "execution_count": 10,
     "metadata": {},
     "output_type": "execute_result"
    }
   ],
   "source": [
    "observations = calculate_expenses(test_data, products_data, users_data)\n",
    "observations"
   ],
   "metadata": {
    "collapsed": false,
    "pycharm": {
     "name": "#%%\n"
    }
   }
  },
  {
   "cell_type": "code",
   "execution_count": 11,
   "outputs": [
    {
     "ename": "FileNotFoundError",
     "evalue": "[Errno 2] No such file or directory: '../../models/model_b_v1'",
     "output_type": "error",
     "traceback": [
      "\u001B[1;31m---------------------------------------------------------------------------\u001B[0m",
      "\u001B[1;31mFileNotFoundError\u001B[0m                         Traceback (most recent call last)",
      "\u001B[1;32m~\\AppData\\Local\\Temp/ipykernel_59456/3107314458.py\u001B[0m in \u001B[0;36m<module>\u001B[1;34m\u001B[0m\n\u001B[0;32m      1\u001B[0m \u001B[1;31m# Models\u001B[0m\u001B[1;33m\u001B[0m\u001B[1;33m\u001B[0m\u001B[1;33m\u001B[0m\u001B[0m\n\u001B[0;32m      2\u001B[0m \u001B[0mmodel_A\u001B[0m\u001B[1;33m:\u001B[0m \u001B[0mModelInterface\u001B[0m \u001B[1;33m=\u001B[0m \u001B[0mModelA\u001B[0m\u001B[1;33m(\u001B[0m\u001B[1;33m)\u001B[0m\u001B[1;33m\u001B[0m\u001B[1;33m\u001B[0m\u001B[0m\n\u001B[1;32m----> 3\u001B[1;33m \u001B[0mmodel_B\u001B[0m\u001B[1;33m:\u001B[0m \u001B[0mModelInterface\u001B[0m \u001B[1;33m=\u001B[0m \u001B[0mModelB\u001B[0m\u001B[1;33m(\u001B[0m\u001B[1;33m)\u001B[0m\u001B[1;33m\u001B[0m\u001B[1;33m\u001B[0m\u001B[0m\n\u001B[0m",
      "\u001B[1;32m~\\Desktop\\Informatyka\\Inżynieria_uczenia_maszynowego\\Projekt\\IUM-z5w1\\client_analiser\\models\\model_b.py\u001B[0m in \u001B[0;36m__init__\u001B[1;34m(self)\u001B[0m\n\u001B[0;32m     50\u001B[0m     \u001B[1;32mdef\u001B[0m \u001B[0m__init__\u001B[0m\u001B[1;33m(\u001B[0m\u001B[0mself\u001B[0m\u001B[1;33m)\u001B[0m\u001B[1;33m:\u001B[0m\u001B[1;33m\u001B[0m\u001B[1;33m\u001B[0m\u001B[0m\n\u001B[0;32m     51\u001B[0m         \u001B[0mself\u001B[0m\u001B[1;33m.\u001B[0m\u001B[0mnet\u001B[0m \u001B[1;33m=\u001B[0m \u001B[0mNeuralNetworkRegressor\u001B[0m\u001B[1;33m(\u001B[0m\u001B[1;33m)\u001B[0m\u001B[1;33m\u001B[0m\u001B[1;33m\u001B[0m\u001B[0m\n\u001B[1;32m---> 52\u001B[1;33m         \u001B[0mself\u001B[0m\u001B[1;33m.\u001B[0m\u001B[0mload_model\u001B[0m\u001B[1;33m(\u001B[0m\u001B[1;34m\"../../models/model_b_v1\"\u001B[0m\u001B[1;33m)\u001B[0m\u001B[1;33m\u001B[0m\u001B[1;33m\u001B[0m\u001B[0m\n\u001B[0m\u001B[0;32m     53\u001B[0m \u001B[1;33m\u001B[0m\u001B[0m\n\u001B[0;32m     54\u001B[0m     def predict_expenses(self,\n",
      "\u001B[1;32m~\\Desktop\\Informatyka\\Inżynieria_uczenia_maszynowego\\Projekt\\IUM-z5w1\\client_analiser\\models\\model_b.py\u001B[0m in \u001B[0;36mload_model\u001B[1;34m(self, string)\u001B[0m\n\u001B[0;32m     75\u001B[0m \u001B[1;33m\u001B[0m\u001B[0m\n\u001B[0;32m     76\u001B[0m     \u001B[1;32mdef\u001B[0m \u001B[0mload_model\u001B[0m\u001B[1;33m(\u001B[0m\u001B[0mself\u001B[0m\u001B[1;33m,\u001B[0m \u001B[0mstring\u001B[0m\u001B[1;33m)\u001B[0m\u001B[1;33m:\u001B[0m\u001B[1;33m\u001B[0m\u001B[1;33m\u001B[0m\u001B[0m\n\u001B[1;32m---> 77\u001B[1;33m         \u001B[0mself\u001B[0m\u001B[1;33m.\u001B[0m\u001B[0mnet\u001B[0m\u001B[1;33m.\u001B[0m\u001B[0mload_state_dict\u001B[0m\u001B[1;33m(\u001B[0m\u001B[0mtorch\u001B[0m\u001B[1;33m.\u001B[0m\u001B[0mload\u001B[0m\u001B[1;33m(\u001B[0m\u001B[0mstring\u001B[0m\u001B[1;33m)\u001B[0m\u001B[1;33m)\u001B[0m\u001B[1;33m\u001B[0m\u001B[1;33m\u001B[0m\u001B[0m\n\u001B[0m\u001B[0;32m     78\u001B[0m \u001B[1;33m\u001B[0m\u001B[0m\n\u001B[0;32m     79\u001B[0m     \u001B[1;32mdef\u001B[0m \u001B[0mget_user_information\u001B[0m\u001B[1;33m(\u001B[0m\u001B[0mself\u001B[0m\u001B[1;33m,\u001B[0m \u001B[0muser_session_data\u001B[0m\u001B[1;33m)\u001B[0m\u001B[1;33m:\u001B[0m\u001B[1;33m\u001B[0m\u001B[1;33m\u001B[0m\u001B[0m\n",
      "\u001B[1;32mc:\\users\\micha\\appdata\\local\\programs\\python\\python39\\lib\\site-packages\\torch\\serialization.py\u001B[0m in \u001B[0;36mload\u001B[1;34m(f, map_location, pickle_module, **pickle_load_args)\u001B[0m\n\u001B[0;32m    592\u001B[0m         \u001B[0mpickle_load_args\u001B[0m\u001B[1;33m[\u001B[0m\u001B[1;34m'encoding'\u001B[0m\u001B[1;33m]\u001B[0m \u001B[1;33m=\u001B[0m \u001B[1;34m'utf-8'\u001B[0m\u001B[1;33m\u001B[0m\u001B[1;33m\u001B[0m\u001B[0m\n\u001B[0;32m    593\u001B[0m \u001B[1;33m\u001B[0m\u001B[0m\n\u001B[1;32m--> 594\u001B[1;33m     \u001B[1;32mwith\u001B[0m \u001B[0m_open_file_like\u001B[0m\u001B[1;33m(\u001B[0m\u001B[0mf\u001B[0m\u001B[1;33m,\u001B[0m \u001B[1;34m'rb'\u001B[0m\u001B[1;33m)\u001B[0m \u001B[1;32mas\u001B[0m \u001B[0mopened_file\u001B[0m\u001B[1;33m:\u001B[0m\u001B[1;33m\u001B[0m\u001B[1;33m\u001B[0m\u001B[0m\n\u001B[0m\u001B[0;32m    595\u001B[0m         \u001B[1;32mif\u001B[0m \u001B[0m_is_zipfile\u001B[0m\u001B[1;33m(\u001B[0m\u001B[0mopened_file\u001B[0m\u001B[1;33m)\u001B[0m\u001B[1;33m:\u001B[0m\u001B[1;33m\u001B[0m\u001B[1;33m\u001B[0m\u001B[0m\n\u001B[0;32m    596\u001B[0m             \u001B[1;31m# The zipfile reader is going to advance the current file position.\u001B[0m\u001B[1;33m\u001B[0m\u001B[1;33m\u001B[0m\u001B[1;33m\u001B[0m\u001B[0m\n",
      "\u001B[1;32mc:\\users\\micha\\appdata\\local\\programs\\python\\python39\\lib\\site-packages\\torch\\serialization.py\u001B[0m in \u001B[0;36m_open_file_like\u001B[1;34m(name_or_buffer, mode)\u001B[0m\n\u001B[0;32m    228\u001B[0m \u001B[1;32mdef\u001B[0m \u001B[0m_open_file_like\u001B[0m\u001B[1;33m(\u001B[0m\u001B[0mname_or_buffer\u001B[0m\u001B[1;33m,\u001B[0m \u001B[0mmode\u001B[0m\u001B[1;33m)\u001B[0m\u001B[1;33m:\u001B[0m\u001B[1;33m\u001B[0m\u001B[1;33m\u001B[0m\u001B[0m\n\u001B[0;32m    229\u001B[0m     \u001B[1;32mif\u001B[0m \u001B[0m_is_path\u001B[0m\u001B[1;33m(\u001B[0m\u001B[0mname_or_buffer\u001B[0m\u001B[1;33m)\u001B[0m\u001B[1;33m:\u001B[0m\u001B[1;33m\u001B[0m\u001B[1;33m\u001B[0m\u001B[0m\n\u001B[1;32m--> 230\u001B[1;33m         \u001B[1;32mreturn\u001B[0m \u001B[0m_open_file\u001B[0m\u001B[1;33m(\u001B[0m\u001B[0mname_or_buffer\u001B[0m\u001B[1;33m,\u001B[0m \u001B[0mmode\u001B[0m\u001B[1;33m)\u001B[0m\u001B[1;33m\u001B[0m\u001B[1;33m\u001B[0m\u001B[0m\n\u001B[0m\u001B[0;32m    231\u001B[0m     \u001B[1;32melse\u001B[0m\u001B[1;33m:\u001B[0m\u001B[1;33m\u001B[0m\u001B[1;33m\u001B[0m\u001B[0m\n\u001B[0;32m    232\u001B[0m         \u001B[1;32mif\u001B[0m \u001B[1;34m'w'\u001B[0m \u001B[1;32min\u001B[0m \u001B[0mmode\u001B[0m\u001B[1;33m:\u001B[0m\u001B[1;33m\u001B[0m\u001B[1;33m\u001B[0m\u001B[0m\n",
      "\u001B[1;32mc:\\users\\micha\\appdata\\local\\programs\\python\\python39\\lib\\site-packages\\torch\\serialization.py\u001B[0m in \u001B[0;36m__init__\u001B[1;34m(self, name, mode)\u001B[0m\n\u001B[0;32m    209\u001B[0m \u001B[1;32mclass\u001B[0m \u001B[0m_open_file\u001B[0m\u001B[1;33m(\u001B[0m\u001B[0m_opener\u001B[0m\u001B[1;33m)\u001B[0m\u001B[1;33m:\u001B[0m\u001B[1;33m\u001B[0m\u001B[1;33m\u001B[0m\u001B[0m\n\u001B[0;32m    210\u001B[0m     \u001B[1;32mdef\u001B[0m \u001B[0m__init__\u001B[0m\u001B[1;33m(\u001B[0m\u001B[0mself\u001B[0m\u001B[1;33m,\u001B[0m \u001B[0mname\u001B[0m\u001B[1;33m,\u001B[0m \u001B[0mmode\u001B[0m\u001B[1;33m)\u001B[0m\u001B[1;33m:\u001B[0m\u001B[1;33m\u001B[0m\u001B[1;33m\u001B[0m\u001B[0m\n\u001B[1;32m--> 211\u001B[1;33m         \u001B[0msuper\u001B[0m\u001B[1;33m(\u001B[0m\u001B[0m_open_file\u001B[0m\u001B[1;33m,\u001B[0m \u001B[0mself\u001B[0m\u001B[1;33m)\u001B[0m\u001B[1;33m.\u001B[0m\u001B[0m__init__\u001B[0m\u001B[1;33m(\u001B[0m\u001B[0mopen\u001B[0m\u001B[1;33m(\u001B[0m\u001B[0mname\u001B[0m\u001B[1;33m,\u001B[0m \u001B[0mmode\u001B[0m\u001B[1;33m)\u001B[0m\u001B[1;33m)\u001B[0m\u001B[1;33m\u001B[0m\u001B[1;33m\u001B[0m\u001B[0m\n\u001B[0m\u001B[0;32m    212\u001B[0m \u001B[1;33m\u001B[0m\u001B[0m\n\u001B[0;32m    213\u001B[0m     \u001B[1;32mdef\u001B[0m \u001B[0m__exit__\u001B[0m\u001B[1;33m(\u001B[0m\u001B[0mself\u001B[0m\u001B[1;33m,\u001B[0m \u001B[1;33m*\u001B[0m\u001B[0margs\u001B[0m\u001B[1;33m)\u001B[0m\u001B[1;33m:\u001B[0m\u001B[1;33m\u001B[0m\u001B[1;33m\u001B[0m\u001B[0m\n",
      "\u001B[1;31mFileNotFoundError\u001B[0m: [Errno 2] No such file or directory: '../../models/model_b_v1'"
     ]
    }
   ],
   "source": [
    "# Models\n",
    "model_A: ModelInterface = ModelA()\n",
    "model_B: ModelInterface = ModelB()"
   ],
   "metadata": {
    "collapsed": false,
    "pycharm": {
     "name": "#%%\n"
    }
   }
  },
  {
   "cell_type": "code",
   "execution_count": 18,
   "outputs": [
    {
     "name": "stdout",
     "output_type": "stream",
     "text": [
      "Epoch 0 loss 3.26e+06\n",
      "Epoch 1 loss 3.2e+06\n",
      "Epoch 2 loss 3.25e+06\n",
      "Epoch 3 loss 3.28e+06\n",
      "Epoch 4 loss 3.21e+06\n",
      "Epoch 5 loss 3.25e+06\n",
      "Epoch 6 loss 3.21e+06\n",
      "Epoch 7 loss 3.24e+06\n",
      "Epoch 8 loss 3.28e+06\n",
      "Epoch 9 loss 3.23e+06\n",
      "Epoch 10 loss 3.23e+06\n",
      "Epoch 11 loss 3.25e+06\n",
      "Epoch 12 loss 3.22e+06\n",
      "Epoch 13 loss 3.21e+06\n",
      "Epoch 14 loss 3.22e+06\n",
      "Epoch 15 loss 3.23e+06\n",
      "Epoch 16 loss 3.25e+06\n",
      "Epoch 17 loss 3.24e+06\n",
      "Epoch 18 loss 3.22e+06\n",
      "Epoch 19 loss 3.28e+06\n",
      "Epoch 20 loss 3.24e+06\n",
      "Epoch 21 loss 3.21e+06\n",
      "Epoch 22 loss 3.21e+06\n",
      "Epoch 23 loss 3.27e+06\n",
      "Epoch 24 loss 3.23e+06\n",
      "Epoch 25 loss 3.26e+06\n",
      "Epoch 26 loss 3.22e+06\n",
      "Epoch 27 loss 3.25e+06\n",
      "Epoch 28 loss 3.21e+06\n",
      "Epoch 29 loss 3.19e+06\n",
      "Epoch 30 loss 3.23e+06\n",
      "Epoch 31 loss 3.21e+06\n",
      "Epoch 32 loss 3.22e+06\n",
      "Epoch 33 loss 3.26e+06\n",
      "Epoch 34 loss 3.23e+06\n",
      "Epoch 35 loss 3.24e+06\n",
      "Epoch 36 loss 3.23e+06\n",
      "Epoch 37 loss 3.24e+06\n",
      "Epoch 38 loss 3.21e+06\n",
      "Epoch 39 loss 3.21e+06\n",
      "Epoch 40 loss 3.2e+06\n",
      "Epoch 41 loss 3.25e+06\n",
      "Epoch 42 loss 3.22e+06\n",
      "Epoch 43 loss 3.29e+06\n",
      "Epoch 44 loss 3.28e+06\n",
      "Epoch 45 loss 3.23e+06\n",
      "Epoch 46 loss 3.26e+06\n",
      "Epoch 47 loss 3.24e+06\n",
      "Epoch 48 loss 3.23e+06\n",
      "Epoch 49 loss 3.24e+06\n",
      "Epoch 50 loss 3.25e+06\n",
      "Epoch 51 loss 3.22e+06\n",
      "Epoch 52 loss 3.26e+06\n",
      "Epoch 53 loss 3.19e+06\n",
      "Epoch 54 loss 3.22e+06\n",
      "Epoch 55 loss 3.2e+06\n",
      "Epoch 56 loss 3.3e+06\n",
      "Epoch 57 loss 3.2e+06\n",
      "Epoch 58 loss 3.25e+06\n",
      "Epoch 59 loss 3.25e+06\n",
      "Epoch 60 loss 3.21e+06\n",
      "Epoch 61 loss 3.26e+06\n",
      "Epoch 62 loss 3.22e+06\n",
      "Epoch 63 loss 3.28e+06\n",
      "Epoch 64 loss 3.27e+06\n",
      "Epoch 65 loss 3.21e+06\n",
      "Epoch 66 loss 3.23e+06\n",
      "Epoch 67 loss 3.2e+06\n",
      "Epoch 68 loss 3.24e+06\n",
      "Epoch 69 loss 3.26e+06\n",
      "Epoch 70 loss 3.2e+06\n",
      "Epoch 71 loss 3.23e+06\n",
      "Epoch 72 loss 3.23e+06\n",
      "Epoch 73 loss 3.24e+06\n",
      "Epoch 74 loss 3.24e+06\n",
      "Epoch 75 loss 3.24e+06\n",
      "Epoch 76 loss 3.2e+06\n",
      "Epoch 77 loss 3.24e+06\n",
      "Epoch 78 loss 3.21e+06\n",
      "Epoch 79 loss 3.24e+06\n",
      "Epoch 80 loss 3.2e+06\n",
      "Epoch 81 loss 3.23e+06\n",
      "Epoch 82 loss 3.2e+06\n",
      "Epoch 83 loss 3.24e+06\n",
      "Epoch 84 loss 3.25e+06\n",
      "Epoch 85 loss 3.27e+06\n",
      "Epoch 86 loss 3.21e+06\n",
      "Epoch 87 loss 3.28e+06\n",
      "Epoch 88 loss 3.19e+06\n",
      "Epoch 89 loss 3.24e+06\n",
      "Epoch 90 loss 3.29e+06\n",
      "Epoch 91 loss 3.22e+06\n",
      "Epoch 92 loss 3.21e+06\n",
      "Epoch 93 loss 3.21e+06\n",
      "Epoch 94 loss 3.29e+06\n",
      "Epoch 95 loss 3.21e+06\n",
      "Epoch 96 loss 3.22e+06\n",
      "Epoch 97 loss 3.28e+06\n",
      "Epoch 98 loss 3.22e+06\n",
      "Epoch 99 loss 3.23e+06\n"
     ]
    }
   ],
   "source": [
    "model_B.train_and_extract(sessions_data, users_data, products_data, observations)"
   ],
   "metadata": {
    "collapsed": false,
    "pycharm": {
     "name": "#%%\n"
    }
   }
  },
  {
   "cell_type": "code",
   "execution_count": 21,
   "outputs": [],
   "source": [
    "import torch"
   ],
   "metadata": {
    "collapsed": false,
    "pycharm": {
     "name": "#%%\n"
    }
   }
  },
  {
   "cell_type": "code",
   "execution_count": 26,
   "outputs": [],
   "source": [
    "torch.save(model_B.net.state_dict(), \"../models/model_b_v1\")"
   ],
   "metadata": {
    "collapsed": false,
    "pycharm": {
     "name": "#%%\n"
    }
   }
  },
  {
   "cell_type": "code",
   "execution_count": 19,
   "outputs": [
    {
     "name": "stdout",
     "output_type": "stream",
     "text": [
      "     user_id  expenses  products_bought  events_number  sessions_number  \\\n",
      "0        139  23400.85               49            255               66   \n",
      "1        242  44518.18               58            327               86   \n",
      "2        108  16312.03               23            129               32   \n",
      "3        143   7214.08               15             84               26   \n",
      "4        140  32333.55               43            306               83   \n",
      "..       ...       ...              ...            ...              ...   \n",
      "195      289      0.00                0              7                1   \n",
      "196      225    109.00                1              2                1   \n",
      "197      152      0.00                0              5                2   \n",
      "198      162     78.96                2              6                2   \n",
      "199      229    245.00                1              5                1   \n",
      "\n",
      "     average_discount  average_discount_on_bought      city  \n",
      "0           11.019608                   10.816327    Kraków  \n",
      "1           11.223242                   10.603448     Radom  \n",
      "2            9.418605                    9.347826     Radom  \n",
      "3           11.250000                   11.666667    Kraków  \n",
      "4           10.130719                    9.651163    Poznań  \n",
      "..                ...                         ...       ...  \n",
      "195         20.000000                    0.000000  Warszawa  \n",
      "196         10.000000                   10.000000  Warszawa  \n",
      "197          2.000000                    0.000000    Poznań  \n",
      "198         13.333333                   12.500000  Szczecin  \n",
      "199         10.000000                   10.000000     Radom  \n",
      "\n",
      "[200 rows x 8 columns]\n",
      "[2.4053874  6.761814   0.9596191  1.2847893  4.243804   2.0199518\n",
      " 4.1948166  2.2083397  0.53052944 2.0364568  2.6278179  0.7134879\n",
      " 0.38127244 2.606027   3.5759642  0.8113728  1.6218488  2.511823\n",
      " 0.50300217 2.487667   2.30639    1.8506325  1.1416111  1.7612832\n",
      " 1.1589057  1.3290148  3.4027283  1.8828454  2.4876783  0.7746666\n",
      " 0.6531872  0.2769903  0.29673648 1.6448128  1.4641608  1.9714302\n",
      " 0.93932706 1.5567591  6.99047    0.891833   0.86308485 3.2755234\n",
      " 3.7039     2.7983406  2.4648428  2.1010253  2.174125   3.4574542\n",
      " 1.8504581  0.54898196 3.367254   2.2820067  3.456309   1.5939269\n",
      " 2.5837095  2.573023   0.2731899  1.390094   1.038396   1.7372812\n",
      " 3.0743432  1.2966218  0.28157032 0.33081985 1.5676562  1.0484892\n",
      " 1.6522565  2.6102817  1.5867116  1.8125824  1.8608867  1.3005072\n",
      " 1.3543335  0.84201676 2.1023562  2.4708312  0.7008667  1.2460687\n",
      " 0.6735384  1.2736048  2.5711558  0.5384169  0.46341687 1.8632251\n",
      " 3.0225961  2.1683152  1.7122924  2.5868542  2.257463   1.8018203\n",
      " 1.1590009  1.1420528  1.3302169  1.8119506  0.5142495  2.362854\n",
      " 4.413492   0.97168964 2.0830498  2.1439946  1.9143598  0.72114426\n",
      " 1.3662221  1.3214812  1.6659982  2.452514   0.47935176 4.23622\n",
      " 0.3368978  1.531409   1.8538423  2.1993172  0.4112479  2.0324993\n",
      " 0.6732239  0.72151494 2.2878797  2.0421238  2.0312102  3.8509004\n",
      " 0.32452193 2.4457762  1.6740118  0.47791874 1.2240245  3.140815\n",
      " 1.3240187  1.9461476  1.8434875  1.5622785  1.0055114  0.790808\n",
      " 3.9203155  1.4331027  2.5969281  1.2974482  0.39618862 2.0978706\n",
      " 1.5120716  2.0206957  0.9285428  1.8211436  1.8867759  1.0117699\n",
      " 2.84339    1.9639714  2.5563657  1.8110462  2.0937233  1.5163143\n",
      " 2.1566784  0.5419495  2.618809   0.36300826 0.35956967 2.5933132\n",
      " 0.613795   2.1673925  2.1502376  1.6074023  0.83881235 0.842552\n",
      " 1.6264098  0.3235205  2.0920029  0.59344107 0.3417224  1.1545188\n",
      " 1.3284261  1.9215384  2.5945768  1.7347152  0.91529375 0.52733207\n",
      " 2.4533064  0.4389938  0.392878   1.449706   2.476422   0.4900803\n",
      " 0.8976296  1.4541898  2.150582   1.5135818  2.26153    1.3973415\n",
      " 2.613615   1.7183682  1.7669208  1.8339186  2.512121   2.2927854\n",
      " 2.5810206  2.6156557  2.510626   2.6290438  2.6106727  2.6308618\n",
      " 2.6160095  2.584957  ]\n"
     ]
    },
    {
     "data": {
      "text/plain": "{'139': 2.4053874,\n '242': 6.761814,\n '108': 0.9596191,\n '143': 1.2847893,\n '140': 4.243804,\n '202': 2.0199518,\n '270': 4.1948166,\n '212': 2.2083397,\n '189': 0.53052944,\n '205': 2.0364568,\n '255': 2.6278179,\n '215': 0.7134879,\n '273': 0.38127244,\n '281': 2.606027,\n '227': 3.5759642,\n '222': 0.8113728,\n '235': 1.6218488,\n '171': 2.511823,\n '188': 0.50300217,\n '135': 2.487667,\n '252': 2.30639,\n '238': 1.8506325,\n '145': 1.1416111,\n '286': 1.7612832,\n '157': 1.1589057,\n '265': 1.3290148,\n '127': 3.4027283,\n '159': 1.8828454,\n '119': 2.4876783,\n '274': 0.7746666,\n '160': 0.6531872,\n '105': 0.2769903,\n '261': 0.29673648,\n '185': 1.6448128,\n '183': 1.4641608,\n '192': 1.9714302,\n '186': 0.93932706,\n '102': 1.5567591,\n '124': 6.99047,\n '282': 0.891833,\n '210': 0.86308485,\n '125': 3.2755234,\n '272': 3.7039,\n '104': 2.7983406,\n '115': 2.4648428,\n '136': 2.1010253,\n '285': 2.174125,\n '133': 3.4574542,\n '187': 1.8504581,\n '175': 0.54898196,\n '161': 3.367254,\n '167': 2.2820067,\n '213': 3.456309,\n '292': 1.5939269,\n '256': 2.5837095,\n '278': 2.573023,\n '263': 0.2731899,\n '148': 1.390094,\n '200': 1.038396,\n '280': 1.7372812,\n '287': 3.0743432,\n '208': 1.2966218,\n '149': 0.28157032,\n '233': 0.33081985,\n '236': 1.5676562,\n '246': 1.0484892,\n '193': 1.6522565,\n '147': 2.6102817,\n '158': 1.5867116,\n '251': 1.8125824,\n '277': 1.8608867,\n '182': 1.3005072,\n '151': 1.3543335,\n '253': 0.84201676,\n '295': 2.1023562,\n '262': 2.4708312,\n '178': 0.7008667,\n '156': 1.2460687,\n '110': 0.6735384,\n '120': 1.2736048,\n '118': 2.5711558,\n '204': 0.5384169,\n '300': 0.46341687,\n '128': 1.8632251,\n '260': 3.0225961,\n '141': 2.1683152,\n '190': 1.7122924,\n '114': 2.5868542,\n '240': 2.257463,\n '130': 1.8018203,\n '195': 1.1590009,\n '288': 1.1420528,\n '177': 1.3302169,\n '122': 1.8119506,\n '173': 0.5142495,\n '293': 2.362854,\n '121': 4.413492,\n '279': 0.97168964,\n '131': 2.0830498,\n '257': 2.1439946,\n '113': 1.9143598,\n '150': 0.72114426,\n '248': 1.3662221,\n '245': 1.3214812,\n '224': 1.6659982,\n '228': 2.452514,\n '172': 0.47935176,\n '165': 4.23622,\n '126': 0.3368978,\n '194': 1.531409,\n '164': 1.8538423,\n '268': 2.1993172,\n '176': 0.4112479,\n '243': 2.0324993,\n '214': 0.6732239,\n '232': 0.72151494,\n '267': 2.2878797,\n '117': 2.0421238,\n '111': 2.0312102,\n '109': 3.8509004,\n '271': 0.32452193,\n '107': 2.4457762,\n '247': 1.6740118,\n '299': 0.47791874,\n '241': 1.2240245,\n '207': 3.140815,\n '197': 1.3240187,\n '276': 1.9461476,\n '155': 1.8434875,\n '250': 1.5622785,\n '211': 1.0055114,\n '170': 0.790808,\n '275': 3.9203155,\n '142': 1.4331027,\n '134': 2.5969281,\n '234': 1.2974482,\n '138': 0.39618862,\n '191': 2.0978706,\n '103': 1.5120716,\n '239': 2.0206957,\n '226': 0.9285428,\n '198': 1.8211436,\n '266': 1.8867759,\n '154': 1.0117699,\n '223': 2.84339,\n '237': 1.9639714,\n '123': 2.5563657,\n '137': 1.8110462,\n '231': 2.0937233,\n '163': 1.5163143,\n '166': 2.1566784,\n '259': 0.5419495,\n '291': 2.618809,\n '301': 0.36300826,\n '181': 0.35956967,\n '153': 2.5933132,\n '129': 0.613795,\n '218': 2.1673925,\n '146': 2.1502376,\n '174': 1.6074023,\n '180': 0.83881235,\n '297': 0.842552,\n '184': 1.6264098,\n '106': 0.3235205,\n '254': 2.0920029,\n '199': 0.59344107,\n '179': 0.3417224,\n '203': 1.1545188,\n '220': 1.3284261,\n '216': 1.9215384,\n '201': 2.5945768,\n '284': 1.7347152,\n '116': 0.91529375,\n '168': 0.52733207,\n '209': 2.4533064,\n '298': 0.4389938,\n '112': 0.392878,\n '219': 1.449706,\n '196': 2.476422,\n '290': 0.4900803,\n '249': 0.8976296,\n '294': 1.4541898,\n '296': 2.150582,\n '230': 1.5135818,\n '258': 2.26153,\n '217': 1.3973415,\n '244': 2.613615,\n '132': 1.7183682,\n '144': 1.7669208,\n '221': 1.8339186,\n '264': 2.512121,\n '206': 2.2927854,\n '283': 2.5810206,\n '269': 2.6156557,\n '169': 2.510626,\n '289': 2.6290438,\n '225': 2.6106727,\n '152': 2.6308618,\n '162': 2.6160095,\n '229': 2.584957}"
     },
     "execution_count": 19,
     "metadata": {},
     "output_type": "execute_result"
    }
   ],
   "source": [
    "predictionsB = model_B.predict_expenses(products_data, deliveries_data, train_data, users_data)\n",
    "predictionsB"
   ],
   "metadata": {
    "collapsed": false,
    "pycharm": {
     "name": "#%%\n"
    }
   }
  },
  {
   "cell_type": "code",
   "execution_count": 20,
   "outputs": [
    {
     "name": "stderr",
     "output_type": "stream",
     "text": [
      "C:\\Users\\micha\\Desktop\\Informatyka\\Inżynieria_uczenia_maszynowego\\Projekt\\IUM-z5w1\\client_analiser\\models\\model_a.py:57: SettingWithCopyWarning: \n",
      "A value is trying to be set on a copy of a slice from a DataFrame.\n",
      "Try using .loc[row_indexer,col_indexer] = value instead\n",
      "\n",
      "See the caveats in the documentation: https://pandas.pydata.org/pandas-docs/stable/user_guide/indexing.html#returning-a-view-versus-a-copy\n",
      "  sessions[\"timestamp\"] = pd.to_datetime(sessions[\"timestamp\"])\n",
      "C:\\Users\\micha\\Desktop\\Informatyka\\Inżynieria_uczenia_maszynowego\\Projekt\\IUM-z5w1\\client_analiser\\models\\model_a.py:58: SettingWithCopyWarning: \n",
      "A value is trying to be set on a copy of a slice from a DataFrame.\n",
      "Try using .loc[row_indexer,col_indexer] = value instead\n",
      "\n",
      "See the caveats in the documentation: https://pandas.pydata.org/pandas-docs/stable/user_guide/indexing.html#returning-a-view-versus-a-copy\n",
      "  sessions['timestamp_interval'] = sessions['timestamp'].apply(lambda x: x.month)\n"
     ]
    },
    {
     "data": {
      "text/plain": "{139: 180.71,\n 242: 533.24,\n 108: 1718.53,\n 143: 830.67,\n 140: 3541.68,\n 202: 4220.94,\n 270: 5580.33,\n 212: 3510.65,\n 189: 1847.17,\n 205: 0.0,\n 255: 2161.97,\n 215: 1215.29,\n 273: 2287.13,\n 281: 0.0,\n 227: 2059.77,\n 222: 2313.95,\n 235: 1114.4,\n 171: 2303.78,\n 188: 1264.86,\n 135: 29.44,\n 252: 0.0,\n 238: 3749.14,\n 145: 1218.36,\n 286: 646.18,\n 157: 773.74,\n 265: 985.88,\n 127: 2063.19,\n 159: 321.27,\n 119: 6.69,\n 274: 2175.1,\n 160: 1187.04,\n 105: 1035.18,\n 261: 1422.7,\n 185: 2356.24,\n 183: 728.38,\n 192: 293.5,\n 186: 1779.22,\n 102: 161.0,\n 124: 7255.94,\n 282: 2314.94,\n 210: 2620.66,\n 125: 6221.44,\n 272: 7325.82,\n 104: 4476.97,\n 115: 143.99,\n 136: 2152.11,\n 285: 509.28,\n 133: 5321.47,\n 187: 768.43,\n 175: 656.75,\n 161: 5879.92,\n 167: 541.17,\n 213: 4658.1,\n 292: 4557.16,\n 256: 28.46,\n 278: 64.0,\n 263: 0.0,\n 148: 855.29,\n 200: 1640.37,\n 280: 5114.39,\n 287: 5961.86,\n 208: 932.17,\n 149: 1544.01,\n 233: 2530.85,\n 236: 453.32,\n 246: 3274.73,\n 193: 514.6,\n 147: 25.45,\n 158: 2853.03,\n 251: 1639.52,\n 277: 4076.96,\n 182: 969.81,\n 151: 713.08,\n 253: 1411.59,\n 295: 4360.62,\n 262: 157.73,\n 178: 112.16,\n 156: 1143.81,\n 110: 1587.92,\n 120: 4129.39,\n 118: 4193.66,\n 204: 2821.97,\n 300: 3630.74,\n 128: 1821.37,\n 260: 3521.6,\n 141: 378.0,\n 190: 1344.13,\n 114: 32.58,\n 240: 697.51,\n 130: 3815.9,\n 195: 3936.54,\n 288: 2066.3,\n 177: 2640.88,\n 122: 643.74,\n 173: 3343.74,\n 293: 5302.29,\n 121: 8322.35,\n 279: 3613.48,\n 131: 984.65,\n 257: 501.45,\n 113: 5251.28,\n 150: 2856.05,\n 248: 1697.78,\n 245: 2165.18,\n 224: 495.09,\n 228: 112.9,\n 172: 3663.29,\n 165: 6007.31,\n 126: 3539.04,\n 194: 1394.69,\n 164: 373.78,\n 268: 210.64,\n 176: 2258.87,\n 243: 578.21,\n 214: 2733.42,\n 232: 2269.93,\n 267: 458.41,\n 117: 579.44,\n 111: 3773.16,\n 109: 7070.61,\n 271: 3562.6,\n 107: 234.49,\n 247: 1463.3,\n 299: 3040.79,\n 241: 1318.58,\n 207: 6306.88,\n 197: 4598.94,\n 276: 5266.84,\n 155: 4727.43,\n 250: 3759.3,\n 211: 2072.36,\n 170: 2473.57,\n 275: 6427.82,\n 142: 1926.75,\n 134: 41.82,\n 234: 2129.48,\n 138: 3075.59,\n 191: 672.06,\n 103: 4688.73,\n 239: 754.73,\n 226: 2395.8,\n 198: 785.92,\n 266: 5216.62,\n 154: 1918.72,\n 223: 7413.03,\n 237: 4332.91,\n 123: 106.27,\n 137: 5222.21,\n 231: 984.68,\n 163: 1610.93,\n 166: 676.22,\n 259: 3601.16,\n 291: 8.73,\n 301: 3029.91,\n 181: 3229.38,\n 153: 38.6,\n 129: 4408.17,\n 218: 389.19,\n 146: 777.52,\n 174: 4322.6,\n 180: 3134.29,\n 297: 2054.55,\n 184: 1544.79,\n 106: 3728.79,\n 254: 856.61,\n 199: 3088.41,\n 179: 2772.29,\n 203: 1725.27,\n 220: 1841.26,\n 216: 1048.52,\n 201: 28.07,\n 284: 1366.47,\n 116: 2573.49,\n 168: 3787.29,\n 209: 190.72,\n 298: 3417.61,\n 112: 4099.34,\n 219: 2025.66,\n 196: 251.46,\n 290: 3492.31,\n 249: 3080.9,\n 294: 1598.61,\n 296: 540.14,\n 230: 1756.46,\n 258: 570.78,\n 217: 6155.54,\n 244: 18.0,\n 132: 1596.48,\n 144: 1207.45,\n 221: 995.79,\n 264: 127.8,\n 206: 561.61,\n 283: 67.17,\n 269: 20.34,\n 169: 202.3,\n 289: 0.0,\n 225: 33.69,\n 152: 0.0,\n 162: 25.5,\n 229: 89.09}"
     },
     "execution_count": 20,
     "metadata": {},
     "output_type": "execute_result"
    }
   ],
   "source": [
    "predictionsA = model_A.predict_expenses(products_data, deliveries_data, train_data, users_data)\n",
    "predictionsA"
   ],
   "metadata": {
    "collapsed": false,
    "pycharm": {
     "name": "#%%\n"
    }
   }
  },
  {
   "cell_type": "code",
   "execution_count": 25,
   "outputs": [
    {
     "data": {
      "text/plain": "         user_expenses  expenses  difference  difference_square\nuser_id                                                        \n102             161.00      0.00      161.00       2.592100e+04\n103            4688.73    554.77     4133.96       1.708963e+07\n104            4476.97   2332.01     2144.96       4.600853e+06\n105            1035.18      0.00     1035.18       1.071598e+06\n106            3728.79      0.00     3728.79       1.390387e+07\n...                ...       ...         ...                ...\n297            2054.55    109.00     1945.55       3.785165e+06\n298            3417.61   2399.00     1018.61       1.037566e+06\n299            3040.79      0.00     3040.79       9.246404e+06\n300            3630.74      0.00     3630.74       1.318227e+07\n301            3029.91      0.00     3029.91       9.180355e+06\n\n[200 rows x 4 columns]",
      "text/html": "<div>\n<style scoped>\n    .dataframe tbody tr th:only-of-type {\n        vertical-align: middle;\n    }\n\n    .dataframe tbody tr th {\n        vertical-align: top;\n    }\n\n    .dataframe thead th {\n        text-align: right;\n    }\n</style>\n<table border=\"1\" class=\"dataframe\">\n  <thead>\n    <tr style=\"text-align: right;\">\n      <th></th>\n      <th>user_expenses</th>\n      <th>expenses</th>\n      <th>difference</th>\n      <th>difference_square</th>\n    </tr>\n    <tr>\n      <th>user_id</th>\n      <th></th>\n      <th></th>\n      <th></th>\n      <th></th>\n    </tr>\n  </thead>\n  <tbody>\n    <tr>\n      <th>102</th>\n      <td>161.00</td>\n      <td>0.00</td>\n      <td>161.00</td>\n      <td>2.592100e+04</td>\n    </tr>\n    <tr>\n      <th>103</th>\n      <td>4688.73</td>\n      <td>554.77</td>\n      <td>4133.96</td>\n      <td>1.708963e+07</td>\n    </tr>\n    <tr>\n      <th>104</th>\n      <td>4476.97</td>\n      <td>2332.01</td>\n      <td>2144.96</td>\n      <td>4.600853e+06</td>\n    </tr>\n    <tr>\n      <th>105</th>\n      <td>1035.18</td>\n      <td>0.00</td>\n      <td>1035.18</td>\n      <td>1.071598e+06</td>\n    </tr>\n    <tr>\n      <th>106</th>\n      <td>3728.79</td>\n      <td>0.00</td>\n      <td>3728.79</td>\n      <td>1.390387e+07</td>\n    </tr>\n    <tr>\n      <th>...</th>\n      <td>...</td>\n      <td>...</td>\n      <td>...</td>\n      <td>...</td>\n    </tr>\n    <tr>\n      <th>297</th>\n      <td>2054.55</td>\n      <td>109.00</td>\n      <td>1945.55</td>\n      <td>3.785165e+06</td>\n    </tr>\n    <tr>\n      <th>298</th>\n      <td>3417.61</td>\n      <td>2399.00</td>\n      <td>1018.61</td>\n      <td>1.037566e+06</td>\n    </tr>\n    <tr>\n      <th>299</th>\n      <td>3040.79</td>\n      <td>0.00</td>\n      <td>3040.79</td>\n      <td>9.246404e+06</td>\n    </tr>\n    <tr>\n      <th>300</th>\n      <td>3630.74</td>\n      <td>0.00</td>\n      <td>3630.74</td>\n      <td>1.318227e+07</td>\n    </tr>\n    <tr>\n      <th>301</th>\n      <td>3029.91</td>\n      <td>0.00</td>\n      <td>3029.91</td>\n      <td>9.180355e+06</td>\n    </tr>\n  </tbody>\n</table>\n<p>200 rows × 4 columns</p>\n</div>"
     },
     "execution_count": 25,
     "metadata": {},
     "output_type": "execute_result"
    }
   ],
   "source": [
    "loss(predictionsA, observations)"
   ],
   "metadata": {
    "collapsed": false,
    "pycharm": {
     "name": "#%%\n"
    }
   }
  },
  {
   "cell_type": "code",
   "execution_count": null,
   "outputs": [],
   "source": [],
   "metadata": {
    "collapsed": false,
    "pycharm": {
     "name": "#%%\n"
    }
   }
  }
 ],
 "metadata": {
  "kernelspec": {
   "display_name": "Python 3",
   "language": "python",
   "name": "python3"
  },
  "language_info": {
   "codemirror_mode": {
    "name": "ipython",
    "version": 2
   },
   "file_extension": ".py",
   "mimetype": "text/x-python",
   "name": "python",
   "nbconvert_exporter": "python",
   "pygments_lexer": "ipython2",
   "version": "2.7.6"
  }
 },
 "nbformat": 4,
 "nbformat_minor": 0
}