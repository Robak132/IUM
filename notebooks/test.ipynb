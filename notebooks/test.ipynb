{
 "cells": [
  {
   "cell_type": "code",
   "execution_count": 26,
   "outputs": [],
   "source": [
    "import pandas as pd\n",
    "import matplotlib.pyplot as plt\n",
    "from client_analiser.models import ModelInterface, ModelA, ModelB"
   ],
   "metadata": {
    "collapsed": false,
    "pycharm": {
     "name": "#%%\n"
    }
   }
  },
  {
   "cell_type": "code",
   "execution_count": 13,
   "outputs": [],
   "source": [
    "iteration_path = \"iteration_3/\"\n",
    "deliveries_path = \"../data/\" + iteration_path + \"raw/deliveries.jsonl\"\n",
    "products_path = \"../data/\" + iteration_path + \"raw/products.jsonl\"\n",
    "sessions_path = \"../data/\" + iteration_path + \"raw/sessions.jsonl\"\n",
    "users_path = \"../data/\" + iteration_path + \"raw/users.jsonl\""
   ],
   "metadata": {
    "collapsed": false,
    "pycharm": {
     "name": "#%%\n"
    }
   }
  },
  {
   "cell_type": "code",
   "execution_count": 14,
   "outputs": [],
   "source": [
    "deliveries_data = pd.read_json(deliveries_path, lines=True)\n",
    "products_data = pd.read_json(products_path, lines=True)\n",
    "sessions_data = pd.read_json(sessions_path, lines=True)\n",
    "users_data = pd.read_json(users_path, lines=True)"
   ],
   "metadata": {
    "collapsed": false,
    "pycharm": {
     "name": "#%%\n"
    }
   }
  },
  {
   "cell_type": "code",
   "execution_count": 17,
   "outputs": [],
   "source": [
    "sessions_data = sessions_data.sort_values(by=['timestamp'])\n",
    "# sessions_data['timestamp_date'] = sessions_data['timestamp'].apply(lambda x: x.date())\n",
    "sessions_data['timestamp_week'] = sessions_data['timestamp'].apply(lambda x: x.week)\n",
    "sessions_data['timestamp_month'] = sessions_data['timestamp'].apply(lambda x: x.month)\n",
    "sessions_data['timestamp_quarter'] = sessions_data['timestamp'].apply(lambda x: x.quarter)"
   ],
   "metadata": {
    "collapsed": false,
    "pycharm": {
     "name": "#%%\n"
    }
   }
  },
  {
   "cell_type": "code",
   "execution_count": 18,
   "outputs": [],
   "source": [
    "train_data = sessions_data[sessions_data.timestamp_month < 12]\n",
    "test_data = sessions_data[sessions_data.timestamp_month >= 12]"
   ],
   "metadata": {
    "collapsed": false,
    "pycharm": {
     "name": "#%%\n"
    }
   }
  },
  {
   "cell_type": "code",
   "execution_count": 27,
   "outputs": [],
   "source": [
    "# Models\n",
    "model_A: ModelInterface = ModelA()\n",
    "model_B: ModelInterface = ModelB()"
   ],
   "metadata": {
    "collapsed": false,
    "pycharm": {
     "name": "#%%\n"
    }
   }
  },
  {
   "cell_type": "code",
   "execution_count": null,
   "outputs": [],
   "source": [
    "model_B"
   ],
   "metadata": {
    "collapsed": false,
    "pycharm": {
     "name": "#%%\n"
    }
   }
  },
  {
   "cell_type": "code",
   "execution_count": 21,
   "outputs": [
    {
     "name": "stderr",
     "output_type": "stream",
     "text": [
      "C:\\Users\\micha\\Desktop\\Informatyka\\Inżynieria_uczenia_maszynowego\\Projekt\\IUM-z5w1\\client_analiser\\models\\model_a.py:59: SettingWithCopyWarning: \n",
      "A value is trying to be set on a copy of a slice from a DataFrame.\n",
      "Try using .loc[row_indexer,col_indexer] = value instead\n",
      "\n",
      "See the caveats in the documentation: https://pandas.pydata.org/pandas-docs/stable/user_guide/indexing.html#returning-a-view-versus-a-copy\n",
      "  sessions[\"timestamp\"] = pd.to_datetime(sessions[\"timestamp\"])\n",
      "C:\\Users\\micha\\Desktop\\Informatyka\\Inżynieria_uczenia_maszynowego\\Projekt\\IUM-z5w1\\client_analiser\\models\\model_a.py:60: SettingWithCopyWarning: \n",
      "A value is trying to be set on a copy of a slice from a DataFrame.\n",
      "Try using .loc[row_indexer,col_indexer] = value instead\n",
      "\n",
      "See the caveats in the documentation: https://pandas.pydata.org/pandas-docs/stable/user_guide/indexing.html#returning-a-view-versus-a-copy\n",
      "  sessions['timestamp_interval'] = sessions['timestamp'].apply(lambda x: x.month)\n"
     ]
    },
    {
     "data": {
      "text/plain": "         user_expenses\nuser_id               \n139             180.71\n242             533.24\n108            1718.53\n143             830.67\n140            3541.68\n...                ...\n289               0.00\n225              33.69\n152               0.00\n162              25.50\n229              89.09\n\n[200 rows x 1 columns]",
      "text/html": "<div>\n<style scoped>\n    .dataframe tbody tr th:only-of-type {\n        vertical-align: middle;\n    }\n\n    .dataframe tbody tr th {\n        vertical-align: top;\n    }\n\n    .dataframe thead th {\n        text-align: right;\n    }\n</style>\n<table border=\"1\" class=\"dataframe\">\n  <thead>\n    <tr style=\"text-align: right;\">\n      <th></th>\n      <th>user_expenses</th>\n    </tr>\n    <tr>\n      <th>user_id</th>\n      <th></th>\n    </tr>\n  </thead>\n  <tbody>\n    <tr>\n      <th>139</th>\n      <td>180.71</td>\n    </tr>\n    <tr>\n      <th>242</th>\n      <td>533.24</td>\n    </tr>\n    <tr>\n      <th>108</th>\n      <td>1718.53</td>\n    </tr>\n    <tr>\n      <th>143</th>\n      <td>830.67</td>\n    </tr>\n    <tr>\n      <th>140</th>\n      <td>3541.68</td>\n    </tr>\n    <tr>\n      <th>...</th>\n      <td>...</td>\n    </tr>\n    <tr>\n      <th>289</th>\n      <td>0.00</td>\n    </tr>\n    <tr>\n      <th>225</th>\n      <td>33.69</td>\n    </tr>\n    <tr>\n      <th>152</th>\n      <td>0.00</td>\n    </tr>\n    <tr>\n      <th>162</th>\n      <td>25.50</td>\n    </tr>\n    <tr>\n      <th>229</th>\n      <td>89.09</td>\n    </tr>\n  </tbody>\n</table>\n<p>200 rows × 1 columns</p>\n</div>"
     },
     "execution_count": 21,
     "metadata": {},
     "output_type": "execute_result"
    }
   ],
   "source": [
    "predictionsA = model_A.predict_expenses(products_data, deliveries_data, train_data, users_data)\n",
    "predictionsA"
   ],
   "metadata": {
    "collapsed": false,
    "pycharm": {
     "name": "#%%\n"
    }
   }
  },
  {
   "cell_type": "code",
   "execution_count": 22,
   "outputs": [],
   "source": [
    "def get_user_id_from_session(session):\n",
    "    sample_user_id = session['user_id'].iloc[0]\n",
    "    for user_id in session['user_id']:\n",
    "        if sample_user_id != user_id:\n",
    "            raise Exception(\"How it is even possible\")\n",
    "    return sample_user_id\n",
    "\n",
    "def get_user_expenses(user_session_data):\n",
    "    d = {\n",
    "        'user_id': get_user_id_from_session(user_session_data),\n",
    "        'expenses': user_session_data[user_session_data['event_type'] == \"BUY_PRODUCT\"]['price'].sum()\n",
    "    }\n",
    "    # df = pd.DataFrame(data=d)\n",
    "    return d\n",
    "\n",
    "\n",
    "def calculate_expenses(sessions_data, products_data, users_data):\n",
    "    enriched_sessions_data = pd.merge(sessions_data, products_data, on=\"product_id\").sort_values(by=['timestamp'])\n",
    "    user_expenses = []\n",
    "    for user_id in range(users_data['user_id'].min(), users_data['user_id'].max() + 1):\n",
    "        # for user_id in enriched_sessions_data['user_id'].unique():\n",
    "        user_session_data = enriched_sessions_data[enriched_sessions_data['user_id'] == user_id]\n",
    "        user_expenses.append(\n",
    "            {\n",
    "                'user_id': user_id,\n",
    "                'expenses': user_session_data[user_session_data['event_type'] == \"BUY_PRODUCT\"]['price'].sum()\n",
    "            }\n",
    "        )\n",
    "        # user_expenses.append(get_user_expenses(enriched_sessions_data[enriched_sessions_data['user_id'] == user_id]))\n",
    "    return pd.DataFrame(data=user_expenses).set_index('user_id')\n",
    "\n",
    "\n",
    "def loss(predictions, observations):\n",
    "    unified_data = pd.merge(predictions, observations, on=\"user_id\").sort_values(by=['user_id'])\n",
    "    unified_data['difference'] = unified_data['user_expenses'] - unified_data['expenses']\n",
    "    unified_data['difference_square'] = unified_data['difference'].apply(lambda x: x ** 2)\n",
    "    return unified_data"
   ],
   "metadata": {
    "collapsed": false,
    "pycharm": {
     "name": "#%%\n"
    }
   }
  },
  {
   "cell_type": "code",
   "execution_count": 23,
   "outputs": [],
   "source": [
    "observations = calculate_expenses(test_data, products_data, users_data)"
   ],
   "metadata": {
    "collapsed": false,
    "pycharm": {
     "name": "#%%\n"
    }
   }
  },
  {
   "cell_type": "code",
   "execution_count": 25,
   "outputs": [
    {
     "data": {
      "text/plain": "         user_expenses  expenses  difference  difference_square\nuser_id                                                        \n102             161.00      0.00      161.00       2.592100e+04\n103            4688.73    554.77     4133.96       1.708963e+07\n104            4476.97   2332.01     2144.96       4.600853e+06\n105            1035.18      0.00     1035.18       1.071598e+06\n106            3728.79      0.00     3728.79       1.390387e+07\n...                ...       ...         ...                ...\n297            2054.55    109.00     1945.55       3.785165e+06\n298            3417.61   2399.00     1018.61       1.037566e+06\n299            3040.79      0.00     3040.79       9.246404e+06\n300            3630.74      0.00     3630.74       1.318227e+07\n301            3029.91      0.00     3029.91       9.180355e+06\n\n[200 rows x 4 columns]",
      "text/html": "<div>\n<style scoped>\n    .dataframe tbody tr th:only-of-type {\n        vertical-align: middle;\n    }\n\n    .dataframe tbody tr th {\n        vertical-align: top;\n    }\n\n    .dataframe thead th {\n        text-align: right;\n    }\n</style>\n<table border=\"1\" class=\"dataframe\">\n  <thead>\n    <tr style=\"text-align: right;\">\n      <th></th>\n      <th>user_expenses</th>\n      <th>expenses</th>\n      <th>difference</th>\n      <th>difference_square</th>\n    </tr>\n    <tr>\n      <th>user_id</th>\n      <th></th>\n      <th></th>\n      <th></th>\n      <th></th>\n    </tr>\n  </thead>\n  <tbody>\n    <tr>\n      <th>102</th>\n      <td>161.00</td>\n      <td>0.00</td>\n      <td>161.00</td>\n      <td>2.592100e+04</td>\n    </tr>\n    <tr>\n      <th>103</th>\n      <td>4688.73</td>\n      <td>554.77</td>\n      <td>4133.96</td>\n      <td>1.708963e+07</td>\n    </tr>\n    <tr>\n      <th>104</th>\n      <td>4476.97</td>\n      <td>2332.01</td>\n      <td>2144.96</td>\n      <td>4.600853e+06</td>\n    </tr>\n    <tr>\n      <th>105</th>\n      <td>1035.18</td>\n      <td>0.00</td>\n      <td>1035.18</td>\n      <td>1.071598e+06</td>\n    </tr>\n    <tr>\n      <th>106</th>\n      <td>3728.79</td>\n      <td>0.00</td>\n      <td>3728.79</td>\n      <td>1.390387e+07</td>\n    </tr>\n    <tr>\n      <th>...</th>\n      <td>...</td>\n      <td>...</td>\n      <td>...</td>\n      <td>...</td>\n    </tr>\n    <tr>\n      <th>297</th>\n      <td>2054.55</td>\n      <td>109.00</td>\n      <td>1945.55</td>\n      <td>3.785165e+06</td>\n    </tr>\n    <tr>\n      <th>298</th>\n      <td>3417.61</td>\n      <td>2399.00</td>\n      <td>1018.61</td>\n      <td>1.037566e+06</td>\n    </tr>\n    <tr>\n      <th>299</th>\n      <td>3040.79</td>\n      <td>0.00</td>\n      <td>3040.79</td>\n      <td>9.246404e+06</td>\n    </tr>\n    <tr>\n      <th>300</th>\n      <td>3630.74</td>\n      <td>0.00</td>\n      <td>3630.74</td>\n      <td>1.318227e+07</td>\n    </tr>\n    <tr>\n      <th>301</th>\n      <td>3029.91</td>\n      <td>0.00</td>\n      <td>3029.91</td>\n      <td>9.180355e+06</td>\n    </tr>\n  </tbody>\n</table>\n<p>200 rows × 4 columns</p>\n</div>"
     },
     "execution_count": 25,
     "metadata": {},
     "output_type": "execute_result"
    }
   ],
   "source": [
    "loss(predictionsA, observations)"
   ],
   "metadata": {
    "collapsed": false,
    "pycharm": {
     "name": "#%%\n"
    }
   }
  },
  {
   "cell_type": "code",
   "execution_count": null,
   "outputs": [],
   "source": [],
   "metadata": {
    "collapsed": false,
    "pycharm": {
     "name": "#%%\n"
    }
   }
  }
 ],
 "metadata": {
  "kernelspec": {
   "display_name": "Python 3",
   "language": "python",
   "name": "python3"
  },
  "language_info": {
   "codemirror_mode": {
    "name": "ipython",
    "version": 2
   },
   "file_extension": ".py",
   "mimetype": "text/x-python",
   "name": "python",
   "nbconvert_exporter": "python",
   "pygments_lexer": "ipython2",
   "version": "2.7.6"
  }
 },
 "nbformat": 4,
 "nbformat_minor": 0
}