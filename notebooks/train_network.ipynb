{
 "cells": [
  {
   "cell_type": "code",
   "execution_count": 107,
   "metadata": {
    "collapsed": true
   },
   "outputs": [],
   "source": [
    "import pandas as pd\n",
    "import torch\n",
    "import numpy as np\n",
    "from session_extraction import extract_users_data\n",
    "from torch import nn, optim\n",
    "from sklearn.metrics import roc_curve, roc_auc_score, RocCurveDisplay\n",
    "from sklearn.exceptions import UndefinedMetricWarning\n",
    "import torch.utils.data as data\n",
    "import random"
   ]
  },
  {
   "cell_type": "code",
   "execution_count": 108,
   "outputs": [],
   "source": [
    "device = torch.device('cuda')\n",
    "seed = 8888\n",
    "\n",
    "torch.cuda.manual_seed_all(seed)\n",
    "torch.manual_seed(seed)\n",
    "np.random.seed(seed)\n",
    "random.seed(seed)"
   ],
   "metadata": {
    "collapsed": false,
    "pycharm": {
     "name": "#%%\n"
    }
   }
  },
  {
   "cell_type": "code",
   "execution_count": 109,
   "outputs": [],
   "source": [
    "iteration_path = \"iteration_3/\"\n",
    "deliveries_path = \"../data/\" + iteration_path + \"raw/deliveries.jsonl\"\n",
    "products_path = \"../data/\" + iteration_path + \"raw/products.jsonl\"\n",
    "sessions_path = \"../data/\" + iteration_path + \"raw/sessions.jsonl\"\n",
    "users_path = \"../data/\" + iteration_path + \"raw/users.jsonl\"\n",
    "\n",
    "deliveries_data = pd.read_json(deliveries_path, lines=True)\n",
    "products_data = pd.read_json(products_path, lines=True)\n",
    "sessions_data = pd.read_json(sessions_path, lines=True)\n",
    "users_data = pd.read_json(users_path, lines=True)"
   ],
   "metadata": {
    "collapsed": false,
    "pycharm": {
     "name": "#%%\n"
    }
   }
  },
  {
   "cell_type": "code",
   "execution_count": 110,
   "outputs": [
    {
     "data": {
      "text/plain": "     expenses  products_bought  events_number      city\n0    23400.85               49            256    Kraków\n1    44677.14               60            331     Radom\n2    16312.03               23            130     Radom\n3     7273.05               16             86    Kraków\n4    33412.55               44            318    Poznań\n..        ...              ...            ...       ...\n195      0.00                0              7  Warszawa\n196    109.00                1              5  Warszawa\n197      0.00                0              5    Poznań\n198     78.96                2              6  Szczecin\n199    245.00                1              5     Radom\n\n[200 rows x 4 columns]",
      "text/html": "<div>\n<style scoped>\n    .dataframe tbody tr th:only-of-type {\n        vertical-align: middle;\n    }\n\n    .dataframe tbody tr th {\n        vertical-align: top;\n    }\n\n    .dataframe thead th {\n        text-align: right;\n    }\n</style>\n<table border=\"1\" class=\"dataframe\">\n  <thead>\n    <tr style=\"text-align: right;\">\n      <th></th>\n      <th>expenses</th>\n      <th>products_bought</th>\n      <th>events_number</th>\n      <th>city</th>\n    </tr>\n  </thead>\n  <tbody>\n    <tr>\n      <th>0</th>\n      <td>23400.85</td>\n      <td>49</td>\n      <td>256</td>\n      <td>Kraków</td>\n    </tr>\n    <tr>\n      <th>1</th>\n      <td>44677.14</td>\n      <td>60</td>\n      <td>331</td>\n      <td>Radom</td>\n    </tr>\n    <tr>\n      <th>2</th>\n      <td>16312.03</td>\n      <td>23</td>\n      <td>130</td>\n      <td>Radom</td>\n    </tr>\n    <tr>\n      <th>3</th>\n      <td>7273.05</td>\n      <td>16</td>\n      <td>86</td>\n      <td>Kraków</td>\n    </tr>\n    <tr>\n      <th>4</th>\n      <td>33412.55</td>\n      <td>44</td>\n      <td>318</td>\n      <td>Poznań</td>\n    </tr>\n    <tr>\n      <th>...</th>\n      <td>...</td>\n      <td>...</td>\n      <td>...</td>\n      <td>...</td>\n    </tr>\n    <tr>\n      <th>195</th>\n      <td>0.00</td>\n      <td>0</td>\n      <td>7</td>\n      <td>Warszawa</td>\n    </tr>\n    <tr>\n      <th>196</th>\n      <td>109.00</td>\n      <td>1</td>\n      <td>5</td>\n      <td>Warszawa</td>\n    </tr>\n    <tr>\n      <th>197</th>\n      <td>0.00</td>\n      <td>0</td>\n      <td>5</td>\n      <td>Poznań</td>\n    </tr>\n    <tr>\n      <th>198</th>\n      <td>78.96</td>\n      <td>2</td>\n      <td>6</td>\n      <td>Szczecin</td>\n    </tr>\n    <tr>\n      <th>199</th>\n      <td>245.00</td>\n      <td>1</td>\n      <td>5</td>\n      <td>Radom</td>\n    </tr>\n  </tbody>\n</table>\n<p>200 rows × 4 columns</p>\n</div>"
     },
     "execution_count": 110,
     "metadata": {},
     "output_type": "execute_result"
    }
   ],
   "source": [
    "df = extract_users_data(sessions_data, users_data, products_data)\n",
    "df = df.drop(columns=[\"user_id\"])\n",
    "df"
   ],
   "metadata": {
    "collapsed": false,
    "pycharm": {
     "name": "#%%\n"
    }
   }
  },
  {
   "cell_type": "code",
   "execution_count": 111,
   "outputs": [
    {
     "data": {
      "text/plain": "     Gdynia  Kraków  Poznań  Radom  Szczecin  Warszawa  Wrocław\n0         0       1       0      0         0         0        0\n1         0       0       0      1         0         0        0\n2         0       0       0      1         0         0        0\n3         0       1       0      0         0         0        0\n4         0       0       1      0         0         0        0\n..      ...     ...     ...    ...       ...       ...      ...\n195       0       0       0      0         0         1        0\n196       0       0       0      0         0         1        0\n197       0       0       1      0         0         0        0\n198       0       0       0      0         1         0        0\n199       0       0       0      1         0         0        0\n\n[200 rows x 7 columns]",
      "text/html": "<div>\n<style scoped>\n    .dataframe tbody tr th:only-of-type {\n        vertical-align: middle;\n    }\n\n    .dataframe tbody tr th {\n        vertical-align: top;\n    }\n\n    .dataframe thead th {\n        text-align: right;\n    }\n</style>\n<table border=\"1\" class=\"dataframe\">\n  <thead>\n    <tr style=\"text-align: right;\">\n      <th></th>\n      <th>Gdynia</th>\n      <th>Kraków</th>\n      <th>Poznań</th>\n      <th>Radom</th>\n      <th>Szczecin</th>\n      <th>Warszawa</th>\n      <th>Wrocław</th>\n    </tr>\n  </thead>\n  <tbody>\n    <tr>\n      <th>0</th>\n      <td>0</td>\n      <td>1</td>\n      <td>0</td>\n      <td>0</td>\n      <td>0</td>\n      <td>0</td>\n      <td>0</td>\n    </tr>\n    <tr>\n      <th>1</th>\n      <td>0</td>\n      <td>0</td>\n      <td>0</td>\n      <td>1</td>\n      <td>0</td>\n      <td>0</td>\n      <td>0</td>\n    </tr>\n    <tr>\n      <th>2</th>\n      <td>0</td>\n      <td>0</td>\n      <td>0</td>\n      <td>1</td>\n      <td>0</td>\n      <td>0</td>\n      <td>0</td>\n    </tr>\n    <tr>\n      <th>3</th>\n      <td>0</td>\n      <td>1</td>\n      <td>0</td>\n      <td>0</td>\n      <td>0</td>\n      <td>0</td>\n      <td>0</td>\n    </tr>\n    <tr>\n      <th>4</th>\n      <td>0</td>\n      <td>0</td>\n      <td>1</td>\n      <td>0</td>\n      <td>0</td>\n      <td>0</td>\n      <td>0</td>\n    </tr>\n    <tr>\n      <th>...</th>\n      <td>...</td>\n      <td>...</td>\n      <td>...</td>\n      <td>...</td>\n      <td>...</td>\n      <td>...</td>\n      <td>...</td>\n    </tr>\n    <tr>\n      <th>195</th>\n      <td>0</td>\n      <td>0</td>\n      <td>0</td>\n      <td>0</td>\n      <td>0</td>\n      <td>1</td>\n      <td>0</td>\n    </tr>\n    <tr>\n      <th>196</th>\n      <td>0</td>\n      <td>0</td>\n      <td>0</td>\n      <td>0</td>\n      <td>0</td>\n      <td>1</td>\n      <td>0</td>\n    </tr>\n    <tr>\n      <th>197</th>\n      <td>0</td>\n      <td>0</td>\n      <td>1</td>\n      <td>0</td>\n      <td>0</td>\n      <td>0</td>\n      <td>0</td>\n    </tr>\n    <tr>\n      <th>198</th>\n      <td>0</td>\n      <td>0</td>\n      <td>0</td>\n      <td>0</td>\n      <td>1</td>\n      <td>0</td>\n      <td>0</td>\n    </tr>\n    <tr>\n      <th>199</th>\n      <td>0</td>\n      <td>0</td>\n      <td>0</td>\n      <td>1</td>\n      <td>0</td>\n      <td>0</td>\n      <td>0</td>\n    </tr>\n  </tbody>\n</table>\n<p>200 rows × 7 columns</p>\n</div>"
     },
     "execution_count": 111,
     "metadata": {},
     "output_type": "execute_result"
    }
   ],
   "source": [
    "categorical_values = pd.get_dummies(df[\"city\"])\n",
    "categorical_values"
   ],
   "metadata": {
    "collapsed": false,
    "pycharm": {
     "name": "#%%\n"
    }
   }
  },
  {
   "cell_type": "code",
   "execution_count": 112,
   "outputs": [],
   "source": [
    "numerical_values = df.drop(columns=[\"city\"])\n",
    "train_indices = np.random.rand(len(numerical_values))>0.1"
   ],
   "metadata": {
    "collapsed": false,
    "pycharm": {
     "name": "#%%\n"
    }
   }
  },
  {
   "cell_type": "code",
   "execution_count": 113,
   "outputs": [],
   "source": [
    "numerical_data = torch.from_numpy(numerical_values.values[train_indices,1:]).float()\n",
    "categorical_data = torch.from_numpy(categorical_values.values[train_indices]).float()\n",
    "targets = torch.from_numpy(numerical_values.values[train_indices,0]).float()\n",
    "\n",
    "validation_numerical_data = torch.from_numpy(numerical_values.values[~train_indices,1:]).float()\n",
    "validation_categorical_data = torch.from_numpy(categorical_values.values[~train_indices]).float()\n",
    "validation_targets = torch.from_numpy(numerical_values.values[~train_indices,0]).float()"
   ],
   "metadata": {
    "collapsed": false,
    "pycharm": {
     "name": "#%%\n"
    }
   }
  },
  {
   "cell_type": "code",
   "execution_count": 114,
   "outputs": [],
   "source": [
    "train_dataset = data.TensorDataset(numerical_data,categorical_data,targets)\n",
    "validation_dataset = data.TensorDataset(validation_numerical_data,validation_categorical_data,validation_targets)"
   ],
   "metadata": {
    "collapsed": false,
    "pycharm": {
     "name": "#%%\n"
    }
   }
  },
  {
   "cell_type": "code",
   "execution_count": 115,
   "outputs": [],
   "source": [
    "class FlatsClassifier(nn.Module):\n",
    "    def __init__(self, l2_size, l3_size):\n",
    "        super().__init__()\n",
    "        self.emb_layer = nn.Linear(categorical_data.shape[1], categorical_data.shape[1])\n",
    "        self.act_emb = nn.Tanh()\n",
    "        self.layer1 = nn.Linear(numerical_data.shape[1] + categorical_data.shape[1], l2_size)\n",
    "        self.batch_norm1 = nn.BatchNorm1d(l2_size)\n",
    "        self.act_1 =  nn.LeakyReLU()\n",
    "        self.layer2 = nn.Linear(l2_size, l3_size)\n",
    "        self.batch_norm2 = nn.BatchNorm1d(l3_size)\n",
    "        self.act_2 =  nn.LeakyReLU()\n",
    "        self.layer3 = nn.Linear(l3_size, 1)\n",
    "        self.act_out = nn.Sigmoid()\n",
    "    def forward(self, x, cat_x):\n",
    "        cat_x_embedded = self.emb_layer(cat_x)\n",
    "        cat_x_embedded = self.act_emb(cat_x_embedded)\n",
    "        x = torch.cat([x,cat_x_embedded],dim=1)\n",
    "        activation1 = self.act_1(self.batch_norm1(self.layer1(x)))\n",
    "        activation2 = self.act_2(self.batch_norm2(self.layer2(activation1)))\n",
    "        output = self.act_out(self.layer3(activation2))\n",
    "        return output"
   ],
   "metadata": {
    "collapsed": false,
    "pycharm": {
     "name": "#%%\n"
    }
   }
  },
  {
   "cell_type": "code",
   "execution_count": null,
   "outputs": [],
   "source": [
    "def get_accuracy(model, data_loader):\n",
    "    model.eval()\n",
    "    with torch.no_grad():\n",
    "        for x, cat_x, targets in data_loader:\n",
    "            x, cat_x, targets = x.to(device), cat_x.to(device), targets.to(device)\n",
    "            preds = model(x, cat_x)\n",
    "            try:\n",
    "                roc_auc = roc_auc_score(targets.cpu().numpy(), preds.cpu().numpy())\n",
    "            except ValueError:\n",
    "                roc_auc = 0\n",
    "    return roc_auc\n",
    "\n",
    "def get_binary_accuracy(model, data_loader, binary_threshold):\n",
    "    correct = 0\n",
    "    total = 0\n",
    "    model.eval() #*********#\n",
    "    for x, cat_x, labels in data_loader:\n",
    "        x, cat_x, labels = x.to(device), cat_x.to(device), labels.to(device)\n",
    "        output = model(x, cat_x)\n",
    "        pred = (output>binary_threshold).float()\n",
    "        correct += pred.eq(labels.view_as(pred)).sum().item()\n",
    "        total += x.shape[0]\n",
    "    return correct / total"
   ],
   "metadata": {
    "collapsed": false,
    "pycharm": {
     "name": "#%%\n"
    }
   }
  },
  {
   "cell_type": "code",
   "execution_count": 117,
   "outputs": [
    {
     "name": "stdout",
     "output_type": "stream",
     "text": [
      "Epoch   0, loss -7009.348 -> validation_acc: 0.0000\n",
      "Epoch  10, loss -7204.332 -> validation_acc: 0.0000\n",
      "Epoch  20, loss -7283.968 -> validation_acc: 0.0000\n",
      "Epoch  30, loss -7170.318 -> validation_acc: 0.0000\n",
      "Epoch  40, loss -7273.767 -> validation_acc: 0.0000\n",
      "Epoch  50, loss -7429.940 -> validation_acc: 0.0000\n",
      "Epoch  60, loss -7629.101 -> validation_acc: 0.0000\n",
      "Epoch  70, loss -7637.949 -> validation_acc: 0.0000\n",
      "Epoch  80, loss -7700.447 -> validation_acc: 0.0000\n",
      "Epoch  90, loss -8017.294 -> validation_acc: 0.0000\n",
      "Epoch 100, loss -7957.667 -> validation_acc: 0.0000\n",
      "Epoch 110, loss -8164.395 -> validation_acc: 0.0000\n",
      "Epoch 120, loss -8095.050 -> validation_acc: 0.0000\n",
      "Epoch 130, loss -8290.021 -> validation_acc: 0.0000\n",
      "Epoch 140, loss -8454.882 -> validation_acc: 0.0000\n",
      "Epoch 150, loss -8574.934 -> validation_acc: 0.0000\n",
      "Epoch 160, loss -8728.867 -> validation_acc: 0.0000\n",
      "Epoch 170, loss -8837.691 -> validation_acc: 0.0000\n",
      "Epoch 180, loss -8798.468 -> validation_acc: 0.0000\n",
      "Epoch 190, loss -8858.982 -> validation_acc: 0.0000\n",
      "Epoch 200, loss -8947.459 -> validation_acc: 0.0000\n",
      "Epoch 210, loss -8925.701 -> validation_acc: 0.0000\n",
      "Epoch 220, loss -9099.378 -> validation_acc: 0.0000\n",
      "Epoch 230, loss -9257.308 -> validation_acc: 0.0000\n",
      "Epoch 240, loss -9144.804 -> validation_acc: 0.0000\n",
      "Epoch 250, loss -9185.349 -> validation_acc: 0.0000\n",
      "Epoch 260, loss -9436.069 -> validation_acc: 0.0000\n",
      "Epoch 270, loss -9450.586 -> validation_acc: 0.0000\n",
      "Epoch 280, loss -9414.769 -> validation_acc: 0.0000\n",
      "Epoch 290, loss -9438.238 -> validation_acc: 0.0000\n",
      "Epoch 300, loss -9751.471 -> validation_acc: 0.0000\n",
      "Epoch 310, loss -9725.914 -> validation_acc: 0.0000\n",
      "Epoch 320, loss -9611.841 -> validation_acc: 0.0000\n",
      "Epoch 330, loss -9595.296 -> validation_acc: 0.0000\n",
      "Epoch 340, loss -9917.130 -> validation_acc: 0.0000\n",
      "Epoch 350, loss -10078.169 -> validation_acc: 0.0000\n",
      "Epoch 360, loss -9889.177 -> validation_acc: 0.0000\n",
      "Epoch 370, loss -10049.304 -> validation_acc: 0.0000\n",
      "Epoch 380, loss -10184.510 -> validation_acc: 0.0000\n",
      "Epoch 390, loss -10094.562 -> validation_acc: 0.0000\n",
      "Epoch 400, loss -10124.543 -> validation_acc: 0.0000\n",
      "Epoch 410, loss -10411.159 -> validation_acc: 0.0000\n",
      "Epoch 420, loss -10228.936 -> validation_acc: 0.0000\n",
      "Epoch 430, loss -10374.017 -> validation_acc: 0.0000\n",
      "Epoch 440, loss -10477.327 -> validation_acc: 0.0000\n",
      "Epoch 450, loss -10512.895 -> validation_acc: 0.0000\n",
      "Epoch 460, loss -10184.933 -> validation_acc: 0.0000\n",
      "Epoch 470, loss -10379.022 -> validation_acc: 0.0000\n",
      "Epoch 480, loss -10547.349 -> validation_acc: 0.0000\n",
      "Epoch 490, loss -10471.537 -> validation_acc: 0.0000\n",
      "\n",
      "Final Validation Accuracy: 0\n"
     ]
    }
   ],
   "source": [
    "layer2_size = 10\n",
    "layer3_size = 3\n",
    "lr = 0.0002\n",
    "epochs = 500\n",
    "learning_threshold = 0.993\n",
    "\n",
    "model = FlatsClassifier(layer2_size, layer3_size).to(device)\n",
    "train_loader = torch.utils.data.DataLoader(train_dataset, batch_size=48, shuffle=True)\n",
    "validation_loader = torch.utils.data.DataLoader(validation_dataset, batch_size=validation_numerical_data.shape[0], shuffle=False)\n",
    "criterion = nn.BCEWithLogitsLoss()\n",
    "optimizer = optim.Adam(model.parameters(), lr=lr)\n",
    "\n",
    "iters = []\n",
    "losses = []\n",
    "train_acc = []\n",
    "val_acc = []\n",
    "val_acc_bin = []\n",
    "for n in range(epochs):\n",
    "    epoch_losses = []\n",
    "    for x, cat_x, labels in iter(train_loader):\n",
    "        x, cat_x, labels = x.to(device), cat_x.to(device), labels.to(device)\n",
    "        model.train()\n",
    "        out = model(x, cat_x).squeeze()\n",
    "\n",
    "        loss = criterion(out, labels)\n",
    "        loss.backward()\n",
    "        epoch_losses.append(loss.item())\n",
    "        optimizer.step()\n",
    "        optimizer.zero_grad()\n",
    "\n",
    "    loss_mean = np.array(epoch_losses).mean()\n",
    "    iters.append(n)\n",
    "    losses.append(loss_mean)\n",
    "    validation_acc = get_accuracy(model, validation_loader)\n",
    "    if n % 10 == 0:\n",
    "      print(f\"Epoch {n:>3}, loss {loss_mean:5.3f} -> validation_acc: {validation_acc:6.4f}\")\n",
    "    train_acc.append(get_accuracy(model, train_loader)) # compute training accuracy\n",
    "    val_acc.append(validation_acc)  # compute validation accuracy\n",
    "    if validation_acc > learning_threshold:\n",
    "        break\n",
    "print()\n",
    "print(\"Final Validation Accuracy: {}\".format(val_acc[-1]))"
   ],
   "metadata": {
    "collapsed": false,
    "pycharm": {
     "name": "#%%\n"
    }
   }
  }
 ],
 "metadata": {
  "kernelspec": {
   "display_name": "Python 3",
   "language": "python",
   "name": "python3"
  },
  "language_info": {
   "codemirror_mode": {
    "name": "ipython",
    "version": 2
   },
   "file_extension": ".py",
   "mimetype": "text/x-python",
   "name": "python",
   "nbconvert_exporter": "python",
   "pygments_lexer": "ipython2",
   "version": "2.7.6"
  }
 },
 "nbformat": 4,
 "nbformat_minor": 0
}