{
 "cells": [
  {
   "cell_type": "code",
   "execution_count": 2,
   "outputs": [],
   "source": [
    "import pandas as pd\n",
    "import matplotlib.pyplot as plt"
   ],
   "metadata": {
    "collapsed": false,
    "pycharm": {
     "name": "#%%\n"
    }
   }
  },
  {
   "cell_type": "code",
   "execution_count": 3,
   "outputs": [],
   "source": [
    "iteration_path = \"iteration_3/\"\n",
    "deliveries_path = \"../data/\" + iteration_path + \"raw/deliveries.jsonl\"\n",
    "products_path = \"../data/\" + iteration_path + \"raw/products.jsonl\"\n",
    "sessions_path = \"../data/\" + iteration_path + \"raw/sessions.jsonl\"\n",
    "users_path = \"../data/\" + iteration_path + \"raw/users.jsonl\""
   ],
   "metadata": {
    "collapsed": false,
    "pycharm": {
     "name": "#%%\n"
    }
   }
  },
  {
   "cell_type": "code",
   "execution_count": 4,
   "outputs": [],
   "source": [
    "deliveries_data = pd.read_json(deliveries_path, lines=True)\n",
    "products_data = pd.read_json(products_path, lines=True)\n",
    "sessions_data = pd.read_json(sessions_path, lines=True)\n",
    "users_data = pd.read_json(users_path, lines=True)"
   ],
   "metadata": {
    "collapsed": false,
    "pycharm": {
     "name": "#%%\n"
    }
   }
  },
  {
   "cell_type": "code",
   "execution_count": 5,
   "outputs": [],
   "source": [
    "sessions_data = sessions_data.sort_values(by=['timestamp'])\n",
    "sessions_data['timestamp_date'] = sessions_data['timestamp'].apply(lambda x: x.date())\n",
    "sessions_data['timestamp_week'] = sessions_data['timestamp'].apply(lambda x: x.week)\n",
    "sessions_data['timestamp_month'] = sessions_data['timestamp'].apply(lambda x: x.month)\n",
    "sessions_data['timestamp_quarter'] = sessions_data['timestamp'].apply(lambda x: x.quarter)"
   ],
   "metadata": {
    "collapsed": false,
    "pycharm": {
     "name": "#%%\n"
    }
   }
  },
  {
   "cell_type": "code",
   "execution_count": 6,
   "outputs": [],
   "source": [
    "sessions_data['timestamp_interval'] = sessions_data['timestamp'].apply(lambda x: x.month)\n",
    "sessions_data['timestamp_interval'] = sessions_data['timestamp'].apply(lambda x: x.month//2)"
   ],
   "metadata": {
    "collapsed": false,
    "pycharm": {
     "name": "#%%\n"
    }
   }
  },
  {
   "cell_type": "code",
   "execution_count": 7,
   "outputs": [],
   "source": [
    "train_data = sessions_data[sessions_data['timestamp_interval'] < sessions_data['timestamp_interval'].max()]\n",
    "test_data = sessions_data[sessions_data['timestamp_interval'] >= sessions_data['timestamp_interval'].max()]"
   ],
   "metadata": {
    "collapsed": false,
    "pycharm": {
     "name": "#%%\n"
    }
   }
  },
  {
   "cell_type": "code",
   "execution_count": 8,
   "outputs": [
    {
     "data": {
      "text/plain": "       session_id           timestamp  user_id  product_id    event_type  \\\n5462         1615 2021-01-08 17:29:37      139        1032  VIEW_PRODUCT   \n5463         1615 2021-01-08 17:32:51      139        1033  VIEW_PRODUCT   \n5464         1615 2021-01-08 17:35:32      139        1033   BUY_PRODUCT   \n5544         1635 2021-01-10 05:56:20      139        1292  VIEW_PRODUCT   \n5545         1635 2021-01-10 05:57:54      139        1291  VIEW_PRODUCT   \n...           ...                 ...      ...         ...           ...   \n14800        4208 2021-11-30 23:29:12      217        1035  VIEW_PRODUCT   \n14801        4208 2021-11-30 23:33:41      217        1067  VIEW_PRODUCT   \n13224        3779 2021-11-30 23:44:43      205        1084  VIEW_PRODUCT   \n13225        3779 2021-11-30 23:47:34      205        1043  VIEW_PRODUCT   \n13226        3779 2021-11-30 23:49:26      205        1043   BUY_PRODUCT   \n\n       offered_discount  purchase_id timestamp_date  timestamp_week  \\\n5462                 10          NaN     2021-01-08               1   \n5463                 10          NaN     2021-01-08               1   \n5464                 10      20833.0     2021-01-08               1   \n5544                 20          NaN     2021-01-10               1   \n5545                 20          NaN     2021-01-10               1   \n...                 ...          ...            ...             ...   \n14800                15          NaN     2021-11-30              48   \n14801                15          NaN     2021-11-30              48   \n13224                 0          NaN     2021-11-30              48   \n13225                 0          NaN     2021-11-30              48   \n13226                 0      21959.0     2021-11-30              48   \n\n       timestamp_month  timestamp_quarter  timestamp_interval  \n5462                 1                  1                   0  \n5463                 1                  1                   0  \n5464                 1                  1                   0  \n5544                 1                  1                   0  \n5545                 1                  1                   0  \n...                ...                ...                 ...  \n14800               11                  4                   5  \n14801               11                  4                   5  \n13224               11                  4                   5  \n13225               11                  4                   5  \n13226               11                  4                   5  \n\n[23523 rows x 12 columns]",
      "text/html": "<div>\n<style scoped>\n    .dataframe tbody tr th:only-of-type {\n        vertical-align: middle;\n    }\n\n    .dataframe tbody tr th {\n        vertical-align: top;\n    }\n\n    .dataframe thead th {\n        text-align: right;\n    }\n</style>\n<table border=\"1\" class=\"dataframe\">\n  <thead>\n    <tr style=\"text-align: right;\">\n      <th></th>\n      <th>session_id</th>\n      <th>timestamp</th>\n      <th>user_id</th>\n      <th>product_id</th>\n      <th>event_type</th>\n      <th>offered_discount</th>\n      <th>purchase_id</th>\n      <th>timestamp_date</th>\n      <th>timestamp_week</th>\n      <th>timestamp_month</th>\n      <th>timestamp_quarter</th>\n      <th>timestamp_interval</th>\n    </tr>\n  </thead>\n  <tbody>\n    <tr>\n      <th>5462</th>\n      <td>1615</td>\n      <td>2021-01-08 17:29:37</td>\n      <td>139</td>\n      <td>1032</td>\n      <td>VIEW_PRODUCT</td>\n      <td>10</td>\n      <td>NaN</td>\n      <td>2021-01-08</td>\n      <td>1</td>\n      <td>1</td>\n      <td>1</td>\n      <td>0</td>\n    </tr>\n    <tr>\n      <th>5463</th>\n      <td>1615</td>\n      <td>2021-01-08 17:32:51</td>\n      <td>139</td>\n      <td>1033</td>\n      <td>VIEW_PRODUCT</td>\n      <td>10</td>\n      <td>NaN</td>\n      <td>2021-01-08</td>\n      <td>1</td>\n      <td>1</td>\n      <td>1</td>\n      <td>0</td>\n    </tr>\n    <tr>\n      <th>5464</th>\n      <td>1615</td>\n      <td>2021-01-08 17:35:32</td>\n      <td>139</td>\n      <td>1033</td>\n      <td>BUY_PRODUCT</td>\n      <td>10</td>\n      <td>20833.0</td>\n      <td>2021-01-08</td>\n      <td>1</td>\n      <td>1</td>\n      <td>1</td>\n      <td>0</td>\n    </tr>\n    <tr>\n      <th>5544</th>\n      <td>1635</td>\n      <td>2021-01-10 05:56:20</td>\n      <td>139</td>\n      <td>1292</td>\n      <td>VIEW_PRODUCT</td>\n      <td>20</td>\n      <td>NaN</td>\n      <td>2021-01-10</td>\n      <td>1</td>\n      <td>1</td>\n      <td>1</td>\n      <td>0</td>\n    </tr>\n    <tr>\n      <th>5545</th>\n      <td>1635</td>\n      <td>2021-01-10 05:57:54</td>\n      <td>139</td>\n      <td>1291</td>\n      <td>VIEW_PRODUCT</td>\n      <td>20</td>\n      <td>NaN</td>\n      <td>2021-01-10</td>\n      <td>1</td>\n      <td>1</td>\n      <td>1</td>\n      <td>0</td>\n    </tr>\n    <tr>\n      <th>...</th>\n      <td>...</td>\n      <td>...</td>\n      <td>...</td>\n      <td>...</td>\n      <td>...</td>\n      <td>...</td>\n      <td>...</td>\n      <td>...</td>\n      <td>...</td>\n      <td>...</td>\n      <td>...</td>\n      <td>...</td>\n    </tr>\n    <tr>\n      <th>14800</th>\n      <td>4208</td>\n      <td>2021-11-30 23:29:12</td>\n      <td>217</td>\n      <td>1035</td>\n      <td>VIEW_PRODUCT</td>\n      <td>15</td>\n      <td>NaN</td>\n      <td>2021-11-30</td>\n      <td>48</td>\n      <td>11</td>\n      <td>4</td>\n      <td>5</td>\n    </tr>\n    <tr>\n      <th>14801</th>\n      <td>4208</td>\n      <td>2021-11-30 23:33:41</td>\n      <td>217</td>\n      <td>1067</td>\n      <td>VIEW_PRODUCT</td>\n      <td>15</td>\n      <td>NaN</td>\n      <td>2021-11-30</td>\n      <td>48</td>\n      <td>11</td>\n      <td>4</td>\n      <td>5</td>\n    </tr>\n    <tr>\n      <th>13224</th>\n      <td>3779</td>\n      <td>2021-11-30 23:44:43</td>\n      <td>205</td>\n      <td>1084</td>\n      <td>VIEW_PRODUCT</td>\n      <td>0</td>\n      <td>NaN</td>\n      <td>2021-11-30</td>\n      <td>48</td>\n      <td>11</td>\n      <td>4</td>\n      <td>5</td>\n    </tr>\n    <tr>\n      <th>13225</th>\n      <td>3779</td>\n      <td>2021-11-30 23:47:34</td>\n      <td>205</td>\n      <td>1043</td>\n      <td>VIEW_PRODUCT</td>\n      <td>0</td>\n      <td>NaN</td>\n      <td>2021-11-30</td>\n      <td>48</td>\n      <td>11</td>\n      <td>4</td>\n      <td>5</td>\n    </tr>\n    <tr>\n      <th>13226</th>\n      <td>3779</td>\n      <td>2021-11-30 23:49:26</td>\n      <td>205</td>\n      <td>1043</td>\n      <td>BUY_PRODUCT</td>\n      <td>0</td>\n      <td>21959.0</td>\n      <td>2021-11-30</td>\n      <td>48</td>\n      <td>11</td>\n      <td>4</td>\n      <td>5</td>\n    </tr>\n  </tbody>\n</table>\n<p>23523 rows × 12 columns</p>\n</div>"
     },
     "execution_count": 8,
     "metadata": {},
     "output_type": "execute_result"
    }
   ],
   "source": [
    "train_data"
   ],
   "metadata": {
    "collapsed": false,
    "pycharm": {
     "name": "#%%\n"
    }
   }
  },
  {
   "cell_type": "code",
   "execution_count": 9,
   "outputs": [],
   "source": [
    "def get_user_id_from_session(session):\n",
    "    sample_user_id = session['user_id'].iloc[0]\n",
    "    for user_id in session['user_id']:\n",
    "        if sample_user_id != user_id:\n",
    "            raise Exception(\"How it is even possible\")\n",
    "    return sample_user_id"
   ],
   "metadata": {
    "collapsed": false,
    "pycharm": {
     "name": "#%%\n"
    }
   }
  },
  {
   "cell_type": "code",
   "execution_count": 10,
   "outputs": [],
   "source": [
    "def calculate_correlation_for_user(user_session_data, min_interval_value, max_interval_value):\n",
    "    return {'correlation': calculate_expenses_with_interval(user_session_data, min_interval_value, max_interval_value).corr()['expenses']['interval_number'],\n",
    "            'user_id': get_user_id_from_session(user_session_data)}"
   ],
   "metadata": {
    "collapsed": false,
    "pycharm": {
     "name": "#%%\n"
    }
   }
  },
  {
   "cell_type": "code",
   "execution_count": 11,
   "outputs": [],
   "source": [
    "def calculate_expenses_with_interval(user_session_data, min_interval_value, max_interval_value):\n",
    "    expenses=[]\n",
    "    for interval in range (min_interval_value, max_interval_value + 1):\n",
    "        d = {\n",
    "            \"interval_number\": interval,\n",
    "            \"expenses\": user_session_data[(user_session_data['timestamp_interval'] == interval) & (user_session_data['event_type'] == \"BUY_PRODUCT\")]['price'].sum()}\n",
    "        expenses.append(d)\n",
    "        # expenses.append(d['expenses'])\n",
    "\n",
    "    df = pd.DataFrame(data=expenses)\n",
    "    return df\n",
    "    # df = df.set_index('month')"
   ],
   "metadata": {
    "collapsed": false,
    "pycharm": {
     "name": "#%%\n"
    }
   }
  },
  {
   "cell_type": "code",
   "execution_count": 12,
   "outputs": [],
   "source": [
    "def plot_user_expenses(user_session_data, min_interval_value, max_interval_value):\n",
    "    calculate_expenses_with_interval(user_session_data, min_interval_value, max_interval_value).set_index(\"interval_number\").plot()"
   ],
   "metadata": {
    "collapsed": false,
    "pycharm": {
     "name": "#%%\n"
    }
   }
  },
  {
   "cell_type": "code",
   "execution_count": 13,
   "outputs": [],
   "source": [
    "def collect_correlations(sessions_data, products_data):\n",
    "    enriched_sessions_data = pd.merge(sessions_data, products_data, on=\"product_id\").sort_values(by=['timestamp'])\n",
    "    correlations = []\n",
    "    min_value = sessions_data['timestamp_interval'].min()\n",
    "    max_value = sessions_data['timestamp_interval'].max()\n",
    "    for user_id in enriched_sessions_data['user_id'].unique():\n",
    "        correlations.append(calculate_correlation_for_user(enriched_sessions_data[enriched_sessions_data['user_id'] == user_id], min_value, max_value))\n",
    "    return pd.DataFrame(data=correlations)"
   ],
   "metadata": {
    "collapsed": false,
    "pycharm": {
     "name": "#%%\n"
    }
   }
  },
  {
   "cell_type": "code",
   "execution_count": 14,
   "outputs": [
    {
     "data": {
      "text/plain": "     correlation  user_id\n0      -0.532732      139\n1      -0.507557      242\n2      -0.115067      108\n3      -0.085081      143\n4       0.028252      140\n..           ...      ...\n195          NaN      289\n196     0.408248      225\n197          NaN      152\n198     0.408248      162\n199     0.408248      229\n\n[200 rows x 2 columns]",
      "text/html": "<div>\n<style scoped>\n    .dataframe tbody tr th:only-of-type {\n        vertical-align: middle;\n    }\n\n    .dataframe tbody tr th {\n        vertical-align: top;\n    }\n\n    .dataframe thead th {\n        text-align: right;\n    }\n</style>\n<table border=\"1\" class=\"dataframe\">\n  <thead>\n    <tr style=\"text-align: right;\">\n      <th></th>\n      <th>correlation</th>\n      <th>user_id</th>\n    </tr>\n  </thead>\n  <tbody>\n    <tr>\n      <th>0</th>\n      <td>-0.532732</td>\n      <td>139</td>\n    </tr>\n    <tr>\n      <th>1</th>\n      <td>-0.507557</td>\n      <td>242</td>\n    </tr>\n    <tr>\n      <th>2</th>\n      <td>-0.115067</td>\n      <td>108</td>\n    </tr>\n    <tr>\n      <th>3</th>\n      <td>-0.085081</td>\n      <td>143</td>\n    </tr>\n    <tr>\n      <th>4</th>\n      <td>0.028252</td>\n      <td>140</td>\n    </tr>\n    <tr>\n      <th>...</th>\n      <td>...</td>\n      <td>...</td>\n    </tr>\n    <tr>\n      <th>195</th>\n      <td>NaN</td>\n      <td>289</td>\n    </tr>\n    <tr>\n      <th>196</th>\n      <td>0.408248</td>\n      <td>225</td>\n    </tr>\n    <tr>\n      <th>197</th>\n      <td>NaN</td>\n      <td>152</td>\n    </tr>\n    <tr>\n      <th>198</th>\n      <td>0.408248</td>\n      <td>162</td>\n    </tr>\n    <tr>\n      <th>199</th>\n      <td>0.408248</td>\n      <td>229</td>\n    </tr>\n  </tbody>\n</table>\n<p>200 rows × 2 columns</p>\n</div>"
     },
     "execution_count": 14,
     "metadata": {},
     "output_type": "execute_result"
    }
   ],
   "source": [
    "collected_correlations = collect_correlations(sessions_data, products_data)\n",
    "collected_correlations"
   ],
   "metadata": {
    "collapsed": false,
    "pycharm": {
     "name": "#%%\n"
    }
   }
  },
  {
   "cell_type": "code",
   "execution_count": 15,
   "outputs": [
    {
     "data": {
      "text/plain": "<AxesSubplot:ylabel='Frequency'>"
     },
     "execution_count": 15,
     "metadata": {},
     "output_type": "execute_result"
    },
    {
     "data": {
      "text/plain": "<Figure size 432x288 with 1 Axes>",
      "image/png": "[encoded data removed]"
     },
     "metadata": {
      "needs_background": "light"
     },
     "output_type": "display_data"
    }
   ],
   "source": [
    "collected_correlations['correlation'].plot.hist()"
   ],
   "metadata": {
    "collapsed": false,
    "pycharm": {
     "name": "#%%\n"
    }
   }
  },
  {
   "cell_type": "markdown",
   "source": [
    "# Trenowanie"
   ],
   "metadata": {
    "collapsed": false,
    "pycharm": {
     "name": "#%% md\n"
    }
   }
  },
  {
   "cell_type": "markdown",
   "source": [
    "#### Ekstrakcja szeregów"
   ],
   "metadata": {
    "collapsed": false,
    "pycharm": {
     "name": "#%% md\n"
    }
   }
  },
  {
   "cell_type": "code",
   "execution_count": 16,
   "outputs": [],
   "source": [
    "def calculate_expenses_with_interval(user_session_data, min_interval_value, max_interval_value):\n",
    "    expenses=[]\n",
    "    for interval in range (min_interval_value, max_interval_value + 1):\n",
    "        d = {\n",
    "            \"interval_number\": interval,\n",
    "            \"expenses\": user_session_data[(user_session_data['timestamp_interval'] == interval) & (user_session_data['event_type'] == \"BUY_PRODUCT\")]['price'].sum()}\n",
    "        expenses.append(d)\n",
    "        # expenses.append(d['expenses'])\n",
    "\n",
    "    df = pd.DataFrame(data=expenses)\n",
    "    return df\n",
    "    # df = df.set_index('month')"
   ],
   "metadata": {
    "collapsed": false,
    "pycharm": {
     "name": "#%%\n"
    }
   }
  },
  {
   "cell_type": "code",
   "execution_count": 17,
   "outputs": [],
   "source": [
    "def extract_time_series(sessions_data, products_data):\n",
    "    enriched_sessions_data = pd.merge(sessions_data, products_data, on=\"product_id\").sort_values(by=['timestamp'])\n",
    "    users_time_series = []\n",
    "    min_value = sessions_data['timestamp_interval'].min()\n",
    "    max_value = sessions_data['timestamp_interval'].max()\n",
    "    for user_id in enriched_sessions_data['user_id'].unique():\n",
    "        users_time_series.append(\n",
    "            {\n",
    "                \"user_id\":user_id,\n",
    "                \"expenses\": calculate_expenses_with_interval(enriched_sessions_data[enriched_sessions_data['user_id'] == user_id], min_value, max_value)\n",
    "            }\n",
    "        )\n",
    "    return users_time_series"
   ],
   "metadata": {
    "collapsed": false,
    "pycharm": {
     "name": "#%%\n"
    }
   }
  },
  {
   "cell_type": "code",
   "execution_count": 18,
   "outputs": [
    {
     "data": {
      "text/plain": "[{'user_id': 139,\n  'expenses':    interval_number  expenses\n  0                0   8568.86\n  1                1    571.15\n  2                2   3124.85\n  3                3   8090.99\n  4                4    773.58\n  5                5   2271.42\n  6                6      0.00},\n {'user_id': 242,\n  'expenses':    interval_number  expenses\n  0                0   5360.87\n  1                1   9209.44\n  2                2  20744.74\n  3                3   2469.82\n  4                4   4412.35\n  5                5   2320.96\n  6                6    158.96},\n {'user_id': 108,\n  'expenses':    interval_number  expenses\n  0                0    354.00\n  1                1   2368.79\n  2                2   6593.62\n  3                3    298.78\n  4                4   4730.88\n  5                5   1965.96\n  6                6      0.00},\n {'user_id': 143,\n  'expenses':    interval_number  expenses\n  0                0    193.80\n  1                1   2328.90\n  2                2    553.00\n  3                3    218.89\n  4                4   3854.69\n  5                5     64.80\n  6                6     58.97},\n {'user_id': 140,\n  'expenses':    interval_number  expenses\n  0                0    327.47\n  1                1   4924.78\n  2                2   8209.56\n  3                3   7100.89\n  4                4   6635.96\n  5                5   5134.89\n  6                6   1079.00},\n {'user_id': 202,\n  'expenses':    interval_number  expenses\n  0                0    377.46\n  1                1    220.86\n  2                2   2756.72\n  3                3   8279.61\n  4                4    770.28\n  5                5   9085.94\n  6                6   6797.90},\n {'user_id': 270,\n  'expenses':    interval_number  expenses\n  0                0    257.80\n  1                1   1796.87\n  2                2   4854.87\n  3                3   9813.08\n  4                4   4808.15\n  5                5  10559.45\n  6                6    611.97},\n {'user_id': 212,\n  'expenses':    interval_number  expenses\n  0                0    272.13\n  1                1   5229.90\n  2                2   1697.88\n  3                3   2620.92\n  4                4   4538.96\n  5                5   8009.98\n  6                6      0.00},\n {'user_id': 189,\n  'expenses':    interval_number  expenses\n  0                0    207.33\n  1                1    903.07\n  2                2    351.48\n  3                3   3789.91\n  4                4   4771.89\n  5                5   1203.59\n  6                6   1945.97},\n {'user_id': 205,\n  'expenses':    interval_number  expenses\n  0                0     78.90\n  1                1   2639.02\n  2                2      0.00\n  3                3      0.00\n  4                4    228.99\n  5                5    238.00\n  6                6      0.00},\n {'user_id': 255,\n  'expenses':    interval_number  expenses\n  0                0    207.33\n  1                1  10668.85\n  2                2    499.96\n  3                3   3858.27\n  4                4   3480.93\n  5                5   5788.08\n  6                6      0.00},\n {'user_id': 215,\n  'expenses':    interval_number  expenses\n  0                0     78.90\n  1                1   3556.24\n  2                2    482.26\n  3                3   1703.37\n  4                4   2169.56\n  5                5   2253.19\n  6                6      0.00},\n {'user_id': 273,\n  'expenses':    interval_number  expenses\n  0                0      0.00\n  1                1    273.74\n  2                2   1802.27\n  3                3   2393.42\n  4                4   4772.04\n  5                5   2808.01\n  6                6   5715.01},\n {'user_id': 281,\n  'expenses':    interval_number  expenses\n  0                0     58.97\n  1                1      0.00\n  2                2     17.90\n  3                3     49.90\n  4                4      0.00\n  5                5      0.00\n  6                6      0.00},\n {'user_id': 227,\n  'expenses':    interval_number  expenses\n  0                0      0.00\n  1                1    296.87\n  2                2  20637.72\n  3                3    384.06\n  4                4   5803.21\n  5                5   1925.97\n  6                6    553.00},\n {'user_id': 222,\n  'expenses':    interval_number  expenses\n  0                0   1303.96\n  1                1   1152.66\n  2                2    307.98\n  3                3   4567.89\n  4                4   7393.64\n  5                5    903.96\n  6                6    158.99},\n {'user_id': 235,\n  'expenses':    interval_number  expenses\n  0                0      0.00\n  1                1    193.00\n  2                2   1260.70\n  3                3    292.99\n  4                4   1541.96\n  5                5   2085.75\n  6                6    172.49},\n {'user_id': 171,\n  'expenses':    interval_number  expenses\n  0                0      0.00\n  1                1   5144.21\n  2                2   5291.72\n  3                3   5314.67\n  4                4   4214.12\n  5                5   3936.25\n  6                6    146.27},\n {'user_id': 188,\n  'expenses':    interval_number  expenses\n  0                0      0.00\n  1                1   1145.80\n  2                2   4412.74\n  3                3   2882.86\n  4                4   1314.68\n  5                5   1598.68\n  6                6      0.00},\n {'user_id': 135,\n  'expenses':    interval_number  expenses\n  0                0      0.00\n  1                1    271.90\n  2                2    193.00\n  3                3     63.49\n  4                4    228.99\n  5                5      0.00\n  6                6     69.00},\n {'user_id': 252,\n  'expenses':    interval_number  expenses\n  0                0      0.00\n  1                1   1303.96\n  2                2      0.00\n  3                3    109.00\n  4                4    199.98\n  5                5    117.89\n  6                6      0.00},\n {'user_id': 238,\n  'expenses':    interval_number  expenses\n  0                0      0.00\n  1                1   3034.94\n  2                2    658.98\n  3                3   6306.47\n  4                4   5982.60\n  5                5   4753.80\n  6                6    193.00},\n {'user_id': 145,\n  'expenses':    interval_number  expenses\n  0                0      0.00\n  1                1    568.85\n  2                2   2481.99\n  3                3   1590.70\n  4                4   1648.93\n  5                5   1652.98\n  6                6    522.02},\n {'user_id': 286,\n  'expenses':    interval_number  expenses\n  0                0      0.00\n  1                1      0.00\n  2                2    875.00\n  3                3   2317.02\n  4                4    164.88\n  5                5   1303.96\n  6                6     78.90},\n {'user_id': 157,\n  'expenses':    interval_number  expenses\n  0                0      0.00\n  1                1   1199.90\n  2                2    914.79\n  3                3   3820.03\n  4                4   1946.86\n  5                5      0.00\n  6                6      0.00},\n {'user_id': 265,\n  'expenses':    interval_number  expenses\n  0                0      0.00\n  1                1   2142.24\n  2                2    425.68\n  3                3    567.78\n  4                4   2355.30\n  5                5   1442.72\n  6                6     32.99},\n {'user_id': 127,\n  'expenses':    interval_number  expenses\n  0                0      0.00\n  1                1   6072.30\n  2                2   6272.67\n  3                3   9699.17\n  4                4   4947.95\n  5                5   1270.46\n  6                6   2417.01},\n {'user_id': 159,\n  'expenses':    interval_number  expenses\n  0                0      0.00\n  1                1    135.14\n  2                2   2451.73\n  3                3    598.34\n  4                4    646.98\n  5                5    158.90\n  6                6   2048.50},\n {'user_id': 119,\n  'expenses':    interval_number  expenses\n  0                0      0.00\n  1                1    114.98\n  2                2    553.00\n  3                3      0.00\n  4                4      0.00\n  5                5     86.28\n  6                6      0.00},\n {'user_id': 274,\n  'expenses':    interval_number  expenses\n  0                0      0.00\n  1                1    178.89\n  2                2    651.89\n  3                3   3738.95\n  4                4    960.87\n  5                5   4402.79\n  6                6   2317.02},\n {'user_id': 160,\n  'expenses':    interval_number  expenses\n  0                0      0.00\n  1                1     29.99\n  2                2   5968.90\n  3                3   5511.90\n  4                4   3019.80\n  5                5    322.44\n  6                6    553.00},\n {'user_id': 105,\n  'expenses':    interval_number  expenses\n  0                0      0.00\n  1                1   2984.51\n  2                2   1963.15\n  3                3   7267.33\n  4                4    578.28\n  5                5     49.99\n  6                6      0.00},\n {'user_id': 261,\n  'expenses':    interval_number  expenses\n  0                0      0.00\n  1                1   1875.94\n  2                2   5366.70\n  3                3   2369.97\n  4                4    260.23\n  5                5   2690.85\n  6                6      0.00},\n {'user_id': 185,\n  'expenses':    interval_number  expenses\n  0                0      0.00\n  1                1   6034.79\n  2                2   2669.23\n  3                3    706.97\n  4                4   4493.80\n  5                5   5724.20\n  6                6    697.97},\n {'user_id': 183,\n  'expenses':    interval_number  expenses\n  0                0      0.00\n  1                1     14.99\n  2                2      0.00\n  3                3   5126.00\n  4                4    891.57\n  5                5    229.98\n  6                6      0.00},\n {'user_id': 192,\n  'expenses':    interval_number  expenses\n  0                0      0.00\n  1                1   1203.29\n  2                2    632.90\n  3                3    234.77\n  4                4    825.13\n  5                5    617.80\n  6                6      0.00},\n {'user_id': 186,\n  'expenses':    interval_number  expenses\n  0                0      0.00\n  1                1   2199.90\n  2                2     69.00\n  3                3   1576.09\n  4                4    463.80\n  5                5   4767.00\n  6                6      0.00},\n {'user_id': 102,\n  'expenses':    interval_number  expenses\n  0                0      0.00\n  1                1    682.00\n  2                2   4209.87\n  3                3    315.79\n  4                4    251.97\n  5                5    283.99\n  6                6      0.00},\n {'user_id': 124,\n  'expenses':    interval_number  expenses\n  0                0      0.00\n  1                1   5667.76\n  2                2   6356.18\n  3                3   5309.44\n  4                4  25112.85\n  5                5   3138.83\n  6                6   2870.02},\n {'user_id': 282,\n  'expenses':    interval_number  expenses\n  0                0      0.00\n  1                1     58.97\n  2                2    156.69\n  3                3     89.90\n  4                4   8931.00\n  5                5     99.99\n  6                6      0.00},\n {'user_id': 210,\n  'expenses':    interval_number  expenses\n  0                0      0.00\n  1                1    158.96\n  2                2    238.00\n  3                3    815.89\n  4                4   3043.49\n  5                5   5220.95\n  6                6    119.79},\n {'user_id': 125,\n  'expenses':    interval_number  expenses\n  0                0      0.00\n  1                1    830.74\n  2                2   1351.66\n  3                3   8229.68\n  4                4   2633.77\n  5                5  14557.01\n  6                6     17.90},\n {'user_id': 272,\n  'expenses':    interval_number  expenses\n  0                0      0.00\n  1                1    398.99\n  2                2   1478.85\n  3                3   1583.84\n  4                4  17665.05\n  5                5   8543.14\n  6                6    832.28},\n {'user_id': 104,\n  'expenses':    interval_number  expenses\n  0                0      0.00\n  1                1    662.00\n  2                2   3481.86\n  3                3  11129.80\n  4                4    734.96\n  5                5   9251.08\n  6                6   2332.01},\n {'user_id': 115,\n  'expenses':    interval_number  expenses\n  0                0      0.00\n  1                1      0.00\n  2                2    328.68\n  3                3      0.00\n  4                4    553.00\n  5                5      0.00\n  6                6      0.00},\n {'user_id': 136,\n  'expenses':    interval_number  expenses\n  0                0      0.00\n  1                1   6836.88\n  2                2    898.20\n  3                3   8937.08\n  4                4   1383.79\n  5                5   3821.55\n  6                6    109.00},\n {'user_id': 285,\n  'expenses':    interval_number  expenses\n  0                0      0.00\n  1                1     54.99\n  2                2    228.99\n  3                3    688.78\n  4                4    101.27\n  5                5   1362.93\n  6                6      0.00},\n {'user_id': 133,\n  'expenses':    interval_number  expenses\n  0                0      0.00\n  1                1   5524.96\n  2                2   4754.70\n  3                3    553.00\n  4                4   3956.80\n  5                5  13660.05\n  6                6   2381.82},\n {'user_id': 187,\n  'expenses':    interval_number  expenses\n  0                0      0.00\n  1                1      0.00\n  2                2      0.00\n  3                3   2524.93\n  4                4   1156.17\n  5                5    481.99\n  6                6      0.00},\n {'user_id': 175,\n  'expenses':    interval_number  expenses\n  0                0      0.00\n  1                1   2381.82\n  2                2   5550.19\n  3                3   1503.39\n  4                4    553.00\n  5                5   1146.76\n  6                6     14.99},\n {'user_id': 161,\n  'expenses':    interval_number  expenses\n  0                0      0.00\n  1                1   1107.97\n  2                2   4363.72\n  3                3   2900.80\n  4                4  12275.45\n  5                5   7416.03\n  6                6   2339.89},\n {'user_id': 167,\n  'expenses':    interval_number  expenses\n  0                0      0.00\n  1                1      0.00\n  2                2     89.99\n  3                3     58.97\n  4                4    553.00\n  5                5   1164.97\n  6                6   1079.00},\n {'user_id': 213,\n  'expenses':    interval_number  expenses\n  0                0      0.00\n  1                1   2594.60\n  2                2   6556.49\n  3                3   5929.74\n  4                4   5380.20\n  5                5   8009.03\n  6                6    139.98},\n {'user_id': 292,\n  'expenses':    interval_number  expenses\n  0                0      0.00\n  1                1    138.87\n  2                2    891.45\n  3                3   5914.49\n  4                4   2147.12\n  5                5  10413.20\n  6                6     58.97},\n {'user_id': 256,\n  'expenses':    interval_number  expenses\n  0                0      0.00\n  1                1    109.00\n  2                2      0.00\n  3                3      0.00\n  4                4     59.99\n  5                5     78.90\n  6                6      0.00},\n {'user_id': 278,\n  'expenses':    interval_number  expenses\n  0                0      0.00\n  1                1      0.00\n  2                2     58.97\n  3                3      0.00\n  4                4    242.99\n  5                5      0.00\n  6                6      0.00},\n {'user_id': 263,\n  'expenses':    interval_number  expenses\n  0                0      0.00\n  1                1  10605.89\n  2                2     89.99\n  3                3   1007.50\n  4                4    488.64\n  5                5    666.48\n  6                6      0.00},\n {'user_id': 148,\n  'expenses':    interval_number  expenses\n  0                0      0.00\n  1                1      0.00\n  2                2   2931.99\n  3                3    662.00\n  4                4   2178.86\n  5                5    872.87\n  6                6     19.99},\n {'user_id': 200,\n  'expenses':    interval_number  expenses\n  0                0      0.00\n  1                1    271.90\n  2                2    198.90\n  3                3   3586.50\n  4                4   3270.78\n  5                5   1181.22\n  6                6   2949.92},\n {'user_id': 280,\n  'expenses':    interval_number  expenses\n  0                0      0.00\n  1                1      0.00\n  2                2   3557.68\n  3                3   2446.24\n  4                4   1296.19\n  5                5  12811.16\n  6                6   2838.90},\n {'user_id': 287,\n  'expenses':    interval_number  expenses\n  0                0      0.00\n  1                1    207.33\n  2                2    784.17\n  3                3   8484.23\n  4                4   4849.75\n  5                5  12296.99\n  6                6   4766.79},\n {'user_id': 208,\n  'expenses':    interval_number  expenses\n  0                0      0.00\n  1                1    193.00\n  2                2   3629.86\n  3                3    824.90\n  4                4    558.34\n  5                5   1941.56\n  6                6      0.00},\n {'user_id': 149,\n  'expenses':    interval_number  expenses\n  0                0      0.00\n  1                1   1816.97\n  2                2   3452.85\n  3                3   2994.93\n  4                4   1784.12\n  5                5   2568.07\n  6                6      0.00},\n {'user_id': 233,\n  'expenses':    interval_number  expenses\n  0                0      0.00\n  1                1    303.97\n  2                2   2168.32\n  3                3   2310.70\n  4                4   4777.55\n  5                5   3697.05\n  6                6      0.00},\n {'user_id': 236,\n  'expenses':    interval_number  expenses\n  0                0      0.00\n  1                1      0.00\n  2                2   4198.04\n  3                3     99.99\n  4                4    629.90\n  5                5    775.92\n  6                6      0.00},\n {'user_id': 246,\n  'expenses':    interval_number  expenses\n  0                0      0.00\n  1                1      0.00\n  2                2    765.88\n  3                3   5356.89\n  4                4   6630.60\n  5                5   4032.57\n  6                6     78.90},\n {'user_id': 193,\n  'expenses':    interval_number  expenses\n  0                0      0.00\n  1                1      0.00\n  2                2   2199.90\n  3                3   1895.87\n  4                4    307.32\n  5                5    839.23\n  6                6      0.00},\n {'user_id': 147,\n  'expenses':    interval_number  expenses\n  0                0      0.00\n  1                1      0.00\n  2                2      0.00\n  3                3      0.00\n  4                4     99.99\n  5                5      0.00\n  6                6   2199.90},\n {'user_id': 158,\n  'expenses':    interval_number  expenses\n  0                0      0.00\n  1                1      0.00\n  2                2  10362.78\n  3                3    590.76\n  4                4    728.89\n  5                5   7697.97\n  6                6   2048.50},\n {'user_id': 251,\n  'expenses':    interval_number  expenses\n  0                0      0.00\n  1                1      0.00\n  2                2  13297.77\n  3                3   2604.87\n  4                4   2653.43\n  5                5   1931.89\n  6                6    163.86},\n {'user_id': 277,\n  'expenses':    interval_number  expenses\n  0                0      0.00\n  1                1      0.00\n  2                2   2495.57\n  3                3   5394.86\n  4                4   5949.49\n  5                5   6905.50\n  6                6   4806.90},\n {'user_id': 182,\n  'expenses':    interval_number  expenses\n  0                0      0.00\n  1                1      0.00\n  2                2  13918.81\n  3                3   2736.62\n  4                4    322.14\n  5                5   1014.79\n  6                6    109.00},\n {'user_id': 151,\n  'expenses':    interval_number  expenses\n  0                0       0.0\n  1                1       0.0\n  2                2     349.0\n  3                3    6226.9\n  4                4       0.0\n  5                5     272.9\n  6                6      78.9},\n {'user_id': 253,\n  'expenses':    interval_number  expenses\n  0                0      0.00\n  1                1      0.00\n  2                2     58.97\n  3                3   6249.90\n  4                4   2377.74\n  5                5    904.96\n  6                6    553.00},\n {'user_id': 295,\n  'expenses':    interval_number  expenses\n  0                0      0.00\n  1                1      0.00\n  2                2   1940.96\n  3                3   3437.32\n  4                4  10747.18\n  5                5   5828.45\n  6                6    168.89},\n {'user_id': 262,\n  'expenses':    interval_number  expenses\n  0                0      0.00\n  1                1      0.00\n  2                2    199.88\n  3                3    129.00\n  4                4    232.77\n  5                5    287.79\n  6                6      0.00},\n {'user_id': 178,\n  'expenses':    interval_number  expenses\n  0                0      0.00\n  1                1      0.00\n  2                2   8546.90\n  3                3   1816.97\n  4                4      0.00\n  5                5      0.00\n  6                6    218.89},\n {'user_id': 156,\n  'expenses':    interval_number  expenses\n  0                0      0.00\n  1                1      0.00\n  2                2     54.99\n  3                3   6184.31\n  4                4    426.77\n  5                5    724.27\n  6                6      0.00},\n {'user_id': 110,\n  'expenses':    interval_number  expenses\n  0                0      0.00\n  1                1      0.00\n  2                2   2884.26\n  3                3   3876.99\n  4                4   3684.22\n  5                5     49.99\n  6                6   1079.00},\n {'user_id': 120,\n  'expenses':    interval_number  expenses\n  0                0      0.00\n  1                1      0.00\n  2                2   3798.01\n  3                3   3252.17\n  4                4   1844.77\n  5                5   9011.30\n  6                6      0.00},\n {'user_id': 118,\n  'expenses':    interval_number  expenses\n  0                0      0.00\n  1                1      0.00\n  2                2   3283.65\n  3                3   5005.84\n  4                4  15045.42\n  5                5    848.76\n  6                6      0.00},\n {'user_id': 204,\n  'expenses':    interval_number  expenses\n  0                0      0.00\n  1                1      0.00\n  2                2    287.98\n  3                3   7279.86\n  4                4   3386.33\n  5                5   3361.45\n  6                6    193.00},\n {'user_id': 300,\n  'expenses':    interval_number  expenses\n  0                0      0.00\n  1                1      0.00\n  2                2     99.99\n  3                3   2299.89\n  4                4   7703.80\n  5                5   3741.12\n  6                6      0.00},\n {'user_id': 128,\n  'expenses':    interval_number  expenses\n  0                0      0.00\n  1                1      0.00\n  2                2  10119.50\n  3                3   8207.52\n  4                4   1098.86\n  5                5   1338.03\n  6                6     99.99},\n {'user_id': 260,\n  'expenses':    interval_number  expenses\n  0                0      0.00\n  1                1      0.00\n  2                2   4373.52\n  3                3  15723.16\n  4                4   5200.31\n  5                5   1030.77\n  6                6    760.33},\n {'user_id': 141,\n  'expenses':    interval_number  expenses\n  0                0       0.0\n  1                1       0.0\n  2                2       0.0\n  3                3    2399.0\n  4                4       0.0\n  5                5      79.9\n  6                6       0.0},\n {'user_id': 190,\n  'expenses':    interval_number  expenses\n  0                0      0.00\n  1                1      0.00\n  2                2    109.00\n  3                3      0.00\n  4                4   3361.89\n  5                5   1451.99\n  6                6      0.00},\n {'user_id': 114,\n  'expenses':    interval_number  expenses\n  0                0      0.00\n  1                1      0.00\n  2                2     82.99\n  3                3      0.00\n  4                4    147.79\n  5                5      0.00\n  6                6      0.00},\n {'user_id': 240,\n  'expenses':    interval_number  expenses\n  0                0      0.00\n  1                1      0.00\n  2                2      0.00\n  3                3      0.00\n  4                4    183.99\n  5                5   1816.97\n  6                6      0.00},\n {'user_id': 130,\n  'expenses':    interval_number  expenses\n  0                0      0.00\n  1                1      0.00\n  2                2   5390.60\n  3                3   2883.88\n  4                4   9584.97\n  5                5   2559.90\n  6                6   2212.00},\n {'user_id': 195,\n  'expenses':    interval_number  expenses\n  0                0      0.00\n  1                1      0.00\n  2                2   1449.95\n  3                3   6472.13\n  4                4    560.65\n  5                5   8850.99\n  6                6    252.90},\n {'user_id': 288,\n  'expenses':    interval_number  expenses\n  0                0      0.00\n  1                1      0.00\n  2                2    565.89\n  3                3   1303.96\n  4                4    394.24\n  5                5   5721.32\n  6                6    739.00},\n {'user_id': 177,\n  'expenses':    interval_number  expenses\n  0                0      0.00\n  1                1      0.00\n  2                2   8417.11\n  3                3     64.80\n  4                4   7747.92\n  5                5   1816.97\n  6                6    743.18},\n {'user_id': 122,\n  'expenses':    interval_number  expenses\n  0                0      0.00\n  1                1      0.00\n  2                2    589.95\n  3                3   3010.77\n  4                4    429.68\n  5                5    344.08\n  6                6   2426.02},\n {'user_id': 173,\n  'expenses':    interval_number  expenses\n  0                0      0.00\n  1                1      0.00\n  2                2    291.25\n  3                3    357.27\n  4                4   4909.93\n  5                5   5753.70\n  6                6   7769.02},\n {'user_id': 293,\n  'expenses':    interval_number  expenses\n  0                0      0.00\n  1                1      0.00\n  2                2   7570.80\n  3                3    631.21\n  4                4    789.56\n  5                5  14148.62\n  6                6      0.00},\n {'user_id': 121,\n  'expenses':    interval_number  expenses\n  0                0      0.00\n  1                1      0.00\n  2                2   3243.51\n  3                3   5041.90\n  4                4   5951.08\n  5                5  18851.96\n  6                6   1831.96},\n {'user_id': 279,\n  'expenses':    interval_number  expenses\n  0                0      0.00\n  1                1      0.00\n  2                2   4236.03\n  3                3    791.00\n  4                4   2740.82\n  5                5   8600.51\n  6                6      0.00},\n {'user_id': 131,\n  'expenses':    interval_number  expenses\n  0                0      0.00\n  1                1      0.00\n  2                2      0.00\n  3                3    307.32\n  4                4      0.00\n  5                5   2615.97\n  6                6      0.00},\n {'user_id': 257,\n  'expenses':    interval_number  expenses\n  0                0      0.00\n  1                1      0.00\n  2                2    553.00\n  3                3      0.00\n  4                4   2061.97\n  5                5      0.00\n  6                6      0.00},\n {'user_id': 113,\n  'expenses':    interval_number  expenses\n  0                0      0.00\n  1                1      0.00\n  2                2    251.97\n  3                3   3567.15\n  4                4  12222.63\n  5                5   4933.37\n  6                6      0.00},\n {'user_id': 150,\n  'expenses':    interval_number  expenses\n  0                0      0.00\n  1                1      0.00\n  2                2   2065.97\n  3                3   1730.88\n  4                4   8867.80\n  5                5   2521.98\n  6                6      0.00},\n {'user_id': 248,\n  'expenses':    interval_number  expenses\n  0                0      0.00\n  1                1      0.00\n  2                2      0.00\n  3                3     58.97\n  4                4   4598.00\n  5                5   2128.40\n  6                6    189.00},\n {'user_id': 245,\n  'expenses':    interval_number  expenses\n  0                0      0.00\n  1                1      0.00\n  2                2     78.90\n  3                3     58.97\n  4                4   2136.01\n  5                5   4749.08\n  6                6      0.00},\n {'user_id': 224,\n  'expenses':    interval_number  expenses\n  0                0      0.00\n  1                1      0.00\n  2                2   2048.50\n  3                3   2531.56\n  4                4    242.78\n  5                5    332.37\n  6                6    207.33},\n {'user_id': 228,\n  'expenses':    interval_number  expenses\n  0                0      0.00\n  1                1      0.00\n  2                2      0.00\n  3                3    855.88\n  4                4      0.00\n  5                5     89.90\n  6                6    349.00},\n {'user_id': 172,\n  'expenses':    interval_number  expenses\n  0                0      0.00\n  1                1      0.00\n  2                2    352.58\n  3                3    760.33\n  4                4  10167.57\n  5                5   2670.79\n  6                6     78.90},\n {'user_id': 165,\n  'expenses':    interval_number  expenses\n  0                0      0.00\n  1                1      0.00\n  2                2   5508.00\n  3                3   8686.54\n  4                4   9683.76\n  5                5   8343.24\n  6                6     14.99},\n {'user_id': 126,\n  'expenses':    interval_number  expenses\n  0                0      0.00\n  1                1      0.00\n  2                2      0.00\n  3                3   2814.73\n  4                4   1270.79\n  5                5   9121.93\n  6                6      0.00},\n {'user_id': 194,\n  'expenses':    interval_number  expenses\n  0                0      0.00\n  1                1      0.00\n  2                2     49.99\n  3                3    582.20\n  4                4   4607.14\n  5                5    639.00\n  6                6      0.00},\n {'user_id': 164,\n  'expenses':    interval_number  expenses\n  0                0      0.00\n  1                1      0.00\n  2                2   2407.23\n  3                3    802.00\n  4                4    877.90\n  5                5     78.90\n  6                6   5184.97},\n {'user_id': 268,\n  'expenses':    interval_number  expenses\n  0                0      0.00\n  1                1      0.00\n  2                2      0.00\n  3                3   2317.02\n  4                4      0.00\n  5                5      0.00\n  6                6      0.00},\n {'user_id': 176,\n  'expenses':    interval_number  expenses\n  0                0      0.00\n  1                1      0.00\n  2                2     64.80\n  3                3   6227.94\n  4                4   3137.96\n  5                5   2446.02\n  6                6   2369.97},\n {'user_id': 243,\n  'expenses':    interval_number  expenses\n  0                0      0.00\n  1                1      0.00\n  2                2      0.00\n  3                3   2412.50\n  4                4    430.93\n  5                5    354.17\n  6                6     49.99},\n {'user_id': 214,\n  'expenses':    interval_number  expenses\n  0                0      0.00\n  1                1      0.00\n  2                2    169.00\n  3                3    674.23\n  4                4   6668.00\n  5                5   2982.14\n  6                6   3029.00},\n {'user_id': 232,\n  'expenses':    interval_number  expenses\n  0                0      0.00\n  1                1      0.00\n  2                2      0.00\n  3                3   2670.69\n  4                4   5568.06\n  5                5   1989.90\n  6                6     32.99},\n {'user_id': 267,\n  'expenses':    interval_number  expenses\n  0                0      0.00\n  1                1      0.00\n  2                2      0.00\n  3                3    238.99\n  4                4   1382.86\n  5                5    208.86\n  6                6     64.80},\n {'user_id': 117,\n  'expenses':    interval_number  expenses\n  0                0       0.0\n  1                1       0.0\n  2                2       0.0\n  3                3    2328.9\n  4                4     189.0\n  5                5     631.9\n  6                6       0.0},\n {'user_id': 111,\n  'expenses':    interval_number  expenses\n  0                0      0.00\n  1                1      0.00\n  2                2      0.00\n  3                3  13195.44\n  4                4   2168.36\n  5                5   6167.26\n  6                6     61.18},\n {'user_id': 109,\n  'expenses':    interval_number  expenses\n  0                0      0.00\n  1                1      0.00\n  2                2    639.00\n  3                3   3191.53\n  4                4  18842.82\n  5                5   7663.89\n  6                6    119.98},\n {'user_id': 271,\n  'expenses':    interval_number  expenses\n  0                0      0.00\n  1                1      0.00\n  2                2      0.00\n  3                3   2836.78\n  4                4   1899.95\n  5                5   7698.90\n  6                6      0.00},\n {'user_id': 107,\n  'expenses':    interval_number  expenses\n  0                0      0.00\n  1                1      0.00\n  2                2      0.00\n  3                3    303.99\n  4                4    123.99\n  5                5    540.69\n  6                6     78.90},\n {'user_id': 247,\n  'expenses':    interval_number  expenses\n  0                0      0.00\n  1                1      0.00\n  2                2     58.97\n  3                3    431.88\n  4                4   1006.99\n  5                5   3617.95\n  6                6    932.00},\n {'user_id': 299,\n  'expenses':    interval_number  expenses\n  0                0      0.00\n  1                1      0.00\n  2                2      0.00\n  3                3    142.39\n  4                4   7384.86\n  5                5   3971.49\n  6                6      0.00},\n {'user_id': 241,\n  'expenses':    interval_number  expenses\n  0                0      0.00\n  1                1      0.00\n  2                2      0.00\n  3                3   5323.06\n  4                4    979.92\n  5                5   1218.76\n  6                6    129.99},\n {'user_id': 207,\n  'expenses':    interval_number  expenses\n  0                0      0.00\n  1                1      0.00\n  2                2      0.00\n  3                3   4269.63\n  4                4  19386.23\n  5                5   3245.09\n  6                6    168.79},\n {'user_id': 197,\n  'expenses':    interval_number  expenses\n  0                0      0.00\n  1                1      0.00\n  2                2      0.00\n  3                3   3077.91\n  4                4   9189.82\n  5                5   5836.59\n  6                6      0.00},\n {'user_id': 276,\n  'expenses':    interval_number  expenses\n  0                0      0.00\n  1                1      0.00\n  2                2      0.00\n  3                3   5381.17\n  4                4   6030.66\n  5                5   9681.89\n  6                6    207.33},\n {'user_id': 155,\n  'expenses':    interval_number  expenses\n  0                0      0.00\n  1                1      0.00\n  2                2      0.00\n  3                3  10127.92\n  4                4   2918.83\n  5                5   7560.66\n  6                6    611.97},\n {'user_id': 250,\n  'expenses':    interval_number  expenses\n  0                0      0.00\n  1                1      0.00\n  2                2      0.00\n  3                3   8666.96\n  4                4   6370.79\n  5                5   4226.54\n  6                6   1893.87},\n {'user_id': 211,\n  'expenses':    interval_number  expenses\n  0                0      0.00\n  1                1      0.00\n  2                2      0.00\n  3                3   2057.11\n  4                4   4208.88\n  5                5   2435.89\n  6                6   3872.95},\n {'user_id': 170,\n  'expenses':    interval_number  expenses\n  0                0      0.00\n  1                1      0.00\n  2                2      0.00\n  3                3   1403.95\n  4                4   5202.02\n  5                5   3247.93\n  6                6    170.18},\n {'user_id': 275,\n  'expenses':    interval_number  expenses\n  0                0      0.00\n  1                1      0.00\n  2                2      0.00\n  3                3  14048.80\n  4                4   7038.57\n  5                5   9609.33\n  6                6     79.90},\n {'user_id': 142,\n  'expenses':    interval_number  expenses\n  0                0      0.00\n  1                1      0.00\n  2                2      0.00\n  3                3    465.34\n  4                4   1166.46\n  5                5   4792.30\n  6                6      0.00},\n {'user_id': 134,\n  'expenses':    interval_number  expenses\n  0                0      0.00\n  1                1      0.00\n  2                2      0.00\n  3                3     58.97\n  4                4     58.97\n  5                5     58.97\n  6                6     78.90},\n {'user_id': 234,\n  'expenses':    interval_number  expenses\n  0                0      0.00\n  1                1      0.00\n  2                2      0.00\n  3                3    129.00\n  4                4   2551.14\n  5                5   4469.20\n  6                6      0.00},\n {'user_id': 138,\n  'expenses':    interval_number  expenses\n  0                0      0.00\n  1                1      0.00\n  2                2      0.00\n  3                3   4627.86\n  4                4   1786.98\n  5                5   7172.45\n  6                6   2199.90},\n {'user_id': 191,\n  'expenses':    interval_number  expenses\n  0                0      0.00\n  1                1      0.00\n  2                2      0.00\n  3                3    569.32\n  4                4   1946.96\n  5                5    338.00\n  6                6      0.00},\n {'user_id': 103,\n  'expenses':    interval_number  expenses\n  0                0      0.00\n  1                1      0.00\n  2                2      0.00\n  3                3   6902.77\n  4                4   4784.75\n  5                5   7321.86\n  6                6    554.77},\n {'user_id': 239,\n  'expenses':    interval_number  expenses\n  0                0      0.00\n  1                1      0.00\n  2                2      0.00\n  3                3    109.00\n  4                4   2447.13\n  5                5    700.99\n  6                6      0.00},\n {'user_id': 226,\n  'expenses':    interval_number  expenses\n  0                0      0.00\n  1                1      0.00\n  2                2      0.00\n  3                3    697.70\n  4                4   5858.43\n  5                5   2554.79\n  6                6      0.00},\n {'user_id': 198,\n  'expenses':    interval_number  expenses\n  0                0      0.00\n  1                1      0.00\n  2                2      0.00\n  3                3   2704.01\n  4                4   1415.34\n  5                5    207.33\n  6                6      0.00},\n {'user_id': 266,\n  'expenses':    interval_number  expenses\n  0                0      0.00\n  1                1      0.00\n  2                2      0.00\n  3                3   6428.38\n  4                4   3637.69\n  5                5  10764.78\n  6                6   5301.90},\n {'user_id': 154,\n  'expenses':    interval_number  expenses\n  0                0      0.00\n  1                1      0.00\n  2                2      0.00\n  3                3   3963.83\n  4                4    712.89\n  5                5   3992.72\n  6                6      0.00},\n {'user_id': 223,\n  'expenses':    interval_number  expenses\n  0                0      0.00\n  1                1      0.00\n  2                2      0.00\n  3                3   5109.75\n  4                4    302.89\n  5                5  19995.37\n  6                6    327.47},\n {'user_id': 237,\n  'expenses':    interval_number  expenses\n  0                0      0.00\n  1                1      0.00\n  2                2      0.00\n  3                3  10559.32\n  4                4   2903.45\n  5                5   7753.52\n  6                6     99.99},\n {'user_id': 123,\n  'expenses':    interval_number  expenses\n  0                0      0.00\n  1                1      0.00\n  2                2      0.00\n  3                3      0.00\n  4                4    119.79\n  5                5    266.30\n  6                6   2199.90},\n {'user_id': 137,\n  'expenses':    interval_number  expenses\n  0                0      0.00\n  1                1      0.00\n  2                2      0.00\n  3                3   6661.97\n  4                4   1146.45\n  5                5  12639.12\n  6                6   3215.30},\n {'user_id': 231,\n  'expenses':    interval_number  expenses\n  0                0      0.00\n  1                1      0.00\n  2                2      0.00\n  3                3     14.99\n  4                4    553.00\n  5                5   2317.02\n  6                6      0.00},\n {'user_id': 163,\n  'expenses':    interval_number  expenses\n  0                0      0.00\n  1                1      0.00\n  2                2      0.00\n  3                3    553.00\n  4                4   1927.28\n  5                5   3475.18\n  6                6      0.00},\n {'user_id': 166,\n  'expenses':    interval_number  expenses\n  0                0      0.00\n  1                1      0.00\n  2                2      0.00\n  3                3    553.00\n  4                4    170.86\n  5                5   1816.97\n  6                6      0.00},\n {'user_id': 259,\n  'expenses':    interval_number  expenses\n  0                0      0.00\n  1                1      0.00\n  2                2      0.00\n  3                3   3802.30\n  4                4   5949.57\n  5                5   4558.45\n  6                6      0.00},\n {'user_id': 291,\n  'expenses':    interval_number  expenses\n  0                0      0.00\n  1                1      0.00\n  2                2      0.00\n  3                3     59.99\n  4                4      0.00\n  5                5      0.00\n  6                6      0.00},\n {'user_id': 301,\n  'expenses':    interval_number  expenses\n  0                0      0.00\n  1                1      0.00\n  2                2      0.00\n  3                3   3955.89\n  4                4   6264.99\n  5                5   3142.29\n  6                6      0.00},\n {'user_id': 181,\n  'expenses':    interval_number  expenses\n  0                0      0.00\n  1                1      0.00\n  2                2      0.00\n  3                3    504.90\n  4                4   6691.85\n  5                5   5002.99\n  6                6   1178.99},\n {'user_id': 153,\n  'expenses':    interval_number  expenses\n  0                0      0.00\n  1                1      0.00\n  2                2      0.00\n  3                3      0.00\n  4                4    193.00\n  5                5      0.00\n  6                6    597.99},\n {'user_id': 129,\n  'expenses':    interval_number  expenses\n  0                0      0.00\n  1                1      0.00\n  2                2      0.00\n  3                3      0.00\n  4                4   2737.19\n  5                5  11891.19\n  6                6   2199.90},\n {'user_id': 218,\n  'expenses':    interval_number  expenses\n  0                0      0.00\n  1                1      0.00\n  2                2      0.00\n  3                3   2317.02\n  4                4      0.00\n  5                5    168.79\n  6                6      0.00},\n {'user_id': 146,\n  'expenses':    interval_number  expenses\n  0                0      0.00\n  1                1      0.00\n  2                2      0.00\n  3                3     58.97\n  4                4    207.33\n  5                5   2317.02\n  6                6      0.00},\n {'user_id': 174,\n  'expenses':    interval_number  expenses\n  0                0      0.00\n  1                1      0.00\n  2                2      0.00\n  3                3   4579.00\n  4                4   9513.93\n  5                5   5305.89\n  6                6      0.00},\n {'user_id': 180,\n  'expenses':    interval_number  expenses\n  0                0      0.00\n  1                1      0.00\n  2                2      0.00\n  3                3     89.99\n  4                4   2417.01\n  5                5   7093.18\n  6                6    571.00},\n {'user_id': 297,\n  'expenses':    interval_number  expenses\n  0                0      0.00\n  1                1      0.00\n  2                2      0.00\n  3                3   3336.32\n  4                4   3748.69\n  5                5   2504.29\n  6                6    109.00},\n {'user_id': 184,\n  'expenses':    interval_number  expenses\n  0                0      0.00\n  1                1      0.00\n  2                2      0.00\n  3                3      0.00\n  4                4   2255.83\n  5                5   3109.98\n  6                6    299.00},\n {'user_id': 106,\n  'expenses':    interval_number  expenses\n  0                0      0.00\n  1                1      0.00\n  2                2      0.00\n  3                3    123.77\n  4                4   1406.87\n  5                5  10812.20\n  6                6      0.00},\n {'user_id': 254,\n  'expenses':    interval_number  expenses\n  0                0      0.00\n  1                1      0.00\n  2                2      0.00\n  3                3      0.00\n  4                4    958.98\n  5                5   1907.14\n  6                6     87.89},\n {'user_id': 199,\n  'expenses':    interval_number  expenses\n  0                0      0.00\n  1                1      0.00\n  2                2      0.00\n  3                3    917.99\n  4                4   2183.48\n  5                5   7809.18\n  6                6    357.97},\n {'user_id': 179,\n  'expenses':    interval_number  expenses\n  0                0      0.00\n  1                1      0.00\n  2                2      0.00\n  3                3   2224.94\n  4                4   9623.30\n  5                5   1386.95\n  6                6      0.00},\n {'user_id': 203,\n  'expenses':    interval_number  expenses\n  0                0      0.00\n  1                1      0.00\n  2                2      0.00\n  3                3   1885.97\n  4                4   3838.18\n  5                5   2199.90\n  6                6     59.90},\n {'user_id': 220,\n  'expenses':    interval_number  expenses\n  0                0      0.00\n  1                1      0.00\n  2                2      0.00\n  3                3    249.00\n  4                4   2904.98\n  5                5   3821.96\n  6                6      0.00},\n {'user_id': 216,\n  'expenses':    interval_number  expenses\n  0                0      0.00\n  1                1      0.00\n  2                2      0.00\n  3                3      0.00\n  4                4   2604.91\n  5                5   1173.66\n  6                6      0.00},\n {'user_id': 201,\n  'expenses':    interval_number  expenses\n  0                0      0.00\n  1                1      0.00\n  2                2      0.00\n  3                3    193.00\n  4                4      0.00\n  5                5      0.00\n  6                6   2317.02},\n {'user_id': 284,\n  'expenses':    interval_number  expenses\n  0                0      0.00\n  1                1      0.00\n  2                2      0.00\n  3                3    249.00\n  4                4   1985.76\n  5                5   2566.02\n  6                6      0.00},\n {'user_id': 116,\n  'expenses':    interval_number  expenses\n  0                0      0.00\n  1                1      0.00\n  2                2      0.00\n  3                3      0.00\n  4                4   6927.82\n  5                5   2263.31\n  6                6    939.44},\n {'user_id': 168,\n  'expenses':    interval_number  expenses\n  0                0      0.00\n  1                1      0.00\n  2                2      0.00\n  3                3    607.99\n  4                4   7362.56\n  5                5   6248.02\n  6                6     14.99},\n {'user_id': 209,\n  'expenses':    interval_number  expenses\n  0                0      0.00\n  1                1      0.00\n  2                2      0.00\n  3                3     78.90\n  4                4    853.99\n  5                5     14.99\n  6                6     14.99},\n {'user_id': 298,\n  'expenses':    interval_number  expenses\n  0                0      0.00\n  1                1      0.00\n  2                2      0.00\n  3                3      0.00\n  4                4   5626.49\n  5                5   6087.84\n  6                6   2399.00},\n {'user_id': 112,\n  'expenses':    interval_number  expenses\n  0                0      0.00\n  1                1      0.00\n  2                2      0.00\n  3                3      0.00\n  4                4   5950.94\n  5                5   7602.79\n  6                6    307.32},\n {'user_id': 219,\n  'expenses':    interval_number  expenses\n  0                0      0.00\n  1                1      0.00\n  2                2      0.00\n  3                3      0.00\n  4                4    271.90\n  5                5   6069.93\n  6                6      0.00},\n {'user_id': 196,\n  'expenses':    interval_number  expenses\n  0                0      0.00\n  1                1      0.00\n  2                2      0.00\n  3                3      0.00\n  4                4     86.28\n  5                5    729.70\n  6                6     59.99},\n {'user_id': 290,\n  'expenses':    interval_number  expenses\n  0                0      0.00\n  1                1      0.00\n  2                2      0.00\n  3                3      0.00\n  4                4   2684.25\n  5                5   8772.37\n  6                6     92.89},\n {'user_id': 249,\n  'expenses':    interval_number  expenses\n  0                0      0.00\n  1                1      0.00\n  2                2      0.00\n  3                3      0.00\n  4                4    984.43\n  5                5   8314.52\n  6                6      0.00},\n {'user_id': 294,\n  'expenses':    interval_number  expenses\n  0                0      0.00\n  1                1      0.00\n  2                2      0.00\n  3                3      0.00\n  4                4   6269.67\n  5                5     49.99\n  6                6      0.00},\n {'user_id': 296,\n  'expenses':    interval_number  expenses\n  0                0      0.00\n  1                1      0.00\n  2                2      0.00\n  3                3      0.00\n  4                4   2317.02\n  5                5    248.27\n  6                6      0.00},\n {'user_id': 230,\n  'expenses':    interval_number  expenses\n  0                0      0.00\n  1                1      0.00\n  2                2      0.00\n  3                3      0.00\n  4                4   1011.97\n  5                5   4980.39\n  6                6      0.00},\n {'user_id': 258,\n  'expenses':    interval_number  expenses\n  0                0      0.00\n  1                1      0.00\n  2                2      0.00\n  3                3      0.00\n  4                4   1054.98\n  5                5    917.44\n  6                6     99.99},\n {'user_id': 217,\n  'expenses':    interval_number  expenses\n  0                0      0.00\n  1                1      0.00\n  2                2      0.00\n  3                3      0.00\n  4                4   3095.67\n  5                5  15357.34\n  6                6    199.98},\n {'user_id': 244,\n  'expenses':    interval_number  expenses\n  0                0      0.00\n  1                1      0.00\n  2                2      0.00\n  3                3      0.00\n  4                4     89.99\n  5                5      0.00\n  6                6      0.00},\n {'user_id': 132,\n  'expenses':    interval_number  expenses\n  0                0      0.00\n  1                1      0.00\n  2                2      0.00\n  3                3      0.00\n  4                4   1369.80\n  5                5   3504.03\n  6                6   5337.90},\n {'user_id': 144,\n  'expenses':    interval_number  expenses\n  0                0      0.00\n  1                1      0.00\n  2                2      0.00\n  3                3      0.00\n  4                4   4031.16\n  5                5    594.14\n  6                6   2317.02},\n {'user_id': 221,\n  'expenses':    interval_number  expenses\n  0                0      0.00\n  1                1      0.00\n  2                2      0.00\n  3                3      0.00\n  4                4   4046.64\n  5                5    218.99\n  6                6     79.90},\n {'user_id': 264,\n  'expenses':    interval_number  expenses\n  0                0       0.0\n  1                1       0.0\n  2                2       0.0\n  3                3       0.0\n  4                4     639.0\n  5                5       0.0\n  6                6       0.0},\n {'user_id': 206,\n  'expenses':    interval_number  expenses\n  0                0      0.00\n  1                1      0.00\n  2                2      0.00\n  3                3      0.00\n  4                4      0.00\n  5                5   1816.97\n  6                6      0.00},\n {'user_id': 283,\n  'expenses':    interval_number  expenses\n  0                0      0.00\n  1                1      0.00\n  2                2      0.00\n  3                3      0.00\n  4                4    263.89\n  5                5      0.00\n  6                6      0.00},\n {'user_id': 269,\n  'expenses':    interval_number  expenses\n  0                0       0.0\n  1                1       0.0\n  2                2       0.0\n  3                3       0.0\n  4                4      79.9\n  5                5       0.0\n  6                6       0.0},\n {'user_id': 169,\n  'expenses':    interval_number  expenses\n  0                0      0.00\n  1                1      0.00\n  2                2      0.00\n  3                3      0.00\n  4                4      0.00\n  5                5    639.28\n  6                6      0.00},\n {'user_id': 289,\n  'expenses':    interval_number  expenses\n  0                0       0.0\n  1                1       0.0\n  2                2       0.0\n  3                3       0.0\n  4                4       0.0\n  5                5       0.0\n  6                6       0.0},\n {'user_id': 225,\n  'expenses':    interval_number  expenses\n  0                0       0.0\n  1                1       0.0\n  2                2       0.0\n  3                3       0.0\n  4                4       0.0\n  5                5     109.0\n  6                6       0.0},\n {'user_id': 152,\n  'expenses':    interval_number  expenses\n  0                0       0.0\n  1                1       0.0\n  2                2       0.0\n  3                3       0.0\n  4                4       0.0\n  5                5       0.0\n  6                6       0.0},\n {'user_id': 162,\n  'expenses':    interval_number  expenses\n  0                0      0.00\n  1                1      0.00\n  2                2      0.00\n  3                3      0.00\n  4                4      0.00\n  5                5     78.96\n  6                6      0.00},\n {'user_id': 229,\n  'expenses':    interval_number  expenses\n  0                0       0.0\n  1                1       0.0\n  2                2       0.0\n  3                3       0.0\n  4                4       0.0\n  5                5     245.0\n  6                6       0.0}]"
     },
     "execution_count": 18,
     "metadata": {},
     "output_type": "execute_result"
    }
   ],
   "source": [
    "extract_time_series(sessions_data, products_data)"
   ],
   "metadata": {
    "collapsed": false,
    "pycharm": {
     "name": "#%%\n"
    }
   }
  },
  {
   "cell_type": "markdown",
   "source": [
    "#### Predykcja (model bazowy)"
   ],
   "metadata": {
    "collapsed": false
   }
  },
  {
   "cell_type": "code",
   "execution_count": 19,
   "outputs": [],
   "source": [
    "import numpy as np\n",
    "from sklearn.linear_model import LinearRegression"
   ],
   "metadata": {
    "collapsed": false,
    "pycharm": {
     "name": "#%%\n"
    }
   }
  },
  {
   "cell_type": "code",
   "execution_count": 20,
   "outputs": [],
   "source": [
    "def predict_expenses_for_user(time_series):\n",
    "    model = LinearRegression()\n",
    "    model.fit(time_series['interval_number'].values.reshape(-1,1), time_series['expenses'].values.reshape(-1,1))\n",
    "    return max(model.predict((time_series['interval_number'].max() + 1).reshape(1,-1))[0,0], 0)"
   ],
   "metadata": {
    "collapsed": false,
    "pycharm": {
     "name": "#%%\n"
    }
   }
  },
  {
   "cell_type": "code",
   "execution_count": 21,
   "outputs": [],
   "source": [
    "def predict_expenses_for_all_users(sessions_data, products_data):\n",
    "    extracted_time_series = extract_time_series(sessions_data, products_data)\n",
    "    user_future_expenses = []\n",
    "    for record in extracted_time_series:\n",
    "        user_future_expenses.append({\n",
    "            \"user_id\":record[\"user_id\"],\n",
    "            \"user_expenses\": predict_expenses_for_user(record[\"expenses\"])\n",
    "        })\n",
    "    return pd.DataFrame(data=user_future_expenses).set_index('user_id')"
   ],
   "metadata": {
    "collapsed": false,
    "pycharm": {
     "name": "#%%\n"
    }
   }
  },
  {
   "cell_type": "code",
   "execution_count": 22,
   "outputs": [],
   "source": [
    "predictions = predict_expenses_for_all_users(sessions_data, products_data)"
   ],
   "metadata": {
    "collapsed": false,
    "pycharm": {
     "name": "#%%\n"
    }
   }
  },
  {
   "cell_type": "code",
   "execution_count": 23,
   "outputs": [],
   "source": [
    "# enriched_sessions_data = pd.merge(sessions_data, products_data, on=\"product_id\").sort_values(by=['timestamp'])\n",
    "# user_session_data = enriched_sessions_data[enriched_sessions_data['user_id'] == 104]\n",
    "# ex_time_series = calculate_expenses_with_interval(user_session_data, 1, 12)\n",
    "# predict_expenses_for_user(ex_time_series)\n",
    "# # print(ex_time_series['expenses'].values.reshape(-1,11))"
   ],
   "metadata": {
    "collapsed": false,
    "pycharm": {
     "name": "#%%\n"
    }
   }
  },
  {
   "cell_type": "markdown",
   "source": [
    "# Testowanie"
   ],
   "metadata": {
    "collapsed": false,
    "pycharm": {
     "name": "#%% md\n"
    }
   }
  },
  {
   "cell_type": "code",
   "execution_count": 24,
   "outputs": [],
   "source": [
    "def get_user_expenses(user_session_data):\n",
    "    d = {\n",
    "        'user_id': get_user_id_from_session(user_session_data),\n",
    "        'expenses': user_session_data[user_session_data['event_type'] == \"BUY_PRODUCT\"]['price'].sum()\n",
    "    }\n",
    "    # df = pd.DataFrame(data=d)\n",
    "    return d"
   ],
   "metadata": {
    "collapsed": false,
    "pycharm": {
     "name": "#%%\n"
    }
   }
  },
  {
   "cell_type": "code",
   "execution_count": 25,
   "outputs": [],
   "source": [
    "def calculate_expenses(sessions_data, products_data, users_data):\n",
    "    enriched_sessions_data = pd.merge(sessions_data, products_data, on=\"product_id\").sort_values(by=['timestamp'])\n",
    "    user_expenses = []\n",
    "    for user_id in range(users_data['user_id'].min(), users_data['user_id'].max()+1):\n",
    "    # for user_id in enriched_sessions_data['user_id'].unique():\n",
    "        user_session_data = enriched_sessions_data[enriched_sessions_data['user_id'] == user_id]\n",
    "        user_expenses.append(\n",
    "            {\n",
    "                'user_id': user_id,\n",
    "                'expenses': user_session_data[user_session_data['event_type'] == \"BUY_PRODUCT\"]['price'].sum()\n",
    "            }\n",
    "        )\n",
    "        # user_expenses.append(get_user_expenses(enriched_sessions_data[enriched_sessions_data['user_id'] == user_id]))\n",
    "    return pd.DataFrame(data=user_expenses).set_index('user_id')"
   ],
   "metadata": {
    "collapsed": false,
    "pycharm": {
     "name": "#%%\n"
    }
   }
  },
  {
   "cell_type": "code",
   "execution_count": 26,
   "outputs": [],
   "source": [
    "def loss(predictions, observations):\n",
    "    unified_data = pd.merge(predictions, observations, on=\"user_id\").sort_values(by=['user_id'])\n",
    "    unified_data['difference'] = unified_data['user_expenses'] - unified_data['expenses']\n",
    "    unified_data['difference_square'] = unified_data['difference'].apply(lambda x: x**2)\n",
    "    return unified_data"
   ],
   "metadata": {
    "collapsed": false,
    "pycharm": {
     "name": "#%%\n"
    }
   }
  },
  {
   "cell_type": "code",
   "execution_count": 27,
   "outputs": [],
   "source": [
    "observations = calculate_expenses(test_data, products_data, users_data)"
   ],
   "metadata": {
    "collapsed": false,
    "pycharm": {
     "name": "#%%\n"
    }
   }
  },
  {
   "cell_type": "code",
   "execution_count": 28,
   "outputs": [
    {
     "data": {
      "text/plain": "         expenses\nuser_id          \n102          0.00\n103        554.77\n104       2332.01\n105          0.00\n106          0.00\n...           ...\n297        109.00\n298       2399.00\n299          0.00\n300          0.00\n301          0.00\n\n[200 rows x 1 columns]",
      "text/html": "<div>\n<style scoped>\n    .dataframe tbody tr th:only-of-type {\n        vertical-align: middle;\n    }\n\n    .dataframe tbody tr th {\n        vertical-align: top;\n    }\n\n    .dataframe thead th {\n        text-align: right;\n    }\n</style>\n<table border=\"1\" class=\"dataframe\">\n  <thead>\n    <tr style=\"text-align: right;\">\n      <th></th>\n      <th>expenses</th>\n    </tr>\n    <tr>\n      <th>user_id</th>\n      <th></th>\n    </tr>\n  </thead>\n  <tbody>\n    <tr>\n      <th>102</th>\n      <td>0.00</td>\n    </tr>\n    <tr>\n      <th>103</th>\n      <td>554.77</td>\n    </tr>\n    <tr>\n      <th>104</th>\n      <td>2332.01</td>\n    </tr>\n    <tr>\n      <th>105</th>\n      <td>0.00</td>\n    </tr>\n    <tr>\n      <th>106</th>\n      <td>0.00</td>\n    </tr>\n    <tr>\n      <th>...</th>\n      <td>...</td>\n    </tr>\n    <tr>\n      <th>297</th>\n      <td>109.00</td>\n    </tr>\n    <tr>\n      <th>298</th>\n      <td>2399.00</td>\n    </tr>\n    <tr>\n      <th>299</th>\n      <td>0.00</td>\n    </tr>\n    <tr>\n      <th>300</th>\n      <td>0.00</td>\n    </tr>\n    <tr>\n      <th>301</th>\n      <td>0.00</td>\n    </tr>\n  </tbody>\n</table>\n<p>200 rows × 1 columns</p>\n</div>"
     },
     "execution_count": 28,
     "metadata": {},
     "output_type": "execute_result"
    }
   ],
   "source": [
    "observations"
   ],
   "metadata": {
    "collapsed": false,
    "pycharm": {
     "name": "#%%\n"
    }
   }
  },
  {
   "cell_type": "code",
   "execution_count": 275,
   "outputs": [
    {
     "data": {
      "text/plain": "         user_expenses\nuser_id               \n102         141.385714\n103        5808.132857\n104        7002.714286\n105         798.478571\n106        5053.444286\n...                ...\n297        2683.224286\n298        5587.500000\n299        3832.368571\n300        4132.978571\n301        3701.820000\n\n[200 rows x 1 columns]",
      "text/html": "<div>\n<style scoped>\n    .dataframe tbody tr th:only-of-type {\n        vertical-align: middle;\n    }\n\n    .dataframe tbody tr th {\n        vertical-align: top;\n    }\n\n    .dataframe thead th {\n        text-align: right;\n    }\n</style>\n<table border=\"1\" class=\"dataframe\">\n  <thead>\n    <tr style=\"text-align: right;\">\n      <th></th>\n      <th>user_expenses</th>\n    </tr>\n    <tr>\n      <th>user_id</th>\n      <th></th>\n    </tr>\n  </thead>\n  <tbody>\n    <tr>\n      <th>102</th>\n      <td>141.385714</td>\n    </tr>\n    <tr>\n      <th>103</th>\n      <td>5808.132857</td>\n    </tr>\n    <tr>\n      <th>104</th>\n      <td>7002.714286</td>\n    </tr>\n    <tr>\n      <th>105</th>\n      <td>798.478571</td>\n    </tr>\n    <tr>\n      <th>106</th>\n      <td>5053.444286</td>\n    </tr>\n    <tr>\n      <th>...</th>\n      <td>...</td>\n    </tr>\n    <tr>\n      <th>297</th>\n      <td>2683.224286</td>\n    </tr>\n    <tr>\n      <th>298</th>\n      <td>5587.500000</td>\n    </tr>\n    <tr>\n      <th>299</th>\n      <td>3832.368571</td>\n    </tr>\n    <tr>\n      <th>300</th>\n      <td>4132.978571</td>\n    </tr>\n    <tr>\n      <th>301</th>\n      <td>3701.820000</td>\n    </tr>\n  </tbody>\n</table>\n<p>200 rows × 1 columns</p>\n</div>"
     },
     "execution_count": 275,
     "metadata": {},
     "output_type": "execute_result"
    }
   ],
   "source": [
    "predictions = predictions.sort_values(by = ['user_id'])\n",
    "predictions"
   ],
   "metadata": {
    "collapsed": false,
    "pycharm": {
     "name": "#%%\n"
    }
   }
  },
  {
   "cell_type": "code",
   "execution_count": 277,
   "outputs": [
    {
     "data": {
      "text/plain": "user_expenses        3.027884e+03\nexpenses             6.562526e+02\ndifference           2.371631e+03\ndifference_square    1.091033e+07\ndtype: float64"
     },
     "execution_count": 277,
     "metadata": {},
     "output_type": "execute_result"
    }
   ],
   "source": [
    "loss(predictions, observations).mean()"
   ],
   "metadata": {
    "collapsed": false,
    "pycharm": {
     "name": "#%%\n"
    }
   }
  },
  {
   "cell_type": "markdown",
   "source": [
    "# Podgląd danych"
   ],
   "metadata": {
    "collapsed": false
   }
  },
  {
   "cell_type": "code",
   "execution_count": 91,
   "outputs": [
    {
     "data": {
      "text/plain": "8568.86"
     },
     "execution_count": 91,
     "metadata": {},
     "output_type": "execute_result"
    }
   ],
   "source": [
    "enriched_sessions_data = pd.merge(sessions_data, products_data, on=\"product_id\").sort_values(by=['timestamp'])\n",
    "user_session_data = enriched_sessions_data[enriched_sessions_data['user_id'] == 139]\n",
    "user_session_data[(user_session_data['timestamp_interval'] == 1) & (user_session_data['event_type'] == \"BUY_PRODUCT\")]['price'].sum()"
   ],
   "metadata": {
    "collapsed": false,
    "pycharm": {
     "name": "#%%\n"
    }
   }
  },
  {
   "cell_type": "code",
   "execution_count": 92,
   "outputs": [
    {
     "data": {
      "text/plain": "    interval_number  expenses\n0                 1   8568.86\n1                 2    496.26\n2                 3     74.89\n3                 4   2763.88\n4                 5    360.97\n5                 6   4893.80\n6                 7   3197.19\n7                 8    708.78\n8                 9     64.80\n9                10    911.96\n10               11   1359.46\n11               12      0.00",
      "text/html": "<div>\n<style scoped>\n    .dataframe tbody tr th:only-of-type {\n        vertical-align: middle;\n    }\n\n    .dataframe tbody tr th {\n        vertical-align: top;\n    }\n\n    .dataframe thead th {\n        text-align: right;\n    }\n</style>\n<table border=\"1\" class=\"dataframe\">\n  <thead>\n    <tr style=\"text-align: right;\">\n      <th></th>\n      <th>interval_number</th>\n      <th>expenses</th>\n    </tr>\n  </thead>\n  <tbody>\n    <tr>\n      <th>0</th>\n      <td>1</td>\n      <td>8568.86</td>\n    </tr>\n    <tr>\n      <th>1</th>\n      <td>2</td>\n      <td>496.26</td>\n    </tr>\n    <tr>\n      <th>2</th>\n      <td>3</td>\n      <td>74.89</td>\n    </tr>\n    <tr>\n      <th>3</th>\n      <td>4</td>\n      <td>2763.88</td>\n    </tr>\n    <tr>\n      <th>4</th>\n      <td>5</td>\n      <td>360.97</td>\n    </tr>\n    <tr>\n      <th>5</th>\n      <td>6</td>\n      <td>4893.80</td>\n    </tr>\n    <tr>\n      <th>6</th>\n      <td>7</td>\n      <td>3197.19</td>\n    </tr>\n    <tr>\n      <th>7</th>\n      <td>8</td>\n      <td>708.78</td>\n    </tr>\n    <tr>\n      <th>8</th>\n      <td>9</td>\n      <td>64.80</td>\n    </tr>\n    <tr>\n      <th>9</th>\n      <td>10</td>\n      <td>911.96</td>\n    </tr>\n    <tr>\n      <th>10</th>\n      <td>11</td>\n      <td>1359.46</td>\n    </tr>\n    <tr>\n      <th>11</th>\n      <td>12</td>\n      <td>0.00</td>\n    </tr>\n  </tbody>\n</table>\n</div>"
     },
     "execution_count": 92,
     "metadata": {},
     "output_type": "execute_result"
    }
   ],
   "source": [
    "ex_time_series = calculate_expenses_with_interval(user_session_data, 1, 12)\n",
    "ex_time_series"
   ],
   "metadata": {
    "collapsed": false,
    "pycharm": {
     "name": "#%%\n"
    }
   }
  },
  {
   "cell_type": "code",
   "execution_count": 93,
   "outputs": [
    {
     "data": {
      "text/plain": "{'correlation': -0.46327522997316334, 'user_id': 139}"
     },
     "execution_count": 93,
     "metadata": {},
     "output_type": "execute_result"
    }
   ],
   "source": [
    "calculate_correlation_for_user(user_session_data, 1, 12)"
   ],
   "metadata": {
    "collapsed": false,
    "pycharm": {
     "name": "#%%\n"
    }
   }
  },
  {
   "cell_type": "code",
   "execution_count": 94,
   "outputs": [
    {
     "data": {
      "text/plain": "<Figure size 432x288 with 1 Axes>",
      "image/png": "[encoded data removed]"
     },
     "metadata": {
      "needs_background": "light"
     },
     "output_type": "display_data"
    }
   ],
   "source": [
    "plot_user_expenses(user_session_data, 1, 12)"
   ],
   "metadata": {
    "collapsed": false,
    "pycharm": {
     "name": "#%%\n"
    }
   }
  }
 ],
 "metadata": {
  "kernelspec": {
   "display_name": "Python 3",
   "language": "python",
   "name": "python3"
  },
  "language_info": {
   "codemirror_mode": {
    "name": "ipython",
    "version": 2
   },
   "file_extension": ".py",
   "mimetype": "text/x-python",
   "name": "python",
   "nbconvert_exporter": "python",
   "pygments_lexer": "ipython2",
   "version": "2.7.6"
  }
 },
 "nbformat": 4,
 "nbformat_minor": 0
}