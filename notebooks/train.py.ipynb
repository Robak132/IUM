{
 "cells": [
  {
   "cell_type": "code",
   "execution_count": 6,
   "metadata": {
    "collapsed": true
   },
   "outputs": [],
   "source": [
    "import random\n",
    "import torch\n",
    "import numpy as np"
   ]
  },
  {
   "cell_type": "code",
   "execution_count": 7,
   "outputs": [],
   "source": [
    "from microservice.models.model_b import SimpleNN\n",
    "from models.train_utils_nn import train_and_extract\n",
    "from models.utils import load_default_data, calculate_expenses"
   ],
   "metadata": {
    "collapsed": false,
    "pycharm": {
     "name": "#%%\n"
    }
   }
  },
  {
   "cell_type": "code",
   "execution_count": 8,
   "outputs": [],
   "source": [
    "seed = 213769420\n",
    "torch.cuda.manual_seed_all(seed)\n",
    "torch.manual_seed(seed)\n",
    "np.random.seed(seed)\n",
    "random.seed(seed)"
   ],
   "metadata": {
    "collapsed": false,
    "pycharm": {
     "name": "#%%\n"
    }
   }
  },
  {
   "cell_type": "code",
   "execution_count": 9,
   "outputs": [],
   "source": [
    "train, test, products, users, deliveries = load_default_data()\n",
    "targets = calculate_expenses(test, products, users)"
   ],
   "metadata": {
    "collapsed": false,
    "pycharm": {
     "name": "#%%\n"
    }
   }
  },
  {
   "cell_type": "code",
   "execution_count": 10,
   "outputs": [],
   "source": [
    "some_net = SimpleNN()"
   ],
   "metadata": {
    "collapsed": false,
    "pycharm": {
     "name": "#%%\n"
    }
   }
  },
  {
   "cell_type": "code",
   "execution_count": 11,
   "outputs": [
    {
     "name": "stdout",
     "output_type": "stream",
     "text": [
      "Epoch 0 loss 1.85e+06\n",
      "Epoch 1 loss 2.09e+06\n",
      "Epoch 2 loss 2.43e+06\n",
      "Epoch 3 loss 2.43e+06\n",
      "Epoch 4 loss 1.99e+06\n",
      "Epoch 5 loss 1.77e+06\n",
      "Epoch 6 loss 2.16e+06\n",
      "Epoch 7 loss 1.97e+06\n",
      "Epoch 8 loss 2.43e+06\n",
      "Epoch 9 loss 1.58e+06\n",
      "Epoch 10 loss 1.6e+06\n",
      "Epoch 11 loss 2.65e+06\n",
      "Epoch 12 loss 2.33e+06\n",
      "Epoch 13 loss 1.78e+06\n",
      "Epoch 14 loss 1.79e+06\n",
      "Epoch 15 loss 1.59e+06\n",
      "Epoch 16 loss 1.95e+06\n",
      "Epoch 17 loss 1.93e+06\n",
      "Epoch 18 loss 1.59e+06\n",
      "Epoch 19 loss 1.68e+06\n",
      "Epoch 20 loss 1.44e+06\n",
      "Epoch 21 loss 1.56e+06\n",
      "Epoch 22 loss 1.51e+06\n",
      "Epoch 23 loss 2.47e+06\n",
      "Epoch 24 loss 1.44e+06\n",
      "Epoch 25 loss 1.81e+06\n",
      "Epoch 26 loss 1.95e+06\n",
      "Epoch 27 loss 2.33e+06\n",
      "Epoch 28 loss 1.75e+06\n",
      "Epoch 29 loss 1.47e+06\n",
      "Epoch 30 loss 1.75e+06\n",
      "Epoch 31 loss 1.73e+06\n",
      "Epoch 32 loss 1.68e+06\n",
      "Epoch 33 loss 2.24e+06\n",
      "Epoch 34 loss 1.54e+06\n",
      "Epoch 35 loss 1.58e+06\n",
      "Epoch 36 loss 1.83e+06\n",
      "Epoch 37 loss 1.48e+06\n",
      "Epoch 38 loss 1.57e+06\n",
      "Epoch 39 loss 1.55e+06\n",
      "Epoch 40 loss 1.39e+06\n",
      "Epoch 41 loss 2.11e+06\n",
      "Epoch 42 loss 2.27e+06\n",
      "Epoch 43 loss 1.96e+06\n",
      "Epoch 44 loss 1.55e+06\n",
      "Epoch 45 loss 2.26e+06\n",
      "Epoch 46 loss 1.48e+06\n",
      "Epoch 47 loss 2.09e+06\n",
      "Epoch 48 loss 1.44e+06\n",
      "Epoch 49 loss 1.84e+06\n",
      "Epoch 50 loss 1.55e+06\n",
      "Epoch 51 loss 1.51e+06\n",
      "Epoch 52 loss 1.62e+06\n",
      "Epoch 53 loss 1.49e+06\n",
      "Epoch 54 loss 1.83e+06\n",
      "Epoch 55 loss 1.65e+06\n",
      "Epoch 56 loss 1.9e+06\n",
      "Epoch 57 loss 1.57e+06\n",
      "Epoch 58 loss 1.82e+06\n",
      "Epoch 59 loss 2.03e+06\n",
      "Epoch 60 loss 1.57e+06\n",
      "Epoch 61 loss 1.62e+06\n",
      "Epoch 62 loss 2.47e+06\n",
      "Epoch 63 loss 2.29e+06\n",
      "Epoch 64 loss 1.51e+06\n",
      "Epoch 65 loss 1.44e+06\n",
      "Epoch 66 loss 1.63e+06\n",
      "Epoch 67 loss 2.02e+06\n",
      "Epoch 68 loss 1.56e+06\n",
      "Epoch 69 loss 2.04e+06\n",
      "Epoch 70 loss 2.22e+06\n",
      "Epoch 71 loss 2.27e+06\n",
      "Epoch 72 loss 1.6e+06\n",
      "Epoch 73 loss 1.45e+06\n",
      "Epoch 74 loss 1.58e+06\n",
      "Epoch 75 loss 1.51e+06\n",
      "Epoch 76 loss 1.56e+06\n",
      "Epoch 77 loss 1.54e+06\n",
      "Epoch 78 loss 2.19e+06\n",
      "Epoch 79 loss 1.8e+06\n",
      "Epoch 80 loss 1.74e+06\n",
      "Epoch 81 loss 1.53e+06\n",
      "Epoch 82 loss 1.82e+06\n",
      "Epoch 83 loss 2.56e+06\n",
      "Epoch 84 loss 1.52e+06\n",
      "Epoch 85 loss 1.57e+06\n",
      "Epoch 86 loss 1.83e+06\n",
      "Epoch 87 loss 1.7e+06\n",
      "Epoch 88 loss 2.12e+06\n",
      "Epoch 89 loss 1.45e+06\n",
      "Epoch 90 loss 2.41e+06\n",
      "Epoch 91 loss 2.15e+06\n",
      "Epoch 92 loss 1.56e+06\n",
      "Epoch 93 loss 1.49e+06\n",
      "Epoch 94 loss 2.25e+06\n",
      "Epoch 95 loss 1.43e+06\n",
      "Epoch 96 loss 1.49e+06\n",
      "Epoch 97 loss 1.45e+06\n",
      "Epoch 98 loss 1.73e+06\n",
      "Epoch 99 loss 2.4e+06\n"
     ]
    }
   ],
   "source": [
    "train_and_extract(some_net, train, users, products, targets)"
   ],
   "metadata": {
    "collapsed": false,
    "pycharm": {
     "name": "#%%\n"
    }
   }
  },
  {
   "cell_type": "code",
   "execution_count": 12,
   "outputs": [],
   "source": [
    "torch.save(some_net.state_dict(), \"../models/dummy_test\")"
   ],
   "metadata": {
    "collapsed": false,
    "pycharm": {
     "name": "#%%\n"
    }
   }
  }
 ],
 "metadata": {
  "kernelspec": {
   "display_name": "Python 3",
   "language": "python",
   "name": "python3"
  },
  "language_info": {
   "codemirror_mode": {
    "name": "ipython",
    "version": 2
   },
   "file_extension": ".py",
   "mimetype": "text/x-python",
   "name": "python",
   "nbconvert_exporter": "python",
   "pygments_lexer": "ipython2",
   "version": "2.7.6"
  }
 },
 "nbformat": 4,
 "nbformat_minor": 0
}