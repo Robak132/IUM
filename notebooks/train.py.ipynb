{
 "cells": [
  {
   "cell_type": "code",
   "execution_count": 6,
   "metadata": {
    "collapsed": true
   },
   "outputs": [],
   "source": [
    "import random\n",
    "import torch\n",
    "import numpy as np"
   ]
  },
  {
   "cell_type": "code",
   "execution_count": 69,
   "outputs": [],
   "source": [
    "from microservice.models.model_b import SimpleNN\n",
    "from models.train_utils_nn import train_and_extract\n",
    "from models.utils import load_default_data, calculate_expenses\n",
    "from microservice.features import extract_users_data, prepare_data_for_predict\n",
    "from sklearn.metrics import roc_auc_score as roc\n",
    "from microservice.models.model_b import NeuralNetworkRegressor"
   ],
   "metadata": {
    "collapsed": false,
    "pycharm": {
     "name": "#%%\n"
    }
   }
  },
  {
   "cell_type": "code",
   "execution_count": 8,
   "outputs": [],
   "source": [
    "seed = 213769420\n",
    "torch.cuda.manual_seed_all(seed)\n",
    "torch.manual_seed(seed)\n",
    "np.random.seed(seed)\n",
    "random.seed(seed)"
   ],
   "metadata": {
    "collapsed": false,
    "pycharm": {
     "name": "#%%\n"
    }
   }
  },
  {
   "cell_type": "code",
   "execution_count": 103,
   "outputs": [],
   "source": [
    "train, test, products, users, deliveries = load_default_data()\n",
    "targets = calculate_expenses(test, products, users)"
   ],
   "metadata": {
    "collapsed": false,
    "pycharm": {
     "name": "#%%\n"
    }
   }
  },
  {
   "cell_type": "code",
   "execution_count": 104,
   "outputs": [],
   "source": [
    "targets['expenses'] = targets['expenses'].apply(lambda b: 1 if b > 5000 else 0)"
   ],
   "metadata": {
    "collapsed": false,
    "pycharm": {
     "name": "#%%\n"
    }
   }
  },
  {
   "cell_type": "code",
   "execution_count": 105,
   "outputs": [
    {
     "data": {
      "text/plain": "     user_id  expenses\n0        102         0\n1        103         0\n2        104         0\n3        105         0\n4        106         0\n..       ...       ...\n195      297         0\n196      298         0\n197      299         0\n198      300         0\n199      301         0\n\n[200 rows x 2 columns]",
      "text/html": "<div>\n<style scoped>\n    .dataframe tbody tr th:only-of-type {\n        vertical-align: middle;\n    }\n\n    .dataframe tbody tr th {\n        vertical-align: top;\n    }\n\n    .dataframe thead th {\n        text-align: right;\n    }\n</style>\n<table border=\"1\" class=\"dataframe\">\n  <thead>\n    <tr style=\"text-align: right;\">\n      <th></th>\n      <th>user_id</th>\n      <th>expenses</th>\n    </tr>\n  </thead>\n  <tbody>\n    <tr>\n      <th>0</th>\n      <td>102</td>\n      <td>0</td>\n    </tr>\n    <tr>\n      <th>1</th>\n      <td>103</td>\n      <td>0</td>\n    </tr>\n    <tr>\n      <th>2</th>\n      <td>104</td>\n      <td>0</td>\n    </tr>\n    <tr>\n      <th>3</th>\n      <td>105</td>\n      <td>0</td>\n    </tr>\n    <tr>\n      <th>4</th>\n      <td>106</td>\n      <td>0</td>\n    </tr>\n    <tr>\n      <th>...</th>\n      <td>...</td>\n      <td>...</td>\n    </tr>\n    <tr>\n      <th>195</th>\n      <td>297</td>\n      <td>0</td>\n    </tr>\n    <tr>\n      <th>196</th>\n      <td>298</td>\n      <td>0</td>\n    </tr>\n    <tr>\n      <th>197</th>\n      <td>299</td>\n      <td>0</td>\n    </tr>\n    <tr>\n      <th>198</th>\n      <td>300</td>\n      <td>0</td>\n    </tr>\n    <tr>\n      <th>199</th>\n      <td>301</td>\n      <td>0</td>\n    </tr>\n  </tbody>\n</table>\n<p>200 rows × 2 columns</p>\n</div>"
     },
     "execution_count": 105,
     "metadata": {},
     "output_type": "execute_result"
    }
   ],
   "source": [
    "targets"
   ],
   "metadata": {
    "collapsed": false,
    "pycharm": {
     "name": "#%%\n"
    }
   }
  },
  {
   "cell_type": "code",
   "execution_count": 106,
   "outputs": [],
   "source": [
    "some_net = NeuralNetworkRegressor()"
   ],
   "metadata": {
    "collapsed": false,
    "pycharm": {
     "name": "#%%\n"
    }
   }
  },
  {
   "cell_type": "code",
   "execution_count": 107,
   "outputs": [
    {
     "name": "stdout",
     "output_type": "stream",
     "text": [
      "Epoch 0 loss 0.103\n",
      "Epoch 1 loss 0.0991\n",
      "Epoch 2 loss 0.102\n",
      "Epoch 3 loss 0.0776\n",
      "Epoch 4 loss 0.173\n",
      "Epoch 5 loss 0.0468\n",
      "Epoch 6 loss 0.0566\n",
      "Epoch 7 loss 0.116\n",
      "Epoch 8 loss 0.0563\n",
      "Epoch 9 loss 0.0525\n",
      "Epoch 10 loss 0.105\n",
      "Epoch 11 loss 0.0783\n",
      "Epoch 12 loss 0.0788\n",
      "Epoch 13 loss 0.0509\n",
      "Epoch 14 loss 0.0679\n",
      "Epoch 15 loss 0.0553\n",
      "Epoch 16 loss 0.0637\n",
      "Epoch 17 loss 0.0672\n",
      "Epoch 18 loss 0.0854\n",
      "Epoch 19 loss 0.0621\n",
      "Epoch 20 loss 0.0473\n",
      "Epoch 21 loss 0.0628\n",
      "Epoch 22 loss 0.0492\n",
      "Epoch 23 loss 0.0704\n",
      "Epoch 24 loss 0.0662\n",
      "Epoch 25 loss 0.0538\n",
      "Epoch 26 loss 0.171\n",
      "Epoch 27 loss 0.043\n",
      "Epoch 28 loss 0.0364\n",
      "Epoch 29 loss 0.0453\n",
      "Epoch 30 loss 0.0552\n",
      "Epoch 31 loss 0.0502\n",
      "Epoch 32 loss 0.0514\n",
      "Epoch 33 loss 0.0561\n",
      "Epoch 34 loss 0.0619\n",
      "Epoch 35 loss 0.0529\n",
      "Epoch 36 loss 0.0657\n",
      "Epoch 37 loss 0.0441\n",
      "Epoch 38 loss 0.0536\n",
      "Epoch 39 loss 0.0517\n",
      "Epoch 40 loss 0.162\n",
      "Epoch 41 loss 0.0404\n",
      "Epoch 42 loss 0.11\n",
      "Epoch 43 loss 0.0454\n",
      "Epoch 44 loss 0.0354\n",
      "Epoch 45 loss 0.0371\n",
      "Epoch 46 loss 0.0618\n",
      "Epoch 47 loss 0.037\n",
      "Epoch 48 loss 0.046\n",
      "Epoch 49 loss 0.036\n",
      "Epoch 50 loss 0.0886\n",
      "Epoch 51 loss 0.0419\n",
      "Epoch 52 loss 0.0442\n",
      "Epoch 53 loss 0.0574\n",
      "Epoch 54 loss 0.0507\n",
      "Epoch 55 loss 0.121\n",
      "Epoch 56 loss 0.0891\n",
      "Epoch 57 loss 0.0351\n",
      "Epoch 58 loss 0.0572\n",
      "Epoch 59 loss 0.037\n",
      "Epoch 60 loss 0.0447\n",
      "Epoch 61 loss 0.0408\n",
      "Epoch 62 loss 0.0386\n",
      "Epoch 63 loss 0.0318\n",
      "Epoch 64 loss 0.0434\n",
      "Epoch 65 loss 0.042\n",
      "Epoch 66 loss 0.0423\n",
      "Epoch 67 loss 0.111\n",
      "Epoch 68 loss 0.068\n",
      "Epoch 69 loss 0.0312\n",
      "Epoch 70 loss 0.0319\n",
      "Epoch 71 loss 0.0387\n",
      "Epoch 72 loss 0.0392\n",
      "Epoch 73 loss 0.03\n",
      "Epoch 74 loss 0.0368\n",
      "Epoch 75 loss 0.0338\n",
      "Epoch 76 loss 0.0453\n",
      "Epoch 77 loss 0.0717\n",
      "Epoch 78 loss 0.0372\n",
      "Epoch 79 loss 0.0318\n",
      "Epoch 80 loss 0.0344\n",
      "Epoch 81 loss 0.0366\n",
      "Epoch 82 loss 0.0322\n",
      "Epoch 83 loss 0.0342\n",
      "Epoch 84 loss 0.0377\n",
      "Epoch 85 loss 0.0374\n",
      "Epoch 86 loss 0.0429\n",
      "Epoch 87 loss 0.126\n",
      "Epoch 88 loss 0.0325\n",
      "Epoch 89 loss 0.033\n",
      "Epoch 90 loss 0.0414\n",
      "Epoch 91 loss 0.0413\n",
      "Epoch 92 loss 0.025\n",
      "Epoch 93 loss 0.0395\n",
      "Epoch 94 loss 0.032\n",
      "Epoch 95 loss 0.0941\n",
      "Epoch 96 loss 0.0291\n",
      "Epoch 97 loss 0.0413\n",
      "Epoch 98 loss 0.0338\n",
      "Epoch 99 loss 0.0437\n"
     ]
    }
   ],
   "source": [
    "train_and_extract(some_net, train, users, products, targets)"
   ],
   "metadata": {
    "collapsed": false,
    "pycharm": {
     "name": "#%%\n"
    }
   }
  },
  {
   "cell_type": "code",
   "execution_count": 108,
   "outputs": [
    {
     "data": {
      "text/plain": "array([-1.40748918e-04, -1.29651219e-01,  3.86074483e-02,  2.44690403e-02,\n       -5.41557148e-02,  9.12551582e-03, -5.31750545e-02, -8.77603889e-05,\n        8.37105215e-02, -8.85215402e-03, -6.05908781e-03,  5.29798120e-02,\n        7.99169242e-02, -3.48218903e-02, -3.72124389e-02,  4.34123389e-02,\n        9.19361413e-03, -4.91650403e-03,  8.10480267e-02, -2.91662961e-02,\n       -2.07629949e-02,  1.89868659e-02,  3.06598656e-02,  4.28770110e-03,\n        3.07860449e-02,  2.13561952e-02, -2.88083479e-02, -2.59745121e-03,\n       -2.86682621e-02,  4.71007824e-02,  4.65838201e-02,  5.57028167e-02,\n        5.34032211e-02,  1.67883635e-02,  1.73509195e-02, -5.47188520e-03,\n        4.05341797e-02,  1.18311867e-02, -1.36282742e-01,  4.24725339e-02,\n        4.40408736e-02, -2.80948952e-02, -4.06921580e-02, -1.57551020e-02,\n       -2.79619619e-02,  5.92394173e-03, -1.43192559e-02, -3.47548500e-02,\n       -1.00555271e-03,  4.83135879e-02, -2.98112705e-02, -1.92128494e-02,\n       -3.36863324e-02,  2.51587965e-02, -3.43196467e-02, -3.40288207e-02,\n        6.12011440e-02,  2.05607638e-02,  3.33744138e-02,  1.71211436e-02,\n       -2.15030983e-02,  2.33609378e-02,  6.18324392e-02,  5.73159419e-02,\n        1.27380453e-02,  3.89096998e-02,  8.51789489e-03, -3.45602036e-02,\n        2.23811530e-02,  1.59734078e-02,  1.60385072e-02,  3.10959443e-02,\n        2.14746483e-02,  4.40282747e-02,  1.12304166e-02, -2.89885476e-02,\n        5.18440492e-02,  2.35502310e-02,  4.94430773e-02,  3.34541127e-02,\n       -7.06840307e-03,  5.35004213e-02,  4.95455489e-02,  1.66424140e-02,\n       -2.34160647e-02, -1.36749446e-02,  5.32019883e-03, -3.41574773e-02,\n       -1.76333413e-02,  1.45779662e-02,  3.58246826e-02,  3.18198875e-02,\n        2.37396173e-02,  1.95812806e-03,  5.16304187e-02, -3.07813287e-03,\n       -6.27786145e-02,  3.75324860e-02, -9.60667431e-03, -1.32645592e-02,\n        1.19147748e-02,  4.55882028e-02,  2.18580179e-02,  2.39880383e-02,\n        7.99361244e-03, -2.82109305e-02,  4.94499058e-02, -5.73441982e-02,\n        5.20411655e-02,  1.48563869e-02, -2.62960792e-04, -1.56428143e-02,\n        5.02936728e-02, -8.58781487e-03,  4.92316671e-02,  4.79400046e-02,\n       -1.94213614e-02, -8.55577737e-03,  7.33083859e-03, -4.68080416e-02,\n        5.15997261e-02, -2.66347751e-02,  7.36087561e-03,  5.29277772e-02,\n        2.52409205e-02, -2.66081318e-02,  3.03557068e-02,  7.85024464e-03,\n        1.17652714e-02,  2.31134407e-02,  3.59004848e-02,  4.65186611e-02,\n       -4.82923761e-02,  1.80094093e-02, -3.49384099e-02,  2.40246058e-02,\n        5.37177734e-02, -1.14475787e-02,  2.38537341e-02, -7.03219324e-03,\n        3.86444554e-02,  1.53741986e-03,  1.20437667e-02,  3.49883214e-02,\n       -1.85511783e-02,  1.11685358e-02, -3.30298841e-02,  1.30679049e-02,\n       -1.20029971e-02,  1.42703652e-02, -1.38590336e-02,  4.91766594e-02,\n       -3.47737074e-02,  5.17924055e-02,  5.14697358e-02, -3.44520062e-02,\n        4.74253967e-02, -1.46828815e-02, -1.32362917e-02,  1.55646056e-02,\n        4.42922264e-02,  4.41161953e-02,  9.51746479e-03,  5.78089282e-02,\n       -9.48344171e-03,  4.53520380e-02,  5.26641607e-02,  3.08874920e-02,\n        2.34983377e-02, -2.66852975e-03, -3.46796215e-02,  5.54661453e-03,\n        4.02519666e-02,  4.93620187e-02, -2.74946243e-02,  5.41283935e-02,\n        5.14464639e-02,  1.75314620e-02, -2.92634964e-02,  4.54607010e-02,\n        4.23480868e-02,  1.78266615e-02, -1.25909969e-02,  1.43591538e-02,\n       -1.92556009e-02,  2.76838206e-02, -3.61018255e-02,  5.87525219e-03,\n        3.97979841e-03,  1.53001398e-03, -3.09347361e-02, -1.97313502e-02,\n       -3.36032510e-02, -3.56775448e-02, -3.08518261e-02, -3.66241261e-02,\n       -3.52663621e-02, -3.69760469e-02, -3.52411792e-02, -3.39082703e-02],\n      dtype=float32)"
     },
     "execution_count": 108,
     "metadata": {},
     "output_type": "execute_result"
    }
   ],
   "source": [
    "extracted_users_data = extract_users_data(train, users, products)\n",
    "x, cat_x = prepare_data_for_predict(extracted_users_data)\n",
    "x = torch.from_numpy(x.values).float()\n",
    "cat_x = torch.from_numpy(cat_x.values).float()\n",
    "some_net.eval()\n",
    "out = some_net(x, cat_x).squeeze()\n",
    "out = out.detach().numpy()\n",
    "out\n"
   ],
   "metadata": {
    "collapsed": false,
    "pycharm": {
     "name": "#%%\n"
    }
   }
  },
  {
   "cell_type": "code",
   "execution_count": 109,
   "outputs": [
    {
     "data": {
      "text/plain": "{139: False,\n 242: False,\n 108: False,\n 143: False,\n 140: False,\n 202: False,\n 270: False,\n 212: False,\n 189: False,\n 205: False,\n 255: False,\n 215: False,\n 273: False,\n 281: False,\n 227: False,\n 222: False,\n 235: False,\n 171: False,\n 188: False,\n 135: False,\n 252: False,\n 238: False,\n 145: False,\n 286: False,\n 157: False,\n 265: False,\n 127: False,\n 159: False,\n 119: False,\n 274: False,\n 160: False,\n 105: False,\n 261: False,\n 185: False,\n 183: False,\n 192: False,\n 186: False,\n 102: False,\n 124: False,\n 282: False,\n 210: False,\n 125: False,\n 272: False,\n 104: False,\n 115: False,\n 136: False,\n 285: False,\n 133: False,\n 187: False,\n 175: False,\n 161: False,\n 167: False,\n 213: False,\n 292: False,\n 256: False,\n 278: False,\n 263: False,\n 148: False,\n 200: False,\n 280: False,\n 287: False,\n 208: False,\n 149: False,\n 233: False,\n 236: False,\n 246: False,\n 193: False,\n 147: False,\n 158: False,\n 251: False,\n 277: False,\n 182: False,\n 151: False,\n 253: False,\n 295: False,\n 262: False,\n 178: False,\n 156: False,\n 110: False,\n 120: False,\n 118: False,\n 204: False,\n 300: False,\n 128: False,\n 260: False,\n 141: False,\n 190: False,\n 114: False,\n 240: False,\n 130: False,\n 195: False,\n 288: False,\n 177: False,\n 122: False,\n 173: False,\n 293: False,\n 121: False,\n 279: False,\n 131: False,\n 257: False,\n 113: False,\n 150: False,\n 248: False,\n 245: False,\n 224: False,\n 228: False,\n 172: False,\n 165: False,\n 126: False,\n 194: False,\n 164: False,\n 268: False,\n 176: False,\n 243: False,\n 214: False,\n 232: False,\n 267: False,\n 117: False,\n 111: False,\n 109: False,\n 271: False,\n 107: False,\n 247: False,\n 299: False,\n 241: False,\n 207: False,\n 197: False,\n 276: False,\n 155: False,\n 250: False,\n 211: False,\n 170: False,\n 275: False,\n 142: False,\n 134: False,\n 234: False,\n 138: False,\n 191: False,\n 103: False,\n 239: False,\n 226: False,\n 198: False,\n 266: False,\n 154: False,\n 223: False,\n 237: False,\n 123: False,\n 137: False,\n 231: False,\n 163: False,\n 166: False,\n 259: False,\n 291: False,\n 301: False,\n 181: False,\n 153: False,\n 129: False,\n 218: False,\n 146: False,\n 174: False,\n 180: False,\n 297: False,\n 184: False,\n 106: False,\n 254: False,\n 199: False,\n 179: False,\n 203: False,\n 220: False,\n 216: False,\n 201: False,\n 284: False,\n 116: False,\n 168: False,\n 209: False,\n 298: False,\n 112: False,\n 219: False,\n 196: False,\n 290: False,\n 249: False,\n 294: False,\n 296: False,\n 230: False,\n 258: False,\n 217: False,\n 244: False,\n 132: False,\n 144: False,\n 221: False,\n 264: False,\n 206: False,\n 283: False,\n 269: False,\n 169: False,\n 289: False,\n 225: False,\n 152: False,\n 162: False,\n 229: False}"
     },
     "execution_count": 109,
     "metadata": {},
     "output_type": "execute_result"
    }
   ],
   "source": [
    "out_array = {int(user_id): out[i] > 0.3 for i, user_id in enumerate(extracted_users_data[\"user_id\"].to_list())}\n",
    "out_array"
   ],
   "metadata": {
    "collapsed": false,
    "pycharm": {
     "name": "#%%\n"
    }
   }
  },
  {
   "cell_type": "code",
   "execution_count": 110,
   "outputs": [
    {
     "data": {
      "text/plain": "array([[102,   0],\n       [103,   0],\n       [104,   0],\n       [105,   0],\n       [106,   0],\n       [107,   0],\n       [108,   0],\n       [109,   0],\n       [110,   0],\n       [111,   0],\n       [112,   0],\n       [113,   0],\n       [114,   0],\n       [115,   0],\n       [116,   0],\n       [117,   0],\n       [118,   0],\n       [119,   0],\n       [120,   0],\n       [121,   0],\n       [122,   0],\n       [123,   0],\n       [124,   0],\n       [125,   0],\n       [126,   0],\n       [127,   0],\n       [128,   0],\n       [129,   0],\n       [130,   0],\n       [131,   0],\n       [132,   1],\n       [133,   0],\n       [134,   0],\n       [135,   0],\n       [136,   0],\n       [137,   0],\n       [138,   0],\n       [139,   0],\n       [140,   0],\n       [141,   0],\n       [142,   0],\n       [143,   0],\n       [144,   0],\n       [145,   0],\n       [146,   0],\n       [147,   0],\n       [148,   0],\n       [149,   0],\n       [150,   0],\n       [151,   0],\n       [152,   0],\n       [153,   0],\n       [154,   0],\n       [155,   0],\n       [156,   0],\n       [157,   0],\n       [158,   0],\n       [159,   0],\n       [160,   0],\n       [161,   0],\n       [162,   0],\n       [163,   0],\n       [164,   1],\n       [165,   0],\n       [166,   0],\n       [167,   0],\n       [168,   0],\n       [169,   0],\n       [170,   0],\n       [171,   0],\n       [172,   0],\n       [173,   1],\n       [174,   0],\n       [175,   0],\n       [176,   0],\n       [177,   0],\n       [178,   0],\n       [179,   0],\n       [180,   0],\n       [181,   0],\n       [182,   0],\n       [183,   0],\n       [184,   0],\n       [185,   0],\n       [186,   0],\n       [187,   0],\n       [188,   0],\n       [189,   0],\n       [190,   0],\n       [191,   0],\n       [192,   0],\n       [193,   0],\n       [194,   0],\n       [195,   0],\n       [196,   0],\n       [197,   0],\n       [198,   0],\n       [199,   0],\n       [200,   0],\n       [201,   0],\n       [202,   1],\n       [203,   0],\n       [204,   0],\n       [205,   0],\n       [206,   0],\n       [207,   0],\n       [208,   0],\n       [209,   0],\n       [210,   0],\n       [211,   0],\n       [212,   0],\n       [213,   0],\n       [214,   0],\n       [215,   0],\n       [216,   0],\n       [217,   0],\n       [218,   0],\n       [219,   0],\n       [220,   0],\n       [221,   0],\n       [222,   0],\n       [223,   0],\n       [224,   0],\n       [225,   0],\n       [226,   0],\n       [227,   0],\n       [228,   0],\n       [229,   0],\n       [230,   0],\n       [231,   0],\n       [232,   0],\n       [233,   0],\n       [234,   0],\n       [235,   0],\n       [236,   0],\n       [237,   0],\n       [238,   0],\n       [239,   0],\n       [240,   0],\n       [241,   0],\n       [242,   0],\n       [243,   0],\n       [244,   0],\n       [245,   0],\n       [246,   0],\n       [247,   0],\n       [248,   0],\n       [249,   0],\n       [250,   0],\n       [251,   0],\n       [252,   0],\n       [253,   0],\n       [254,   0],\n       [255,   0],\n       [256,   0],\n       [257,   0],\n       [258,   0],\n       [259,   0],\n       [260,   0],\n       [261,   0],\n       [262,   0],\n       [263,   0],\n       [264,   0],\n       [265,   0],\n       [266,   1],\n       [267,   0],\n       [268,   0],\n       [269,   0],\n       [270,   0],\n       [271,   0],\n       [272,   0],\n       [273,   1],\n       [274,   0],\n       [275,   0],\n       [276,   0],\n       [277,   0],\n       [278,   0],\n       [279,   0],\n       [280,   0],\n       [281,   0],\n       [282,   0],\n       [283,   0],\n       [284,   0],\n       [285,   0],\n       [286,   0],\n       [287,   0],\n       [288,   0],\n       [289,   0],\n       [290,   0],\n       [291,   0],\n       [292,   0],\n       [293,   0],\n       [294,   0],\n       [295,   0],\n       [296,   0],\n       [297,   0],\n       [298,   0],\n       [299,   0],\n       [300,   0],\n       [301,   0]], dtype=int64)"
     },
     "execution_count": 110,
     "metadata": {},
     "output_type": "execute_result"
    }
   ],
   "source": [
    "targets.values"
   ],
   "metadata": {
    "collapsed": false,
    "pycharm": {
     "name": "#%%\n"
    }
   }
  },
  {
   "cell_type": "code",
   "execution_count": 112,
   "outputs": [
    {
     "name": "stdout",
     "output_type": "stream",
     "text": [
      "102\n",
      "103\n",
      "104\n",
      "105\n",
      "106\n",
      "107\n",
      "108\n",
      "109\n",
      "110\n",
      "111\n",
      "112\n",
      "113\n",
      "114\n",
      "115\n",
      "116\n",
      "117\n",
      "118\n",
      "119\n",
      "120\n",
      "121\n",
      "122\n",
      "123\n",
      "124\n",
      "125\n",
      "126\n",
      "127\n",
      "128\n",
      "129\n",
      "130\n",
      "131\n",
      "133\n",
      "134\n",
      "135\n",
      "136\n",
      "137\n",
      "138\n",
      "139\n",
      "140\n",
      "141\n",
      "142\n",
      "143\n",
      "144\n",
      "145\n",
      "146\n",
      "147\n",
      "148\n",
      "149\n",
      "150\n",
      "151\n",
      "152\n",
      "153\n",
      "154\n",
      "155\n",
      "156\n",
      "157\n",
      "158\n",
      "159\n",
      "160\n",
      "161\n",
      "162\n",
      "163\n",
      "165\n",
      "166\n",
      "167\n",
      "168\n",
      "169\n",
      "170\n",
      "171\n",
      "172\n",
      "174\n",
      "175\n",
      "176\n",
      "177\n",
      "178\n",
      "179\n",
      "180\n",
      "181\n",
      "182\n",
      "183\n",
      "184\n",
      "185\n",
      "186\n",
      "187\n",
      "188\n",
      "189\n",
      "190\n",
      "191\n",
      "192\n",
      "193\n",
      "194\n",
      "195\n",
      "196\n",
      "197\n",
      "198\n",
      "199\n",
      "200\n",
      "201\n",
      "203\n",
      "204\n",
      "205\n",
      "206\n",
      "207\n",
      "208\n",
      "209\n",
      "210\n",
      "211\n",
      "212\n",
      "213\n",
      "214\n",
      "215\n",
      "216\n",
      "217\n",
      "218\n",
      "219\n",
      "220\n",
      "221\n",
      "222\n",
      "223\n",
      "224\n",
      "225\n",
      "226\n",
      "227\n",
      "228\n",
      "229\n",
      "230\n",
      "231\n",
      "232\n",
      "233\n",
      "234\n",
      "235\n",
      "236\n",
      "237\n",
      "238\n",
      "239\n",
      "240\n",
      "241\n",
      "242\n",
      "243\n",
      "244\n",
      "245\n",
      "246\n",
      "247\n",
      "248\n",
      "249\n",
      "250\n",
      "251\n",
      "252\n",
      "253\n",
      "254\n",
      "255\n",
      "256\n",
      "257\n",
      "258\n",
      "259\n",
      "260\n",
      "261\n",
      "262\n",
      "263\n",
      "264\n",
      "265\n",
      "267\n",
      "268\n",
      "269\n",
      "270\n",
      "271\n",
      "272\n",
      "274\n",
      "275\n",
      "276\n",
      "277\n",
      "278\n",
      "279\n",
      "280\n",
      "281\n",
      "282\n",
      "283\n",
      "284\n",
      "285\n",
      "286\n",
      "287\n",
      "288\n",
      "289\n",
      "290\n",
      "291\n",
      "292\n",
      "293\n",
      "294\n",
      "295\n",
      "296\n",
      "297\n",
      "298\n",
      "299\n",
      "300\n",
      "301\n"
     ]
    }
   ],
   "source": [
    "numerator = 0\n",
    "for row in targets.values[:]:\n",
    "    if row[1] == out_array[row[0]]:\n",
    "        print(row[0])\n",
    "        numerator += 1"
   ],
   "metadata": {
    "collapsed": false,
    "pycharm": {
     "name": "#%%\n"
    }
   }
  },
  {
   "cell_type": "code",
   "execution_count": 113,
   "outputs": [
    {
     "data": {
      "text/plain": "194"
     },
     "execution_count": 113,
     "metadata": {},
     "output_type": "execute_result"
    }
   ],
   "source": [
    "numerator"
   ],
   "metadata": {
    "collapsed": false,
    "pycharm": {
     "name": "#%%\n"
    }
   }
  },
  {
   "cell_type": "code",
   "execution_count": 114,
   "outputs": [
    {
     "data": {
      "text/plain": "tensor([[-1.4075e-04],\n        [-1.2965e-01],\n        [ 3.8607e-02],\n        [ 2.4469e-02],\n        [-5.4156e-02],\n        [ 9.1255e-03],\n        [-5.3175e-02],\n        [-8.7760e-05],\n        [ 8.3711e-02],\n        [-8.8522e-03],\n        [-6.0591e-03],\n        [ 5.2980e-02],\n        [ 7.9917e-02],\n        [-3.4822e-02],\n        [-3.7212e-02],\n        [ 4.3412e-02],\n        [ 9.1936e-03],\n        [-4.9165e-03],\n        [ 8.1048e-02],\n        [-2.9166e-02],\n        [-2.0763e-02],\n        [ 1.8987e-02],\n        [ 3.0660e-02],\n        [ 4.2877e-03],\n        [ 3.0786e-02],\n        [ 2.1356e-02],\n        [-2.8808e-02],\n        [-2.5975e-03],\n        [-2.8668e-02],\n        [ 4.7101e-02],\n        [ 4.6584e-02],\n        [ 5.5703e-02],\n        [ 5.3403e-02],\n        [ 1.6788e-02],\n        [ 1.7351e-02],\n        [-5.4719e-03],\n        [ 4.0534e-02],\n        [ 1.1831e-02],\n        [-1.3628e-01],\n        [ 4.2473e-02],\n        [ 4.4041e-02],\n        [-2.8095e-02],\n        [-4.0692e-02],\n        [-1.5755e-02],\n        [-2.7962e-02],\n        [ 5.9239e-03],\n        [-1.4319e-02],\n        [-3.4755e-02],\n        [-1.0056e-03],\n        [ 4.8314e-02],\n        [-2.9811e-02],\n        [-1.9213e-02],\n        [-3.3686e-02],\n        [ 2.5159e-02],\n        [-3.4320e-02],\n        [-3.4029e-02],\n        [ 6.1201e-02],\n        [ 2.0561e-02],\n        [ 3.3374e-02],\n        [ 1.7121e-02],\n        [-2.1503e-02],\n        [ 2.3361e-02],\n        [ 6.1832e-02],\n        [ 5.7316e-02],\n        [ 1.2738e-02],\n        [ 3.8910e-02],\n        [ 8.5179e-03],\n        [-3.4560e-02],\n        [ 2.2381e-02],\n        [ 1.5973e-02],\n        [ 1.6039e-02],\n        [ 3.1096e-02],\n        [ 2.1475e-02],\n        [ 4.4028e-02],\n        [ 1.1230e-02],\n        [-2.8989e-02],\n        [ 5.1844e-02],\n        [ 2.3550e-02],\n        [ 4.9443e-02],\n        [ 3.3454e-02],\n        [-7.0684e-03],\n        [ 5.3500e-02],\n        [ 4.9546e-02],\n        [ 1.6642e-02],\n        [-2.3416e-02],\n        [-1.3675e-02],\n        [ 5.3202e-03],\n        [-3.4157e-02],\n        [-1.7633e-02],\n        [ 1.4578e-02],\n        [ 3.5825e-02],\n        [ 3.1820e-02],\n        [ 2.3740e-02],\n        [ 1.9581e-03],\n        [ 5.1630e-02],\n        [-3.0781e-03],\n        [-6.2779e-02],\n        [ 3.7532e-02],\n        [-9.6067e-03],\n        [-1.3265e-02],\n        [ 1.1915e-02],\n        [ 4.5588e-02],\n        [ 2.1858e-02],\n        [ 2.3988e-02],\n        [ 7.9936e-03],\n        [-2.8211e-02],\n        [ 4.9450e-02],\n        [-5.7344e-02],\n        [ 5.2041e-02],\n        [ 1.4856e-02],\n        [-2.6296e-04],\n        [-1.5643e-02],\n        [ 5.0294e-02],\n        [-8.5878e-03],\n        [ 4.9232e-02],\n        [ 4.7940e-02],\n        [-1.9421e-02],\n        [-8.5558e-03],\n        [ 7.3308e-03],\n        [-4.6808e-02],\n        [ 5.1600e-02],\n        [-2.6635e-02],\n        [ 7.3609e-03],\n        [ 5.2928e-02],\n        [ 2.5241e-02],\n        [-2.6608e-02],\n        [ 3.0356e-02],\n        [ 7.8502e-03],\n        [ 1.1765e-02],\n        [ 2.3113e-02],\n        [ 3.5900e-02],\n        [ 4.6519e-02],\n        [-4.8292e-02],\n        [ 1.8009e-02],\n        [-3.4938e-02],\n        [ 2.4025e-02],\n        [ 5.3718e-02],\n        [-1.1448e-02],\n        [ 2.3854e-02],\n        [-7.0322e-03],\n        [ 3.8644e-02],\n        [ 1.5374e-03],\n        [ 1.2044e-02],\n        [ 3.4988e-02],\n        [-1.8551e-02],\n        [ 1.1169e-02],\n        [-3.3030e-02],\n        [ 1.3068e-02],\n        [-1.2003e-02],\n        [ 1.4270e-02],\n        [-1.3859e-02],\n        [ 4.9177e-02],\n        [-3.4774e-02],\n        [ 5.1792e-02],\n        [ 5.1470e-02],\n        [-3.4452e-02],\n        [ 4.7425e-02],\n        [-1.4683e-02],\n        [-1.3236e-02],\n        [ 1.5565e-02],\n        [ 4.4292e-02],\n        [ 4.4116e-02],\n        [ 9.5175e-03],\n        [ 5.7809e-02],\n        [-9.4834e-03],\n        [ 4.5352e-02],\n        [ 5.2664e-02],\n        [ 3.0887e-02],\n        [ 2.3498e-02],\n        [-2.6685e-03],\n        [-3.4680e-02],\n        [ 5.5466e-03],\n        [ 4.0252e-02],\n        [ 4.9362e-02],\n        [-2.7495e-02],\n        [ 5.4128e-02],\n        [ 5.1446e-02],\n        [ 1.7531e-02],\n        [-2.9263e-02],\n        [ 4.5461e-02],\n        [ 4.2348e-02],\n        [ 1.7827e-02],\n        [-1.2591e-02],\n        [ 1.4359e-02],\n        [-1.9256e-02],\n        [ 2.7684e-02],\n        [-3.6102e-02],\n        [ 5.8753e-03],\n        [ 3.9798e-03],\n        [ 1.5300e-03],\n        [-3.0935e-02],\n        [-1.9731e-02],\n        [-3.3603e-02],\n        [-3.5678e-02],\n        [-3.0852e-02],\n        [-3.6624e-02],\n        [-3.5266e-02],\n        [-3.6976e-02],\n        [-3.5241e-02],\n        [-3.3908e-02]])"
     },
     "execution_count": 114,
     "metadata": {},
     "output_type": "execute_result"
    }
   ],
   "source": [
    "some_net(x, cat_x).detach()"
   ],
   "metadata": {
    "collapsed": false,
    "pycharm": {
     "name": "#%%\n"
    }
   }
  },
  {
   "cell_type": "code",
   "execution_count": 115,
   "outputs": [
    {
     "data": {
      "text/plain": "0.6383161512027491"
     },
     "execution_count": 115,
     "metadata": {},
     "output_type": "execute_result"
    }
   ],
   "source": [
    "roc(targets.expenses, some_net(x, cat_x).detach())"
   ],
   "metadata": {
    "collapsed": false,
    "pycharm": {
     "name": "#%%\n"
    }
   }
  },
  {
   "cell_type": "code",
   "execution_count": 12,
   "outputs": [],
   "source": [
    "torch.save(some_net.state_dict(), \"../models/dummy_test\")"
   ],
   "metadata": {
    "collapsed": false,
    "pycharm": {
     "name": "#%%\n"
    }
   }
  }
 ],
 "metadata": {
  "kernelspec": {
   "display_name": "Python 3",
   "language": "python",
   "name": "python3"
  },
  "language_info": {
   "codemirror_mode": {
    "name": "ipython",
    "version": 2
   },
   "file_extension": ".py",
   "mimetype": "text/x-python",
   "name": "python",
   "nbconvert_exporter": "python",
   "pygments_lexer": "ipython2",
   "version": "2.7.6"
  }
 },
 "nbformat": 4,
 "nbformat_minor": 0
}