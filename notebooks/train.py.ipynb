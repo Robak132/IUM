{
 "cells": [
  {
   "cell_type": "code",
   "execution_count": 45,
   "metadata": {
    "collapsed": true
   },
   "outputs": [],
   "source": [
    "import random\n",
    "import torch\n",
    "import numpy as np"
   ]
  },
  {
   "cell_type": "code",
   "execution_count": 46,
   "outputs": [],
   "source": [
    "from microservice.models.model_b import SimpleNN\n",
    "from models.train_utils_nn import train_and_extract\n",
    "from models.utils import load_default_data, calculate_expenses\n",
    "from microservice.features import extract_users_data, prepare_data_for_predict\n",
    "from sklearn.metrics import roc_auc_score as roc\n",
    "from microservice.models.model_b import NeuralNetworkRegressor\n",
    "from models.train_utils_nn import train\n"
   ],
   "metadata": {
    "collapsed": false,
    "pycharm": {
     "name": "#%%\n"
    }
   }
  },
  {
   "cell_type": "code",
   "execution_count": 47,
   "outputs": [],
   "source": [
    "seed = 213769420\n",
    "torch.cuda.manual_seed_all(seed)\n",
    "torch.manual_seed(seed)\n",
    "np.random.seed(seed)\n",
    "random.seed(seed)"
   ],
   "metadata": {
    "collapsed": false,
    "pycharm": {
     "name": "#%%\n"
    }
   }
  },
  {
   "cell_type": "code",
   "execution_count": 48,
   "outputs": [
    {
     "data": {
      "text/plain": "     user_id  expenses\n0        102      0.00\n1        103    554.77\n2        104   2332.01\n3        105      0.00\n4        106      0.00\n..       ...       ...\n195      297    109.00\n196      298   2399.00\n197      299      0.00\n198      300      0.00\n199      301      0.00\n\n[200 rows x 2 columns]",
      "text/html": "<div>\n<style scoped>\n    .dataframe tbody tr th:only-of-type {\n        vertical-align: middle;\n    }\n\n    .dataframe tbody tr th {\n        vertical-align: top;\n    }\n\n    .dataframe thead th {\n        text-align: right;\n    }\n</style>\n<table border=\"1\" class=\"dataframe\">\n  <thead>\n    <tr style=\"text-align: right;\">\n      <th></th>\n      <th>user_id</th>\n      <th>expenses</th>\n    </tr>\n  </thead>\n  <tbody>\n    <tr>\n      <th>0</th>\n      <td>102</td>\n      <td>0.00</td>\n    </tr>\n    <tr>\n      <th>1</th>\n      <td>103</td>\n      <td>554.77</td>\n    </tr>\n    <tr>\n      <th>2</th>\n      <td>104</td>\n      <td>2332.01</td>\n    </tr>\n    <tr>\n      <th>3</th>\n      <td>105</td>\n      <td>0.00</td>\n    </tr>\n    <tr>\n      <th>4</th>\n      <td>106</td>\n      <td>0.00</td>\n    </tr>\n    <tr>\n      <th>...</th>\n      <td>...</td>\n      <td>...</td>\n    </tr>\n    <tr>\n      <th>195</th>\n      <td>297</td>\n      <td>109.00</td>\n    </tr>\n    <tr>\n      <th>196</th>\n      <td>298</td>\n      <td>2399.00</td>\n    </tr>\n    <tr>\n      <th>197</th>\n      <td>299</td>\n      <td>0.00</td>\n    </tr>\n    <tr>\n      <th>198</th>\n      <td>300</td>\n      <td>0.00</td>\n    </tr>\n    <tr>\n      <th>199</th>\n      <td>301</td>\n      <td>0.00</td>\n    </tr>\n  </tbody>\n</table>\n<p>200 rows × 2 columns</p>\n</div>"
     },
     "execution_count": 48,
     "metadata": {},
     "output_type": "execute_result"
    }
   ],
   "source": [
    "train_sessions, test, products, users, deliveries = load_default_data()\n",
    "targets = calculate_expenses(test, products, users)\n",
    "targets"
   ],
   "metadata": {
    "collapsed": false,
    "pycharm": {
     "name": "#%%\n"
    }
   }
  },
  {
   "cell_type": "code",
   "execution_count": 49,
   "outputs": [],
   "source": [
    "targets['expenses'] = targets['expenses'].apply(lambda b: 1 if b > 5000 else 0)"
   ],
   "metadata": {
    "collapsed": false,
    "pycharm": {
     "name": "#%%\n"
    }
   }
  },
  {
   "cell_type": "code",
   "execution_count": 50,
   "outputs": [
    {
     "data": {
      "text/plain": "     user_id  expenses\n0        102         0\n1        103         0\n2        104         0\n3        105         0\n4        106         0\n..       ...       ...\n195      297         0\n196      298         0\n197      299         0\n198      300         0\n199      301         0\n\n[200 rows x 2 columns]",
      "text/html": "<div>\n<style scoped>\n    .dataframe tbody tr th:only-of-type {\n        vertical-align: middle;\n    }\n\n    .dataframe tbody tr th {\n        vertical-align: top;\n    }\n\n    .dataframe thead th {\n        text-align: right;\n    }\n</style>\n<table border=\"1\" class=\"dataframe\">\n  <thead>\n    <tr style=\"text-align: right;\">\n      <th></th>\n      <th>user_id</th>\n      <th>expenses</th>\n    </tr>\n  </thead>\n  <tbody>\n    <tr>\n      <th>0</th>\n      <td>102</td>\n      <td>0</td>\n    </tr>\n    <tr>\n      <th>1</th>\n      <td>103</td>\n      <td>0</td>\n    </tr>\n    <tr>\n      <th>2</th>\n      <td>104</td>\n      <td>0</td>\n    </tr>\n    <tr>\n      <th>3</th>\n      <td>105</td>\n      <td>0</td>\n    </tr>\n    <tr>\n      <th>4</th>\n      <td>106</td>\n      <td>0</td>\n    </tr>\n    <tr>\n      <th>...</th>\n      <td>...</td>\n      <td>...</td>\n    </tr>\n    <tr>\n      <th>195</th>\n      <td>297</td>\n      <td>0</td>\n    </tr>\n    <tr>\n      <th>196</th>\n      <td>298</td>\n      <td>0</td>\n    </tr>\n    <tr>\n      <th>197</th>\n      <td>299</td>\n      <td>0</td>\n    </tr>\n    <tr>\n      <th>198</th>\n      <td>300</td>\n      <td>0</td>\n    </tr>\n    <tr>\n      <th>199</th>\n      <td>301</td>\n      <td>0</td>\n    </tr>\n  </tbody>\n</table>\n<p>200 rows × 2 columns</p>\n</div>"
     },
     "execution_count": 50,
     "metadata": {},
     "output_type": "execute_result"
    }
   ],
   "source": [
    "targets"
   ],
   "metadata": {
    "collapsed": false,
    "pycharm": {
     "name": "#%%\n"
    }
   }
  },
  {
   "cell_type": "code",
   "execution_count": 51,
   "outputs": [
    {
     "data": {
      "text/plain": "     user_id  expenses  products_bought  events_number  sessions_number  \\\n0        139  23400.85               49            255               66   \n1        242  44518.18               58            327               86   \n2        108  16312.03               23            129               32   \n3        143   7214.08               15             84               26   \n4        140  32333.55               43            306               83   \n..       ...       ...              ...            ...              ...   \n195      289      0.00                0              7                1   \n196      225    109.00                1              2                1   \n197      152      0.00                0              5                2   \n198      162     78.96                2              6                2   \n199      229    245.00                1              5                1   \n\n     average_discount  average_discount_on_bought      city  \n0           11.019608                   10.816327    Kraków  \n1           11.223242                   10.603448     Radom  \n2            9.418605                    9.347826     Radom  \n3           11.250000                   11.666667    Kraków  \n4           10.130719                    9.651163    Poznań  \n..                ...                         ...       ...  \n195         20.000000                    0.000000  Warszawa  \n196         10.000000                   10.000000  Warszawa  \n197          2.000000                    0.000000    Poznań  \n198         13.333333                   12.500000  Szczecin  \n199         10.000000                   10.000000     Radom  \n\n[200 rows x 8 columns]",
      "text/html": "<div>\n<style scoped>\n    .dataframe tbody tr th:only-of-type {\n        vertical-align: middle;\n    }\n\n    .dataframe tbody tr th {\n        vertical-align: top;\n    }\n\n    .dataframe thead th {\n        text-align: right;\n    }\n</style>\n<table border=\"1\" class=\"dataframe\">\n  <thead>\n    <tr style=\"text-align: right;\">\n      <th></th>\n      <th>user_id</th>\n      <th>expenses</th>\n      <th>products_bought</th>\n      <th>events_number</th>\n      <th>sessions_number</th>\n      <th>average_discount</th>\n      <th>average_discount_on_bought</th>\n      <th>city</th>\n    </tr>\n  </thead>\n  <tbody>\n    <tr>\n      <th>0</th>\n      <td>139</td>\n      <td>23400.85</td>\n      <td>49</td>\n      <td>255</td>\n      <td>66</td>\n      <td>11.019608</td>\n      <td>10.816327</td>\n      <td>Kraków</td>\n    </tr>\n    <tr>\n      <th>1</th>\n      <td>242</td>\n      <td>44518.18</td>\n      <td>58</td>\n      <td>327</td>\n      <td>86</td>\n      <td>11.223242</td>\n      <td>10.603448</td>\n      <td>Radom</td>\n    </tr>\n    <tr>\n      <th>2</th>\n      <td>108</td>\n      <td>16312.03</td>\n      <td>23</td>\n      <td>129</td>\n      <td>32</td>\n      <td>9.418605</td>\n      <td>9.347826</td>\n      <td>Radom</td>\n    </tr>\n    <tr>\n      <th>3</th>\n      <td>143</td>\n      <td>7214.08</td>\n      <td>15</td>\n      <td>84</td>\n      <td>26</td>\n      <td>11.250000</td>\n      <td>11.666667</td>\n      <td>Kraków</td>\n    </tr>\n    <tr>\n      <th>4</th>\n      <td>140</td>\n      <td>32333.55</td>\n      <td>43</td>\n      <td>306</td>\n      <td>83</td>\n      <td>10.130719</td>\n      <td>9.651163</td>\n      <td>Poznań</td>\n    </tr>\n    <tr>\n      <th>...</th>\n      <td>...</td>\n      <td>...</td>\n      <td>...</td>\n      <td>...</td>\n      <td>...</td>\n      <td>...</td>\n      <td>...</td>\n      <td>...</td>\n    </tr>\n    <tr>\n      <th>195</th>\n      <td>289</td>\n      <td>0.00</td>\n      <td>0</td>\n      <td>7</td>\n      <td>1</td>\n      <td>20.000000</td>\n      <td>0.000000</td>\n      <td>Warszawa</td>\n    </tr>\n    <tr>\n      <th>196</th>\n      <td>225</td>\n      <td>109.00</td>\n      <td>1</td>\n      <td>2</td>\n      <td>1</td>\n      <td>10.000000</td>\n      <td>10.000000</td>\n      <td>Warszawa</td>\n    </tr>\n    <tr>\n      <th>197</th>\n      <td>152</td>\n      <td>0.00</td>\n      <td>0</td>\n      <td>5</td>\n      <td>2</td>\n      <td>2.000000</td>\n      <td>0.000000</td>\n      <td>Poznań</td>\n    </tr>\n    <tr>\n      <th>198</th>\n      <td>162</td>\n      <td>78.96</td>\n      <td>2</td>\n      <td>6</td>\n      <td>2</td>\n      <td>13.333333</td>\n      <td>12.500000</td>\n      <td>Szczecin</td>\n    </tr>\n    <tr>\n      <th>199</th>\n      <td>229</td>\n      <td>245.00</td>\n      <td>1</td>\n      <td>5</td>\n      <td>1</td>\n      <td>10.000000</td>\n      <td>10.000000</td>\n      <td>Radom</td>\n    </tr>\n  </tbody>\n</table>\n<p>200 rows × 8 columns</p>\n</div>"
     },
     "execution_count": 51,
     "metadata": {},
     "output_type": "execute_result"
    }
   ],
   "source": [
    "some_net = NeuralNetworkRegressor()\n",
    "users_data = extract_users_data(train_sessions, users, products)\n",
    "users_data"
   ],
   "metadata": {
    "collapsed": false,
    "pycharm": {
     "name": "#%%\n"
    }
   }
  },
  {
   "cell_type": "code",
   "execution_count": 52,
   "outputs": [
    {
     "name": "stdout",
     "output_type": "stream",
     "text": [
      "Epoch 0 loss 0.0848\n",
      "Epoch 1 loss 0.0924\n",
      "Epoch 2 loss 0.0658\n",
      "Epoch 3 loss 0.0976\n",
      "Epoch 4 loss 0.0729\n",
      "Epoch 5 loss 0.0561\n",
      "Epoch 6 loss 0.0883\n",
      "Epoch 7 loss 0.0687\n",
      "Epoch 8 loss 0.0851\n",
      "Epoch 9 loss 0.0893\n",
      "Epoch 10 loss 0.0939\n",
      "Epoch 11 loss 0.0646\n",
      "Epoch 12 loss 0.0803\n",
      "Epoch 13 loss 0.0653\n",
      "Epoch 14 loss 0.0702\n",
      "Epoch 15 loss 0.0523\n",
      "Epoch 16 loss 0.0984\n",
      "Epoch 17 loss 0.0715\n",
      "Epoch 18 loss 0.0658\n",
      "Epoch 19 loss 0.0577\n",
      "Epoch 20 loss 0.0659\n",
      "Epoch 21 loss 0.0614\n",
      "Epoch 22 loss 0.0814\n",
      "Epoch 23 loss 0.0606\n",
      "Epoch 24 loss 0.059\n",
      "Epoch 25 loss 0.0811\n",
      "Epoch 26 loss 0.0731\n",
      "Epoch 27 loss 0.0794\n",
      "Epoch 28 loss 0.1\n",
      "Epoch 29 loss 0.0998\n",
      "Epoch 30 loss 0.0652\n",
      "Epoch 31 loss 0.052\n",
      "Epoch 32 loss 0.0617\n",
      "Epoch 33 loss 0.0578\n",
      "Epoch 34 loss 0.0456\n",
      "Epoch 35 loss 0.0403\n",
      "Epoch 36 loss 0.069\n",
      "Epoch 37 loss 0.0519\n",
      "Epoch 38 loss 0.0698\n",
      "Epoch 39 loss 0.0528\n",
      "Epoch 40 loss 0.0757\n",
      "Epoch 41 loss 0.0606\n",
      "Epoch 42 loss 0.0485\n",
      "Epoch 43 loss 0.0651\n",
      "Epoch 44 loss 0.0753\n",
      "Epoch 45 loss 0.0476\n",
      "Epoch 46 loss 0.069\n",
      "Epoch 47 loss 0.0535\n",
      "Epoch 48 loss 0.0632\n",
      "Epoch 49 loss 0.0502\n",
      "Epoch 50 loss 0.0513\n",
      "Epoch 51 loss 0.0487\n",
      "Epoch 52 loss 0.0669\n",
      "Epoch 53 loss 0.0481\n",
      "Epoch 54 loss 0.0585\n",
      "Epoch 55 loss 0.0754\n",
      "Epoch 56 loss 0.0432\n",
      "Epoch 57 loss 0.0512\n",
      "Epoch 58 loss 0.0463\n",
      "Epoch 59 loss 0.0397\n",
      "Epoch 60 loss 0.0446\n",
      "Epoch 61 loss 0.0521\n",
      "Epoch 62 loss 0.0677\n",
      "Epoch 63 loss 0.0601\n",
      "Epoch 64 loss 0.0461\n",
      "Epoch 65 loss 0.0358\n",
      "Epoch 66 loss 0.0546\n",
      "Epoch 67 loss 0.0395\n",
      "Epoch 68 loss 0.0399\n",
      "Epoch 69 loss 0.0389\n",
      "Epoch 70 loss 0.0441\n",
      "Epoch 71 loss 0.0681\n",
      "Epoch 72 loss 0.0538\n",
      "Epoch 73 loss 0.0415\n",
      "Epoch 74 loss 0.0416\n",
      "Epoch 75 loss 0.0504\n",
      "Epoch 76 loss 0.0363\n",
      "Epoch 77 loss 0.0431\n",
      "Epoch 78 loss 0.0551\n",
      "Epoch 79 loss 0.0364\n",
      "Epoch 80 loss 0.0678\n",
      "Epoch 81 loss 0.0621\n",
      "Epoch 82 loss 0.0566\n",
      "Epoch 83 loss 0.0435\n",
      "Epoch 84 loss 0.0437\n",
      "Epoch 85 loss 0.0538\n",
      "Epoch 86 loss 0.0488\n",
      "Epoch 87 loss 0.0343\n",
      "Epoch 88 loss 0.037\n",
      "Epoch 89 loss 0.0672\n",
      "Epoch 90 loss 0.0676\n",
      "Epoch 91 loss 0.0372\n",
      "Epoch 92 loss 0.0524\n",
      "Epoch 93 loss 0.0326\n",
      "Epoch 94 loss 0.056\n",
      "Epoch 95 loss 0.0438\n",
      "Epoch 96 loss 0.0416\n",
      "Epoch 97 loss 0.043\n",
      "Epoch 98 loss 0.0371\n",
      "Epoch 99 loss 0.0328\n"
     ]
    }
   ],
   "source": [
    "train(some_net, users_data, targets)"
   ],
   "metadata": {
    "collapsed": false,
    "pycharm": {
     "name": "#%%\n"
    }
   }
  },
  {
   "cell_type": "code",
   "execution_count": 53,
   "outputs": [
    {
     "data": {
      "text/plain": "array([0.09270999, 0.0727239 , 0.10107204, 0.08470789, 0.08265649,\n       0.09702913, 0.08275331, 0.09776396, 0.08432503, 0.06179321,\n       0.08911065, 0.0877873 , 0.09565176, 0.04253358, 0.08802857,\n       0.10045748, 0.08061907, 0.09346148, 0.0873265 , 0.04867771,\n       0.05444264, 0.09277996, 0.0856462 , 0.06962235, 0.08719957,\n       0.08329393, 0.08676489, 0.06964958, 0.04963084, 0.08980252,\n       0.10021158, 0.09165062, 0.08895054, 0.10011285, 0.07719723,\n       0.06765188, 0.08907329, 0.07970862, 0.07408775, 0.09056626,\n       0.09018449, 0.08842079, 0.08821931, 0.09289826, 0.04800501,\n       0.09699097, 0.05973797, 0.09149396, 0.07129056, 0.08980827,\n       0.08759783, 0.05257551, 0.08947656, 0.0939365 , 0.04317959,\n       0.04396026, 0.09877651, 0.08319824, 0.08798052, 0.09834658,\n       0.09059656, 0.08477752, 0.09890369, 0.09644812, 0.07484641,\n       0.10007598, 0.07441878, 0.04285541, 0.09961978, 0.09750169,\n       0.09550383, 0.10031796, 0.08153098, 0.09116466, 0.09281039,\n       0.04831911, 0.09294514, 0.08618435, 0.09266652, 0.09843943,\n       0.09329489, 0.10013142, 0.09838049, 0.09496763, 0.09325142,\n       0.05695556, 0.07180999, 0.04462284, 0.0517593 , 0.09819575,\n       0.10025741, 0.08736651, 0.10158526, 0.07218736, 0.08917709,\n       0.09562513, 0.08638421, 0.10072043, 0.06270304, 0.0571567 ,\n       0.09740594, 0.10015499, 0.08141432, 0.08232265, 0.07706254,\n       0.05075191, 0.09967011, 0.08797228, 0.09197146, 0.08062342,\n       0.06666046, 0.05401934, 0.09178263, 0.06434998, 0.09192243,\n       0.09082911, 0.05526239, 0.06238922, 0.0975623 , 0.09032598,\n       0.08534265, 0.0536518 , 0.07516405, 0.09022737, 0.08612686,\n       0.0931171 , 0.10011757, 0.09953456, 0.09884408, 0.09902845,\n       0.08912517, 0.09108557, 0.08940563, 0.08034552, 0.04278189,\n       0.08440305, 0.09864272, 0.06119722, 0.10060275, 0.06477681,\n       0.0897941 , 0.07045428, 0.09855451, 0.08900192, 0.09802423,\n       0.09827917, 0.04588885, 0.09980281, 0.0583439 , 0.08180451,\n       0.05683273, 0.10094448, 0.0398204 , 0.09417806, 0.08707818,\n       0.04387569, 0.10071242, 0.05671069, 0.05532268, 0.10186288,\n       0.0907293 , 0.0907056 , 0.07822945, 0.0938198 , 0.06385699,\n       0.09191511, 0.09324774, 0.08574274, 0.08460741, 0.06994571,\n       0.04192223, 0.07175951, 0.08975314, 0.10067845, 0.04703048,\n       0.09277358, 0.0970557 , 0.07745416, 0.04866835, 0.08999778,\n       0.08979394, 0.07837004, 0.05909871, 0.07786226, 0.05637692,\n       0.10084567, 0.042939  , 0.07488823, 0.07084828, 0.06856516,\n       0.04447377, 0.05081649, 0.04348553, 0.04177878, 0.04642052,\n       0.03985436, 0.04048259, 0.04184566, 0.04006638, 0.04146119],\n      dtype=float32)"
     },
     "execution_count": 53,
     "metadata": {},
     "output_type": "execute_result"
    }
   ],
   "source": [
    "extracted_users_data = extract_users_data(train_sessions, users, products)\n",
    "x, cat_x = prepare_data_for_predict(extracted_users_data)\n",
    "x = torch.from_numpy(x.values).float()\n",
    "cat_x = torch.from_numpy(cat_x.values).float()\n",
    "some_net.eval()\n",
    "out = some_net(x, cat_x).squeeze()\n",
    "out = out.detach().numpy()\n",
    "out"
   ],
   "metadata": {
    "collapsed": false,
    "pycharm": {
     "name": "#%%\n"
    }
   }
  },
  {
   "cell_type": "code",
   "execution_count": 54,
   "outputs": [
    {
     "data": {
      "text/plain": "{139: False,\n 242: False,\n 108: False,\n 143: False,\n 140: False,\n 202: False,\n 270: False,\n 212: False,\n 189: False,\n 205: False,\n 255: False,\n 215: False,\n 273: False,\n 281: False,\n 227: False,\n 222: False,\n 235: False,\n 171: False,\n 188: False,\n 135: False,\n 252: False,\n 238: False,\n 145: False,\n 286: False,\n 157: False,\n 265: False,\n 127: False,\n 159: False,\n 119: False,\n 274: False,\n 160: False,\n 105: False,\n 261: False,\n 185: False,\n 183: False,\n 192: False,\n 186: False,\n 102: False,\n 124: False,\n 282: False,\n 210: False,\n 125: False,\n 272: False,\n 104: False,\n 115: False,\n 136: False,\n 285: False,\n 133: False,\n 187: False,\n 175: False,\n 161: False,\n 167: False,\n 213: False,\n 292: False,\n 256: False,\n 278: False,\n 263: False,\n 148: False,\n 200: False,\n 280: False,\n 287: False,\n 208: False,\n 149: False,\n 233: False,\n 236: False,\n 246: False,\n 193: False,\n 147: False,\n 158: False,\n 251: False,\n 277: False,\n 182: False,\n 151: False,\n 253: False,\n 295: False,\n 262: False,\n 178: False,\n 156: False,\n 110: False,\n 120: False,\n 118: False,\n 204: False,\n 300: False,\n 128: False,\n 260: False,\n 141: False,\n 190: False,\n 114: False,\n 240: False,\n 130: False,\n 195: False,\n 288: False,\n 177: False,\n 122: False,\n 173: False,\n 293: False,\n 121: False,\n 279: False,\n 131: False,\n 257: False,\n 113: False,\n 150: False,\n 248: False,\n 245: False,\n 224: False,\n 228: False,\n 172: False,\n 165: False,\n 126: False,\n 194: False,\n 164: False,\n 268: False,\n 176: False,\n 243: False,\n 214: False,\n 232: False,\n 267: False,\n 117: False,\n 111: False,\n 109: False,\n 271: False,\n 107: False,\n 247: False,\n 299: False,\n 241: False,\n 207: False,\n 197: False,\n 276: False,\n 155: False,\n 250: False,\n 211: False,\n 170: False,\n 275: False,\n 142: False,\n 134: False,\n 234: False,\n 138: False,\n 191: False,\n 103: False,\n 239: False,\n 226: False,\n 198: False,\n 266: False,\n 154: False,\n 223: False,\n 237: False,\n 123: False,\n 137: False,\n 231: False,\n 163: False,\n 166: False,\n 259: False,\n 291: False,\n 301: False,\n 181: False,\n 153: False,\n 129: False,\n 218: False,\n 146: False,\n 174: False,\n 180: False,\n 297: False,\n 184: False,\n 106: False,\n 254: False,\n 199: False,\n 179: False,\n 203: False,\n 220: False,\n 216: False,\n 201: False,\n 284: False,\n 116: False,\n 168: False,\n 209: False,\n 298: False,\n 112: False,\n 219: False,\n 196: False,\n 290: False,\n 249: False,\n 294: False,\n 296: False,\n 230: False,\n 258: False,\n 217: False,\n 244: False,\n 132: False,\n 144: False,\n 221: False,\n 264: False,\n 206: False,\n 283: False,\n 269: False,\n 169: False,\n 289: False,\n 225: False,\n 152: False,\n 162: False,\n 229: False}"
     },
     "execution_count": 54,
     "metadata": {},
     "output_type": "execute_result"
    }
   ],
   "source": [
    "out_array = {int(user_id): out[i] > 0.3 for i, user_id in enumerate(extracted_users_data[\"user_id\"].to_list())}\n",
    "out_array"
   ],
   "metadata": {
    "collapsed": false,
    "pycharm": {
     "name": "#%%\n"
    }
   }
  },
  {
   "cell_type": "code",
   "execution_count": 55,
   "outputs": [
    {
     "data": {
      "text/plain": "array([[102,   0],\n       [103,   0],\n       [104,   0],\n       [105,   0],\n       [106,   0],\n       [107,   0],\n       [108,   0],\n       [109,   0],\n       [110,   0],\n       [111,   0],\n       [112,   0],\n       [113,   0],\n       [114,   0],\n       [115,   0],\n       [116,   0],\n       [117,   0],\n       [118,   0],\n       [119,   0],\n       [120,   0],\n       [121,   0],\n       [122,   0],\n       [123,   0],\n       [124,   0],\n       [125,   0],\n       [126,   0],\n       [127,   0],\n       [128,   0],\n       [129,   0],\n       [130,   0],\n       [131,   0],\n       [132,   1],\n       [133,   0],\n       [134,   0],\n       [135,   0],\n       [136,   0],\n       [137,   0],\n       [138,   0],\n       [139,   0],\n       [140,   0],\n       [141,   0],\n       [142,   0],\n       [143,   0],\n       [144,   0],\n       [145,   0],\n       [146,   0],\n       [147,   0],\n       [148,   0],\n       [149,   0],\n       [150,   0],\n       [151,   0],\n       [152,   0],\n       [153,   0],\n       [154,   0],\n       [155,   0],\n       [156,   0],\n       [157,   0],\n       [158,   0],\n       [159,   0],\n       [160,   0],\n       [161,   0],\n       [162,   0],\n       [163,   0],\n       [164,   1],\n       [165,   0],\n       [166,   0],\n       [167,   0],\n       [168,   0],\n       [169,   0],\n       [170,   0],\n       [171,   0],\n       [172,   0],\n       [173,   1],\n       [174,   0],\n       [175,   0],\n       [176,   0],\n       [177,   0],\n       [178,   0],\n       [179,   0],\n       [180,   0],\n       [181,   0],\n       [182,   0],\n       [183,   0],\n       [184,   0],\n       [185,   0],\n       [186,   0],\n       [187,   0],\n       [188,   0],\n       [189,   0],\n       [190,   0],\n       [191,   0],\n       [192,   0],\n       [193,   0],\n       [194,   0],\n       [195,   0],\n       [196,   0],\n       [197,   0],\n       [198,   0],\n       [199,   0],\n       [200,   0],\n       [201,   0],\n       [202,   1],\n       [203,   0],\n       [204,   0],\n       [205,   0],\n       [206,   0],\n       [207,   0],\n       [208,   0],\n       [209,   0],\n       [210,   0],\n       [211,   0],\n       [212,   0],\n       [213,   0],\n       [214,   0],\n       [215,   0],\n       [216,   0],\n       [217,   0],\n       [218,   0],\n       [219,   0],\n       [220,   0],\n       [221,   0],\n       [222,   0],\n       [223,   0],\n       [224,   0],\n       [225,   0],\n       [226,   0],\n       [227,   0],\n       [228,   0],\n       [229,   0],\n       [230,   0],\n       [231,   0],\n       [232,   0],\n       [233,   0],\n       [234,   0],\n       [235,   0],\n       [236,   0],\n       [237,   0],\n       [238,   0],\n       [239,   0],\n       [240,   0],\n       [241,   0],\n       [242,   0],\n       [243,   0],\n       [244,   0],\n       [245,   0],\n       [246,   0],\n       [247,   0],\n       [248,   0],\n       [249,   0],\n       [250,   0],\n       [251,   0],\n       [252,   0],\n       [253,   0],\n       [254,   0],\n       [255,   0],\n       [256,   0],\n       [257,   0],\n       [258,   0],\n       [259,   0],\n       [260,   0],\n       [261,   0],\n       [262,   0],\n       [263,   0],\n       [264,   0],\n       [265,   0],\n       [266,   1],\n       [267,   0],\n       [268,   0],\n       [269,   0],\n       [270,   0],\n       [271,   0],\n       [272,   0],\n       [273,   1],\n       [274,   0],\n       [275,   0],\n       [276,   0],\n       [277,   0],\n       [278,   0],\n       [279,   0],\n       [280,   0],\n       [281,   0],\n       [282,   0],\n       [283,   0],\n       [284,   0],\n       [285,   0],\n       [286,   0],\n       [287,   0],\n       [288,   0],\n       [289,   0],\n       [290,   0],\n       [291,   0],\n       [292,   0],\n       [293,   0],\n       [294,   0],\n       [295,   0],\n       [296,   0],\n       [297,   0],\n       [298,   0],\n       [299,   0],\n       [300,   0],\n       [301,   0]], dtype=int64)"
     },
     "execution_count": 55,
     "metadata": {},
     "output_type": "execute_result"
    }
   ],
   "source": [
    "targets.values"
   ],
   "metadata": {
    "collapsed": false,
    "pycharm": {
     "name": "#%%\n"
    }
   }
  },
  {
   "cell_type": "code",
   "execution_count": 56,
   "outputs": [
    {
     "name": "stdout",
     "output_type": "stream",
     "text": [
      "102\n",
      "103\n",
      "104\n",
      "105\n",
      "106\n",
      "107\n",
      "108\n",
      "109\n",
      "110\n",
      "111\n",
      "112\n",
      "113\n",
      "114\n",
      "115\n",
      "116\n",
      "117\n",
      "118\n",
      "119\n",
      "120\n",
      "121\n",
      "122\n",
      "123\n",
      "124\n",
      "125\n",
      "126\n",
      "127\n",
      "128\n",
      "129\n",
      "130\n",
      "131\n",
      "133\n",
      "134\n",
      "135\n",
      "136\n",
      "137\n",
      "138\n",
      "139\n",
      "140\n",
      "141\n",
      "142\n",
      "143\n",
      "144\n",
      "145\n",
      "146\n",
      "147\n",
      "148\n",
      "149\n",
      "150\n",
      "151\n",
      "152\n",
      "153\n",
      "154\n",
      "155\n",
      "156\n",
      "157\n",
      "158\n",
      "159\n",
      "160\n",
      "161\n",
      "162\n",
      "163\n",
      "165\n",
      "166\n",
      "167\n",
      "168\n",
      "169\n",
      "170\n",
      "171\n",
      "172\n",
      "174\n",
      "175\n",
      "176\n",
      "177\n",
      "178\n",
      "179\n",
      "180\n",
      "181\n",
      "182\n",
      "183\n",
      "184\n",
      "185\n",
      "186\n",
      "187\n",
      "188\n",
      "189\n",
      "190\n",
      "191\n",
      "192\n",
      "193\n",
      "194\n",
      "195\n",
      "196\n",
      "197\n",
      "198\n",
      "199\n",
      "200\n",
      "201\n",
      "203\n",
      "204\n",
      "205\n",
      "206\n",
      "207\n",
      "208\n",
      "209\n",
      "210\n",
      "211\n",
      "212\n",
      "213\n",
      "214\n",
      "215\n",
      "216\n",
      "217\n",
      "218\n",
      "219\n",
      "220\n",
      "221\n",
      "222\n",
      "223\n",
      "224\n",
      "225\n",
      "226\n",
      "227\n",
      "228\n",
      "229\n",
      "230\n",
      "231\n",
      "232\n",
      "233\n",
      "234\n",
      "235\n",
      "236\n",
      "237\n",
      "238\n",
      "239\n",
      "240\n",
      "241\n",
      "242\n",
      "243\n",
      "244\n",
      "245\n",
      "246\n",
      "247\n",
      "248\n",
      "249\n",
      "250\n",
      "251\n",
      "252\n",
      "253\n",
      "254\n",
      "255\n",
      "256\n",
      "257\n",
      "258\n",
      "259\n",
      "260\n",
      "261\n",
      "262\n",
      "263\n",
      "264\n",
      "265\n",
      "267\n",
      "268\n",
      "269\n",
      "270\n",
      "271\n",
      "272\n",
      "274\n",
      "275\n",
      "276\n",
      "277\n",
      "278\n",
      "279\n",
      "280\n",
      "281\n",
      "282\n",
      "283\n",
      "284\n",
      "285\n",
      "286\n",
      "287\n",
      "288\n",
      "289\n",
      "290\n",
      "291\n",
      "292\n",
      "293\n",
      "294\n",
      "295\n",
      "296\n",
      "297\n",
      "298\n",
      "299\n",
      "300\n",
      "301\n"
     ]
    }
   ],
   "source": [
    "numerator = 0\n",
    "for row in targets.values[:]:\n",
    "    if row[1] == out_array[row[0]]:\n",
    "        print(row[0])\n",
    "        numerator += 1"
   ],
   "metadata": {
    "collapsed": false,
    "pycharm": {
     "name": "#%%\n"
    }
   }
  },
  {
   "cell_type": "code",
   "execution_count": 57,
   "outputs": [
    {
     "data": {
      "text/plain": "tensor([[0.0927],\n        [0.0727],\n        [0.1011],\n        [0.0847],\n        [0.0827],\n        [0.0970],\n        [0.0828],\n        [0.0978],\n        [0.0843],\n        [0.0618],\n        [0.0891],\n        [0.0878],\n        [0.0957],\n        [0.0425],\n        [0.0880],\n        [0.1005],\n        [0.0806],\n        [0.0935],\n        [0.0873],\n        [0.0487],\n        [0.0544],\n        [0.0928],\n        [0.0856],\n        [0.0696],\n        [0.0872],\n        [0.0833],\n        [0.0868],\n        [0.0696],\n        [0.0496],\n        [0.0898],\n        [0.1002],\n        [0.0917],\n        [0.0890],\n        [0.1001],\n        [0.0772],\n        [0.0677],\n        [0.0891],\n        [0.0797],\n        [0.0741],\n        [0.0906],\n        [0.0902],\n        [0.0884],\n        [0.0882],\n        [0.0929],\n        [0.0480],\n        [0.0970],\n        [0.0597],\n        [0.0915],\n        [0.0713],\n        [0.0898],\n        [0.0876],\n        [0.0526],\n        [0.0895],\n        [0.0939],\n        [0.0432],\n        [0.0440],\n        [0.0988],\n        [0.0832],\n        [0.0880],\n        [0.0983],\n        [0.0906],\n        [0.0848],\n        [0.0989],\n        [0.0964],\n        [0.0748],\n        [0.1001],\n        [0.0744],\n        [0.0429],\n        [0.0996],\n        [0.0975],\n        [0.0955],\n        [0.1003],\n        [0.0815],\n        [0.0912],\n        [0.0928],\n        [0.0483],\n        [0.0929],\n        [0.0862],\n        [0.0927],\n        [0.0984],\n        [0.0933],\n        [0.1001],\n        [0.0984],\n        [0.0950],\n        [0.0933],\n        [0.0570],\n        [0.0718],\n        [0.0446],\n        [0.0518],\n        [0.0982],\n        [0.1003],\n        [0.0874],\n        [0.1016],\n        [0.0722],\n        [0.0892],\n        [0.0956],\n        [0.0864],\n        [0.1007],\n        [0.0627],\n        [0.0572],\n        [0.0974],\n        [0.1002],\n        [0.0814],\n        [0.0823],\n        [0.0771],\n        [0.0508],\n        [0.0997],\n        [0.0880],\n        [0.0920],\n        [0.0806],\n        [0.0667],\n        [0.0540],\n        [0.0918],\n        [0.0643],\n        [0.0919],\n        [0.0908],\n        [0.0553],\n        [0.0624],\n        [0.0976],\n        [0.0903],\n        [0.0853],\n        [0.0537],\n        [0.0752],\n        [0.0902],\n        [0.0861],\n        [0.0931],\n        [0.1001],\n        [0.0995],\n        [0.0988],\n        [0.0990],\n        [0.0891],\n        [0.0911],\n        [0.0894],\n        [0.0803],\n        [0.0428],\n        [0.0844],\n        [0.0986],\n        [0.0612],\n        [0.1006],\n        [0.0648],\n        [0.0898],\n        [0.0705],\n        [0.0986],\n        [0.0890],\n        [0.0980],\n        [0.0983],\n        [0.0459],\n        [0.0998],\n        [0.0583],\n        [0.0818],\n        [0.0568],\n        [0.1009],\n        [0.0398],\n        [0.0942],\n        [0.0871],\n        [0.0439],\n        [0.1007],\n        [0.0567],\n        [0.0553],\n        [0.1019],\n        [0.0907],\n        [0.0907],\n        [0.0782],\n        [0.0938],\n        [0.0639],\n        [0.0919],\n        [0.0932],\n        [0.0857],\n        [0.0846],\n        [0.0699],\n        [0.0419],\n        [0.0718],\n        [0.0898],\n        [0.1007],\n        [0.0470],\n        [0.0928],\n        [0.0971],\n        [0.0775],\n        [0.0487],\n        [0.0900],\n        [0.0898],\n        [0.0784],\n        [0.0591],\n        [0.0779],\n        [0.0564],\n        [0.1008],\n        [0.0429],\n        [0.0749],\n        [0.0708],\n        [0.0686],\n        [0.0445],\n        [0.0508],\n        [0.0435],\n        [0.0418],\n        [0.0464],\n        [0.0399],\n        [0.0405],\n        [0.0418],\n        [0.0401],\n        [0.0415]])"
     },
     "execution_count": 57,
     "metadata": {},
     "output_type": "execute_result"
    }
   ],
   "source": [
    "some_net(x, cat_x).detach()"
   ],
   "metadata": {
    "collapsed": false,
    "pycharm": {
     "name": "#%%\n"
    }
   }
  },
  {
   "cell_type": "code",
   "execution_count": 58,
   "outputs": [
    {
     "data": {
      "text/plain": "0.6915807560137457"
     },
     "execution_count": 58,
     "metadata": {},
     "output_type": "execute_result"
    }
   ],
   "source": [
    "roc(targets.expenses, some_net(x, cat_x).detach())"
   ],
   "metadata": {
    "collapsed": false,
    "pycharm": {
     "name": "#%%\n"
    }
   }
  },
  {
   "cell_type": "code",
   "execution_count": 59,
   "outputs": [],
   "source": [
    "torch.save(some_net.state_dict(), \"../models/dummy_test\")"
   ],
   "metadata": {
    "collapsed": false,
    "pycharm": {
     "name": "#%%\n"
    }
   }
  }
 ],
 "metadata": {
  "kernelspec": {
   "display_name": "Python 3",
   "language": "python",
   "name": "python3"
  },
  "language_info": {
   "codemirror_mode": {
    "name": "ipython",
    "version": 2
   },
   "file_extension": ".py",
   "mimetype": "text/x-python",
   "name": "python",
   "nbconvert_exporter": "python",
   "pygments_lexer": "ipython2",
   "version": "2.7.6"
  }
 },
 "nbformat": 4,
 "nbformat_minor": 0
}