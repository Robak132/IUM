{
 "cells": [
  {
   "cell_type": "code",
   "execution_count": 1,
   "outputs": [],
   "source": [
    "import pandas as pd\n",
    "import matplotlib.pyplot as plt"
   ],
   "metadata": {
    "collapsed": false,
    "pycharm": {
     "name": "#%%\n"
    }
   }
  },
  {
   "cell_type": "code",
   "execution_count": 2,
   "outputs": [],
   "source": [
    "iteration_path = \"iteration_3/\"\n",
    "deliveries_path = \"../data/\" + iteration_path + \"raw/deliveries.jsonl\"\n",
    "products_path = \"../data/\" + iteration_path + \"raw/products.jsonl\"\n",
    "sessions_path = \"../data/\" + iteration_path + \"raw/sessions.jsonl\"\n",
    "users_path = \"../data/\" + iteration_path + \"raw/users.jsonl\""
   ],
   "metadata": {
    "collapsed": false,
    "pycharm": {
     "name": "#%%\n"
    }
   }
  },
  {
   "cell_type": "code",
   "execution_count": 3,
   "outputs": [],
   "source": [
    "deliveries_data = pd.read_json(deliveries_path, lines=True)\n",
    "products_data = pd.read_json(products_path, lines=True)\n",
    "sessions_data = pd.read_json(sessions_path, lines=True)\n",
    "users_data = pd.read_json(users_path, lines=True)"
   ],
   "metadata": {
    "collapsed": false,
    "pycharm": {
     "name": "#%%\n"
    }
   }
  },
  {
   "cell_type": "code",
   "execution_count": 4,
   "outputs": [
    {
     "data": {
      "text/plain": "      purchase_id   purchase_timestamp   delivery_timestamp  delivery_company\n0           20001  2021-05-19T07:02:36  2021-05-21T07:04:43               360\n1           20002  2021-02-27T20:13:02  2021-03-02T20:15:54               516\n2           20003  2021-04-25T13:44:28  2021-04-29T13:45:25               620\n3           20004  2021-09-12T10:03:56  2021-09-14T10:07:12               516\n4           20005  2021-07-10T16:12:54  2021-07-15T16:16:25               516\n...           ...                  ...                  ...               ...\n3608        23609  2021-11-05T01:26:21  2021-11-07T01:31:12               620\n3609        23610  2021-07-05T18:23:31  2021-07-07T18:27:35               516\n3610        23611  2021-07-20T17:15:10  2021-07-23T17:17:26               516\n3611        23612  2021-11-06T05:53:32  2021-11-10T05:54:08               620\n3612        23613  2021-11-21T11:27:26  2021-11-23T11:30:46               360\n\n[3613 rows x 4 columns]",
      "text/html": "<div>\n<style scoped>\n    .dataframe tbody tr th:only-of-type {\n        vertical-align: middle;\n    }\n\n    .dataframe tbody tr th {\n        vertical-align: top;\n    }\n\n    .dataframe thead th {\n        text-align: right;\n    }\n</style>\n<table border=\"1\" class=\"dataframe\">\n  <thead>\n    <tr style=\"text-align: right;\">\n      <th></th>\n      <th>purchase_id</th>\n      <th>purchase_timestamp</th>\n      <th>delivery_timestamp</th>\n      <th>delivery_company</th>\n    </tr>\n  </thead>\n  <tbody>\n    <tr>\n      <th>0</th>\n      <td>20001</td>\n      <td>2021-05-19T07:02:36</td>\n      <td>2021-05-21T07:04:43</td>\n      <td>360</td>\n    </tr>\n    <tr>\n      <th>1</th>\n      <td>20002</td>\n      <td>2021-02-27T20:13:02</td>\n      <td>2021-03-02T20:15:54</td>\n      <td>516</td>\n    </tr>\n    <tr>\n      <th>2</th>\n      <td>20003</td>\n      <td>2021-04-25T13:44:28</td>\n      <td>2021-04-29T13:45:25</td>\n      <td>620</td>\n    </tr>\n    <tr>\n      <th>3</th>\n      <td>20004</td>\n      <td>2021-09-12T10:03:56</td>\n      <td>2021-09-14T10:07:12</td>\n      <td>516</td>\n    </tr>\n    <tr>\n      <th>4</th>\n      <td>20005</td>\n      <td>2021-07-10T16:12:54</td>\n      <td>2021-07-15T16:16:25</td>\n      <td>516</td>\n    </tr>\n    <tr>\n      <th>...</th>\n      <td>...</td>\n      <td>...</td>\n      <td>...</td>\n      <td>...</td>\n    </tr>\n    <tr>\n      <th>3608</th>\n      <td>23609</td>\n      <td>2021-11-05T01:26:21</td>\n      <td>2021-11-07T01:31:12</td>\n      <td>620</td>\n    </tr>\n    <tr>\n      <th>3609</th>\n      <td>23610</td>\n      <td>2021-07-05T18:23:31</td>\n      <td>2021-07-07T18:27:35</td>\n      <td>516</td>\n    </tr>\n    <tr>\n      <th>3610</th>\n      <td>23611</td>\n      <td>2021-07-20T17:15:10</td>\n      <td>2021-07-23T17:17:26</td>\n      <td>516</td>\n    </tr>\n    <tr>\n      <th>3611</th>\n      <td>23612</td>\n      <td>2021-11-06T05:53:32</td>\n      <td>2021-11-10T05:54:08</td>\n      <td>620</td>\n    </tr>\n    <tr>\n      <th>3612</th>\n      <td>23613</td>\n      <td>2021-11-21T11:27:26</td>\n      <td>2021-11-23T11:30:46</td>\n      <td>360</td>\n    </tr>\n  </tbody>\n</table>\n<p>3613 rows × 4 columns</p>\n</div>"
     },
     "execution_count": 4,
     "metadata": {},
     "output_type": "execute_result"
    }
   ],
   "source": [
    "deliveries_data"
   ],
   "metadata": {
    "collapsed": false,
    "pycharm": {
     "name": "#%%\n"
    }
   }
  },
  {
   "cell_type": "code",
   "execution_count": 5,
   "outputs": [
    {
     "data": {
      "text/plain": "     product_id                                    product_name  \\\n0          1001                   Telefon Siemens Gigaset DA310   \n1          1002                              Kyocera FS-1135MFP   \n2          1003                              Kyocera FS-3640MFP   \n3          1004                            Fallout 3 (Xbox 360)   \n4          1005  Szalone Króliki Na żywo i w kolorze (Xbox 360)   \n..          ...                                             ...   \n314        1315                                      Jabra Talk   \n315        1316                      Plantronics Voyager Legend   \n316        1317                           Plantronics Savi W740   \n317        1318                           Plantronics Savi W710   \n318        1319                                     HTC HS-S200   \n\n                                         category_path    price  \n0            Telefony i akcesoria;Telefony stacjonarne    58.97  \n1    Komputery;Drukarki i skanery;Biurowe urządzeni...  2048.50  \n2    Komputery;Drukarki i skanery;Biurowe urządzeni...  7639.00  \n3            Gry i konsole;Gry na konsole;Gry Xbox 360    49.99  \n4            Gry i konsole;Gry na konsole;Gry Xbox 360    49.99  \n..                                                 ...      ...  \n314  Telefony i akcesoria;Akcesoria telefoniczne;Ze...    54.99  \n315  Telefony i akcesoria;Akcesoria telefoniczne;Ze...   249.00  \n316  Telefony i akcesoria;Akcesoria telefoniczne;Ze...  1303.96  \n317                         Sprzęt RTV;Audio;Słuchawki   553.00  \n318  Telefony i akcesoria;Akcesoria telefoniczne;Ze...    14.99  \n\n[319 rows x 4 columns]",
      "text/html": "<div>\n<style scoped>\n    .dataframe tbody tr th:only-of-type {\n        vertical-align: middle;\n    }\n\n    .dataframe tbody tr th {\n        vertical-align: top;\n    }\n\n    .dataframe thead th {\n        text-align: right;\n    }\n</style>\n<table border=\"1\" class=\"dataframe\">\n  <thead>\n    <tr style=\"text-align: right;\">\n      <th></th>\n      <th>product_id</th>\n      <th>product_name</th>\n      <th>category_path</th>\n      <th>price</th>\n    </tr>\n  </thead>\n  <tbody>\n    <tr>\n      <th>0</th>\n      <td>1001</td>\n      <td>Telefon Siemens Gigaset DA310</td>\n      <td>Telefony i akcesoria;Telefony stacjonarne</td>\n      <td>58.97</td>\n    </tr>\n    <tr>\n      <th>1</th>\n      <td>1002</td>\n      <td>Kyocera FS-1135MFP</td>\n      <td>Komputery;Drukarki i skanery;Biurowe urządzeni...</td>\n      <td>2048.50</td>\n    </tr>\n    <tr>\n      <th>2</th>\n      <td>1003</td>\n      <td>Kyocera FS-3640MFP</td>\n      <td>Komputery;Drukarki i skanery;Biurowe urządzeni...</td>\n      <td>7639.00</td>\n    </tr>\n    <tr>\n      <th>3</th>\n      <td>1004</td>\n      <td>Fallout 3 (Xbox 360)</td>\n      <td>Gry i konsole;Gry na konsole;Gry Xbox 360</td>\n      <td>49.99</td>\n    </tr>\n    <tr>\n      <th>4</th>\n      <td>1005</td>\n      <td>Szalone Króliki Na żywo i w kolorze (Xbox 360)</td>\n      <td>Gry i konsole;Gry na konsole;Gry Xbox 360</td>\n      <td>49.99</td>\n    </tr>\n    <tr>\n      <th>...</th>\n      <td>...</td>\n      <td>...</td>\n      <td>...</td>\n      <td>...</td>\n    </tr>\n    <tr>\n      <th>314</th>\n      <td>1315</td>\n      <td>Jabra Talk</td>\n      <td>Telefony i akcesoria;Akcesoria telefoniczne;Ze...</td>\n      <td>54.99</td>\n    </tr>\n    <tr>\n      <th>315</th>\n      <td>1316</td>\n      <td>Plantronics Voyager Legend</td>\n      <td>Telefony i akcesoria;Akcesoria telefoniczne;Ze...</td>\n      <td>249.00</td>\n    </tr>\n    <tr>\n      <th>316</th>\n      <td>1317</td>\n      <td>Plantronics Savi W740</td>\n      <td>Telefony i akcesoria;Akcesoria telefoniczne;Ze...</td>\n      <td>1303.96</td>\n    </tr>\n    <tr>\n      <th>317</th>\n      <td>1318</td>\n      <td>Plantronics Savi W710</td>\n      <td>Sprzęt RTV;Audio;Słuchawki</td>\n      <td>553.00</td>\n    </tr>\n    <tr>\n      <th>318</th>\n      <td>1319</td>\n      <td>HTC HS-S200</td>\n      <td>Telefony i akcesoria;Akcesoria telefoniczne;Ze...</td>\n      <td>14.99</td>\n    </tr>\n  </tbody>\n</table>\n<p>319 rows × 4 columns</p>\n</div>"
     },
     "execution_count": 5,
     "metadata": {},
     "output_type": "execute_result"
    }
   ],
   "source": [
    "products_data"
   ],
   "metadata": {
    "collapsed": false,
    "pycharm": {
     "name": "#%%\n"
    }
   }
  },
  {
   "cell_type": "code",
   "execution_count": 6,
   "outputs": [
    {
     "data": {
      "text/plain": "       session_id           timestamp  user_id  product_id    event_type  \\\n0             124 2021-05-19 06:57:15      102        1277  VIEW_PRODUCT   \n1             124 2021-05-19 06:59:15      102        1276  VIEW_PRODUCT   \n2             124 2021-05-19 07:02:36      102        1276   BUY_PRODUCT   \n3             125 2021-04-23 13:46:03      102        1284  VIEW_PRODUCT   \n4             125 2021-04-23 13:50:10      102        1292  VIEW_PRODUCT   \n...           ...                 ...      ...         ...           ...   \n24569        6881 2021-11-03 05:28:10      301        1073  VIEW_PRODUCT   \n24570        6881 2021-11-03 05:33:08      301        1201  VIEW_PRODUCT   \n24571        6881 2021-11-03 05:36:58      301        1072  VIEW_PRODUCT   \n24572        6881 2021-11-03 05:37:32      301        1222  VIEW_PRODUCT   \n24573        6881 2021-11-03 05:38:49      301        1074  VIEW_PRODUCT   \n\n       offered_discount  purchase_id  \n0                     5          NaN  \n1                     5          NaN  \n2                     5      20001.0  \n3                    20          NaN  \n4                    20          NaN  \n...                 ...          ...  \n24569                 5          NaN  \n24570                 5          NaN  \n24571                 5          NaN  \n24572                 5          NaN  \n24573                 5          NaN  \n\n[24574 rows x 7 columns]",
      "text/html": "<div>\n<style scoped>\n    .dataframe tbody tr th:only-of-type {\n        vertical-align: middle;\n    }\n\n    .dataframe tbody tr th {\n        vertical-align: top;\n    }\n\n    .dataframe thead th {\n        text-align: right;\n    }\n</style>\n<table border=\"1\" class=\"dataframe\">\n  <thead>\n    <tr style=\"text-align: right;\">\n      <th></th>\n      <th>session_id</th>\n      <th>timestamp</th>\n      <th>user_id</th>\n      <th>product_id</th>\n      <th>event_type</th>\n      <th>offered_discount</th>\n      <th>purchase_id</th>\n    </tr>\n  </thead>\n  <tbody>\n    <tr>\n      <th>0</th>\n      <td>124</td>\n      <td>2021-05-19 06:57:15</td>\n      <td>102</td>\n      <td>1277</td>\n      <td>VIEW_PRODUCT</td>\n      <td>5</td>\n      <td>NaN</td>\n    </tr>\n    <tr>\n      <th>1</th>\n      <td>124</td>\n      <td>2021-05-19 06:59:15</td>\n      <td>102</td>\n      <td>1276</td>\n      <td>VIEW_PRODUCT</td>\n      <td>5</td>\n      <td>NaN</td>\n    </tr>\n    <tr>\n      <th>2</th>\n      <td>124</td>\n      <td>2021-05-19 07:02:36</td>\n      <td>102</td>\n      <td>1276</td>\n      <td>BUY_PRODUCT</td>\n      <td>5</td>\n      <td>20001.0</td>\n    </tr>\n    <tr>\n      <th>3</th>\n      <td>125</td>\n      <td>2021-04-23 13:46:03</td>\n      <td>102</td>\n      <td>1284</td>\n      <td>VIEW_PRODUCT</td>\n      <td>20</td>\n      <td>NaN</td>\n    </tr>\n    <tr>\n      <th>4</th>\n      <td>125</td>\n      <td>2021-04-23 13:50:10</td>\n      <td>102</td>\n      <td>1292</td>\n      <td>VIEW_PRODUCT</td>\n      <td>20</td>\n      <td>NaN</td>\n    </tr>\n    <tr>\n      <th>...</th>\n      <td>...</td>\n      <td>...</td>\n      <td>...</td>\n      <td>...</td>\n      <td>...</td>\n      <td>...</td>\n      <td>...</td>\n    </tr>\n    <tr>\n      <th>24569</th>\n      <td>6881</td>\n      <td>2021-11-03 05:28:10</td>\n      <td>301</td>\n      <td>1073</td>\n      <td>VIEW_PRODUCT</td>\n      <td>5</td>\n      <td>NaN</td>\n    </tr>\n    <tr>\n      <th>24570</th>\n      <td>6881</td>\n      <td>2021-11-03 05:33:08</td>\n      <td>301</td>\n      <td>1201</td>\n      <td>VIEW_PRODUCT</td>\n      <td>5</td>\n      <td>NaN</td>\n    </tr>\n    <tr>\n      <th>24571</th>\n      <td>6881</td>\n      <td>2021-11-03 05:36:58</td>\n      <td>301</td>\n      <td>1072</td>\n      <td>VIEW_PRODUCT</td>\n      <td>5</td>\n      <td>NaN</td>\n    </tr>\n    <tr>\n      <th>24572</th>\n      <td>6881</td>\n      <td>2021-11-03 05:37:32</td>\n      <td>301</td>\n      <td>1222</td>\n      <td>VIEW_PRODUCT</td>\n      <td>5</td>\n      <td>NaN</td>\n    </tr>\n    <tr>\n      <th>24573</th>\n      <td>6881</td>\n      <td>2021-11-03 05:38:49</td>\n      <td>301</td>\n      <td>1074</td>\n      <td>VIEW_PRODUCT</td>\n      <td>5</td>\n      <td>NaN</td>\n    </tr>\n  </tbody>\n</table>\n<p>24574 rows × 7 columns</p>\n</div>"
     },
     "execution_count": 6,
     "metadata": {},
     "output_type": "execute_result"
    }
   ],
   "source": [
    "sessions_data"
   ],
   "metadata": {
    "collapsed": false,
    "pycharm": {
     "name": "#%%\n"
    }
   }
  },
  {
   "cell_type": "code",
   "execution_count": 7,
   "outputs": [
    {
     "data": {
      "text/plain": "     user_id                   name      city                street\n0        102        Arkadiusz Hejna   Wrocław           ul. Jana 32\n1        103       Oskar Skotarczak  Warszawa      pl. Wrzosowa 595\n2        104        Maksymilian Fik    Gdynia        al. Podwale 62\n3        105  Fryderyk Hajdukiewicz    Gdynia   al. Narcyzowa 81/19\n4        106       Marcelina Kinder   Wrocław       pl. Irysowa 472\n..       ...                    ...       ...                   ...\n195      297            Olga Myrcha    Kraków  plac Listopada 83/33\n196      298         Nikodem Świgoń  Warszawa       ul. Złota 61/12\n197      299       Gaja Wojtarowicz    Gdynia   ul. Baczynskiego 97\n198      300         Inga Przewoźny     Radom       ulica Wysoka 33\n199      301          Dagmara Filek   Wrocław    ulica Łanowa 88/93\n\n[200 rows x 4 columns]",
      "text/html": "<div>\n<style scoped>\n    .dataframe tbody tr th:only-of-type {\n        vertical-align: middle;\n    }\n\n    .dataframe tbody tr th {\n        vertical-align: top;\n    }\n\n    .dataframe thead th {\n        text-align: right;\n    }\n</style>\n<table border=\"1\" class=\"dataframe\">\n  <thead>\n    <tr style=\"text-align: right;\">\n      <th></th>\n      <th>user_id</th>\n      <th>name</th>\n      <th>city</th>\n      <th>street</th>\n    </tr>\n  </thead>\n  <tbody>\n    <tr>\n      <th>0</th>\n      <td>102</td>\n      <td>Arkadiusz Hejna</td>\n      <td>Wrocław</td>\n      <td>ul. Jana 32</td>\n    </tr>\n    <tr>\n      <th>1</th>\n      <td>103</td>\n      <td>Oskar Skotarczak</td>\n      <td>Warszawa</td>\n      <td>pl. Wrzosowa 595</td>\n    </tr>\n    <tr>\n      <th>2</th>\n      <td>104</td>\n      <td>Maksymilian Fik</td>\n      <td>Gdynia</td>\n      <td>al. Podwale 62</td>\n    </tr>\n    <tr>\n      <th>3</th>\n      <td>105</td>\n      <td>Fryderyk Hajdukiewicz</td>\n      <td>Gdynia</td>\n      <td>al. Narcyzowa 81/19</td>\n    </tr>\n    <tr>\n      <th>4</th>\n      <td>106</td>\n      <td>Marcelina Kinder</td>\n      <td>Wrocław</td>\n      <td>pl. Irysowa 472</td>\n    </tr>\n    <tr>\n      <th>...</th>\n      <td>...</td>\n      <td>...</td>\n      <td>...</td>\n      <td>...</td>\n    </tr>\n    <tr>\n      <th>195</th>\n      <td>297</td>\n      <td>Olga Myrcha</td>\n      <td>Kraków</td>\n      <td>plac Listopada 83/33</td>\n    </tr>\n    <tr>\n      <th>196</th>\n      <td>298</td>\n      <td>Nikodem Świgoń</td>\n      <td>Warszawa</td>\n      <td>ul. Złota 61/12</td>\n    </tr>\n    <tr>\n      <th>197</th>\n      <td>299</td>\n      <td>Gaja Wojtarowicz</td>\n      <td>Gdynia</td>\n      <td>ul. Baczynskiego 97</td>\n    </tr>\n    <tr>\n      <th>198</th>\n      <td>300</td>\n      <td>Inga Przewoźny</td>\n      <td>Radom</td>\n      <td>ulica Wysoka 33</td>\n    </tr>\n    <tr>\n      <th>199</th>\n      <td>301</td>\n      <td>Dagmara Filek</td>\n      <td>Wrocław</td>\n      <td>ulica Łanowa 88/93</td>\n    </tr>\n  </tbody>\n</table>\n<p>200 rows × 4 columns</p>\n</div>"
     },
     "execution_count": 7,
     "metadata": {},
     "output_type": "execute_result"
    }
   ],
   "source": [
    "users_data"
   ],
   "metadata": {
    "collapsed": false,
    "pycharm": {
     "name": "#%%\n"
    }
   }
  },
  {
   "cell_type": "code",
   "source": [
    "sessions_data = sessions_data.sort_values(by=['timestamp'])\n",
    "# sessions_data['timestamp_date'] = sessions_data['timestamp'].apply(lambda x: x.date())\n",
    "sessions_data['timestamp_week'] = sessions_data['timestamp'].apply(lambda x: x.week)\n",
    "sessions_data['timestamp_month'] = sessions_data['timestamp'].apply(lambda x: x.month)\n",
    "sessions_data['timestamp_quarter'] = sessions_data['timestamp'].apply(lambda x: x.quarter)"
   ],
   "metadata": {
    "collapsed": false,
    "pycharm": {
     "name": "#%%\n"
    }
   },
   "execution_count": 8,
   "outputs": []
  },
  {
   "cell_type": "markdown",
   "source": [
    "Podział na zbiór testowy i treningowy"
   ],
   "metadata": {
    "collapsed": false,
    "pycharm": {
     "name": "#%% md\n"
    }
   }
  },
  {
   "cell_type": "code",
   "source": [
    "train_data = sessions_data[sessions_data.timestamp_month < 12]\n",
    "test_data = sessions_data[sessions_data.timestamp_month >= 12]"
   ],
   "metadata": {
    "collapsed": false,
    "pycharm": {
     "name": "#%%\n"
    }
   },
   "execution_count": 9,
   "outputs": []
  },
  {
   "cell_type": "code",
   "execution_count": 10,
   "outputs": [],
   "source": [
    "# extracted_session_batch_one_month = extract_session_batch(sample_month_data)"
   ],
   "metadata": {
    "collapsed": false,
    "pycharm": {
     "name": "#%%\n"
    }
   }
  },
  {
   "cell_type": "code",
   "execution_count": 11,
   "outputs": [],
   "source": [
    "# extracted_session_batch[extracted_session_batch.bought_product == True]"
   ],
   "metadata": {
    "collapsed": false,
    "pycharm": {
     "name": "#%%\n"
    }
   }
  },
  {
   "cell_type": "code",
   "execution_count": 12,
   "outputs": [],
   "source": [
    "# extracted_session_batch_train = extract_session_batch(train_data)"
   ],
   "metadata": {
    "collapsed": false,
    "pycharm": {
     "name": "#%%\n"
    }
   }
  },
  {
   "cell_type": "code",
   "execution_count": 13,
   "outputs": [],
   "source": [
    "# extracted_session_batch_one_year = extract_session_batch(sessions_data)"
   ],
   "metadata": {
    "collapsed": false,
    "pycharm": {
     "name": "#%%\n"
    }
   }
  },
  {
   "cell_type": "code",
   "execution_count": 14,
   "outputs": [],
   "source": [
    "# extracted_session_batch_train"
   ],
   "metadata": {
    "collapsed": false,
    "pycharm": {
     "name": "#%%\n"
    }
   }
  },
  {
   "cell_type": "code",
   "execution_count": 15,
   "outputs": [
    {
     "data": {
      "text/plain": "       session_id           timestamp  user_id  product_id    event_type  \\\n0            1615 2021-01-08 17:29:37      139        1032  VIEW_PRODUCT   \n276          1615 2021-01-08 17:32:51      139        1033  VIEW_PRODUCT   \n277          1615 2021-01-08 17:35:32      139        1033   BUY_PRODUCT   \n554          1635 2021-01-10 05:56:20      139        1292  VIEW_PRODUCT   \n813          1635 2021-01-10 05:57:54      139        1291  VIEW_PRODUCT   \n...           ...                 ...      ...         ...           ...   \n21380        3603 2021-12-10 11:21:21      200        1041  VIEW_PRODUCT   \n20194        3603 2021-12-10 11:23:13      200        1047  VIEW_PRODUCT   \n18487        3603 2021-12-10 11:26:10      200        1040  VIEW_PRODUCT   \n18488        3603 2021-12-10 11:26:46      200        1040   BUY_PRODUCT   \n8662         5327 2021-12-10 11:37:57      255        1318  VIEW_PRODUCT   \n\n       offered_discount  purchase_id  timestamp_week  timestamp_month  \\\n0                    10          NaN               1                1   \n276                  10          NaN               1                1   \n277                  10      20833.0               1                1   \n554                  20          NaN               1                1   \n813                  20          NaN               1                1   \n...                 ...          ...             ...              ...   \n21380                20          NaN              49               12   \n20194                20          NaN              49               12   \n18487                20          NaN              49               12   \n18488                20      21867.0              49               12   \n8662                 10          NaN              49               12   \n\n       timestamp_quarter                                       product_name  \\\n0                      1                                LCD Iiyama E2280WSD   \n276                    1                                LCD Iiyama T1932MSC   \n277                    1                                LCD Iiyama T1932MSC   \n554                    1                                    Philips SDV8622   \n813                    1                                    Philips SDV6224   \n...                  ...                                                ...   \n21380                  4                                     Crysis 3 (PS3)   \n20194                  4  Pirates of the Caribbean At World&#39;s End (PS3)   \n18487                  4                                     Crysis 2 (PS3)   \n18488                  4                                     Crysis 2 (PS3)   \n8662                   4                              Plantronics Savi W710   \n\n                                           category_path    price  \n0                        Komputery;Monitory;Monitory LCD   688.78  \n276                      Komputery;Monitory;Monitory LCD  3029.00  \n277                      Komputery;Monitory;Monitory LCD  3029.00  \n554    Sprzęt RTV;Video;Telewizory i akcesoria;Anteny...   189.00  \n813    Sprzęt RTV;Video;Telewizory i akcesoria;Anteny...   168.79  \n...                                                  ...      ...  \n21380      Gry i konsole;Gry na konsole;Gry PlayStation3    79.90  \n20194      Gry i konsole;Gry na konsole;Gry PlayStation3    89.90  \n18487      Gry i konsole;Gry na konsole;Gry PlayStation3    79.90  \n18488      Gry i konsole;Gry na konsole;Gry PlayStation3    79.90  \n8662                          Sprzęt RTV;Audio;Słuchawki   553.00  \n\n[24574 rows x 13 columns]",
      "text/html": "<div>\n<style scoped>\n    .dataframe tbody tr th:only-of-type {\n        vertical-align: middle;\n    }\n\n    .dataframe tbody tr th {\n        vertical-align: top;\n    }\n\n    .dataframe thead th {\n        text-align: right;\n    }\n</style>\n<table border=\"1\" class=\"dataframe\">\n  <thead>\n    <tr style=\"text-align: right;\">\n      <th></th>\n      <th>session_id</th>\n      <th>timestamp</th>\n      <th>user_id</th>\n      <th>product_id</th>\n      <th>event_type</th>\n      <th>offered_discount</th>\n      <th>purchase_id</th>\n      <th>timestamp_week</th>\n      <th>timestamp_month</th>\n      <th>timestamp_quarter</th>\n      <th>product_name</th>\n      <th>category_path</th>\n      <th>price</th>\n    </tr>\n  </thead>\n  <tbody>\n    <tr>\n      <th>0</th>\n      <td>1615</td>\n      <td>2021-01-08 17:29:37</td>\n      <td>139</td>\n      <td>1032</td>\n      <td>VIEW_PRODUCT</td>\n      <td>10</td>\n      <td>NaN</td>\n      <td>1</td>\n      <td>1</td>\n      <td>1</td>\n      <td>LCD Iiyama E2280WSD</td>\n      <td>Komputery;Monitory;Monitory LCD</td>\n      <td>688.78</td>\n    </tr>\n    <tr>\n      <th>276</th>\n      <td>1615</td>\n      <td>2021-01-08 17:32:51</td>\n      <td>139</td>\n      <td>1033</td>\n      <td>VIEW_PRODUCT</td>\n      <td>10</td>\n      <td>NaN</td>\n      <td>1</td>\n      <td>1</td>\n      <td>1</td>\n      <td>LCD Iiyama T1932MSC</td>\n      <td>Komputery;Monitory;Monitory LCD</td>\n      <td>3029.00</td>\n    </tr>\n    <tr>\n      <th>277</th>\n      <td>1615</td>\n      <td>2021-01-08 17:35:32</td>\n      <td>139</td>\n      <td>1033</td>\n      <td>BUY_PRODUCT</td>\n      <td>10</td>\n      <td>20833.0</td>\n      <td>1</td>\n      <td>1</td>\n      <td>1</td>\n      <td>LCD Iiyama T1932MSC</td>\n      <td>Komputery;Monitory;Monitory LCD</td>\n      <td>3029.00</td>\n    </tr>\n    <tr>\n      <th>554</th>\n      <td>1635</td>\n      <td>2021-01-10 05:56:20</td>\n      <td>139</td>\n      <td>1292</td>\n      <td>VIEW_PRODUCT</td>\n      <td>20</td>\n      <td>NaN</td>\n      <td>1</td>\n      <td>1</td>\n      <td>1</td>\n      <td>Philips SDV8622</td>\n      <td>Sprzęt RTV;Video;Telewizory i akcesoria;Anteny...</td>\n      <td>189.00</td>\n    </tr>\n    <tr>\n      <th>813</th>\n      <td>1635</td>\n      <td>2021-01-10 05:57:54</td>\n      <td>139</td>\n      <td>1291</td>\n      <td>VIEW_PRODUCT</td>\n      <td>20</td>\n      <td>NaN</td>\n      <td>1</td>\n      <td>1</td>\n      <td>1</td>\n      <td>Philips SDV6224</td>\n      <td>Sprzęt RTV;Video;Telewizory i akcesoria;Anteny...</td>\n      <td>168.79</td>\n    </tr>\n    <tr>\n      <th>...</th>\n      <td>...</td>\n      <td>...</td>\n      <td>...</td>\n      <td>...</td>\n      <td>...</td>\n      <td>...</td>\n      <td>...</td>\n      <td>...</td>\n      <td>...</td>\n      <td>...</td>\n      <td>...</td>\n      <td>...</td>\n      <td>...</td>\n    </tr>\n    <tr>\n      <th>21380</th>\n      <td>3603</td>\n      <td>2021-12-10 11:21:21</td>\n      <td>200</td>\n      <td>1041</td>\n      <td>VIEW_PRODUCT</td>\n      <td>20</td>\n      <td>NaN</td>\n      <td>49</td>\n      <td>12</td>\n      <td>4</td>\n      <td>Crysis 3 (PS3)</td>\n      <td>Gry i konsole;Gry na konsole;Gry PlayStation3</td>\n      <td>79.90</td>\n    </tr>\n    <tr>\n      <th>20194</th>\n      <td>3603</td>\n      <td>2021-12-10 11:23:13</td>\n      <td>200</td>\n      <td>1047</td>\n      <td>VIEW_PRODUCT</td>\n      <td>20</td>\n      <td>NaN</td>\n      <td>49</td>\n      <td>12</td>\n      <td>4</td>\n      <td>Pirates of the Caribbean At World&amp;#39;s End (PS3)</td>\n      <td>Gry i konsole;Gry na konsole;Gry PlayStation3</td>\n      <td>89.90</td>\n    </tr>\n    <tr>\n      <th>18487</th>\n      <td>3603</td>\n      <td>2021-12-10 11:26:10</td>\n      <td>200</td>\n      <td>1040</td>\n      <td>VIEW_PRODUCT</td>\n      <td>20</td>\n      <td>NaN</td>\n      <td>49</td>\n      <td>12</td>\n      <td>4</td>\n      <td>Crysis 2 (PS3)</td>\n      <td>Gry i konsole;Gry na konsole;Gry PlayStation3</td>\n      <td>79.90</td>\n    </tr>\n    <tr>\n      <th>18488</th>\n      <td>3603</td>\n      <td>2021-12-10 11:26:46</td>\n      <td>200</td>\n      <td>1040</td>\n      <td>BUY_PRODUCT</td>\n      <td>20</td>\n      <td>21867.0</td>\n      <td>49</td>\n      <td>12</td>\n      <td>4</td>\n      <td>Crysis 2 (PS3)</td>\n      <td>Gry i konsole;Gry na konsole;Gry PlayStation3</td>\n      <td>79.90</td>\n    </tr>\n    <tr>\n      <th>8662</th>\n      <td>5327</td>\n      <td>2021-12-10 11:37:57</td>\n      <td>255</td>\n      <td>1318</td>\n      <td>VIEW_PRODUCT</td>\n      <td>10</td>\n      <td>NaN</td>\n      <td>49</td>\n      <td>12</td>\n      <td>4</td>\n      <td>Plantronics Savi W710</td>\n      <td>Sprzęt RTV;Audio;Słuchawki</td>\n      <td>553.00</td>\n    </tr>\n  </tbody>\n</table>\n<p>24574 rows × 13 columns</p>\n</div>"
     },
     "execution_count": 15,
     "metadata": {},
     "output_type": "execute_result"
    }
   ],
   "source": [
    "enriched_sessions_data = pd.merge(sessions_data, products_data, on=\"product_id\").sort_values(by=['timestamp'])\n",
    "enriched_sessions_data"
   ],
   "metadata": {
    "collapsed": false,
    "pycharm": {
     "name": "#%%\n"
    }
   }
  },
  {
   "cell_type": "code",
   "execution_count": 16,
   "outputs": [
    {
     "data": {
      "text/plain": "<AxesSubplot:xlabel='month'>"
     },
     "execution_count": 16,
     "metadata": {},
     "output_type": "execute_result"
    },
    {
     "data": {
      "text/plain": "<Figure size 432x288 with 1 Axes>",
      "image/png": "[encoded data removed]"
     },
     "metadata": {
      "needs_background": "light"
     },
     "output_type": "display_data"
    }
   ],
   "source": [
    "user_session_data = enriched_sessions_data[enriched_sessions_data['user_id'] == 105]\n",
    "expenses=[]\n",
    "for month in range (user_session_data['timestamp_month'].min(), user_session_data['timestamp_month'].max()):\n",
    "    d = {\n",
    "        \"month\": month,\n",
    "        \"expenses\": user_session_data[(user_session_data['timestamp_month'] == month) & (user_session_data['event_type'] == \"BUY_PRODUCT\")]['price'].sum()}\n",
    "    expenses.append(d)\n",
    "\n",
    "df = pd.DataFrame(data=expenses)\n",
    "df = df.set_index('month')\n",
    "df.plot()\n",
    "# calculate_correlation_quarter(user_session_data)"
   ],
   "metadata": {
    "collapsed": false,
    "pycharm": {
     "name": "#%%\n"
    }
   }
  },
  {
   "cell_type": "code",
   "execution_count": 17,
   "outputs": [
    {
     "data": {
      "text/plain": "4598.0"
     },
     "execution_count": 17,
     "metadata": {},
     "output_type": "execute_result"
    }
   ],
   "source": [
    "user_session_data[(user_session_data['timestamp_week'] == 30) & (user_session_data['event_type'] == \"BUY_PRODUCT\")]['price'].sum()"
   ],
   "metadata": {
    "collapsed": false,
    "pycharm": {
     "name": "#%%\n"
    }
   }
  },
  {
   "cell_type": "markdown",
   "source": [
    "# Ekstrakcja userów"
   ],
   "metadata": {
    "collapsed": false,
    "pycharm": {
     "name": "#%% md\n"
    }
   }
  },
  {
   "cell_type": "code",
   "execution_count": 18,
   "outputs": [],
   "source": [
    "def get_user_id_from_session(session):\n",
    "    sample_user_id = session['user_id'].iloc[0]\n",
    "    for user_id in session['user_id']:\n",
    "        if sample_user_id != user_id:\n",
    "            raise Exception(\"How it is even possible\")\n",
    "    return sample_user_id"
   ],
   "metadata": {
    "collapsed": false,
    "pycharm": {
     "name": "#%%\n"
    }
   }
  },
  {
   "cell_type": "code",
   "execution_count": 19,
   "outputs": [],
   "source": [
    "def get_user_information(user_session_data):\n",
    "    d = {\n",
    "        'user_id': [get_user_id_from_session(user_session_data)],\n",
    "        'expenses': [user_session_data[user_session_data['event_type'] == \"BUY_PRODUCT\"]['price'].sum()],\n",
    "        'products_bought': [len(user_session_data[user_session_data['event_type'] == \"BUY_PRODUCT\"])],\n",
    "        'events_number': [len(user_session_data)],\n",
    "        'sessions_number': [len(user_session_data['session_id'].unique())],\n",
    "        'average_discount': [user_session_data['offered_discount'].mean()],\n",
    "        'average_discount_on_bought': [user_session_data[user_session_data['event_type'] == \"BUY_PRODUCT\"]['offered_discount'].mean()]\n",
    "    }\n",
    "    df = pd.DataFrame(data=d)\n",
    "    return df.set_index('user_id')"
   ],
   "metadata": {
    "collapsed": false,
    "pycharm": {
     "name": "#%%\n"
    }
   }
  },
  {
   "cell_type": "code",
   "execution_count": 20,
   "outputs": [],
   "source": [
    "def extract_users_data(sessions_data, users_data, products_data):\n",
    "    enriched_sessions_data = pd.merge(sessions_data, products_data, on=\"product_id\").sort_values(by=['timestamp'])\n",
    "    extracted_users = []\n",
    "    for user_id in enriched_sessions_data['user_id'].unique():\n",
    "        extracted_users.append(get_user_information(enriched_sessions_data[enriched_sessions_data['user_id'] == user_id]))\n",
    "    enriched_users_data = pd.concat(extracted_users)\n",
    "    return pd.merge(enriched_users_data, users_data, on=\"user_id\").drop(columns=['name', 'street'])\n",
    "    # print(len(sessions_data.user_id.unique()))"
   ],
   "metadata": {
    "collapsed": false,
    "pycharm": {
     "name": "#%%\n"
    }
   }
  },
  {
   "cell_type": "markdown",
   "source": [
    "### Agregacja sieci użytkownika"
   ],
   "metadata": {
    "collapsed": false,
    "pycharm": {
     "name": "#%% md\n"
    }
   }
  },
  {
   "cell_type": "code",
   "execution_count": 21,
   "outputs": [
    {
     "data": {
      "text/plain": "       session_id           timestamp  user_id  product_id    event_type  \\\n16718        1535 2021-06-24 20:30:32      137        1048  VIEW_PRODUCT   \n3600         1535 2021-06-24 20:32:27      137        1050  VIEW_PRODUCT   \n5232         1535 2021-06-24 20:37:12      137        1054  VIEW_PRODUCT   \n16991        1535 2021-06-24 20:41:01      137        1056  VIEW_PRODUCT   \n4429         1535 2021-06-24 20:41:12      137        1053  VIEW_PRODUCT   \n...           ...                 ...      ...         ...           ...   \n4891         1547 2021-12-07 04:38:35      137        1051  VIEW_PRODUCT   \n4061         1547 2021-12-07 04:43:20      137        1052  VIEW_PRODUCT   \n4062         1547 2021-12-07 04:46:16      137        1052   BUY_PRODUCT   \n19441        1521 2021-12-07 09:16:56      137        1283  VIEW_PRODUCT   \n19442        1521 2021-12-07 09:19:41      137        1283   BUY_PRODUCT   \n\n       offered_discount  purchase_id  timestamp_week  timestamp_month  \\\n16718                15          NaN              25                6   \n3600                 15          NaN              25                6   \n5232                 15          NaN              25                6   \n16991                15          NaN              25                6   \n4429                 15          NaN              25                6   \n...                 ...          ...             ...              ...   \n4891                  0          NaN              49               12   \n4061                  0          NaN              49               12   \n4062                  0      20785.0              49               12   \n19441                20          NaN              49               12   \n19442                20      20765.0              49               12   \n\n       timestamp_quarter                  product_name  \\\n16718                  2               Gra o tron (PC)   \n3600                   2               Bioshock 2 (PC)   \n5232                   2           Call of Duty 2 (PC)   \n16991                  2   Call of Duty Black Ops (PC)   \n4429                   2                Anno 2070 (PC)   \n...                  ...                           ...   \n4891                   4        Spec Ops The Line (PC)   \n4061                   4       Duke Nukem Forever (PC)   \n4062                   4       Duke Nukem Forever (PC)   \n19441                  4  Okulary 3D PHILIPS PTA436/00   \n19442                  4  Okulary 3D PHILIPS PTA436/00   \n\n                                           category_path  price  \n16718                      Gry i konsole;Gry komputerowe  63.49  \n3600                       Gry i konsole;Gry komputerowe  37.90  \n5232                       Gry i konsole;Gry komputerowe  32.99  \n16991                      Gry i konsole;Gry komputerowe  29.99  \n4429                       Gry i konsole;Gry komputerowe  42.90  \n...                                                  ...    ...  \n4891                       Gry i konsole;Gry komputerowe  76.90  \n4061                       Gry i konsole;Gry komputerowe  78.90  \n4062                       Gry i konsole;Gry komputerowe  78.90  \n19441  Sprzęt RTV;Video;Telewizory i akcesoria;Okular...  99.99  \n19442  Sprzęt RTV;Video;Telewizory i akcesoria;Okular...  99.99  \n\n[179 rows x 13 columns]",
      "text/html": "<div>\n<style scoped>\n    .dataframe tbody tr th:only-of-type {\n        vertical-align: middle;\n    }\n\n    .dataframe tbody tr th {\n        vertical-align: top;\n    }\n\n    .dataframe thead th {\n        text-align: right;\n    }\n</style>\n<table border=\"1\" class=\"dataframe\">\n  <thead>\n    <tr style=\"text-align: right;\">\n      <th></th>\n      <th>session_id</th>\n      <th>timestamp</th>\n      <th>user_id</th>\n      <th>product_id</th>\n      <th>event_type</th>\n      <th>offered_discount</th>\n      <th>purchase_id</th>\n      <th>timestamp_week</th>\n      <th>timestamp_month</th>\n      <th>timestamp_quarter</th>\n      <th>product_name</th>\n      <th>category_path</th>\n      <th>price</th>\n    </tr>\n  </thead>\n  <tbody>\n    <tr>\n      <th>16718</th>\n      <td>1535</td>\n      <td>2021-06-24 20:30:32</td>\n      <td>137</td>\n      <td>1048</td>\n      <td>VIEW_PRODUCT</td>\n      <td>15</td>\n      <td>NaN</td>\n      <td>25</td>\n      <td>6</td>\n      <td>2</td>\n      <td>Gra o tron (PC)</td>\n      <td>Gry i konsole;Gry komputerowe</td>\n      <td>63.49</td>\n    </tr>\n    <tr>\n      <th>3600</th>\n      <td>1535</td>\n      <td>2021-06-24 20:32:27</td>\n      <td>137</td>\n      <td>1050</td>\n      <td>VIEW_PRODUCT</td>\n      <td>15</td>\n      <td>NaN</td>\n      <td>25</td>\n      <td>6</td>\n      <td>2</td>\n      <td>Bioshock 2 (PC)</td>\n      <td>Gry i konsole;Gry komputerowe</td>\n      <td>37.90</td>\n    </tr>\n    <tr>\n      <th>5232</th>\n      <td>1535</td>\n      <td>2021-06-24 20:37:12</td>\n      <td>137</td>\n      <td>1054</td>\n      <td>VIEW_PRODUCT</td>\n      <td>15</td>\n      <td>NaN</td>\n      <td>25</td>\n      <td>6</td>\n      <td>2</td>\n      <td>Call of Duty 2 (PC)</td>\n      <td>Gry i konsole;Gry komputerowe</td>\n      <td>32.99</td>\n    </tr>\n    <tr>\n      <th>16991</th>\n      <td>1535</td>\n      <td>2021-06-24 20:41:01</td>\n      <td>137</td>\n      <td>1056</td>\n      <td>VIEW_PRODUCT</td>\n      <td>15</td>\n      <td>NaN</td>\n      <td>25</td>\n      <td>6</td>\n      <td>2</td>\n      <td>Call of Duty Black Ops (PC)</td>\n      <td>Gry i konsole;Gry komputerowe</td>\n      <td>29.99</td>\n    </tr>\n    <tr>\n      <th>4429</th>\n      <td>1535</td>\n      <td>2021-06-24 20:41:12</td>\n      <td>137</td>\n      <td>1053</td>\n      <td>VIEW_PRODUCT</td>\n      <td>15</td>\n      <td>NaN</td>\n      <td>25</td>\n      <td>6</td>\n      <td>2</td>\n      <td>Anno 2070 (PC)</td>\n      <td>Gry i konsole;Gry komputerowe</td>\n      <td>42.90</td>\n    </tr>\n    <tr>\n      <th>...</th>\n      <td>...</td>\n      <td>...</td>\n      <td>...</td>\n      <td>...</td>\n      <td>...</td>\n      <td>...</td>\n      <td>...</td>\n      <td>...</td>\n      <td>...</td>\n      <td>...</td>\n      <td>...</td>\n      <td>...</td>\n      <td>...</td>\n    </tr>\n    <tr>\n      <th>4891</th>\n      <td>1547</td>\n      <td>2021-12-07 04:38:35</td>\n      <td>137</td>\n      <td>1051</td>\n      <td>VIEW_PRODUCT</td>\n      <td>0</td>\n      <td>NaN</td>\n      <td>49</td>\n      <td>12</td>\n      <td>4</td>\n      <td>Spec Ops The Line (PC)</td>\n      <td>Gry i konsole;Gry komputerowe</td>\n      <td>76.90</td>\n    </tr>\n    <tr>\n      <th>4061</th>\n      <td>1547</td>\n      <td>2021-12-07 04:43:20</td>\n      <td>137</td>\n      <td>1052</td>\n      <td>VIEW_PRODUCT</td>\n      <td>0</td>\n      <td>NaN</td>\n      <td>49</td>\n      <td>12</td>\n      <td>4</td>\n      <td>Duke Nukem Forever (PC)</td>\n      <td>Gry i konsole;Gry komputerowe</td>\n      <td>78.90</td>\n    </tr>\n    <tr>\n      <th>4062</th>\n      <td>1547</td>\n      <td>2021-12-07 04:46:16</td>\n      <td>137</td>\n      <td>1052</td>\n      <td>BUY_PRODUCT</td>\n      <td>0</td>\n      <td>20785.0</td>\n      <td>49</td>\n      <td>12</td>\n      <td>4</td>\n      <td>Duke Nukem Forever (PC)</td>\n      <td>Gry i konsole;Gry komputerowe</td>\n      <td>78.90</td>\n    </tr>\n    <tr>\n      <th>19441</th>\n      <td>1521</td>\n      <td>2021-12-07 09:16:56</td>\n      <td>137</td>\n      <td>1283</td>\n      <td>VIEW_PRODUCT</td>\n      <td>20</td>\n      <td>NaN</td>\n      <td>49</td>\n      <td>12</td>\n      <td>4</td>\n      <td>Okulary 3D PHILIPS PTA436/00</td>\n      <td>Sprzęt RTV;Video;Telewizory i akcesoria;Okular...</td>\n      <td>99.99</td>\n    </tr>\n    <tr>\n      <th>19442</th>\n      <td>1521</td>\n      <td>2021-12-07 09:19:41</td>\n      <td>137</td>\n      <td>1283</td>\n      <td>BUY_PRODUCT</td>\n      <td>20</td>\n      <td>20765.0</td>\n      <td>49</td>\n      <td>12</td>\n      <td>4</td>\n      <td>Okulary 3D PHILIPS PTA436/00</td>\n      <td>Sprzęt RTV;Video;Telewizory i akcesoria;Okular...</td>\n      <td>99.99</td>\n    </tr>\n  </tbody>\n</table>\n<p>179 rows × 13 columns</p>\n</div>"
     },
     "execution_count": 21,
     "metadata": {},
     "output_type": "execute_result"
    }
   ],
   "source": [
    "enriched_sessions_data = pd.merge(sessions_data, products_data, on=\"product_id\").sort_values(by=['timestamp'])\n",
    "user_session_data = enriched_sessions_data[enriched_sessions_data['user_id'] == 137]\n",
    "user_session_data"
   ],
   "metadata": {
    "collapsed": false,
    "pycharm": {
     "name": "#%%\n"
    }
   }
  },
  {
   "cell_type": "code",
   "execution_count": 22,
   "outputs": [],
   "source": [
    "user_bought_products = user_session_data[user_session_data['event_type'] == \"BUY_PRODUCT\"]"
   ],
   "metadata": {
    "collapsed": false,
    "pycharm": {
     "name": "#%%\n"
    }
   }
  },
  {
   "cell_type": "code",
   "execution_count": 23,
   "outputs": [
    {
     "data": {
      "text/plain": "10.69832402234637"
     },
     "execution_count": 23,
     "metadata": {},
     "output_type": "execute_result"
    }
   ],
   "source": [
    "user_session_data['offered_discount'].mean()"
   ],
   "metadata": {
    "collapsed": false,
    "pycharm": {
     "name": "#%%\n"
    }
   }
  },
  {
   "cell_type": "code",
   "execution_count": 24,
   "outputs": [
    {
     "data": {
      "text/plain": "12.285714285714286"
     },
     "execution_count": 24,
     "metadata": {},
     "output_type": "execute_result"
    }
   ],
   "source": [
    "user_session_data[user_session_data['event_type'] == \"BUY_PRODUCT\"]['offered_discount'].mean()"
   ],
   "metadata": {
    "collapsed": false,
    "pycharm": {
     "name": "#%%\n"
    }
   }
  },
  {
   "cell_type": "code",
   "execution_count": 25,
   "outputs": [
    {
     "data": {
      "text/plain": "     user_id  expenses  products_bought  events_number  sessions_number  \\\n0        139  23400.85               49            256               67   \n1        242  44677.14               60            331               88   \n2        108  16312.03               23            130               33   \n3        143   7273.05               16             86               27   \n4        140  33412.55               44            318               86   \n..       ...       ...              ...            ...              ...   \n195      289      0.00                0              7                1   \n196      225    109.00                1              5                2   \n197      152      0.00                0              5                2   \n198      162     78.96                2              6                2   \n199      229    245.00                1              5                1   \n\n     average_discount  average_discount_on_bought      city  \n0           11.054688                   10.816327    Kraków  \n1           11.178248                   10.500000     Radom  \n2            9.461538                    9.347826     Radom  \n3           11.220930                   11.562500    Kraków  \n4           10.110063                    9.659091    Poznań  \n..                ...                         ...       ...  \n195         20.000000                         NaN  Warszawa  \n196         10.000000                   10.000000  Warszawa  \n197          2.000000                         NaN    Poznań  \n198         13.333333                   12.500000  Szczecin  \n199         10.000000                   10.000000     Radom  \n\n[200 rows x 8 columns]",
      "text/html": "<div>\n<style scoped>\n    .dataframe tbody tr th:only-of-type {\n        vertical-align: middle;\n    }\n\n    .dataframe tbody tr th {\n        vertical-align: top;\n    }\n\n    .dataframe thead th {\n        text-align: right;\n    }\n</style>\n<table border=\"1\" class=\"dataframe\">\n  <thead>\n    <tr style=\"text-align: right;\">\n      <th></th>\n      <th>user_id</th>\n      <th>expenses</th>\n      <th>products_bought</th>\n      <th>events_number</th>\n      <th>sessions_number</th>\n      <th>average_discount</th>\n      <th>average_discount_on_bought</th>\n      <th>city</th>\n    </tr>\n  </thead>\n  <tbody>\n    <tr>\n      <th>0</th>\n      <td>139</td>\n      <td>23400.85</td>\n      <td>49</td>\n      <td>256</td>\n      <td>67</td>\n      <td>11.054688</td>\n      <td>10.816327</td>\n      <td>Kraków</td>\n    </tr>\n    <tr>\n      <th>1</th>\n      <td>242</td>\n      <td>44677.14</td>\n      <td>60</td>\n      <td>331</td>\n      <td>88</td>\n      <td>11.178248</td>\n      <td>10.500000</td>\n      <td>Radom</td>\n    </tr>\n    <tr>\n      <th>2</th>\n      <td>108</td>\n      <td>16312.03</td>\n      <td>23</td>\n      <td>130</td>\n      <td>33</td>\n      <td>9.461538</td>\n      <td>9.347826</td>\n      <td>Radom</td>\n    </tr>\n    <tr>\n      <th>3</th>\n      <td>143</td>\n      <td>7273.05</td>\n      <td>16</td>\n      <td>86</td>\n      <td>27</td>\n      <td>11.220930</td>\n      <td>11.562500</td>\n      <td>Kraków</td>\n    </tr>\n    <tr>\n      <th>4</th>\n      <td>140</td>\n      <td>33412.55</td>\n      <td>44</td>\n      <td>318</td>\n      <td>86</td>\n      <td>10.110063</td>\n      <td>9.659091</td>\n      <td>Poznań</td>\n    </tr>\n    <tr>\n      <th>...</th>\n      <td>...</td>\n      <td>...</td>\n      <td>...</td>\n      <td>...</td>\n      <td>...</td>\n      <td>...</td>\n      <td>...</td>\n      <td>...</td>\n    </tr>\n    <tr>\n      <th>195</th>\n      <td>289</td>\n      <td>0.00</td>\n      <td>0</td>\n      <td>7</td>\n      <td>1</td>\n      <td>20.000000</td>\n      <td>NaN</td>\n      <td>Warszawa</td>\n    </tr>\n    <tr>\n      <th>196</th>\n      <td>225</td>\n      <td>109.00</td>\n      <td>1</td>\n      <td>5</td>\n      <td>2</td>\n      <td>10.000000</td>\n      <td>10.000000</td>\n      <td>Warszawa</td>\n    </tr>\n    <tr>\n      <th>197</th>\n      <td>152</td>\n      <td>0.00</td>\n      <td>0</td>\n      <td>5</td>\n      <td>2</td>\n      <td>2.000000</td>\n      <td>NaN</td>\n      <td>Poznań</td>\n    </tr>\n    <tr>\n      <th>198</th>\n      <td>162</td>\n      <td>78.96</td>\n      <td>2</td>\n      <td>6</td>\n      <td>2</td>\n      <td>13.333333</td>\n      <td>12.500000</td>\n      <td>Szczecin</td>\n    </tr>\n    <tr>\n      <th>199</th>\n      <td>229</td>\n      <td>245.00</td>\n      <td>1</td>\n      <td>5</td>\n      <td>1</td>\n      <td>10.000000</td>\n      <td>10.000000</td>\n      <td>Radom</td>\n    </tr>\n  </tbody>\n</table>\n<p>200 rows × 8 columns</p>\n</div>"
     },
     "execution_count": 25,
     "metadata": {},
     "output_type": "execute_result"
    }
   ],
   "source": [
    "extract_users_data(sessions_data, users_data, products_data)"
   ],
   "metadata": {
    "collapsed": false,
    "pycharm": {
     "name": "#%%\n"
    }
   }
  },
  {
   "cell_type": "code",
   "execution_count": 26,
   "outputs": [],
   "source": [
    "extracted_train = extract_users_data(train_data, users_data, products_data).sort_values(['user_id'])"
   ],
   "metadata": {
    "collapsed": false,
    "pycharm": {
     "name": "#%%\n"
    }
   }
  },
  {
   "cell_type": "code",
   "execution_count": 27,
   "outputs": [
    {
     "data": {
      "text/plain": "     user_id  expenses  products_bought  events_number  sessions_number  \\\n37       102   5743.62               13            105               33   \n138      103  19009.38               26            163               41   \n43       104  25259.70               36            205               63   \n31       105  12843.26               18            115               32   \n163      106  12342.84               16            129               35   \n..       ...       ...              ...            ...              ...   \n161      297   9589.30               17             97               27   \n175      298  11714.33               20            137               35   \n123      299  11498.74               19            154               47   \n82       300  13844.80               11             76               25   \n153      301  13363.17               10             85               24   \n\n     average_discount  average_discount_on_bought      city  \n37           7.571429                    8.461538   Wrocław  \n138          9.907975                    9.423077  Warszawa  \n43          11.073171                    9.583333    Gdynia  \n31           8.652174                    9.444444    Gdynia  \n163          9.302326                    8.750000   Wrocław  \n..                ...                         ...       ...  \n161          9.536082                    9.117647    Kraków  \n175          9.854015                    9.250000  Warszawa  \n123          8.084416                    8.947368    Gdynia  \n82          11.973684                   11.363636     Radom  \n153         11.352941                   12.000000   Wrocław  \n\n[200 rows x 8 columns]",
      "text/html": "<div>\n<style scoped>\n    .dataframe tbody tr th:only-of-type {\n        vertical-align: middle;\n    }\n\n    .dataframe tbody tr th {\n        vertical-align: top;\n    }\n\n    .dataframe thead th {\n        text-align: right;\n    }\n</style>\n<table border=\"1\" class=\"dataframe\">\n  <thead>\n    <tr style=\"text-align: right;\">\n      <th></th>\n      <th>user_id</th>\n      <th>expenses</th>\n      <th>products_bought</th>\n      <th>events_number</th>\n      <th>sessions_number</th>\n      <th>average_discount</th>\n      <th>average_discount_on_bought</th>\n      <th>city</th>\n    </tr>\n  </thead>\n  <tbody>\n    <tr>\n      <th>37</th>\n      <td>102</td>\n      <td>5743.62</td>\n      <td>13</td>\n      <td>105</td>\n      <td>33</td>\n      <td>7.571429</td>\n      <td>8.461538</td>\n      <td>Wrocław</td>\n    </tr>\n    <tr>\n      <th>138</th>\n      <td>103</td>\n      <td>19009.38</td>\n      <td>26</td>\n      <td>163</td>\n      <td>41</td>\n      <td>9.907975</td>\n      <td>9.423077</td>\n      <td>Warszawa</td>\n    </tr>\n    <tr>\n      <th>43</th>\n      <td>104</td>\n      <td>25259.70</td>\n      <td>36</td>\n      <td>205</td>\n      <td>63</td>\n      <td>11.073171</td>\n      <td>9.583333</td>\n      <td>Gdynia</td>\n    </tr>\n    <tr>\n      <th>31</th>\n      <td>105</td>\n      <td>12843.26</td>\n      <td>18</td>\n      <td>115</td>\n      <td>32</td>\n      <td>8.652174</td>\n      <td>9.444444</td>\n      <td>Gdynia</td>\n    </tr>\n    <tr>\n      <th>163</th>\n      <td>106</td>\n      <td>12342.84</td>\n      <td>16</td>\n      <td>129</td>\n      <td>35</td>\n      <td>9.302326</td>\n      <td>8.750000</td>\n      <td>Wrocław</td>\n    </tr>\n    <tr>\n      <th>...</th>\n      <td>...</td>\n      <td>...</td>\n      <td>...</td>\n      <td>...</td>\n      <td>...</td>\n      <td>...</td>\n      <td>...</td>\n      <td>...</td>\n    </tr>\n    <tr>\n      <th>161</th>\n      <td>297</td>\n      <td>9589.30</td>\n      <td>17</td>\n      <td>97</td>\n      <td>27</td>\n      <td>9.536082</td>\n      <td>9.117647</td>\n      <td>Kraków</td>\n    </tr>\n    <tr>\n      <th>175</th>\n      <td>298</td>\n      <td>11714.33</td>\n      <td>20</td>\n      <td>137</td>\n      <td>35</td>\n      <td>9.854015</td>\n      <td>9.250000</td>\n      <td>Warszawa</td>\n    </tr>\n    <tr>\n      <th>123</th>\n      <td>299</td>\n      <td>11498.74</td>\n      <td>19</td>\n      <td>154</td>\n      <td>47</td>\n      <td>8.084416</td>\n      <td>8.947368</td>\n      <td>Gdynia</td>\n    </tr>\n    <tr>\n      <th>82</th>\n      <td>300</td>\n      <td>13844.80</td>\n      <td>11</td>\n      <td>76</td>\n      <td>25</td>\n      <td>11.973684</td>\n      <td>11.363636</td>\n      <td>Radom</td>\n    </tr>\n    <tr>\n      <th>153</th>\n      <td>301</td>\n      <td>13363.17</td>\n      <td>10</td>\n      <td>85</td>\n      <td>24</td>\n      <td>11.352941</td>\n      <td>12.000000</td>\n      <td>Wrocław</td>\n    </tr>\n  </tbody>\n</table>\n<p>200 rows × 8 columns</p>\n</div>"
     },
     "execution_count": 27,
     "metadata": {},
     "output_type": "execute_result"
    }
   ],
   "source": [
    "extracted_train"
   ],
   "metadata": {
    "collapsed": false,
    "pycharm": {
     "name": "#%%\n"
    }
   }
  },
  {
   "cell_type": "code",
   "execution_count": 28,
   "outputs": [
    {
     "data": {
      "text/plain": "user_id                       0\nexpenses                      0\nproducts_bought               0\nevents_number                 0\nsessions_number               0\naverage_discount              0\naverage_discount_on_bought    2\ncity                          0\ndtype: int64"
     },
     "execution_count": 28,
     "metadata": {},
     "output_type": "execute_result"
    }
   ],
   "source": [
    "pd.isna(extracted_train).sum()"
   ],
   "metadata": {
    "collapsed": false,
    "pycharm": {
     "name": "#%%\n"
    }
   }
  },
  {
   "cell_type": "code",
   "execution_count": 29,
   "outputs": [],
   "source": [
    "extracted_test = extract_users_data(test_data, users_data, products_data).sort_values(['user_id'])"
   ],
   "metadata": {
    "collapsed": false,
    "pycharm": {
     "name": "#%%\n"
    }
   }
  },
  {
   "cell_type": "code",
   "execution_count": 30,
   "outputs": [
    {
     "data": {
      "text/plain": "     user_id  expenses  products_bought  events_number  sessions_number  \\\n53       103    554.77                5             20                6   \n35       104   2332.01                2              7                3   \n114      106      0.00                0              5                1   \n18       107     78.90                1              4                2   \n106      108      0.00                0              1                1   \n..       ...       ...              ...            ...              ...   \n75       297    109.00                1              3                2   \n49       298   2399.00                1              6                3   \n24       299      0.00                0              7                1   \n141      300      0.00                0              1                1   \n79       301      0.00                0              3                1   \n\n     average_discount  average_discount_on_bought      city  \n53           3.000000                         6.0  Warszawa  \n35           4.285714                         7.5    Gdynia  \n114         20.000000                         NaN   Wrocław  \n18          11.250000                        10.0     Radom  \n106         15.000000                         NaN     Radom  \n..                ...                         ...       ...  \n75          15.000000                        20.0    Kraków  \n49           2.500000                         0.0  Warszawa  \n24          10.000000                         NaN    Gdynia  \n141          5.000000                         NaN     Radom  \n79          10.000000                         NaN   Wrocław  \n\n[143 rows x 8 columns]",
      "text/html": "<div>\n<style scoped>\n    .dataframe tbody tr th:only-of-type {\n        vertical-align: middle;\n    }\n\n    .dataframe tbody tr th {\n        vertical-align: top;\n    }\n\n    .dataframe thead th {\n        text-align: right;\n    }\n</style>\n<table border=\"1\" class=\"dataframe\">\n  <thead>\n    <tr style=\"text-align: right;\">\n      <th></th>\n      <th>user_id</th>\n      <th>expenses</th>\n      <th>products_bought</th>\n      <th>events_number</th>\n      <th>sessions_number</th>\n      <th>average_discount</th>\n      <th>average_discount_on_bought</th>\n      <th>city</th>\n    </tr>\n  </thead>\n  <tbody>\n    <tr>\n      <th>53</th>\n      <td>103</td>\n      <td>554.77</td>\n      <td>5</td>\n      <td>20</td>\n      <td>6</td>\n      <td>3.000000</td>\n      <td>6.0</td>\n      <td>Warszawa</td>\n    </tr>\n    <tr>\n      <th>35</th>\n      <td>104</td>\n      <td>2332.01</td>\n      <td>2</td>\n      <td>7</td>\n      <td>3</td>\n      <td>4.285714</td>\n      <td>7.5</td>\n      <td>Gdynia</td>\n    </tr>\n    <tr>\n      <th>114</th>\n      <td>106</td>\n      <td>0.00</td>\n      <td>0</td>\n      <td>5</td>\n      <td>1</td>\n      <td>20.000000</td>\n      <td>NaN</td>\n      <td>Wrocław</td>\n    </tr>\n    <tr>\n      <th>18</th>\n      <td>107</td>\n      <td>78.90</td>\n      <td>1</td>\n      <td>4</td>\n      <td>2</td>\n      <td>11.250000</td>\n      <td>10.0</td>\n      <td>Radom</td>\n    </tr>\n    <tr>\n      <th>106</th>\n      <td>108</td>\n      <td>0.00</td>\n      <td>0</td>\n      <td>1</td>\n      <td>1</td>\n      <td>15.000000</td>\n      <td>NaN</td>\n      <td>Radom</td>\n    </tr>\n    <tr>\n      <th>...</th>\n      <td>...</td>\n      <td>...</td>\n      <td>...</td>\n      <td>...</td>\n      <td>...</td>\n      <td>...</td>\n      <td>...</td>\n      <td>...</td>\n    </tr>\n    <tr>\n      <th>75</th>\n      <td>297</td>\n      <td>109.00</td>\n      <td>1</td>\n      <td>3</td>\n      <td>2</td>\n      <td>15.000000</td>\n      <td>20.0</td>\n      <td>Kraków</td>\n    </tr>\n    <tr>\n      <th>49</th>\n      <td>298</td>\n      <td>2399.00</td>\n      <td>1</td>\n      <td>6</td>\n      <td>3</td>\n      <td>2.500000</td>\n      <td>0.0</td>\n      <td>Warszawa</td>\n    </tr>\n    <tr>\n      <th>24</th>\n      <td>299</td>\n      <td>0.00</td>\n      <td>0</td>\n      <td>7</td>\n      <td>1</td>\n      <td>10.000000</td>\n      <td>NaN</td>\n      <td>Gdynia</td>\n    </tr>\n    <tr>\n      <th>141</th>\n      <td>300</td>\n      <td>0.00</td>\n      <td>0</td>\n      <td>1</td>\n      <td>1</td>\n      <td>5.000000</td>\n      <td>NaN</td>\n      <td>Radom</td>\n    </tr>\n    <tr>\n      <th>79</th>\n      <td>301</td>\n      <td>0.00</td>\n      <td>0</td>\n      <td>3</td>\n      <td>1</td>\n      <td>10.000000</td>\n      <td>NaN</td>\n      <td>Wrocław</td>\n    </tr>\n  </tbody>\n</table>\n<p>143 rows × 8 columns</p>\n</div>"
     },
     "execution_count": 30,
     "metadata": {},
     "output_type": "execute_result"
    }
   ],
   "source": [
    "extracted_test"
   ],
   "metadata": {
    "collapsed": false,
    "pycharm": {
     "name": "#%%\n"
    }
   }
  },
  {
   "cell_type": "code",
   "execution_count": 31,
   "outputs": [],
   "source": [
    "desired_output = extracted_test[['user_id', 'expenses']].set_index('user_id')\n",
    "desired_output = desired_output.rename(columns = {'expenses':'future_expenses'})"
   ],
   "metadata": {
    "collapsed": false,
    "pycharm": {
     "name": "#%%\n"
    }
   }
  },
  {
   "cell_type": "code",
   "execution_count": 32,
   "outputs": [
    {
     "data": {
      "text/plain": "     user_id  expenses  products_bought  events_number  sessions_number  \\\n0        103  19009.38               26            163               41   \n1        104  25259.70               36            205               63   \n2        106  12342.84               16            129               35   \n3        107    968.67                8             86               20   \n4        108  16312.03               23            129               32   \n..       ...       ...              ...            ...              ...   \n138      297   9589.30               17             97               27   \n139      298  11714.33               20            137               35   \n140      299  11498.74               19            154               47   \n141      300  13844.80               11             76               25   \n142      301  13363.17               10             85               24   \n\n     average_discount  average_discount_on_bought      city  future_expenses  \n0            9.907975                    9.423077  Warszawa           554.77  \n1           11.073171                    9.583333    Gdynia          2332.01  \n2            9.302326                    8.750000   Wrocław             0.00  \n3            9.534884                    7.500000     Radom            78.90  \n4            9.418605                    9.347826     Radom             0.00  \n..                ...                         ...       ...              ...  \n138          9.536082                    9.117647    Kraków           109.00  \n139          9.854015                    9.250000  Warszawa          2399.00  \n140          8.084416                    8.947368    Gdynia             0.00  \n141         11.973684                   11.363636     Radom             0.00  \n142         11.352941                   12.000000   Wrocław             0.00  \n\n[143 rows x 9 columns]",
      "text/html": "<div>\n<style scoped>\n    .dataframe tbody tr th:only-of-type {\n        vertical-align: middle;\n    }\n\n    .dataframe tbody tr th {\n        vertical-align: top;\n    }\n\n    .dataframe thead th {\n        text-align: right;\n    }\n</style>\n<table border=\"1\" class=\"dataframe\">\n  <thead>\n    <tr style=\"text-align: right;\">\n      <th></th>\n      <th>user_id</th>\n      <th>expenses</th>\n      <th>products_bought</th>\n      <th>events_number</th>\n      <th>sessions_number</th>\n      <th>average_discount</th>\n      <th>average_discount_on_bought</th>\n      <th>city</th>\n      <th>future_expenses</th>\n    </tr>\n  </thead>\n  <tbody>\n    <tr>\n      <th>0</th>\n      <td>103</td>\n      <td>19009.38</td>\n      <td>26</td>\n      <td>163</td>\n      <td>41</td>\n      <td>9.907975</td>\n      <td>9.423077</td>\n      <td>Warszawa</td>\n      <td>554.77</td>\n    </tr>\n    <tr>\n      <th>1</th>\n      <td>104</td>\n      <td>25259.70</td>\n      <td>36</td>\n      <td>205</td>\n      <td>63</td>\n      <td>11.073171</td>\n      <td>9.583333</td>\n      <td>Gdynia</td>\n      <td>2332.01</td>\n    </tr>\n    <tr>\n      <th>2</th>\n      <td>106</td>\n      <td>12342.84</td>\n      <td>16</td>\n      <td>129</td>\n      <td>35</td>\n      <td>9.302326</td>\n      <td>8.750000</td>\n      <td>Wrocław</td>\n      <td>0.00</td>\n    </tr>\n    <tr>\n      <th>3</th>\n      <td>107</td>\n      <td>968.67</td>\n      <td>8</td>\n      <td>86</td>\n      <td>20</td>\n      <td>9.534884</td>\n      <td>7.500000</td>\n      <td>Radom</td>\n      <td>78.90</td>\n    </tr>\n    <tr>\n      <th>4</th>\n      <td>108</td>\n      <td>16312.03</td>\n      <td>23</td>\n      <td>129</td>\n      <td>32</td>\n      <td>9.418605</td>\n      <td>9.347826</td>\n      <td>Radom</td>\n      <td>0.00</td>\n    </tr>\n    <tr>\n      <th>...</th>\n      <td>...</td>\n      <td>...</td>\n      <td>...</td>\n      <td>...</td>\n      <td>...</td>\n      <td>...</td>\n      <td>...</td>\n      <td>...</td>\n      <td>...</td>\n    </tr>\n    <tr>\n      <th>138</th>\n      <td>297</td>\n      <td>9589.30</td>\n      <td>17</td>\n      <td>97</td>\n      <td>27</td>\n      <td>9.536082</td>\n      <td>9.117647</td>\n      <td>Kraków</td>\n      <td>109.00</td>\n    </tr>\n    <tr>\n      <th>139</th>\n      <td>298</td>\n      <td>11714.33</td>\n      <td>20</td>\n      <td>137</td>\n      <td>35</td>\n      <td>9.854015</td>\n      <td>9.250000</td>\n      <td>Warszawa</td>\n      <td>2399.00</td>\n    </tr>\n    <tr>\n      <th>140</th>\n      <td>299</td>\n      <td>11498.74</td>\n      <td>19</td>\n      <td>154</td>\n      <td>47</td>\n      <td>8.084416</td>\n      <td>8.947368</td>\n      <td>Gdynia</td>\n      <td>0.00</td>\n    </tr>\n    <tr>\n      <th>141</th>\n      <td>300</td>\n      <td>13844.80</td>\n      <td>11</td>\n      <td>76</td>\n      <td>25</td>\n      <td>11.973684</td>\n      <td>11.363636</td>\n      <td>Radom</td>\n      <td>0.00</td>\n    </tr>\n    <tr>\n      <th>142</th>\n      <td>301</td>\n      <td>13363.17</td>\n      <td>10</td>\n      <td>85</td>\n      <td>24</td>\n      <td>11.352941</td>\n      <td>12.000000</td>\n      <td>Wrocław</td>\n      <td>0.00</td>\n    </tr>\n  </tbody>\n</table>\n<p>143 rows × 9 columns</p>\n</div>"
     },
     "execution_count": 32,
     "metadata": {},
     "output_type": "execute_result"
    }
   ],
   "source": [
    "evaluation_table = pd.merge(extracted_train, desired_output, on=\"user_id\").sort_values(by=['user_id'])\n",
    "evaluation_table"
   ],
   "metadata": {
    "collapsed": false,
    "pycharm": {
     "name": "#%%\n"
    }
   }
  },
  {
   "cell_type": "code",
   "execution_count": 33,
   "outputs": [
    {
     "data": {
      "text/plain": "                             user_id  expenses  products_bought  \\\nuser_id                     1.000000 -0.043663        -0.037609   \nexpenses                   -0.043663  1.000000         0.833759   \nproducts_bought            -0.037609  0.833759         1.000000   \nevents_number              -0.001055  0.832803         0.940580   \nsessions_number             0.004749  0.812824         0.922586   \naverage_discount           -0.042412 -0.130787        -0.209873   \naverage_discount_on_bought  0.051748 -0.072308        -0.161073   \nfuture_expenses            -0.050811  0.102978         0.120224   \n\n                            events_number  sessions_number  average_discount  \\\nuser_id                         -0.001055         0.004749         -0.042412   \nexpenses                         0.832803         0.812824         -0.130787   \nproducts_bought                  0.940580         0.922586         -0.209873   \nevents_number                    1.000000         0.980953         -0.241005   \nsessions_number                  0.980953         1.000000         -0.244526   \naverage_discount                -0.241005        -0.244526          1.000000   \naverage_discount_on_bought      -0.177210        -0.179419          0.639120   \nfuture_expenses                  0.134177         0.147908         -0.014205   \n\n                            average_discount_on_bought  future_expenses  \nuser_id                                       0.051748        -0.050811  \nexpenses                                     -0.072308         0.102978  \nproducts_bought                              -0.161073         0.120224  \nevents_number                                -0.177210         0.134177  \nsessions_number                              -0.179419         0.147908  \naverage_discount                              0.639120        -0.014205  \naverage_discount_on_bought                    1.000000        -0.038746  \nfuture_expenses                              -0.038746         1.000000  ",
      "text/html": "<div>\n<style scoped>\n    .dataframe tbody tr th:only-of-type {\n        vertical-align: middle;\n    }\n\n    .dataframe tbody tr th {\n        vertical-align: top;\n    }\n\n    .dataframe thead th {\n        text-align: right;\n    }\n</style>\n<table border=\"1\" class=\"dataframe\">\n  <thead>\n    <tr style=\"text-align: right;\">\n      <th></th>\n      <th>user_id</th>\n      <th>expenses</th>\n      <th>products_bought</th>\n      <th>events_number</th>\n      <th>sessions_number</th>\n      <th>average_discount</th>\n      <th>average_discount_on_bought</th>\n      <th>future_expenses</th>\n    </tr>\n  </thead>\n  <tbody>\n    <tr>\n      <th>user_id</th>\n      <td>1.000000</td>\n      <td>-0.043663</td>\n      <td>-0.037609</td>\n      <td>-0.001055</td>\n      <td>0.004749</td>\n      <td>-0.042412</td>\n      <td>0.051748</td>\n      <td>-0.050811</td>\n    </tr>\n    <tr>\n      <th>expenses</th>\n      <td>-0.043663</td>\n      <td>1.000000</td>\n      <td>0.833759</td>\n      <td>0.832803</td>\n      <td>0.812824</td>\n      <td>-0.130787</td>\n      <td>-0.072308</td>\n      <td>0.102978</td>\n    </tr>\n    <tr>\n      <th>products_bought</th>\n      <td>-0.037609</td>\n      <td>0.833759</td>\n      <td>1.000000</td>\n      <td>0.940580</td>\n      <td>0.922586</td>\n      <td>-0.209873</td>\n      <td>-0.161073</td>\n      <td>0.120224</td>\n    </tr>\n    <tr>\n      <th>events_number</th>\n      <td>-0.001055</td>\n      <td>0.832803</td>\n      <td>0.940580</td>\n      <td>1.000000</td>\n      <td>0.980953</td>\n      <td>-0.241005</td>\n      <td>-0.177210</td>\n      <td>0.134177</td>\n    </tr>\n    <tr>\n      <th>sessions_number</th>\n      <td>0.004749</td>\n      <td>0.812824</td>\n      <td>0.922586</td>\n      <td>0.980953</td>\n      <td>1.000000</td>\n      <td>-0.244526</td>\n      <td>-0.179419</td>\n      <td>0.147908</td>\n    </tr>\n    <tr>\n      <th>average_discount</th>\n      <td>-0.042412</td>\n      <td>-0.130787</td>\n      <td>-0.209873</td>\n      <td>-0.241005</td>\n      <td>-0.244526</td>\n      <td>1.000000</td>\n      <td>0.639120</td>\n      <td>-0.014205</td>\n    </tr>\n    <tr>\n      <th>average_discount_on_bought</th>\n      <td>0.051748</td>\n      <td>-0.072308</td>\n      <td>-0.161073</td>\n      <td>-0.177210</td>\n      <td>-0.179419</td>\n      <td>0.639120</td>\n      <td>1.000000</td>\n      <td>-0.038746</td>\n    </tr>\n    <tr>\n      <th>future_expenses</th>\n      <td>-0.050811</td>\n      <td>0.102978</td>\n      <td>0.120224</td>\n      <td>0.134177</td>\n      <td>0.147908</td>\n      <td>-0.014205</td>\n      <td>-0.038746</td>\n      <td>1.000000</td>\n    </tr>\n  </tbody>\n</table>\n</div>"
     },
     "execution_count": 33,
     "metadata": {},
     "output_type": "execute_result"
    }
   ],
   "source": [
    "evaluation_table.corr()"
   ],
   "metadata": {
    "collapsed": false,
    "pycharm": {
     "name": "#%%\n"
    }
   }
  },
  {
   "cell_type": "code",
   "execution_count": 34,
   "outputs": [],
   "source": [
    "evaluation_table['future_expenses_binrz'] = evaluation_table['future_expenses'].apply(lambda b: 1 if b > 3000 else 0)"
   ],
   "metadata": {
    "collapsed": false,
    "pycharm": {
     "name": "#%%\n"
    }
   }
  },
  {
   "cell_type": "code",
   "execution_count": 35,
   "outputs": [
    {
     "data": {
      "text/plain": "     user_id  expenses  products_bought  events_number  sessions_number  \\\n0        103  19009.38               26            163               41   \n1        104  25259.70               36            205               63   \n2        106  12342.84               16            129               35   \n3        107    968.67                8             86               20   \n4        108  16312.03               23            129               32   \n..       ...       ...              ...            ...              ...   \n138      297   9589.30               17             97               27   \n139      298  11714.33               20            137               35   \n140      299  11498.74               19            154               47   \n141      300  13844.80               11             76               25   \n142      301  13363.17               10             85               24   \n\n     average_discount  average_discount_on_bought      city  future_expenses  \\\n0            9.907975                    9.423077  Warszawa           554.77   \n1           11.073171                    9.583333    Gdynia          2332.01   \n2            9.302326                    8.750000   Wrocław             0.00   \n3            9.534884                    7.500000     Radom            78.90   \n4            9.418605                    9.347826     Radom             0.00   \n..                ...                         ...       ...              ...   \n138          9.536082                    9.117647    Kraków           109.00   \n139          9.854015                    9.250000  Warszawa          2399.00   \n140          8.084416                    8.947368    Gdynia             0.00   \n141         11.973684                   11.363636     Radom             0.00   \n142         11.352941                   12.000000   Wrocław             0.00   \n\n     future_expenses_binrz  \n0                        0  \n1                        0  \n2                        0  \n3                        0  \n4                        0  \n..                     ...  \n138                      0  \n139                      0  \n140                      0  \n141                      0  \n142                      0  \n\n[143 rows x 10 columns]",
      "text/html": "<div>\n<style scoped>\n    .dataframe tbody tr th:only-of-type {\n        vertical-align: middle;\n    }\n\n    .dataframe tbody tr th {\n        vertical-align: top;\n    }\n\n    .dataframe thead th {\n        text-align: right;\n    }\n</style>\n<table border=\"1\" class=\"dataframe\">\n  <thead>\n    <tr style=\"text-align: right;\">\n      <th></th>\n      <th>user_id</th>\n      <th>expenses</th>\n      <th>products_bought</th>\n      <th>events_number</th>\n      <th>sessions_number</th>\n      <th>average_discount</th>\n      <th>average_discount_on_bought</th>\n      <th>city</th>\n      <th>future_expenses</th>\n      <th>future_expenses_binrz</th>\n    </tr>\n  </thead>\n  <tbody>\n    <tr>\n      <th>0</th>\n      <td>103</td>\n      <td>19009.38</td>\n      <td>26</td>\n      <td>163</td>\n      <td>41</td>\n      <td>9.907975</td>\n      <td>9.423077</td>\n      <td>Warszawa</td>\n      <td>554.77</td>\n      <td>0</td>\n    </tr>\n    <tr>\n      <th>1</th>\n      <td>104</td>\n      <td>25259.70</td>\n      <td>36</td>\n      <td>205</td>\n      <td>63</td>\n      <td>11.073171</td>\n      <td>9.583333</td>\n      <td>Gdynia</td>\n      <td>2332.01</td>\n      <td>0</td>\n    </tr>\n    <tr>\n      <th>2</th>\n      <td>106</td>\n      <td>12342.84</td>\n      <td>16</td>\n      <td>129</td>\n      <td>35</td>\n      <td>9.302326</td>\n      <td>8.750000</td>\n      <td>Wrocław</td>\n      <td>0.00</td>\n      <td>0</td>\n    </tr>\n    <tr>\n      <th>3</th>\n      <td>107</td>\n      <td>968.67</td>\n      <td>8</td>\n      <td>86</td>\n      <td>20</td>\n      <td>9.534884</td>\n      <td>7.500000</td>\n      <td>Radom</td>\n      <td>78.90</td>\n      <td>0</td>\n    </tr>\n    <tr>\n      <th>4</th>\n      <td>108</td>\n      <td>16312.03</td>\n      <td>23</td>\n      <td>129</td>\n      <td>32</td>\n      <td>9.418605</td>\n      <td>9.347826</td>\n      <td>Radom</td>\n      <td>0.00</td>\n      <td>0</td>\n    </tr>\n    <tr>\n      <th>...</th>\n      <td>...</td>\n      <td>...</td>\n      <td>...</td>\n      <td>...</td>\n      <td>...</td>\n      <td>...</td>\n      <td>...</td>\n      <td>...</td>\n      <td>...</td>\n      <td>...</td>\n    </tr>\n    <tr>\n      <th>138</th>\n      <td>297</td>\n      <td>9589.30</td>\n      <td>17</td>\n      <td>97</td>\n      <td>27</td>\n      <td>9.536082</td>\n      <td>9.117647</td>\n      <td>Kraków</td>\n      <td>109.00</td>\n      <td>0</td>\n    </tr>\n    <tr>\n      <th>139</th>\n      <td>298</td>\n      <td>11714.33</td>\n      <td>20</td>\n      <td>137</td>\n      <td>35</td>\n      <td>9.854015</td>\n      <td>9.250000</td>\n      <td>Warszawa</td>\n      <td>2399.00</td>\n      <td>0</td>\n    </tr>\n    <tr>\n      <th>140</th>\n      <td>299</td>\n      <td>11498.74</td>\n      <td>19</td>\n      <td>154</td>\n      <td>47</td>\n      <td>8.084416</td>\n      <td>8.947368</td>\n      <td>Gdynia</td>\n      <td>0.00</td>\n      <td>0</td>\n    </tr>\n    <tr>\n      <th>141</th>\n      <td>300</td>\n      <td>13844.80</td>\n      <td>11</td>\n      <td>76</td>\n      <td>25</td>\n      <td>11.973684</td>\n      <td>11.363636</td>\n      <td>Radom</td>\n      <td>0.00</td>\n      <td>0</td>\n    </tr>\n    <tr>\n      <th>142</th>\n      <td>301</td>\n      <td>13363.17</td>\n      <td>10</td>\n      <td>85</td>\n      <td>24</td>\n      <td>11.352941</td>\n      <td>12.000000</td>\n      <td>Wrocław</td>\n      <td>0.00</td>\n      <td>0</td>\n    </tr>\n  </tbody>\n</table>\n<p>143 rows × 10 columns</p>\n</div>"
     },
     "execution_count": 35,
     "metadata": {},
     "output_type": "execute_result"
    }
   ],
   "source": [
    "evaluation_table"
   ],
   "metadata": {
    "collapsed": false,
    "pycharm": {
     "name": "#%%\n"
    }
   }
  },
  {
   "cell_type": "code",
   "execution_count": 36,
   "outputs": [
    {
     "data": {
      "text/plain": "                             user_id  expenses  products_bought  \\\nuser_id                     1.000000 -0.043663        -0.037609   \nexpenses                   -0.043663  1.000000         0.833759   \nproducts_bought            -0.037609  0.833759         1.000000   \nevents_number              -0.001055  0.832803         0.940580   \nsessions_number             0.004749  0.812824         0.922586   \naverage_discount           -0.042412 -0.130787        -0.209873   \naverage_discount_on_bought  0.051748 -0.072308        -0.161073   \nfuture_expenses            -0.050811  0.102978         0.120224   \nfuture_expenses_binrz       0.075166  0.030967         0.047839   \n\n                            events_number  sessions_number  average_discount  \\\nuser_id                         -0.001055         0.004749         -0.042412   \nexpenses                         0.832803         0.812824         -0.130787   \nproducts_bought                  0.940580         0.922586         -0.209873   \nevents_number                    1.000000         0.980953         -0.241005   \nsessions_number                  0.980953         1.000000         -0.244526   \naverage_discount                -0.241005        -0.244526          1.000000   \naverage_discount_on_bought      -0.177210        -0.179419          0.639120   \nfuture_expenses                  0.134177         0.147908         -0.014205   \nfuture_expenses_binrz            0.066928         0.069786          0.017213   \n\n                            average_discount_on_bought  future_expenses  \\\nuser_id                                       0.051748        -0.050811   \nexpenses                                     -0.072308         0.102978   \nproducts_bought                              -0.161073         0.120224   \nevents_number                                -0.177210         0.134177   \nsessions_number                              -0.179419         0.147908   \naverage_discount                              0.639120        -0.014205   \naverage_discount_on_bought                    1.000000        -0.038746   \nfuture_expenses                              -0.038746         1.000000   \nfuture_expenses_binrz                         0.004241         0.801112   \n\n                            future_expenses_binrz  \nuser_id                                  0.075166  \nexpenses                                 0.030967  \nproducts_bought                          0.047839  \nevents_number                            0.066928  \nsessions_number                          0.069786  \naverage_discount                         0.017213  \naverage_discount_on_bought               0.004241  \nfuture_expenses                          0.801112  \nfuture_expenses_binrz                    1.000000  ",
      "text/html": "<div>\n<style scoped>\n    .dataframe tbody tr th:only-of-type {\n        vertical-align: middle;\n    }\n\n    .dataframe tbody tr th {\n        vertical-align: top;\n    }\n\n    .dataframe thead th {\n        text-align: right;\n    }\n</style>\n<table border=\"1\" class=\"dataframe\">\n  <thead>\n    <tr style=\"text-align: right;\">\n      <th></th>\n      <th>user_id</th>\n      <th>expenses</th>\n      <th>products_bought</th>\n      <th>events_number</th>\n      <th>sessions_number</th>\n      <th>average_discount</th>\n      <th>average_discount_on_bought</th>\n      <th>future_expenses</th>\n      <th>future_expenses_binrz</th>\n    </tr>\n  </thead>\n  <tbody>\n    <tr>\n      <th>user_id</th>\n      <td>1.000000</td>\n      <td>-0.043663</td>\n      <td>-0.037609</td>\n      <td>-0.001055</td>\n      <td>0.004749</td>\n      <td>-0.042412</td>\n      <td>0.051748</td>\n      <td>-0.050811</td>\n      <td>0.075166</td>\n    </tr>\n    <tr>\n      <th>expenses</th>\n      <td>-0.043663</td>\n      <td>1.000000</td>\n      <td>0.833759</td>\n      <td>0.832803</td>\n      <td>0.812824</td>\n      <td>-0.130787</td>\n      <td>-0.072308</td>\n      <td>0.102978</td>\n      <td>0.030967</td>\n    </tr>\n    <tr>\n      <th>products_bought</th>\n      <td>-0.037609</td>\n      <td>0.833759</td>\n      <td>1.000000</td>\n      <td>0.940580</td>\n      <td>0.922586</td>\n      <td>-0.209873</td>\n      <td>-0.161073</td>\n      <td>0.120224</td>\n      <td>0.047839</td>\n    </tr>\n    <tr>\n      <th>events_number</th>\n      <td>-0.001055</td>\n      <td>0.832803</td>\n      <td>0.940580</td>\n      <td>1.000000</td>\n      <td>0.980953</td>\n      <td>-0.241005</td>\n      <td>-0.177210</td>\n      <td>0.134177</td>\n      <td>0.066928</td>\n    </tr>\n    <tr>\n      <th>sessions_number</th>\n      <td>0.004749</td>\n      <td>0.812824</td>\n      <td>0.922586</td>\n      <td>0.980953</td>\n      <td>1.000000</td>\n      <td>-0.244526</td>\n      <td>-0.179419</td>\n      <td>0.147908</td>\n      <td>0.069786</td>\n    </tr>\n    <tr>\n      <th>average_discount</th>\n      <td>-0.042412</td>\n      <td>-0.130787</td>\n      <td>-0.209873</td>\n      <td>-0.241005</td>\n      <td>-0.244526</td>\n      <td>1.000000</td>\n      <td>0.639120</td>\n      <td>-0.014205</td>\n      <td>0.017213</td>\n    </tr>\n    <tr>\n      <th>average_discount_on_bought</th>\n      <td>0.051748</td>\n      <td>-0.072308</td>\n      <td>-0.161073</td>\n      <td>-0.177210</td>\n      <td>-0.179419</td>\n      <td>0.639120</td>\n      <td>1.000000</td>\n      <td>-0.038746</td>\n      <td>0.004241</td>\n    </tr>\n    <tr>\n      <th>future_expenses</th>\n      <td>-0.050811</td>\n      <td>0.102978</td>\n      <td>0.120224</td>\n      <td>0.134177</td>\n      <td>0.147908</td>\n      <td>-0.014205</td>\n      <td>-0.038746</td>\n      <td>1.000000</td>\n      <td>0.801112</td>\n    </tr>\n    <tr>\n      <th>future_expenses_binrz</th>\n      <td>0.075166</td>\n      <td>0.030967</td>\n      <td>0.047839</td>\n      <td>0.066928</td>\n      <td>0.069786</td>\n      <td>0.017213</td>\n      <td>0.004241</td>\n      <td>0.801112</td>\n      <td>1.000000</td>\n    </tr>\n  </tbody>\n</table>\n</div>"
     },
     "execution_count": 36,
     "metadata": {},
     "output_type": "execute_result"
    }
   ],
   "source": [
    "evaluation_table.corr()"
   ],
   "metadata": {
    "collapsed": false,
    "pycharm": {
     "name": "#%%\n"
    }
   }
  },
  {
   "cell_type": "markdown",
   "source": [
    "Przykłady użycia i resztki z developmentu"
   ],
   "metadata": {
    "collapsed": false
   }
  },
  {
   "cell_type": "code",
   "execution_count": null,
   "outputs": [],
   "source": [
    "get_user_information(user_session_data)"
   ],
   "metadata": {
    "collapsed": false,
    "pycharm": {
     "name": "#%%\n"
    }
   }
  },
  {
   "cell_type": "code",
   "execution_count": null,
   "outputs": [],
   "source": [
    "extract_users_data(sessions_data, users_data, products_data)"
   ],
   "metadata": {
    "collapsed": false,
    "pycharm": {
     "name": "#%%\n"
    }
   }
  },
  {
   "cell_type": "code",
   "execution_count": null,
   "outputs": [],
   "source": [],
   "metadata": {
    "collapsed": false,
    "pycharm": {
     "name": "#%%\n"
    }
   }
  }
 ],
 "metadata": {
  "kernelspec": {
   "display_name": "Python 3",
   "language": "python",
   "name": "python3"
  },
  "language_info": {
   "codemirror_mode": {
    "name": "ipython",
    "version": 2
   },
   "file_extension": ".py",
   "mimetype": "text/x-python",
   "name": "python",
   "nbconvert_exporter": "python",
   "pygments_lexer": "ipython2",
   "version": "2.7.6"
  }
 },
 "nbformat": 4,
 "nbformat_minor": 0
}